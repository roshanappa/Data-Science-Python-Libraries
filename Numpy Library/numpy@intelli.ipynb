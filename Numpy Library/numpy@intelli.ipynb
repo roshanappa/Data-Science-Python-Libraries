{
 "cells": [
  {
   "cell_type": "code",
   "execution_count": 4,
   "metadata": {},
   "outputs": [
    {
     "name": "stdout",
     "output_type": "stream",
     "text": [
      "[12 23 45]\n",
      "[11 56 78]\n"
     ]
    }
   ],
   "source": [
    "#IMPORTING THE numpy array and make them numpy array\n",
    "import numpy as np\n",
    "a = np.array([12,23,45])\n",
    "b = np.array([11,56,78])\n",
    "print(a)\n",
    "print(b)"
   ]
  },
  {
   "cell_type": "code",
   "execution_count": 5,
   "metadata": {},
   "outputs": [
    {
     "data": {
      "text/plain": [
       "array([11, 56, 78])"
      ]
     },
     "execution_count": 5,
     "metadata": {},
     "output_type": "execute_result"
    }
   ],
   "source": [
    "#call the b array\n",
    "b"
   ]
  },
  {
   "cell_type": "code",
   "execution_count": 8,
   "metadata": {},
   "outputs": [],
   "source": [
    "#changing vlaue of the value of b array at the idex position 1\n",
    "b[1]=19"
   ]
  },
  {
   "cell_type": "code",
   "execution_count": 9,
   "metadata": {},
   "outputs": [
    {
     "name": "stdout",
     "output_type": "stream",
     "text": [
      "[11 19 78]\n"
     ]
    }
   ],
   "source": [
    "#then print the b array\n",
    "print(b)"
   ]
  },
  {
   "cell_type": "code",
   "execution_count": 12,
   "metadata": {},
   "outputs": [
    {
     "name": "stdout",
     "output_type": "stream",
     "text": [
      "[[[12 23 45]]\n",
      "\n",
      " [[11 19 78]]]\n"
     ]
    }
   ],
   "source": [
    "#creat the new array with the with help of 1d array\n",
    "c = np.array([[a],[b]])\n",
    "print(c)"
   ]
  },
  {
   "cell_type": "code",
   "execution_count": 14,
   "metadata": {},
   "outputs": [
    {
     "name": "stdout",
     "output_type": "stream",
     "text": [
      "[12 23 23]\n"
     ]
    }
   ],
   "source": [
    "#change the index value of a 1-d array to the 23 at position 2\n",
    "a[2]=23\n",
    "print(a)"
   ]
  },
  {
   "cell_type": "code",
   "execution_count": 15,
   "metadata": {},
   "outputs": [
    {
     "name": "stdout",
     "output_type": "stream",
     "text": [
      "[[[12 23 45]]\n",
      "\n",
      " [[11 19 78]]]\n"
     ]
    }
   ],
   "source": [
    "print(c)"
   ]
  },
  {
   "cell_type": "code",
   "execution_count": 16,
   "metadata": {},
   "outputs": [
    {
     "name": "stdout",
     "output_type": "stream",
     "text": [
      "[22 76 45]\n",
      "[59 21 98]\n"
     ]
    }
   ],
   "source": [
    "d = np.array([22,76,45])\n",
    "e = np.array([59,21,98])\n",
    "print(d)\n",
    "print(e)"
   ]
  },
  {
   "cell_type": "code",
   "execution_count": 17,
   "metadata": {},
   "outputs": [
    {
     "name": "stdout",
     "output_type": "stream",
     "text": [
      "[22 76 23]\n"
     ]
    }
   ],
   "source": [
    "d[2]=23\n",
    "print(d)"
   ]
  },
  {
   "cell_type": "code",
   "execution_count": 35,
   "metadata": {},
   "outputs": [
    {
     "name": "stdout",
     "output_type": "stream",
     "text": [
      "[[[22 76 23]]\n",
      "\n",
      " [[59 21 98]]]\n"
     ]
    }
   ],
   "source": [
    "f = np.array([[d],[e]])\n",
    "print(f)"
   ]
  },
  {
   "cell_type": "code",
   "execution_count": 28,
   "metadata": {},
   "outputs": [
    {
     "data": {
      "text/plain": [
       "array([[59, 21, 98]])"
      ]
     },
     "execution_count": 28,
     "metadata": {},
     "output_type": "execute_result"
    }
   ],
   "source": [
    "#ccalling the 2nd row of the f array\n",
    "f[1]"
   ]
  },
  {
   "cell_type": "code",
   "execution_count": 29,
   "metadata": {},
   "outputs": [
    {
     "data": {
      "text/plain": [
       "array([[22, 76, 23]])"
      ]
     },
     "execution_count": 29,
     "metadata": {},
     "output_type": "execute_result"
    }
   ],
   "source": [
    "#calling the 1st row of the f array\n",
    "f[0]"
   ]
  },
  {
   "cell_type": "code",
   "execution_count": 31,
   "metadata": {},
   "outputs": [
    {
     "data": {
      "text/plain": [
       "array([23])"
      ]
     },
     "execution_count": 31,
     "metadata": {},
     "output_type": "execute_result"
    }
   ],
   "source": [
    "#calling the element of a 1-d array from the elemenet 1st position to 2nd and here 2nd excuded\n",
    "a[1:2]"
   ]
  },
  {
   "cell_type": "code",
   "execution_count": 32,
   "metadata": {},
   "outputs": [
    {
     "data": {
      "text/plain": [
       "array([12, 23])"
      ]
     },
     "execution_count": 32,
     "metadata": {},
     "output_type": "execute_result"
    }
   ],
   "source": [
    "#calling the element of a 1-d array from the elemenet 0th position to 2nd and here 2nd excuded\n",
    "a[0:2]"
   ]
  },
  {
   "cell_type": "code",
   "execution_count": 40,
   "metadata": {},
   "outputs": [
    {
     "data": {
      "text/plain": [
       "array([12, 23, 23])"
      ]
     },
     "execution_count": 40,
     "metadata": {},
     "output_type": "execute_result"
    }
   ],
   "source": [
    "#calling the element of a 1-d array from the elemenet 0th position to last position of the a array\n",
    "a[0:]\n",
    "a[0:3]"
   ]
  },
  {
   "cell_type": "code",
   "execution_count": 47,
   "metadata": {},
   "outputs": [
    {
     "name": "stdout",
     "output_type": "stream",
     "text": [
      "numpy array initialization\n"
     ]
    }
   ],
   "source": [
    "#this is all about the masking in numpy arrays it will gives us by default arrays.\n",
    "print('numpy array initialization')"
   ]
  },
  {
   "cell_type": "code",
   "execution_count": 49,
   "metadata": {},
   "outputs": [
    {
     "name": "stdout",
     "output_type": "stream",
     "text": [
      "[[0. 0. 0. 0.]\n",
      " [0. 0. 0. 0.]\n",
      " [0. 0. 0. 0.]]\n"
     ]
    }
   ],
   "source": [
    "#here we paassed the tuple in which we have to spceify the row and column(3,4)\n",
    "j = np.zeros((3,4))\n",
    "print(j)"
   ]
  },
  {
   "cell_type": "code",
   "execution_count": 51,
   "metadata": {},
   "outputs": [
    {
     "name": "stdout",
     "output_type": "stream",
     "text": [
      "[20 21 22 23 24]\n"
     ]
    }
   ],
   "source": [
    "#here we have to use the arange in that we have to pass the (start,end,interval)\n",
    "k = np.arange(20,25,1)\n",
    "print(k)"
   ]
  },
  {
   "cell_type": "code",
   "execution_count": 55,
   "metadata": {},
   "outputs": [
    {
     "name": "stdout",
     "output_type": "stream",
     "text": [
      "[1. 2. 3. 4. 5.]\n"
     ]
    }
   ],
   "source": [
    "#here we have to use the linspace in that paassing argument (start,stop,how much points in that like below) \n",
    "l = np.linspace(1,5,5)\n",
    "print(l)"
   ]
  },
  {
   "cell_type": "code",
   "execution_count": 58,
   "metadata": {},
   "outputs": [
    {
     "name": "stdout",
     "output_type": "stream",
     "text": [
      "[[5 5 5]\n",
      " [5 5 5]\n",
      " [5 5 5]]\n"
     ]
    }
   ],
   "source": [
    "#if we want the same number in all row and column then we need to use the full with the arument i.e.((row,column),number)\n",
    "m= np.full((3,3),5)\n",
    "print(m)"
   ]
  },
  {
   "cell_type": "code",
   "execution_count": 59,
   "metadata": {},
   "outputs": [
    {
     "name": "stdout",
     "output_type": "stream",
     "text": [
      "[[0.01895143 0.46790746 0.29178308 0.89767245]\n",
      " [0.56564337 0.72539292 0.18306492 0.26201124]\n",
      " [0.45594671 0.57263548 0.80163887 0.35893378]]\n"
     ]
    }
   ],
   "source": [
    "#this will print any random values in the row and column(row,column)\n",
    "n= np.random.random((3,4))\n",
    "print(n)"
   ]
  },
  {
   "cell_type": "code",
   "execution_count": 64,
   "metadata": {},
   "outputs": [
    {
     "name": "stdout",
     "output_type": "stream",
     "text": [
      "[[23 76 90]\n",
      " [56 75 78]]\n",
      "(2, 3)\n"
     ]
    }
   ],
   "source": [
    "#how can we access the array menas changes be done in the array according to the command \n",
    "#we got the shape of the array by using the method that is shape which can help to get tuple (row,column) form of result\n",
    "o = np.array([[23,76,90],[56,75,78]])\n",
    "print(o)\n",
    "print(o.shape)"
   ]
  },
  {
   "cell_type": "code",
   "execution_count": 65,
   "metadata": {},
   "outputs": [],
   "source": [
    "#use of the shape function \n",
    "#we change the tuple that we got by using shape function last time \n",
    "#we can access the individual element of the tuple."
   ]
  },
  {
   "cell_type": "code",
   "execution_count": 67,
   "metadata": {},
   "outputs": [],
   "source": [
    "o.shape = (3,2)"
   ]
  },
  {
   "cell_type": "code",
   "execution_count": 71,
   "metadata": {},
   "outputs": [
    {
     "name": "stdout",
     "output_type": "stream",
     "text": [
      "[[23 76]\n",
      " [90 56]\n",
      " [75 78]]\n",
      "3\n"
     ]
    }
   ],
   "source": [
    "print(o)\n",
    "print(o.shape[0])"
   ]
  },
  {
   "cell_type": "code",
   "execution_count": 74,
   "metadata": {},
   "outputs": [
    {
     "name": "stdout",
     "output_type": "stream",
     "text": [
      "[0 1 2 3 4 5 6 7 8 9]\n",
      "10\n"
     ]
    }
   ],
   "source": [
    "#size\n",
    "#n.arange(number of points needed)\n",
    "#will place the numbers zero to till that number\n",
    "#but the size will count the all the element which will come inbetween 0 to 10 that how it works\n",
    "p= np.arange(10)\n",
    "print(p)\n",
    "print(p.size)"
   ]
  },
  {
   "cell_type": "code",
   "execution_count": 75,
   "metadata": {},
   "outputs": [
    {
     "name": "stdout",
     "output_type": "stream",
     "text": [
      "2\n"
     ]
    }
   ],
   "source": [
    "#ndim \n",
    "#ndim returns of the dimnesions of the array it could be 1d,2d or upto nd..\n",
    "print(o.ndim)"
   ]
  },
  {
   "cell_type": "code",
   "execution_count": 76,
   "metadata": {},
   "outputs": [
    {
     "name": "stdout",
     "output_type": "stream",
     "text": [
      "int32\n"
     ]
    }
   ],
   "source": [
    "#it will gives the what type of array it is because array should be homogeous not hetrogeous.\n",
    "print(p.dtype)"
   ]
  },
  {
   "cell_type": "code",
   "execution_count": 89,
   "metadata": {},
   "outputs": [
    {
     "name": "stdout",
     "output_type": "stream",
     "text": [
      "15\n",
      "[2 3]\n",
      "[1.66666667 1.42857143]\n",
      "[15 70]\n"
     ]
    }
   ],
   "source": [
    "#we can do the mathematical calculations with numpy arrays\n",
    "#like np.subtarct,np.muliply and np.log,np.exp,np.divide,np.sqrt and so on..\n",
    "q = np.array([5,10])\n",
    "np.sum(q)\n",
    "print(np.sum(q))\n",
    "r= np.array([3,7])\n",
    "np.subtract(q,r)\n",
    "print(np.subtract(q,r))\n",
    "u = np.divide(q,r)\n",
    "print(u)\n",
    "r =np.multiply(q,r)\n",
    "print(r)\n",
    "#it works like the matrix operations"
   ]
  },
  {
   "cell_type": "code",
   "execution_count": 87,
   "metadata": {},
   "outputs": [
    {
     "name": "stdout",
     "output_type": "stream",
     "text": [
      "[11  5]\n",
      "[15 27]\n"
     ]
    }
   ],
   "source": [
    "#sum method with the axis\n",
    "#in this kind of sum method axis taken zero afterwarrds they sum with the corresponding element in the vertical manner\n",
    "#for axis =1 voice vesa.\n",
    "s = np.sum([[5,1],[6,4]], axis = 0)\n",
    "print(s)\n",
    "t = np.sum([[9,6],[23,4]], axis = 1)\n",
    "print(t)\n"
   ]
  },
  {
   "cell_type": "code",
   "execution_count": 106,
   "metadata": {},
   "outputs": [
    {
     "name": "stdout",
     "output_type": "stream",
     "text": [
      "[False False]\n",
      "False\n"
     ]
    }
   ],
   "source": [
    "# equal function it works to compare  the coresponding element of the array\n",
    "np.equal(q,r)\n",
    "print(np.equal(q,r))\n",
    "# equal function it also works to compare the two array with the comparision of an element it will return in true or false.\n",
    "np.array_equal(q,r)\n",
    "print(np.array_equal(q,r))"
   ]
  },
  {
   "cell_type": "code",
   "execution_count": 121,
   "metadata": {},
   "outputs": [
    {
     "name": "stdout",
     "output_type": "stream",
     "text": [
      "[23 56 98]\n",
      "23\n",
      "98\n",
      "59.0\n",
      "177\n",
      "30.692018506445613\n",
      "56.0\n",
      "1.0\n"
     ]
    }
   ],
   "source": [
    "#aggregate function it always work on single array\n",
    "v = np.array([23,56,98])\n",
    "print(v)\n",
    "print(np.min(v))  #min value\n",
    "print(np.max(v))   #max value\n",
    "print(np.mean(v))  #mean value\n",
    "print(np.sum(v))    #sum of vaalue\n",
    "print(np.std(v))   #standard deviation its nothing but how much the value is differ from the mean value \n",
    "print(np.median(v)) #median\n",
    "print(np.corrcoef(v))#ML term "
   ]
  },
  {
   "cell_type": "code",
   "execution_count": 131,
   "metadata": {},
   "outputs": [
    {
     "name": "stdout",
     "output_type": "stream",
     "text": [
      "[[ 4  6  8]\n",
      " [ 7  8 10]]\n"
     ]
    }
   ],
   "source": [
    "#Concept of baroadcasting \n",
    "#it can happpen with any operation here we taken addition for understading the concept. of it.\n",
    "#when the one array is three diamensional is added or subtracted with the one dimensional array that time its(1-d array) manages \n",
    "#to get three diamensional array after that it gets merge \n",
    "#2d array manage itself with the diamensional of the first array then only the addition or subraction can done while this process 2nd spread itself to \n",
    "#manage the first array.\n",
    "\n",
    "w= np.array([[1,2,3],[4,4,5]])\n",
    "wa = np.array([3,4,5])\n",
    "print(np.sum([w,wa]))"
   ]
  },
  {
   "cell_type": "code",
   "execution_count": 132,
   "metadata": {},
   "outputs": [
    {
     "name": "stdout",
     "output_type": "stream",
     "text": [
      "[[23 76 98]\n",
      " [45 91 34]\n",
      " [12 32 93]]\n"
     ]
    }
   ],
   "source": [
    "#indexing & sclicing in the numpy array\n",
    "#here we having the three dimensional array in we want to sclice or index it\n",
    "i=np.array([[23,76,98],[45,91,34],[12,32,93]])\n",
    "print(i)"
   ]
  },
  {
   "cell_type": "code",
   "execution_count": 139,
   "metadata": {},
   "outputs": [
    {
     "name": "stdout",
     "output_type": "stream",
     "text": [
      "[23 76 98]\n"
     ]
    }
   ],
   "source": [
    "#in the 3-d np array here we are calling the 1st row of the array\n",
    "print(i[0])"
   ]
  },
  {
   "cell_type": "code",
   "execution_count": 24,
   "metadata": {},
   "outputs": [
    {
     "name": "stdout",
     "output_type": "stream",
     "text": [
      "[[23 76 98]\n",
      " [45 91 34]\n",
      " [12 32 93]]\n",
      "[[23 76 98]]\n",
      "[[23]]\n",
      "[[76 98]]\n",
      "[[76 98]\n",
      " [91 34]]\n",
      "[[76 98]\n",
      " [91 34]\n",
      " [32 93]]\n",
      "[[12 32 93]]\n",
      "[[98]\n",
      " [34]]\n",
      "[[93]]\n",
      "[[23 76 98]\n",
      " [45 91 34]\n",
      " [12 32 93]]\n",
      "[[91 34]\n",
      " [32 93]]\n",
      "[[32 93]]\n",
      "[[23]\n",
      " [45]]\n"
     ]
    }
   ],
   "source": [
    "#all_based_on_zero_based_indexing\n",
    "#when we call for the 2nd dimensional array that time de use the [3,4] But here we having the three dimensional array in that we want slicing menas \n",
    "#here we want to sclice like [:0, :] \n",
    "#in that first use for the row and column similarly for the three diamensional array \n",
    "#here,we having more row and column so three need of indexing themself is necesarrry so that is we have taken the for each row and\n",
    "#column\n",
    "import numpy as np\n",
    "i=np.array([[23,76,98],[45,91,34],[12,32,93]])\n",
    "print(i)\n",
    "#first part of [ : , : ] work for the row 2nd for the column.\n",
    "print(i[:1,:])\n",
    "#if we write it down as below for column then we willng get the 1 column   to 0th column and here 1st column is excluded so \n",
    "#so we are getting the zeroth element of zeroth column in the zeroth row that we called first argument.\n",
    "print(i[ :1,:1])\n",
    "#similarly in that we are getting the 2nd and first element of column in thhe zeorth row \n",
    "print(i[:1,1:])\n",
    "print(i[:2,1:])\n",
    "#it means hqving the all rows but the column avalible from then 1 to zeroth here 1st coumn is included.and remaing will count here.\n",
    "print(i[ : , 1: ])\n",
    "#here we wanting the 2nd row of the 3x3 array and we wanted the column upto the 3rd element according to indexing its 2nd element  \n",
    "print(i[2:,:3])\n",
    "#we want till the 2nd row that why first two row(0,1) come into picture and we had also mention that we want the 2nd column\n",
    "print(i[: 2,2:])\n",
    "#here we wanted the 2nd row and 2nd column upto the end \n",
    "print(i[2:, 2: ])\n",
    "#here we will get the entire arrray\n",
    "print(i[0: ,0:])\n",
    "#here we wnted the 1st row and coulmn 1st upto the end \n",
    "print(i[1:,1:])\n",
    "#here we wanted the 2nd row and 1st collumn till the end \n",
    "print(i[2:,1:])\n",
    "#here we wanted the row from the 1st to zeroth and 2 nd will be excluded and 1st column will be excluded.\n",
    "print(i[:2,:1])"
   ]
  },
  {
   "cell_type": "code",
   "execution_count": 34,
   "metadata": {},
   "outputs": [
    {
     "name": "stdout",
     "output_type": "stream",
     "text": [
      "[23 98 76 45 67 23]\n",
      "[[22 78 56 21 98 90]\n",
      " [28 67 45 29 90 78]]\n",
      "[[22 78 56]\n",
      " [28 67 45]\n",
      " [21 98 90]\n",
      " [29 90 78]]\n"
     ]
    }
   ],
   "source": [
    "#array manupulation\n",
    "#this the way we can can make the horizontally concatenation with the two arrays.\n",
    "aa= np.array([23,98,76])\n",
    "bb =np.array([45,67,23])\n",
    "ss =np.concatenate([aa,bb],axis=0)\n",
    "print(ss)\n",
    "#if we want the veritically(column wise) concatenation that time we have two multidimensional array at condition we need to specify the axis =1\n",
    "#column wise stacking\n",
    "aa1=np.array([[22,78,56],[28,67,45]])\n",
    "bb1=np.array([[21,98,90],[29,90,78]])\n",
    "ss1 = np.concatenate([aa1,bb1],axis=1)\n",
    "print(ss1)\n",
    "#if we want the horizontally concatenation means row wise that time we need to use the axis=0\n",
    "#row wise stacking\n",
    "ss2 = np.concatenate([aa1,bb1],axis=0)\n",
    "print(ss2)"
   ]
  },
  {
   "cell_type": "code",
   "execution_count": 41,
   "metadata": {},
   "outputs": [
    {
     "name": "stdout",
     "output_type": "stream",
     "text": [
      "[23 56 78]\n",
      "[32 87 55]\n",
      "[[23 56 78]\n",
      " [32 87 55]]\n",
      "[[23 32]\n",
      " [56 87]\n",
      " [78 55]]\n"
     ]
    }
   ],
   "source": [
    "#v-stack (vertical stacking) and h-stack (horizontal stacking) in numpy array\n",
    "#stacking- same thing can be concatanted with the small difffrence.\n",
    "#in stacking we required 1-d array\n",
    "cc = np.array([23,56,78])\n",
    "print(cc)\n",
    "dd = np.array([32,87,55])\n",
    "print(dd)\n",
    "#in that we are stacking the two rows of the arrays\n",
    "ee =np.stack((cc,dd),axis =0)\n",
    "print(ee)\n",
    "#similarly, we are stacking the two column of the arrays\n",
    "ff = np.stack((cc,dd), axis=1)\n",
    "print(ff)"
   ]
  },
  {
   "cell_type": "code",
   "execution_count": 51,
   "metadata": {},
   "outputs": [
    {
     "name": "stdout",
     "output_type": "stream",
     "text": [
      "stack of a nd b\n",
      "[[[23 87 90]\n",
      "  [20 30 56]]\n",
      "\n",
      " [[33 67 90]\n",
      "  [12 34 89]]]\n",
      "marix a\n",
      "[[23 87 90]\n",
      " [20 30 56]]\n",
      "matrix b\n",
      "[[33 67 90]\n",
      " [12 34 89]]\n"
     ]
    }
   ],
   "source": [
    "#v-stack (vertical stacking) and h-stack (horizontal stacking) in numpy array\n",
    "s1 =np.array([[23,87,90],[20,30,56]])\n",
    "s2 =np.array([[33,67,90],[12,34,89]])\n",
    "print('stack of a nd b')\n",
    "print(np.stack((s1,s2)))\n",
    "print('marix a')\n",
    "print(s1)\n",
    "print('matrix b')\n",
    "print(s2)\n",
    "\n",
    "\n"
   ]
  },
  {
   "cell_type": "code",
   "execution_count": 59,
   "metadata": {},
   "outputs": [
    {
     "name": "stdout",
     "output_type": "stream",
     "text": [
      "horizontal staking\n",
      "[[23 87 90 33 67 90]\n",
      " [20 30 56 12 34 89]]\n",
      "horizontal concatenate\n",
      "[[23 87 90]\n",
      " [20 30 56]\n",
      " [33 67 90]\n",
      " [12 34 89]]\n",
      "vertical stack\n",
      "[[23 87 90]\n",
      " [20 30 56]\n",
      " [33 67 90]\n",
      " [12 34 89]]\n",
      "vertical cancatenate\n",
      "[[23 87 90 33 67 90]\n",
      " [20 30 56 12 34 89]]\n",
      "column stack\n",
      "[[23 87 90 33 67 90]\n",
      " [20 30 56 12 34 89]]\n"
     ]
    }
   ],
   "source": [
    "#horizontal_stacking\n",
    "print('horizontal staking')\n",
    "print(np.hstack((s1,s2)))\n",
    "print('horizontal concatenate')\n",
    "print(np.concatenate((s1,s2),axis=0))\n",
    "print('vertical stack')\n",
    "print(np.vstack((s1,s2)))\n",
    "print('vertical cancatenate')\n",
    "print(np.concatenate((s1,s2),axis=1))\n",
    "print('column stack') #not used generally in data science\n",
    "print(np.column_stack((s1,s2)))"
   ]
  },
  {
   "cell_type": "code",
   "execution_count": 92,
   "metadata": {},
   "outputs": [
    {
     "name": "stdout",
     "output_type": "stream",
     "text": [
      "[[23 87 90]\n",
      " [20 30 56]]\n",
      "split appy on it\n",
      "this is about the row based\n",
      "[array([[23, 87, 90]]), array([[20, 30, 56]])]\n",
      "this is about the column based\n",
      "[array([[23],\n",
      "       [20]]), array([[87],\n",
      "       [30]]), array([[90],\n",
      "       [56]])]\n"
     ]
    }
   ],
   "source": [
    "#split_function\n",
    "#syntax\n",
    "#np.split(array,index,axis) here array is any numpy array ,index =int or list\n",
    "print(s1)\n",
    "print('split appy on it')#we have pass the argument according to requirement\n",
    "print('this is about the row based')\n",
    "print(np.split(s1,2,axis=0))\n",
    "print('this is about the column based')\n",
    "print(np.split(s1,3,axis=1))\n"
   ]
  },
  {
   "cell_type": "code",
   "execution_count": 87,
   "metadata": {},
   "outputs": [
    {
     "name": "stdout",
     "output_type": "stream",
     "text": [
      "if we use the list instaed of integer then let's see\n",
      "[array([[23, 87, 90],\n",
      "       [20, 30, 56]]), array([], shape=(0, 3), dtype=int32), array([[20, 30, 56]])]\n",
      "lets ckeck the the spliting of the each array\n"
     ]
    }
   ],
   "source": [
    "print(\"if we use the list instaed of integer then let's see\")\n",
    "print('this will be for the row wise')\n",
    "print(np.split(s1,[2,1],axis=0))\n",
    "\n",
    "print('lets ckeck the the spliting of the each array')"
   ]
  },
  {
   "cell_type": "code",
   "execution_count": 90,
   "metadata": {},
   "outputs": [
    {
     "name": "stdout",
     "output_type": "stream",
     "text": [
      "part 1\n",
      "[[23 87 90]]\n"
     ]
    }
   ],
   "source": [
    "print('part 1')\n",
    "print(s1[:1])"
   ]
  },
  {
   "cell_type": "code",
   "execution_count": 114,
   "metadata": {},
   "outputs": [
    {
     "name": "stdout",
     "output_type": "stream",
     "text": [
      "part 2\n",
      "[[20 30 56]]\n"
     ]
    }
   ],
   "source": [
    "print('part 2')\n",
    "print(s1[1:2])"
   ]
  },
  {
   "cell_type": "code",
   "execution_count": 88,
   "metadata": {},
   "outputs": [
    {
     "name": "stdout",
     "output_type": "stream",
     "text": [
      "part 3\n",
      "[]\n"
     ]
    }
   ],
   "source": [
    "print('part 3')\n",
    "print(s1[2:])"
   ]
  },
  {
   "cell_type": "code",
   "execution_count": 135,
   "metadata": {},
   "outputs": [
    {
     "name": "stdout",
     "output_type": "stream",
     "text": [
      "[[23 21 76]\n",
      " [98 67 54]]\n",
      "for the column wise we need to take the axis= 1\n",
      "[array([[23],\n",
      "       [98]]), array([[21],\n",
      "       [67]]), array([[76],\n",
      "       [54]])]\n",
      "how the spliting works lets see\n",
      "here everything done for the column because its column wise spliting\n"
     ]
    }
   ],
   "source": [
    "j =np.array([[23,21,76],[98,67,54]])\n",
    "print(j)\n",
    "print('for the column wise we need to take the axis= 1')\n",
    "k =np.split(j,[1,2],axis=1)\n",
    "print(k)\n",
    "print('how the spliting works lets see'),\n",
    "print('here everything done for the column because its column wise spliting')\n"
   ]
  },
  {
   "cell_type": "code",
   "execution_count": 134,
   "metadata": {},
   "outputs": [
    {
     "data": {
      "text/plain": [
       "array([[23],\n",
       "       [98]])"
      ]
     },
     "execution_count": 134,
     "metadata": {},
     "output_type": "execute_result"
    }
   ],
   "source": [
    "j[:,:1]"
   ]
  },
  {
   "cell_type": "code",
   "execution_count": 136,
   "metadata": {},
   "outputs": [
    {
     "data": {
      "text/plain": [
       "array([[21],\n",
       "       [67]])"
      ]
     },
     "execution_count": 136,
     "metadata": {},
     "output_type": "execute_result"
    }
   ],
   "source": [
    "j[:,1:2]"
   ]
  },
  {
   "cell_type": "code",
   "execution_count": 137,
   "metadata": {},
   "outputs": [
    {
     "data": {
      "text/plain": [
       "array([[76],\n",
       "       [54]])"
      ]
     },
     "execution_count": 137,
     "metadata": {},
     "output_type": "execute_result"
    }
   ],
   "source": [
    "j[:,2:]"
   ]
  },
  {
   "cell_type": "code",
   "execution_count": null,
   "metadata": {},
   "outputs": [],
   "source": []
  }
 ],
 "metadata": {
  "kernelspec": {
   "display_name": "Python 3",
   "language": "python",
   "name": "python3"
  },
  "language_info": {
   "codemirror_mode": {
    "name": "ipython",
    "version": 3
   },
   "file_extension": ".py",
   "mimetype": "text/x-python",
   "name": "python",
   "nbconvert_exporter": "python",
   "pygments_lexer": "ipython3",
   "version": "3.7.4"
  }
 },
 "nbformat": 4,
 "nbformat_minor": 2
}
