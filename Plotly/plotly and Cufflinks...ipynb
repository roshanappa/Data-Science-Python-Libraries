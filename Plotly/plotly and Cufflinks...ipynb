{
 "cells": [
  {
   "cell_type": "markdown",
   "metadata": {},
   "source": [
    "- It is widely use for the intractive plots."
   ]
  },
  {
   "cell_type": "markdown",
   "metadata": {},
   "source": [
    "## Using the Cufflinks and iplot()"
   ]
  },
  {
   "cell_type": "markdown",
   "metadata": {},
   "source": [
    "- Line\n",
    "- Scatterplot\n",
    "- Bar\n",
    "- Box\n",
    "- Spread\n",
    "- Ratio\n",
    "- Heatmap\n",
    "- Surface\n",
    "- Histogram."
   ]
  },
  {
   "cell_type": "code",
   "execution_count": 1,
   "metadata": {},
   "outputs": [],
   "source": [
    "import numpy as np\n",
    "import pandas as pd\n",
    "import matplotlib.pyplot as plt\n",
    "import seaborn as sns"
   ]
  },
  {
   "cell_type": "code",
   "execution_count": 13,
   "metadata": {},
   "outputs": [],
   "source": [
    "import plotly.tools as tls\n",
    "from plotly.offline import iplot\n",
    "import plotly as py"
   ]
  },
  {
   "cell_type": "code",
   "execution_count": 14,
   "metadata": {},
   "outputs": [],
   "source": [
    "import cufflinks as cf"
   ]
  },
  {
   "cell_type": "code",
   "execution_count": 17,
   "metadata": {},
   "outputs": [
    {
     "name": "stdout",
     "output_type": "stream",
     "text": [
      "Help on method _iplot in module cufflinks.plotlytools:\n",
      "\n",
      "_iplot(kind='scatter', data=None, layout=None, filename='', sharing=None, title='', xTitle='', yTitle='', zTitle='', theme=None, colors=None, colorscale=None, fill=False, width=None, dash='solid', mode='', interpolation='linear', symbol='circle', size=12, barmode='', sortbars=False, bargap=None, bargroupgap=None, bins=None, histnorm='', histfunc='count', orientation='v', boxpoints=False, annotations=None, keys=False, bestfit=False, bestfit_colors=None, mean=False, mean_colors=None, categories='', x='', y='', z='', text='', gridcolor=None, zerolinecolor=None, margin=None, labels=None, values=None, secondary_y='', secondary_y_title='', subplots=False, shape=None, error_x=None, error_y=None, error_type='data', locations=None, lon=None, lat=None, asFrame=False, asDates=False, asFigure=False, asImage=False, dimensions=None, asPlot=False, asUrl=False, online=None, **kwargs) method of pandas.core.frame.DataFrame instance\n",
      "           Returns a plotly chart either as inline chart, image of Figure object\n",
      "    \n",
      "           Parameters:\n",
      "           -----------\n",
      "                   kind : string\n",
      "                           Kind of chart\n",
      "                                   scatter\n",
      "                                   bar\n",
      "                                   box\n",
      "                                   spread\n",
      "                                   ratio\n",
      "                                   heatmap\n",
      "                                   surface\n",
      "                                   histogram\n",
      "                                   bubble\n",
      "                                   bubble3d\n",
      "                                   scatter3d       \n",
      "                                   scattergeo\n",
      "                                   ohlc\n",
      "                                   candle\n",
      "                                   pie\n",
      "                                   choroplet       \n",
      "                   data : Data\n",
      "                           Plotly Data Object.\n",
      "                           If not entered then the Data object will be automatically\n",
      "                           generated from the DataFrame.\n",
      "                   layout : Layout\n",
      "                           Plotly layout Object\n",
      "                           If not entered then the Layout objet will be automatically\n",
      "                           generated from the DataFrame.\n",
      "                   filename : string\n",
      "                           Filename to be saved as in plotly account\n",
      "                   sharing : string\n",
      "                           Sets the sharing level permission\n",
      "                                   public - anyone can see this chart\n",
      "                                   private - only you can see this chart\n",
      "                                   secret - only people with the link can see the chart\n",
      "                   title : string\n",
      "                           Chart Title                             \n",
      "                   xTitle : string\n",
      "                           X Axis Title\n",
      "                   yTitle : string\n",
      "                           Y Axis Title\n",
      "                                   zTitle : string\n",
      "                   zTitle : string\n",
      "                           Z Axis Title\n",
      "                           Applicable only for 3d charts\n",
      "                   theme : string\n",
      "                           Layout Theme\n",
      "                                   solar\n",
      "                                   pearl\n",
      "                                   white           \n",
      "                           see cufflinks.getThemes() for all \n",
      "                           available themes\n",
      "                   colors : dict, list or string\n",
      "                           {key:color} to specify the color for each column\n",
      "                           [colors] to use the colors in the defined order\n",
      "                   colorscale : string\n",
      "                           Color scale name\n",
      "                           If the color name is preceded by a minus (-) \n",
      "                           then the scale is inversed\n",
      "                           Only valid if 'colors' is null\n",
      "                           See cufflinks.colors.scales() for available scales\n",
      "                   fill : bool\n",
      "                           Filled Traces           \n",
      "                   width : dict, list or int\n",
      "                                   int : applies to all traces\n",
      "                                   list : applies to each trace in the order \n",
      "                                                   specified\n",
      "                                   dict: {column:value} for each column in \n",
      "                                                   the dataframe\n",
      "                           Line width      \n",
      "                   dash : dict, list or string\n",
      "                                   string : applies to all traces\n",
      "                                   list : applies to each trace in the order \n",
      "                                                   specified\n",
      "                                   dict: {column:value} for each column in \n",
      "                                                   the dataframe\n",
      "                           Drawing style of lines\n",
      "                                   solid\n",
      "                                   dash\n",
      "                                   dashdot\n",
      "                                   dot\n",
      "                   mode : dict, list or string\n",
      "                                   string : applies to all traces\n",
      "                                   list : applies to each trace in the order \n",
      "                                                   specified\n",
      "                                   dict: {column:value} for each column in \n",
      "                                                   the dataframe\n",
      "                           Plotting mode for scatter trace\n",
      "                                   lines\n",
      "                                   markers\n",
      "                                   lines+markers\n",
      "                                   lines+text\n",
      "                                   markers+text\n",
      "                                   lines+markers+text\n",
      "                   interpolation : dict, list, or string\n",
      "                                   string : applies to all traces\n",
      "                                   list : applies to each trace in the order \n",
      "                                                   specified\n",
      "                                   dict: {column:value} for each column in \n",
      "                                                   the dataframe\n",
      "                           Positioning of the connecting lines\n",
      "                                   linear\n",
      "                                   spline\n",
      "                                   vhv\n",
      "                                   hvh\n",
      "                                   vh\n",
      "                                   hv              \n",
      "                   symbol : dict, list or string\n",
      "                                   string : applies to all traces\n",
      "                                   list : applies to each trace in the order \n",
      "                                                   specified\n",
      "                                   dict: {column:value} for each column in \n",
      "                                                   the dataframe\n",
      "                           The symbol that is drawn on the plot for each marker\n",
      "                           Valid only when mode includes markers\n",
      "                                   circle\n",
      "                                   circle-dot\n",
      "                                   diamond\n",
      "                                   square\n",
      "                                   and many more...(see plotly.validators.scatter.marker.SymbolValidator.values)\n",
      "                   size : string or int \n",
      "                           Size of marker \n",
      "                           Valid only if marker in mode\n",
      "                   barmode : string\n",
      "                           Mode when displaying bars\n",
      "                                   group\n",
      "                                   stack\n",
      "                                   overlay\n",
      "                           * Only valid when kind='bar'\n",
      "                   sortbars : bool\n",
      "                           Sort bars in descending order\n",
      "                           * Only valid when kind='bar'\n",
      "                   bargap : float\n",
      "                           Sets the gap between bars\n",
      "                                   [0,1)\n",
      "                           * Only valid when kind is 'histogram' or 'bar'\n",
      "                   bargroupgap : float\n",
      "                           Set the gap between groups\n",
      "                                   [0,1)\n",
      "                           * Only valid when kind is 'histogram' or 'bar'          \n",
      "                   bins : int or tuple \n",
      "                           if int:\n",
      "                                   Specifies the number of bins \n",
      "                           if tuple:\n",
      "                                   (start, end, size)\n",
      "                                   start : starting value\n",
      "                                   end: end value\n",
      "                                   size: bin size\n",
      "                           * Only valid when kind='histogram'\n",
      "    \n",
      "                   histnorm : string\n",
      "                                   '' (frequency)\n",
      "                                   percent\n",
      "                                   probability\n",
      "                                   density\n",
      "                                   probability density\n",
      "                           Sets the type of normalization for an histogram trace. By default\n",
      "                           the height of each bar displays the frequency of occurrence, i.e., \n",
      "                           the number of times this value was found in the\n",
      "                           corresponding bin. If set to 'percent', the height of each bar\n",
      "                           displays the percentage of total occurrences found within the\n",
      "                           corresponding bin. If set to 'probability', the height of each bar\n",
      "                           displays the probability that an event will fall into the\n",
      "                           corresponding bin. If set to 'density', the height of each bar is\n",
      "                           equal to the number of occurrences in a bin divided by the size of\n",
      "                           the bin interval such that summing the area of all bins will yield\n",
      "                           the total number of occurrences. If set to 'probability density',\n",
      "                           the height of each bar is equal to the number of probability that an\n",
      "                           event will fall into the corresponding bin divided by the size of\n",
      "                           the bin interval such that summing the area of all bins will yield\n",
      "                           1.\n",
      "                           * Only valid when kind='histogram'\n",
      "                   histfunc : string\n",
      "                                   count\n",
      "                                   sum\n",
      "                                   avg\n",
      "                                   min\n",
      "                                   max\n",
      "                      Sets the binning function used for an histogram trace. \n",
      "                           * Only valid when kind='histogram'           \n",
      "                   orientation : string\n",
      "                                   h \n",
      "                                   v\n",
      "                           Sets the orientation of the bars. If set to 'v', the length of each\n",
      "    |          bar will run vertically. If set to 'h', the length of each bar will\n",
      "    |          run horizontally\n",
      "                           * Only valid when kind is 'histogram','bar' or 'box'\n",
      "                   boxpoints : string\n",
      "                           Displays data points in a box plot\n",
      "                                   outliers\n",
      "                                   all\n",
      "                                   suspectedoutliers\n",
      "                                   False\n",
      "                   annotations : dictionary\n",
      "                           Dictionary of annotations\n",
      "                           {x_point : text}\n",
      "                   keys : list of columns\n",
      "                           List of columns to chart.\n",
      "                           Also can be used for custom sorting.\n",
      "                   bestfit : boolean or list\n",
      "                           If True then a best fit line will be generated for\n",
      "                           all columns.\n",
      "                           If list then a best fit line will be generated for\n",
      "                           each key on the list.\n",
      "                   bestfit_colors : list or dict\n",
      "                           {key:color} to specify the color for each column\n",
      "                           [colors] to use the colors in the defined order \n",
      "                   categories : string\n",
      "                           Name of the column that contains the categories\n",
      "                   x : string\n",
      "                           Name of the column that contains the x axis values              \n",
      "                   y : string\n",
      "                           Name of the column that contains the y axis values\n",
      "                   z : string\n",
      "                           Name of the column that contains the z axis values                                      \n",
      "                   text : string\n",
      "                           Name of the column that contains the text values        \n",
      "                   gridcolor : string\n",
      "                           Grid color      \n",
      "                   zerolinecolor : string\n",
      "                           Zero line color\n",
      "                   margin : dict or tuple\n",
      "                           Dictionary (l,r,b,t) or\n",
      "                           Tuple containing the left,\n",
      "                           right, bottom and top margins\n",
      "                   labels : string\n",
      "                           Name of the column that contains the labels.\n",
      "                           * Only valid when kind='pie' \n",
      "                   values : string\n",
      "                           Name of the column that contains the values.\n",
      "                           * Only valid when kind='pie'\n",
      "                   secondary_y : string or list(string)\n",
      "                           Name(s) of the column to be charted on the \n",
      "                           right hand side axis\n",
      "                   secondary_y_title : string\n",
      "                           Title of the secondary axis\n",
      "                   subplots : bool\n",
      "                           If true then each trace is placed in \n",
      "                           subplot layout\n",
      "                   shape : (rows,cols)\n",
      "                           Tuple indicating the size of rows and columns\n",
      "                           If omitted then the layout is automatically set\n",
      "                           * Only valid when subplots=True\n",
      "                   error_x : int or float or [int or float]\n",
      "                           error values for the x axis\n",
      "                   error_y : int or float or [int or float]\n",
      "                           error values for the y axis\n",
      "                   error_type : string\n",
      "                           type of error bars\n",
      "                                   'data' \n",
      "                                   'constant'\n",
      "                                   'percent'\n",
      "                                   'sqrt'\n",
      "                                   'continuous'\n",
      "                                   'continuous_percent'\n",
      "                   asFrame : bool\n",
      "                           If true then the data component of Figure will\n",
      "                           be of Pandas form (Series) otherwise they will \n",
      "                           be index values\n",
      "                   asDates : bool\n",
      "                           If true it truncates times from a DatetimeIndex\n",
      "                   asFigure : bool\n",
      "                           If True returns plotly Figure\n",
      "                   asImage : bool\n",
      "                           If True it returns an Image (png)\n",
      "                           In ONLINE mode:\n",
      "                                   Image file is saved in the working directory                            \n",
      "                                           Accepts:\n",
      "                                                   filename\n",
      "                                                   dimensions\n",
      "                                                   scale\n",
      "                                                   display_image\n",
      "                           In OFFLINE mode:\n",
      "                                   Image file is downloaded (downloads folder) and a \n",
      "                                   regular plotly chart is displayed in Jupyter\n",
      "                                           Accepts:\n",
      "                                                   filename\n",
      "                                                   dimensions\n",
      "                   dimensions : tuple(int,int)\n",
      "                           Dimensions for image / chart\n",
      "                                   (width,height)          \n",
      "                   asPlot : bool\n",
      "                           If True the chart opens in browser\n",
      "                   asUrl : bool\n",
      "                           If True the chart url/path is returned. No chart is displayed. \n",
      "                                   If Online : the URL is returned\n",
      "                                   If Offline : the local path is returned\n",
      "                   online : bool\n",
      "                           If True then the chart/image is rendered on the server \n",
      "                           even when running in offline mode. \n",
      "    \n",
      "                   Other Kwargs\n",
      "                   ============\n",
      "                   Line, Scatter\n",
      "                           connectgaps : bool\n",
      "                                   If True, empty values are connected \n",
      "                   Pie charts\n",
      "                           sort : bool\n",
      "                                   If True it sorts the labels by value\n",
      "                           pull : float [0-1]\n",
      "                                   Pulls the slices from the centre \n",
      "                           hole : float [0-1]\n",
      "                                   Sets the size of the inner hole\n",
      "                           linecolor : string\n",
      "                                   Sets the color for the contour line of the slices\n",
      "                           linewidth : string\n",
      "                                   Sets the width for the contour line of the slices       \n",
      "                           textcolor : string\n",
      "                                   Sets the color for the text in the slices\n",
      "                           textposition : string \n",
      "                                   Sets the position of the legends for each slice\n",
      "                                           outside\n",
      "                                           inner\n",
      "                           textinfo : string \n",
      "                                   Sets the information to be displayed on \n",
      "                                   the legends \n",
      "                                           label\n",
      "                                           percent\n",
      "                                           value\n",
      "                                           * or ony combination of the above using \n",
      "                                             '+' between each item\n",
      "                                             ie 'label+percent'\n",
      "    \n",
      "                   Histogram\n",
      "                           linecolor : string\n",
      "                                   specifies the line color of the histogram\n",
      "    \n",
      "                   Heatmap and Surface\n",
      "                           center_scale : float\n",
      "                                   Centers the colorscale at a specific value\n",
      "                                   Automatically sets the (zmin,zmax) values\n",
      "                           zmin : float\n",
      "                                   Defines the minimum range for the z values. \n",
      "                                   This affects the range for the colorscale\n",
      "                           zmax : float\n",
      "                                   Defines the maximum range for the z values. \n",
      "                                   This affects the range for the colorscale\n",
      "    \n",
      "                   Error Bars\n",
      "                           error_trace : string\n",
      "                                   Name of the column for which error should be \n",
      "                                   plotted. If omitted then errors apply to all \n",
      "                                   traces.\n",
      "                           error_values_minus : int or float or [int or float]\n",
      "                                   Values corresponding to the span of the error bars \n",
      "                                   below the trace coordinates\n",
      "                           error_color : string\n",
      "                                   Color for error bars\n",
      "                           error_thickness : float \n",
      "                                   Sets the line thickness of the error bars\n",
      "                           error_width :  float\n",
      "                                   Sets the width (in pixels) of the cross-bar at both \n",
      "                                   ends of the error bars\n",
      "                           error_opacity : float [0,1]\n",
      "                                   Opacity for the error bars\n",
      "    \n",
      "                   Subplots\n",
      "                           horizontal_spacing : float [0,1]\n",
      "                                   Space between subplot columns.\n",
      "                           vertical_spacing : float [0,1]\n",
      "                                   Space between subplot rows.\n",
      "                           subplot_titles : bool\n",
      "                                   If True, chart titles are plotted\n",
      "                                   at the top of each subplot\n",
      "                           shared_xaxes : bool\n",
      "                                   Assign shared x axes.\n",
      "                                   If True, subplots in the same grid column have one common\n",
      "                                   shared x-axis at the bottom of the grid.\n",
      "                           shared_yaxes : bool\n",
      "                                   Assign shared y axes.\n",
      "                                   If True, subplots in the same grid row have one common\n",
      "                                   shared y-axis on the left-hand side of the grid.\n",
      "    \n",
      "                   Shapes\n",
      "                           hline : float, list or dict\n",
      "                                   Draws a horizontal line at the \n",
      "                                   indicated y position(s)\n",
      "                                   Extra parameters can be passed in\n",
      "                                   the form of a dictionary (see shapes)\n",
      "                           vline : float, list or dict\n",
      "                                   Draws a vertical line at the \n",
      "                                   indicated x position(s)\n",
      "                                   Extra parameters can be passed in\n",
      "                                   the form of a dictionary (see shapes)\n",
      "                           hpsan : (y0,y1)\n",
      "                                   Draws a horizontal rectangle at the \n",
      "                                   indicated (y0,y1) positions.\n",
      "                                   Extra parameters can be passed in\n",
      "                                   the form of a dictionary (see shapes)\n",
      "                           vspan : (x0,x1)\n",
      "                                   Draws a vertical rectangle at the \n",
      "                                   indicated (x0,x1) positions.\n",
      "                                   Extra parameters can be passed in\n",
      "                                   the form of a dictionary (see shapes)\n",
      "                           shapes : dict or list(dict)\n",
      "                                   List of dictionaries with the \n",
      "                                   specifications of a given shape.\n",
      "                                   See help(cufflinks.tools.get_shape)\n",
      "                                   for more information\n",
      "                   \n",
      "                   Axis Ranges\n",
      "                           xrange : [lower_bound,upper_bound]\n",
      "                                   Sets the range for the x axis\n",
      "                           yrange : [lower_bound,upper_bound]\n",
      "                                   Sets the range for the y axis\n",
      "                           zrange : [lower_bound,upper_bound]\n",
      "                                   Sets the range for the z axis\n",
      "                                   \n",
      "                   Explicit Layout Updates\n",
      "                           layout_update : dict\n",
      "                                   The layout will be modified with all \n",
      "                                   the explicit values stated in the \n",
      "                                   dictionary. \n",
      "                                   It will not apply if layout is passed\n",
      "                                   as parameter.\n",
      "    \n",
      "    \n",
      "                   Range Selector\n",
      "                           rangeselector : dict\n",
      "                                   Defines a rangeselector object\n",
      "                                   see help(cf.tools.get_range_selector) for more information\n",
      "                                   Example:\n",
      "                                           {'steps':['1y','2 months','5 weeks','ytd','2mtd'],\n",
      "                                            'axis':'xaxis', 'bgcolor' : ('blue',.3),\n",
      "                                            'x': 0.2 , 'y' : 0.9}\n",
      "    \n",
      "                   Range Slider\n",
      "                           rangeslider : bool or dict\n",
      "                                   Defines if a rangeslider is displayed\n",
      "                                   If bool: \n",
      "                                           True : Makes it visible\n",
      "                                   if dict:\n",
      "                                           Rangeslider object\n",
      "                                   Example:\n",
      "                                           {'bgcolor':('blue',.3),'autorange':True}\n",
      "    \n",
      "                   Annotations\n",
      "                           fontcolor : str\n",
      "                                   Text color for annotations\n",
      "                           fontsize : int\n",
      "                                   Text size for annotations\n",
      "                           textangle : int\n",
      "                                   Text angle \n",
      "                           See https://plot.ly/python/reference/#layout-annotations \n",
      "                           for a complete list of valid parameters.\n",
      "    \n",
      "                   Exports\n",
      "                           display_image : bool\n",
      "                                   If True then the image if displayed after being saved\n",
      "                                   ** only valid if asImage=True\n",
      "                           scale : integer\n",
      "                                   Increase the resolution of the image by `scale` amount\n",
      "                                   Only valid when asImage=True\n",
      "\n"
     ]
    }
   ],
   "source": [
    "df = pd.DataFrame()\n",
    "help(df.iplot)"
   ]
  },
  {
   "cell_type": "code",
   "execution_count": 18,
   "metadata": {},
   "outputs": [
    {
     "data": {
      "text/html": [
       "        <script type=\"text/javascript\">\n",
       "        window.PlotlyConfig = {MathJaxConfig: 'local'};\n",
       "        if (window.MathJax) {MathJax.Hub.Config({SVG: {font: \"STIX-Web\"}});}\n",
       "        if (typeof require !== 'undefined') {\n",
       "        require.undef(\"plotly\");\n",
       "        requirejs.config({\n",
       "            paths: {\n",
       "                'plotly': ['https://cdn.plot.ly/plotly-latest.min']\n",
       "            }\n",
       "        });\n",
       "        require(['plotly'], function(Plotly) {\n",
       "            window._Plotly = Plotly;\n",
       "        });\n",
       "        }\n",
       "        </script>\n",
       "        "
      ]
     },
     "metadata": {},
     "output_type": "display_data"
    }
   ],
   "source": [
    "py.offline.init_notebook_mode(connected=True)"
   ]
  },
  {
   "cell_type": "code",
   "execution_count": 19,
   "metadata": {},
   "outputs": [
    {
     "data": {
      "text/html": [
       "        <script type=\"text/javascript\">\n",
       "        window.PlotlyConfig = {MathJaxConfig: 'local'};\n",
       "        if (window.MathJax) {MathJax.Hub.Config({SVG: {font: \"STIX-Web\"}});}\n",
       "        if (typeof require !== 'undefined') {\n",
       "        require.undef(\"plotly\");\n",
       "        requirejs.config({\n",
       "            paths: {\n",
       "                'plotly': ['https://cdn.plot.ly/plotly-latest.min']\n",
       "            }\n",
       "        });\n",
       "        require(['plotly'], function(Plotly) {\n",
       "            window._Plotly = Plotly;\n",
       "        });\n",
       "        }\n",
       "        </script>\n",
       "        "
      ]
     },
     "metadata": {},
     "output_type": "display_data"
    }
   ],
   "source": [
    "cf.go_offline()"
   ]
  },
  {
   "cell_type": "code",
   "execution_count": 20,
   "metadata": {},
   "outputs": [],
   "source": [
    "df = pd.DataFrame(np.random.randn(100,3),columns=['A','B','C'])"
   ]
  },
  {
   "cell_type": "code",
   "execution_count": 21,
   "metadata": {},
   "outputs": [
    {
     "data": {
      "text/html": [
       "<div>\n",
       "<style scoped>\n",
       "    .dataframe tbody tr th:only-of-type {\n",
       "        vertical-align: middle;\n",
       "    }\n",
       "\n",
       "    .dataframe tbody tr th {\n",
       "        vertical-align: top;\n",
       "    }\n",
       "\n",
       "    .dataframe thead th {\n",
       "        text-align: right;\n",
       "    }\n",
       "</style>\n",
       "<table border=\"1\" class=\"dataframe\">\n",
       "  <thead>\n",
       "    <tr style=\"text-align: right;\">\n",
       "      <th></th>\n",
       "      <th>A</th>\n",
       "      <th>B</th>\n",
       "      <th>C</th>\n",
       "    </tr>\n",
       "  </thead>\n",
       "  <tbody>\n",
       "    <tr>\n",
       "      <td>0</td>\n",
       "      <td>1.151223</td>\n",
       "      <td>-0.788988</td>\n",
       "      <td>-0.504190</td>\n",
       "    </tr>\n",
       "    <tr>\n",
       "      <td>1</td>\n",
       "      <td>-0.557470</td>\n",
       "      <td>-0.542259</td>\n",
       "      <td>1.601290</td>\n",
       "    </tr>\n",
       "    <tr>\n",
       "      <td>2</td>\n",
       "      <td>0.577884</td>\n",
       "      <td>0.989233</td>\n",
       "      <td>-2.401562</td>\n",
       "    </tr>\n",
       "    <tr>\n",
       "      <td>3</td>\n",
       "      <td>-0.344680</td>\n",
       "      <td>-0.946143</td>\n",
       "      <td>0.224244</td>\n",
       "    </tr>\n",
       "    <tr>\n",
       "      <td>4</td>\n",
       "      <td>2.019539</td>\n",
       "      <td>-0.094029</td>\n",
       "      <td>0.114517</td>\n",
       "    </tr>\n",
       "  </tbody>\n",
       "</table>\n",
       "</div>"
      ],
      "text/plain": [
       "          A         B         C\n",
       "0  1.151223 -0.788988 -0.504190\n",
       "1 -0.557470 -0.542259  1.601290\n",
       "2  0.577884  0.989233 -2.401562\n",
       "3 -0.344680 -0.946143  0.224244\n",
       "4  2.019539 -0.094029  0.114517"
      ]
     },
     "execution_count": 21,
     "metadata": {},
     "output_type": "execute_result"
    }
   ],
   "source": [
    "df.head()"
   ]
  },
  {
   "cell_type": "code",
   "execution_count": 24,
   "metadata": {},
   "outputs": [
    {
     "data": {
      "application/vnd.plotly.v1+json": {
       "config": {
        "linkText": "Export to plot.ly",
        "plotlyServerURL": "https://plot.ly",
        "showLink": true
       },
       "data": [
        {
         "line": {
          "color": "rgba(255, 153, 51, 1.0)",
          "dash": "solid",
          "shape": "linear",
          "width": 1.3
         },
         "mode": "lines",
         "name": "A",
         "text": "",
         "type": "scatter",
         "x": [
          0,
          1,
          2,
          3,
          4,
          5,
          6,
          7,
          8,
          9,
          10,
          11,
          12,
          13,
          14,
          15,
          16,
          17,
          18,
          19,
          20,
          21,
          22,
          23,
          24,
          25,
          26,
          27,
          28,
          29,
          30,
          31,
          32,
          33,
          34,
          35,
          36,
          37,
          38,
          39,
          40,
          41,
          42,
          43,
          44,
          45,
          46,
          47,
          48,
          49,
          50,
          51,
          52,
          53,
          54,
          55,
          56,
          57,
          58,
          59,
          60,
          61,
          62,
          63,
          64,
          65,
          66,
          67,
          68,
          69,
          70,
          71,
          72,
          73,
          74,
          75,
          76,
          77,
          78,
          79,
          80,
          81,
          82,
          83,
          84,
          85,
          86,
          87,
          88,
          89,
          90,
          91,
          92,
          93,
          94,
          95,
          96,
          97,
          98,
          99
         ],
         "y": [
          1.1512230023350842,
          0.5937526750523903,
          1.1716367236782756,
          0.8269571176879866,
          2.846496561329228,
          4.0872008228388665,
          3.683349339831784,
          4.282207044791669,
          1.9495260849779368,
          2.5541875778107856,
          3.894396558094329,
          2.9409791814864494,
          1.5880067672847993,
          1.390215921656779,
          0.11859401390322022,
          -0.24437958460563158,
          -0.24816124939587447,
          -0.8860032468902985,
          -1.3251501978939673,
          -1.4100100165536065,
          -0.15606797880453693,
          0.7609659984439421,
          1.442510989450118,
          1.9278911483389916,
          1.7087585510444625,
          1.637453532747898,
          1.1553669925126588,
          1.6795339636599245,
          2.155696953809199,
          1.7033825330726404,
          0.35574610255305084,
          1.9802511103294742,
          1.6305798969105634,
          2.6543734696918406,
          3.3897607958032125,
          2.337590827899989,
          2.154997346889418,
          1.7945303540594812,
          2.2287306216436993,
          3.1198798491536803,
          4.033307348897585,
          3.839937919827577,
          3.3100667988440113,
          5.108714788198949,
          4.186569198992858,
          3.37778889587593,
          1.8994482556812038,
          1.679150446965804,
          0.4207794096601494,
          1.3422292823949966,
          2.11773127802842,
          3.43924151233675,
          3.8931574708725343,
          5.016650713676459,
          4.567205974880413,
          5.998766158938093,
          5.416637751498833,
          6.6270932615815825,
          7.029204362215022,
          6.527728669530853,
          7.723456112680852,
          8.348559777595659,
          7.659490197522338,
          8.088953311872775,
          7.468344249932313,
          7.069545765849762,
          7.586841263267809,
          8.01113870936809,
          9.188499632809375,
          9.002102264717825,
          9.170442705251691,
          8.57284308097231,
          8.483356457608233,
          9.333255536074141,
          10.022219166390043,
          8.530501679116039,
          8.283655666345117,
          9.106850394759046,
          8.623517239736024,
          8.22172104590107,
          7.678748170611917,
          7.001243509789908,
          7.379080030772671,
          8.400621969011151,
          8.891962399116913,
          7.877390983812698,
          8.385482323874825,
          6.837677462685244,
          8.105133512818025,
          7.9150554184447826,
          9.177963395925351,
          8.303446502251944,
          6.587056362357352,
          8.392712895380738,
          8.38875194369083,
          6.965570475132045,
          8.40868111023596,
          8.748187003347319,
          10.376512489990024,
          12.883516987954069
         ]
        },
        {
         "line": {
          "color": "rgba(55, 128, 191, 1.0)",
          "dash": "solid",
          "shape": "linear",
          "width": 1.3
         },
         "mode": "lines",
         "name": "B",
         "text": "",
         "type": "scatter",
         "x": [
          0,
          1,
          2,
          3,
          4,
          5,
          6,
          7,
          8,
          9,
          10,
          11,
          12,
          13,
          14,
          15,
          16,
          17,
          18,
          19,
          20,
          21,
          22,
          23,
          24,
          25,
          26,
          27,
          28,
          29,
          30,
          31,
          32,
          33,
          34,
          35,
          36,
          37,
          38,
          39,
          40,
          41,
          42,
          43,
          44,
          45,
          46,
          47,
          48,
          49,
          50,
          51,
          52,
          53,
          54,
          55,
          56,
          57,
          58,
          59,
          60,
          61,
          62,
          63,
          64,
          65,
          66,
          67,
          68,
          69,
          70,
          71,
          72,
          73,
          74,
          75,
          76,
          77,
          78,
          79,
          80,
          81,
          82,
          83,
          84,
          85,
          86,
          87,
          88,
          89,
          90,
          91,
          92,
          93,
          94,
          95,
          96,
          97,
          98,
          99
         ],
         "y": [
          -0.788987503239302,
          -1.3312460093671947,
          -0.34201337372834384,
          -1.288156817573145,
          -1.3821860367374614,
          -1.5814346869838678,
          -0.7223752940507655,
          -1.631567795233385,
          -0.13587571212780292,
          -1.7477160840874173,
          -2.2117305984906173,
          -3.618731230802925,
          -2.516507979691619,
          -3.3966186482734098,
          -3.5164432601622724,
          -3.321581340627635,
          -4.832895855353339,
          -5.531990282879623,
          -5.628784611373114,
          -6.351499065995507,
          -7.4858129609155,
          -7.151883025320187,
          -7.7824560368143345,
          -8.564844614801839,
          -8.797266529972896,
          -9.124963508867161,
          -7.611263694016841,
          -7.332646082877629,
          -7.232723983006403,
          -7.197910978117502,
          -8.93652886233398,
          -8.115801192345184,
          -7.434721684432992,
          -7.694434057136889,
          -8.57355625507616,
          -7.859485617734068,
          -8.3805627986908,
          -7.917615205438917,
          -7.873579986559333,
          -6.929521713688943,
          -7.014435415935212,
          -7.387792936927619,
          -6.50182003303976,
          -7.9480933998150265,
          -6.827283214053642,
          -7.050925738136994,
          -8.145360080301835,
          -8.321224878845564,
          -8.845377624642921,
          -8.147277453518884,
          -9.557175141232696,
          -9.444448592098361,
          -9.079266681654039,
          -7.888154418484095,
          -8.181418654164618,
          -8.237309118599772,
          -7.809682354107494,
          -6.896112714226113,
          -7.458574732395615,
          -7.315021184743999,
          -6.324051288363124,
          -5.986679401123715,
          -6.212832502822198,
          -4.591362542347308,
          -6.457739819687097,
          -5.195588485206947,
          -5.693937645155026,
          -5.379903538755365,
          -5.234895046178644,
          -2.2455430848404205,
          -1.836272301017173,
          -1.967095790099813,
          -0.8088759334614046,
          -1.0856810726088315,
          -0.5424317414532737,
          -1.4409694167927793,
          -1.5230756560294616,
          -1.5576261590118021,
          -1.3707836926893229,
          -2.9662892259016136,
          -4.880732382883591,
          -5.2802247165473055,
          -5.9516986949187425,
          -6.709661846517803,
          -6.869725653098986,
          -5.960836373302565,
          -5.153837604895094,
          -4.099809527136008,
          -5.088428696420075,
          -4.145846558402646,
          -3.273006972966011,
          -5.453453839443247,
          -5.033047577870034,
          -5.835827699506133,
          -6.858567950230039,
          -5.739621965598728,
          -5.470510099884442,
          -6.301761996608046,
          -6.741955697108257,
          -8.053974894759365
         ]
        },
        {
         "line": {
          "color": "rgba(50, 171, 96, 1.0)",
          "dash": "solid",
          "shape": "linear",
          "width": 1.3
         },
         "mode": "lines",
         "name": "C",
         "text": "",
         "type": "scatter",
         "x": [
          0,
          1,
          2,
          3,
          4,
          5,
          6,
          7,
          8,
          9,
          10,
          11,
          12,
          13,
          14,
          15,
          16,
          17,
          18,
          19,
          20,
          21,
          22,
          23,
          24,
          25,
          26,
          27,
          28,
          29,
          30,
          31,
          32,
          33,
          34,
          35,
          36,
          37,
          38,
          39,
          40,
          41,
          42,
          43,
          44,
          45,
          46,
          47,
          48,
          49,
          50,
          51,
          52,
          53,
          54,
          55,
          56,
          57,
          58,
          59,
          60,
          61,
          62,
          63,
          64,
          65,
          66,
          67,
          68,
          69,
          70,
          71,
          72,
          73,
          74,
          75,
          76,
          77,
          78,
          79,
          80,
          81,
          82,
          83,
          84,
          85,
          86,
          87,
          88,
          89,
          90,
          91,
          92,
          93,
          94,
          95,
          96,
          97,
          98,
          99
         ],
         "y": [
          -0.504190109711075,
          1.0970996499497323,
          -1.3044619385880312,
          -1.0802179902697024,
          -0.9657013784490868,
          -3.0022930872141314,
          -3.261571129875377,
          -1.3418575204857197,
          -0.4339591122493295,
          1.0899792464726246,
          2.3733702924034974,
          0.8907852596089743,
          -0.31771308476639537,
          -0.28020280017838567,
          1.1313237687366473,
          1.2667989262440926,
          -0.0013387813117875513,
          1.1526407897628221,
          0.22889319513132134,
          -0.21462891141936158,
          0.3849939130460155,
          0.18237812715368584,
          0.0791901400683177,
          -0.5894589296156094,
          -2.100562888964074,
          -1.8666874553072628,
          0.07524795131314366,
          -0.7724496823827243,
          -3.04674316882452,
          -0.37474837751436585,
          -0.8861097573849163,
          -0.7903577498384278,
          -0.5475788599166017,
          1.0780517508614693,
          0.22307874285137763,
          0.42604008905462726,
          1.3854242884503163,
          3.3314312671527744,
          3.737002663165806,
          3.09732680751647,
          2.2457686711308433,
          2.033953293023691,
          1.474956780976128,
          1.4238070022311877,
          2.4087882666827793,
          1.435926796426,
          0.38214651577071157,
          -1.3978896485731764,
          -3.430091120970916,
          -3.7461892146576536,
          -4.246566879204146,
          -3.4533053218584477,
          -2.904318687510421,
          -3.3114637397712516,
          -2.2057372626666867,
          -1.0591660595089114,
          -0.18948585517933114,
          -1.667233643344555,
          -2.2097082316364967,
          -1.8083407028116678,
          -2.852405964751438,
          -3.0412393609374977,
          -2.8210005682116073,
          -3.6541022786533883,
          -3.0225135082592365,
          -3.5256276194881826,
          -4.0922313940034005,
          -3.3383267603754545,
          -2.0968165252846473,
          -0.9239986691273689,
          -2.3844188215795272,
          -4.320439502873656,
          -5.793618793895552,
          -5.0394149837988165,
          -4.65645799701306,
          -4.611135829934338,
          -5.103141306854874,
          -6.098197223281637,
          -5.843303574680287,
          -7.459759459341367,
          -7.694139150768777,
          -7.799768772956855,
          -8.960840355000252,
          -10.160443536406067,
          -10.79862469065776,
          -10.558828993010374,
          -9.695948674503272,
          -9.763668550742363,
          -10.183932355313882,
          -10.282339283152742,
          -9.651527566337467,
          -9.814428486125665,
          -9.161633111250616,
          -10.126720125349202,
          -9.986813851476526,
          -9.00420012773933,
          -10.05476649308746,
          -9.8512567122335,
          -8.972378707192906,
          -11.196828200421969
         ]
        }
       ],
       "layout": {
        "legend": {
         "bgcolor": "#FFFFFF",
         "font": {
          "color": "#4D5663"
         }
        },
        "paper_bgcolor": "#FFFFFF",
        "plot_bgcolor": "#FFFFFF",
        "template": {
         "data": {
          "bar": [
           {
            "error_x": {
             "color": "#2a3f5f"
            },
            "error_y": {
             "color": "#2a3f5f"
            },
            "marker": {
             "line": {
              "color": "#E5ECF6",
              "width": 0.5
             }
            },
            "type": "bar"
           }
          ],
          "barpolar": [
           {
            "marker": {
             "line": {
              "color": "#E5ECF6",
              "width": 0.5
             }
            },
            "type": "barpolar"
           }
          ],
          "carpet": [
           {
            "aaxis": {
             "endlinecolor": "#2a3f5f",
             "gridcolor": "white",
             "linecolor": "white",
             "minorgridcolor": "white",
             "startlinecolor": "#2a3f5f"
            },
            "baxis": {
             "endlinecolor": "#2a3f5f",
             "gridcolor": "white",
             "linecolor": "white",
             "minorgridcolor": "white",
             "startlinecolor": "#2a3f5f"
            },
            "type": "carpet"
           }
          ],
          "choropleth": [
           {
            "colorbar": {
             "outlinewidth": 0,
             "ticks": ""
            },
            "type": "choropleth"
           }
          ],
          "contour": [
           {
            "colorbar": {
             "outlinewidth": 0,
             "ticks": ""
            },
            "colorscale": [
             [
              0,
              "#0d0887"
             ],
             [
              0.1111111111111111,
              "#46039f"
             ],
             [
              0.2222222222222222,
              "#7201a8"
             ],
             [
              0.3333333333333333,
              "#9c179e"
             ],
             [
              0.4444444444444444,
              "#bd3786"
             ],
             [
              0.5555555555555556,
              "#d8576b"
             ],
             [
              0.6666666666666666,
              "#ed7953"
             ],
             [
              0.7777777777777778,
              "#fb9f3a"
             ],
             [
              0.8888888888888888,
              "#fdca26"
             ],
             [
              1,
              "#f0f921"
             ]
            ],
            "type": "contour"
           }
          ],
          "contourcarpet": [
           {
            "colorbar": {
             "outlinewidth": 0,
             "ticks": ""
            },
            "type": "contourcarpet"
           }
          ],
          "heatmap": [
           {
            "colorbar": {
             "outlinewidth": 0,
             "ticks": ""
            },
            "colorscale": [
             [
              0,
              "#0d0887"
             ],
             [
              0.1111111111111111,
              "#46039f"
             ],
             [
              0.2222222222222222,
              "#7201a8"
             ],
             [
              0.3333333333333333,
              "#9c179e"
             ],
             [
              0.4444444444444444,
              "#bd3786"
             ],
             [
              0.5555555555555556,
              "#d8576b"
             ],
             [
              0.6666666666666666,
              "#ed7953"
             ],
             [
              0.7777777777777778,
              "#fb9f3a"
             ],
             [
              0.8888888888888888,
              "#fdca26"
             ],
             [
              1,
              "#f0f921"
             ]
            ],
            "type": "heatmap"
           }
          ],
          "heatmapgl": [
           {
            "colorbar": {
             "outlinewidth": 0,
             "ticks": ""
            },
            "colorscale": [
             [
              0,
              "#0d0887"
             ],
             [
              0.1111111111111111,
              "#46039f"
             ],
             [
              0.2222222222222222,
              "#7201a8"
             ],
             [
              0.3333333333333333,
              "#9c179e"
             ],
             [
              0.4444444444444444,
              "#bd3786"
             ],
             [
              0.5555555555555556,
              "#d8576b"
             ],
             [
              0.6666666666666666,
              "#ed7953"
             ],
             [
              0.7777777777777778,
              "#fb9f3a"
             ],
             [
              0.8888888888888888,
              "#fdca26"
             ],
             [
              1,
              "#f0f921"
             ]
            ],
            "type": "heatmapgl"
           }
          ],
          "histogram": [
           {
            "marker": {
             "colorbar": {
              "outlinewidth": 0,
              "ticks": ""
             }
            },
            "type": "histogram"
           }
          ],
          "histogram2d": [
           {
            "colorbar": {
             "outlinewidth": 0,
             "ticks": ""
            },
            "colorscale": [
             [
              0,
              "#0d0887"
             ],
             [
              0.1111111111111111,
              "#46039f"
             ],
             [
              0.2222222222222222,
              "#7201a8"
             ],
             [
              0.3333333333333333,
              "#9c179e"
             ],
             [
              0.4444444444444444,
              "#bd3786"
             ],
             [
              0.5555555555555556,
              "#d8576b"
             ],
             [
              0.6666666666666666,
              "#ed7953"
             ],
             [
              0.7777777777777778,
              "#fb9f3a"
             ],
             [
              0.8888888888888888,
              "#fdca26"
             ],
             [
              1,
              "#f0f921"
             ]
            ],
            "type": "histogram2d"
           }
          ],
          "histogram2dcontour": [
           {
            "colorbar": {
             "outlinewidth": 0,
             "ticks": ""
            },
            "colorscale": [
             [
              0,
              "#0d0887"
             ],
             [
              0.1111111111111111,
              "#46039f"
             ],
             [
              0.2222222222222222,
              "#7201a8"
             ],
             [
              0.3333333333333333,
              "#9c179e"
             ],
             [
              0.4444444444444444,
              "#bd3786"
             ],
             [
              0.5555555555555556,
              "#d8576b"
             ],
             [
              0.6666666666666666,
              "#ed7953"
             ],
             [
              0.7777777777777778,
              "#fb9f3a"
             ],
             [
              0.8888888888888888,
              "#fdca26"
             ],
             [
              1,
              "#f0f921"
             ]
            ],
            "type": "histogram2dcontour"
           }
          ],
          "mesh3d": [
           {
            "colorbar": {
             "outlinewidth": 0,
             "ticks": ""
            },
            "type": "mesh3d"
           }
          ],
          "parcoords": [
           {
            "line": {
             "colorbar": {
              "outlinewidth": 0,
              "ticks": ""
             }
            },
            "type": "parcoords"
           }
          ],
          "pie": [
           {
            "automargin": true,
            "type": "pie"
           }
          ],
          "scatter": [
           {
            "marker": {
             "colorbar": {
              "outlinewidth": 0,
              "ticks": ""
             }
            },
            "type": "scatter"
           }
          ],
          "scatter3d": [
           {
            "line": {
             "colorbar": {
              "outlinewidth": 0,
              "ticks": ""
             }
            },
            "marker": {
             "colorbar": {
              "outlinewidth": 0,
              "ticks": ""
             }
            },
            "type": "scatter3d"
           }
          ],
          "scattercarpet": [
           {
            "marker": {
             "colorbar": {
              "outlinewidth": 0,
              "ticks": ""
             }
            },
            "type": "scattercarpet"
           }
          ],
          "scattergeo": [
           {
            "marker": {
             "colorbar": {
              "outlinewidth": 0,
              "ticks": ""
             }
            },
            "type": "scattergeo"
           }
          ],
          "scattergl": [
           {
            "marker": {
             "colorbar": {
              "outlinewidth": 0,
              "ticks": ""
             }
            },
            "type": "scattergl"
           }
          ],
          "scattermapbox": [
           {
            "marker": {
             "colorbar": {
              "outlinewidth": 0,
              "ticks": ""
             }
            },
            "type": "scattermapbox"
           }
          ],
          "scatterpolar": [
           {
            "marker": {
             "colorbar": {
              "outlinewidth": 0,
              "ticks": ""
             }
            },
            "type": "scatterpolar"
           }
          ],
          "scatterpolargl": [
           {
            "marker": {
             "colorbar": {
              "outlinewidth": 0,
              "ticks": ""
             }
            },
            "type": "scatterpolargl"
           }
          ],
          "scatterternary": [
           {
            "marker": {
             "colorbar": {
              "outlinewidth": 0,
              "ticks": ""
             }
            },
            "type": "scatterternary"
           }
          ],
          "surface": [
           {
            "colorbar": {
             "outlinewidth": 0,
             "ticks": ""
            },
            "colorscale": [
             [
              0,
              "#0d0887"
             ],
             [
              0.1111111111111111,
              "#46039f"
             ],
             [
              0.2222222222222222,
              "#7201a8"
             ],
             [
              0.3333333333333333,
              "#9c179e"
             ],
             [
              0.4444444444444444,
              "#bd3786"
             ],
             [
              0.5555555555555556,
              "#d8576b"
             ],
             [
              0.6666666666666666,
              "#ed7953"
             ],
             [
              0.7777777777777778,
              "#fb9f3a"
             ],
             [
              0.8888888888888888,
              "#fdca26"
             ],
             [
              1,
              "#f0f921"
             ]
            ],
            "type": "surface"
           }
          ],
          "table": [
           {
            "cells": {
             "fill": {
              "color": "#EBF0F8"
             },
             "line": {
              "color": "white"
             }
            },
            "header": {
             "fill": {
              "color": "#C8D4E3"
             },
             "line": {
              "color": "white"
             }
            },
            "type": "table"
           }
          ]
         },
         "layout": {
          "annotationdefaults": {
           "arrowcolor": "#2a3f5f",
           "arrowhead": 0,
           "arrowwidth": 1
          },
          "coloraxis": {
           "colorbar": {
            "outlinewidth": 0,
            "ticks": ""
           }
          },
          "colorscale": {
           "diverging": [
            [
             0,
             "#8e0152"
            ],
            [
             0.1,
             "#c51b7d"
            ],
            [
             0.2,
             "#de77ae"
            ],
            [
             0.3,
             "#f1b6da"
            ],
            [
             0.4,
             "#fde0ef"
            ],
            [
             0.5,
             "#f7f7f7"
            ],
            [
             0.6,
             "#e6f5d0"
            ],
            [
             0.7,
             "#b8e186"
            ],
            [
             0.8,
             "#7fbc41"
            ],
            [
             0.9,
             "#4d9221"
            ],
            [
             1,
             "#276419"
            ]
           ],
           "sequential": [
            [
             0,
             "#0d0887"
            ],
            [
             0.1111111111111111,
             "#46039f"
            ],
            [
             0.2222222222222222,
             "#7201a8"
            ],
            [
             0.3333333333333333,
             "#9c179e"
            ],
            [
             0.4444444444444444,
             "#bd3786"
            ],
            [
             0.5555555555555556,
             "#d8576b"
            ],
            [
             0.6666666666666666,
             "#ed7953"
            ],
            [
             0.7777777777777778,
             "#fb9f3a"
            ],
            [
             0.8888888888888888,
             "#fdca26"
            ],
            [
             1,
             "#f0f921"
            ]
           ],
           "sequentialminus": [
            [
             0,
             "#0d0887"
            ],
            [
             0.1111111111111111,
             "#46039f"
            ],
            [
             0.2222222222222222,
             "#7201a8"
            ],
            [
             0.3333333333333333,
             "#9c179e"
            ],
            [
             0.4444444444444444,
             "#bd3786"
            ],
            [
             0.5555555555555556,
             "#d8576b"
            ],
            [
             0.6666666666666666,
             "#ed7953"
            ],
            [
             0.7777777777777778,
             "#fb9f3a"
            ],
            [
             0.8888888888888888,
             "#fdca26"
            ],
            [
             1,
             "#f0f921"
            ]
           ]
          },
          "colorway": [
           "#636efa",
           "#EF553B",
           "#00cc96",
           "#ab63fa",
           "#FFA15A",
           "#19d3f3",
           "#FF6692",
           "#B6E880",
           "#FF97FF",
           "#FECB52"
          ],
          "font": {
           "color": "#2a3f5f"
          },
          "geo": {
           "bgcolor": "white",
           "lakecolor": "white",
           "landcolor": "#E5ECF6",
           "showlakes": true,
           "showland": true,
           "subunitcolor": "white"
          },
          "hoverlabel": {
           "align": "left"
          },
          "hovermode": "closest",
          "mapbox": {
           "style": "light"
          },
          "paper_bgcolor": "white",
          "plot_bgcolor": "#E5ECF6",
          "polar": {
           "angularaxis": {
            "gridcolor": "white",
            "linecolor": "white",
            "ticks": ""
           },
           "bgcolor": "#E5ECF6",
           "radialaxis": {
            "gridcolor": "white",
            "linecolor": "white",
            "ticks": ""
           }
          },
          "scene": {
           "xaxis": {
            "backgroundcolor": "#E5ECF6",
            "gridcolor": "white",
            "gridwidth": 2,
            "linecolor": "white",
            "showbackground": true,
            "ticks": "",
            "zerolinecolor": "white"
           },
           "yaxis": {
            "backgroundcolor": "#E5ECF6",
            "gridcolor": "white",
            "gridwidth": 2,
            "linecolor": "white",
            "showbackground": true,
            "ticks": "",
            "zerolinecolor": "white"
           },
           "zaxis": {
            "backgroundcolor": "#E5ECF6",
            "gridcolor": "white",
            "gridwidth": 2,
            "linecolor": "white",
            "showbackground": true,
            "ticks": "",
            "zerolinecolor": "white"
           }
          },
          "shapedefaults": {
           "line": {
            "color": "#2a3f5f"
           }
          },
          "ternary": {
           "aaxis": {
            "gridcolor": "white",
            "linecolor": "white",
            "ticks": ""
           },
           "baxis": {
            "gridcolor": "white",
            "linecolor": "white",
            "ticks": ""
           },
           "bgcolor": "#E5ECF6",
           "caxis": {
            "gridcolor": "white",
            "linecolor": "white",
            "ticks": ""
           }
          },
          "title": {
           "x": 0.05
          },
          "xaxis": {
           "automargin": true,
           "gridcolor": "white",
           "linecolor": "white",
           "ticks": "",
           "title": {
            "standoff": 15
           },
           "zerolinecolor": "white",
           "zerolinewidth": 2
          },
          "yaxis": {
           "automargin": true,
           "gridcolor": "white",
           "linecolor": "white",
           "ticks": "",
           "title": {
            "standoff": 15
           },
           "zerolinecolor": "white",
           "zerolinewidth": 2
          }
         }
        },
        "title": {
         "font": {
          "color": "#4D5663"
         }
        },
        "xaxis": {
         "gridcolor": "#E1E5ED",
         "showgrid": true,
         "tickfont": {
          "color": "#4D5663"
         },
         "title": {
          "font": {
           "color": "#4D5663"
          },
          "text": ""
         },
         "zerolinecolor": "#E1E5ED"
        },
        "yaxis": {
         "gridcolor": "#E1E5ED",
         "showgrid": true,
         "tickfont": {
          "color": "#4D5663"
         },
         "title": {
          "font": {
           "color": "#4D5663"
          },
          "text": ""
         },
         "zerolinecolor": "#E1E5ED"
        }
       }
      },
      "text/html": [
       "<div>\n",
       "        \n",
       "        \n",
       "            <div id=\"4d2921a8-48bb-49b9-ba2b-72a9c719ab42\" class=\"plotly-graph-div\" style=\"height:525px; width:100%;\"></div>\n",
       "            <script type=\"text/javascript\">\n",
       "                require([\"plotly\"], function(Plotly) {\n",
       "                    window.PLOTLYENV=window.PLOTLYENV || {};\n",
       "                    window.PLOTLYENV.BASE_URL='https://plot.ly';\n",
       "                    \n",
       "                if (document.getElementById(\"4d2921a8-48bb-49b9-ba2b-72a9c719ab42\")) {\n",
       "                    Plotly.newPlot(\n",
       "                        '4d2921a8-48bb-49b9-ba2b-72a9c719ab42',\n",
       "                        [{\"line\": {\"color\": \"rgba(255, 153, 51, 1.0)\", \"dash\": \"solid\", \"shape\": \"linear\", \"width\": 1.3}, \"mode\": \"lines\", \"name\": \"A\", \"text\": \"\", \"type\": \"scatter\", \"x\": [0, 1, 2, 3, 4, 5, 6, 7, 8, 9, 10, 11, 12, 13, 14, 15, 16, 17, 18, 19, 20, 21, 22, 23, 24, 25, 26, 27, 28, 29, 30, 31, 32, 33, 34, 35, 36, 37, 38, 39, 40, 41, 42, 43, 44, 45, 46, 47, 48, 49, 50, 51, 52, 53, 54, 55, 56, 57, 58, 59, 60, 61, 62, 63, 64, 65, 66, 67, 68, 69, 70, 71, 72, 73, 74, 75, 76, 77, 78, 79, 80, 81, 82, 83, 84, 85, 86, 87, 88, 89, 90, 91, 92, 93, 94, 95, 96, 97, 98, 99], \"y\": [1.1512230023350842, 0.5937526750523903, 1.1716367236782756, 0.8269571176879866, 2.846496561329228, 4.0872008228388665, 3.683349339831784, 4.282207044791669, 1.9495260849779368, 2.5541875778107856, 3.894396558094329, 2.9409791814864494, 1.5880067672847993, 1.390215921656779, 0.11859401390322022, -0.24437958460563158, -0.24816124939587447, -0.8860032468902985, -1.3251501978939673, -1.4100100165536065, -0.15606797880453693, 0.7609659984439421, 1.442510989450118, 1.9278911483389916, 1.7087585510444625, 1.637453532747898, 1.1553669925126588, 1.6795339636599245, 2.155696953809199, 1.7033825330726404, 0.35574610255305084, 1.9802511103294742, 1.6305798969105634, 2.6543734696918406, 3.3897607958032125, 2.337590827899989, 2.154997346889418, 1.7945303540594812, 2.2287306216436993, 3.1198798491536803, 4.033307348897585, 3.839937919827577, 3.3100667988440113, 5.108714788198949, 4.186569198992858, 3.37778889587593, 1.8994482556812038, 1.679150446965804, 0.4207794096601494, 1.3422292823949966, 2.11773127802842, 3.43924151233675, 3.8931574708725343, 5.016650713676459, 4.567205974880413, 5.998766158938093, 5.416637751498833, 6.6270932615815825, 7.029204362215022, 6.527728669530853, 7.723456112680852, 8.348559777595659, 7.659490197522338, 8.088953311872775, 7.468344249932313, 7.069545765849762, 7.586841263267809, 8.01113870936809, 9.188499632809375, 9.002102264717825, 9.170442705251691, 8.57284308097231, 8.483356457608233, 9.333255536074141, 10.022219166390043, 8.530501679116039, 8.283655666345117, 9.106850394759046, 8.623517239736024, 8.22172104590107, 7.678748170611917, 7.001243509789908, 7.379080030772671, 8.400621969011151, 8.891962399116913, 7.877390983812698, 8.385482323874825, 6.837677462685244, 8.105133512818025, 7.9150554184447826, 9.177963395925351, 8.303446502251944, 6.587056362357352, 8.392712895380738, 8.38875194369083, 6.965570475132045, 8.40868111023596, 8.748187003347319, 10.376512489990024, 12.883516987954069]}, {\"line\": {\"color\": \"rgba(55, 128, 191, 1.0)\", \"dash\": \"solid\", \"shape\": \"linear\", \"width\": 1.3}, \"mode\": \"lines\", \"name\": \"B\", \"text\": \"\", \"type\": \"scatter\", \"x\": [0, 1, 2, 3, 4, 5, 6, 7, 8, 9, 10, 11, 12, 13, 14, 15, 16, 17, 18, 19, 20, 21, 22, 23, 24, 25, 26, 27, 28, 29, 30, 31, 32, 33, 34, 35, 36, 37, 38, 39, 40, 41, 42, 43, 44, 45, 46, 47, 48, 49, 50, 51, 52, 53, 54, 55, 56, 57, 58, 59, 60, 61, 62, 63, 64, 65, 66, 67, 68, 69, 70, 71, 72, 73, 74, 75, 76, 77, 78, 79, 80, 81, 82, 83, 84, 85, 86, 87, 88, 89, 90, 91, 92, 93, 94, 95, 96, 97, 98, 99], \"y\": [-0.788987503239302, -1.3312460093671947, -0.34201337372834384, -1.288156817573145, -1.3821860367374614, -1.5814346869838678, -0.7223752940507655, -1.631567795233385, -0.13587571212780292, -1.7477160840874173, -2.2117305984906173, -3.618731230802925, -2.516507979691619, -3.3966186482734098, -3.5164432601622724, -3.321581340627635, -4.832895855353339, -5.531990282879623, -5.628784611373114, -6.351499065995507, -7.4858129609155, -7.151883025320187, -7.7824560368143345, -8.564844614801839, -8.797266529972896, -9.124963508867161, -7.611263694016841, -7.332646082877629, -7.232723983006403, -7.197910978117502, -8.93652886233398, -8.115801192345184, -7.434721684432992, -7.694434057136889, -8.57355625507616, -7.859485617734068, -8.3805627986908, -7.917615205438917, -7.873579986559333, -6.929521713688943, -7.014435415935212, -7.387792936927619, -6.50182003303976, -7.9480933998150265, -6.827283214053642, -7.050925738136994, -8.145360080301835, -8.321224878845564, -8.845377624642921, -8.147277453518884, -9.557175141232696, -9.444448592098361, -9.079266681654039, -7.888154418484095, -8.181418654164618, -8.237309118599772, -7.809682354107494, -6.896112714226113, -7.458574732395615, -7.315021184743999, -6.324051288363124, -5.986679401123715, -6.212832502822198, -4.591362542347308, -6.457739819687097, -5.195588485206947, -5.693937645155026, -5.379903538755365, -5.234895046178644, -2.2455430848404205, -1.836272301017173, -1.967095790099813, -0.8088759334614046, -1.0856810726088315, -0.5424317414532737, -1.4409694167927793, -1.5230756560294616, -1.5576261590118021, -1.3707836926893229, -2.9662892259016136, -4.880732382883591, -5.2802247165473055, -5.9516986949187425, -6.709661846517803, -6.869725653098986, -5.960836373302565, -5.153837604895094, -4.099809527136008, -5.088428696420075, -4.145846558402646, -3.273006972966011, -5.453453839443247, -5.033047577870034, -5.835827699506133, -6.858567950230039, -5.739621965598728, -5.470510099884442, -6.301761996608046, -6.741955697108257, -8.053974894759365]}, {\"line\": {\"color\": \"rgba(50, 171, 96, 1.0)\", \"dash\": \"solid\", \"shape\": \"linear\", \"width\": 1.3}, \"mode\": \"lines\", \"name\": \"C\", \"text\": \"\", \"type\": \"scatter\", \"x\": [0, 1, 2, 3, 4, 5, 6, 7, 8, 9, 10, 11, 12, 13, 14, 15, 16, 17, 18, 19, 20, 21, 22, 23, 24, 25, 26, 27, 28, 29, 30, 31, 32, 33, 34, 35, 36, 37, 38, 39, 40, 41, 42, 43, 44, 45, 46, 47, 48, 49, 50, 51, 52, 53, 54, 55, 56, 57, 58, 59, 60, 61, 62, 63, 64, 65, 66, 67, 68, 69, 70, 71, 72, 73, 74, 75, 76, 77, 78, 79, 80, 81, 82, 83, 84, 85, 86, 87, 88, 89, 90, 91, 92, 93, 94, 95, 96, 97, 98, 99], \"y\": [-0.504190109711075, 1.0970996499497323, -1.3044619385880312, -1.0802179902697024, -0.9657013784490868, -3.0022930872141314, -3.261571129875377, -1.3418575204857197, -0.4339591122493295, 1.0899792464726246, 2.3733702924034974, 0.8907852596089743, -0.31771308476639537, -0.28020280017838567, 1.1313237687366473, 1.2667989262440926, -0.0013387813117875513, 1.1526407897628221, 0.22889319513132134, -0.21462891141936158, 0.3849939130460155, 0.18237812715368584, 0.0791901400683177, -0.5894589296156094, -2.100562888964074, -1.8666874553072628, 0.07524795131314366, -0.7724496823827243, -3.04674316882452, -0.37474837751436585, -0.8861097573849163, -0.7903577498384278, -0.5475788599166017, 1.0780517508614693, 0.22307874285137763, 0.42604008905462726, 1.3854242884503163, 3.3314312671527744, 3.737002663165806, 3.09732680751647, 2.2457686711308433, 2.033953293023691, 1.474956780976128, 1.4238070022311877, 2.4087882666827793, 1.435926796426, 0.38214651577071157, -1.3978896485731764, -3.430091120970916, -3.7461892146576536, -4.246566879204146, -3.4533053218584477, -2.904318687510421, -3.3114637397712516, -2.2057372626666867, -1.0591660595089114, -0.18948585517933114, -1.667233643344555, -2.2097082316364967, -1.8083407028116678, -2.852405964751438, -3.0412393609374977, -2.8210005682116073, -3.6541022786533883, -3.0225135082592365, -3.5256276194881826, -4.0922313940034005, -3.3383267603754545, -2.0968165252846473, -0.9239986691273689, -2.3844188215795272, -4.320439502873656, -5.793618793895552, -5.0394149837988165, -4.65645799701306, -4.611135829934338, -5.103141306854874, -6.098197223281637, -5.843303574680287, -7.459759459341367, -7.694139150768777, -7.799768772956855, -8.960840355000252, -10.160443536406067, -10.79862469065776, -10.558828993010374, -9.695948674503272, -9.763668550742363, -10.183932355313882, -10.282339283152742, -9.651527566337467, -9.814428486125665, -9.161633111250616, -10.126720125349202, -9.986813851476526, -9.00420012773933, -10.05476649308746, -9.8512567122335, -8.972378707192906, -11.196828200421969]}],\n",
       "                        {\"legend\": {\"bgcolor\": \"#FFFFFF\", \"font\": {\"color\": \"#4D5663\"}}, \"paper_bgcolor\": \"#FFFFFF\", \"plot_bgcolor\": \"#FFFFFF\", \"template\": {\"data\": {\"bar\": [{\"error_x\": {\"color\": \"#2a3f5f\"}, \"error_y\": {\"color\": \"#2a3f5f\"}, \"marker\": {\"line\": {\"color\": \"#E5ECF6\", \"width\": 0.5}}, \"type\": \"bar\"}], \"barpolar\": [{\"marker\": {\"line\": {\"color\": \"#E5ECF6\", \"width\": 0.5}}, \"type\": \"barpolar\"}], \"carpet\": [{\"aaxis\": {\"endlinecolor\": \"#2a3f5f\", \"gridcolor\": \"white\", \"linecolor\": \"white\", \"minorgridcolor\": \"white\", \"startlinecolor\": \"#2a3f5f\"}, \"baxis\": {\"endlinecolor\": \"#2a3f5f\", \"gridcolor\": \"white\", \"linecolor\": \"white\", \"minorgridcolor\": \"white\", \"startlinecolor\": \"#2a3f5f\"}, \"type\": \"carpet\"}], \"choropleth\": [{\"colorbar\": {\"outlinewidth\": 0, \"ticks\": \"\"}, \"type\": \"choropleth\"}], \"contour\": [{\"colorbar\": {\"outlinewidth\": 0, \"ticks\": \"\"}, \"colorscale\": [[0.0, \"#0d0887\"], [0.1111111111111111, \"#46039f\"], [0.2222222222222222, \"#7201a8\"], [0.3333333333333333, \"#9c179e\"], [0.4444444444444444, \"#bd3786\"], [0.5555555555555556, \"#d8576b\"], [0.6666666666666666, \"#ed7953\"], [0.7777777777777778, \"#fb9f3a\"], [0.8888888888888888, \"#fdca26\"], [1.0, \"#f0f921\"]], \"type\": \"contour\"}], \"contourcarpet\": [{\"colorbar\": {\"outlinewidth\": 0, \"ticks\": \"\"}, \"type\": \"contourcarpet\"}], \"heatmap\": [{\"colorbar\": {\"outlinewidth\": 0, \"ticks\": \"\"}, \"colorscale\": [[0.0, \"#0d0887\"], [0.1111111111111111, \"#46039f\"], [0.2222222222222222, \"#7201a8\"], [0.3333333333333333, \"#9c179e\"], [0.4444444444444444, \"#bd3786\"], [0.5555555555555556, \"#d8576b\"], [0.6666666666666666, \"#ed7953\"], [0.7777777777777778, \"#fb9f3a\"], [0.8888888888888888, \"#fdca26\"], [1.0, \"#f0f921\"]], \"type\": \"heatmap\"}], \"heatmapgl\": [{\"colorbar\": {\"outlinewidth\": 0, \"ticks\": \"\"}, \"colorscale\": [[0.0, \"#0d0887\"], [0.1111111111111111, \"#46039f\"], [0.2222222222222222, \"#7201a8\"], [0.3333333333333333, \"#9c179e\"], [0.4444444444444444, \"#bd3786\"], [0.5555555555555556, \"#d8576b\"], [0.6666666666666666, \"#ed7953\"], [0.7777777777777778, \"#fb9f3a\"], [0.8888888888888888, \"#fdca26\"], [1.0, \"#f0f921\"]], \"type\": \"heatmapgl\"}], \"histogram\": [{\"marker\": {\"colorbar\": {\"outlinewidth\": 0, \"ticks\": \"\"}}, \"type\": \"histogram\"}], \"histogram2d\": [{\"colorbar\": {\"outlinewidth\": 0, \"ticks\": \"\"}, \"colorscale\": [[0.0, \"#0d0887\"], [0.1111111111111111, \"#46039f\"], [0.2222222222222222, \"#7201a8\"], [0.3333333333333333, \"#9c179e\"], [0.4444444444444444, \"#bd3786\"], [0.5555555555555556, \"#d8576b\"], [0.6666666666666666, \"#ed7953\"], [0.7777777777777778, \"#fb9f3a\"], [0.8888888888888888, \"#fdca26\"], [1.0, \"#f0f921\"]], \"type\": \"histogram2d\"}], \"histogram2dcontour\": [{\"colorbar\": {\"outlinewidth\": 0, \"ticks\": \"\"}, \"colorscale\": [[0.0, \"#0d0887\"], [0.1111111111111111, \"#46039f\"], [0.2222222222222222, \"#7201a8\"], [0.3333333333333333, \"#9c179e\"], [0.4444444444444444, \"#bd3786\"], [0.5555555555555556, \"#d8576b\"], [0.6666666666666666, \"#ed7953\"], [0.7777777777777778, \"#fb9f3a\"], [0.8888888888888888, \"#fdca26\"], [1.0, \"#f0f921\"]], \"type\": \"histogram2dcontour\"}], \"mesh3d\": [{\"colorbar\": {\"outlinewidth\": 0, \"ticks\": \"\"}, \"type\": \"mesh3d\"}], \"parcoords\": [{\"line\": {\"colorbar\": {\"outlinewidth\": 0, \"ticks\": \"\"}}, \"type\": \"parcoords\"}], \"pie\": [{\"automargin\": true, \"type\": \"pie\"}], \"scatter\": [{\"marker\": {\"colorbar\": {\"outlinewidth\": 0, \"ticks\": \"\"}}, \"type\": \"scatter\"}], \"scatter3d\": [{\"line\": {\"colorbar\": {\"outlinewidth\": 0, \"ticks\": \"\"}}, \"marker\": {\"colorbar\": {\"outlinewidth\": 0, \"ticks\": \"\"}}, \"type\": \"scatter3d\"}], \"scattercarpet\": [{\"marker\": {\"colorbar\": {\"outlinewidth\": 0, \"ticks\": \"\"}}, \"type\": \"scattercarpet\"}], \"scattergeo\": [{\"marker\": {\"colorbar\": {\"outlinewidth\": 0, \"ticks\": \"\"}}, \"type\": \"scattergeo\"}], \"scattergl\": [{\"marker\": {\"colorbar\": {\"outlinewidth\": 0, \"ticks\": \"\"}}, \"type\": \"scattergl\"}], \"scattermapbox\": [{\"marker\": {\"colorbar\": {\"outlinewidth\": 0, \"ticks\": \"\"}}, \"type\": \"scattermapbox\"}], \"scatterpolar\": [{\"marker\": {\"colorbar\": {\"outlinewidth\": 0, \"ticks\": \"\"}}, \"type\": \"scatterpolar\"}], \"scatterpolargl\": [{\"marker\": {\"colorbar\": {\"outlinewidth\": 0, \"ticks\": \"\"}}, \"type\": \"scatterpolargl\"}], \"scatterternary\": [{\"marker\": {\"colorbar\": {\"outlinewidth\": 0, \"ticks\": \"\"}}, \"type\": \"scatterternary\"}], \"surface\": [{\"colorbar\": {\"outlinewidth\": 0, \"ticks\": \"\"}, \"colorscale\": [[0.0, \"#0d0887\"], [0.1111111111111111, \"#46039f\"], [0.2222222222222222, \"#7201a8\"], [0.3333333333333333, \"#9c179e\"], [0.4444444444444444, \"#bd3786\"], [0.5555555555555556, \"#d8576b\"], [0.6666666666666666, \"#ed7953\"], [0.7777777777777778, \"#fb9f3a\"], [0.8888888888888888, \"#fdca26\"], [1.0, \"#f0f921\"]], \"type\": \"surface\"}], \"table\": [{\"cells\": {\"fill\": {\"color\": \"#EBF0F8\"}, \"line\": {\"color\": \"white\"}}, \"header\": {\"fill\": {\"color\": \"#C8D4E3\"}, \"line\": {\"color\": \"white\"}}, \"type\": \"table\"}]}, \"layout\": {\"annotationdefaults\": {\"arrowcolor\": \"#2a3f5f\", \"arrowhead\": 0, \"arrowwidth\": 1}, \"coloraxis\": {\"colorbar\": {\"outlinewidth\": 0, \"ticks\": \"\"}}, \"colorscale\": {\"diverging\": [[0, \"#8e0152\"], [0.1, \"#c51b7d\"], [0.2, \"#de77ae\"], [0.3, \"#f1b6da\"], [0.4, \"#fde0ef\"], [0.5, \"#f7f7f7\"], [0.6, \"#e6f5d0\"], [0.7, \"#b8e186\"], [0.8, \"#7fbc41\"], [0.9, \"#4d9221\"], [1, \"#276419\"]], \"sequential\": [[0.0, \"#0d0887\"], [0.1111111111111111, \"#46039f\"], [0.2222222222222222, \"#7201a8\"], [0.3333333333333333, \"#9c179e\"], [0.4444444444444444, \"#bd3786\"], [0.5555555555555556, \"#d8576b\"], [0.6666666666666666, \"#ed7953\"], [0.7777777777777778, \"#fb9f3a\"], [0.8888888888888888, \"#fdca26\"], [1.0, \"#f0f921\"]], \"sequentialminus\": [[0.0, \"#0d0887\"], [0.1111111111111111, \"#46039f\"], [0.2222222222222222, \"#7201a8\"], [0.3333333333333333, \"#9c179e\"], [0.4444444444444444, \"#bd3786\"], [0.5555555555555556, \"#d8576b\"], [0.6666666666666666, \"#ed7953\"], [0.7777777777777778, \"#fb9f3a\"], [0.8888888888888888, \"#fdca26\"], [1.0, \"#f0f921\"]]}, \"colorway\": [\"#636efa\", \"#EF553B\", \"#00cc96\", \"#ab63fa\", \"#FFA15A\", \"#19d3f3\", \"#FF6692\", \"#B6E880\", \"#FF97FF\", \"#FECB52\"], \"font\": {\"color\": \"#2a3f5f\"}, \"geo\": {\"bgcolor\": \"white\", \"lakecolor\": \"white\", \"landcolor\": \"#E5ECF6\", \"showlakes\": true, \"showland\": true, \"subunitcolor\": \"white\"}, \"hoverlabel\": {\"align\": \"left\"}, \"hovermode\": \"closest\", \"mapbox\": {\"style\": \"light\"}, \"paper_bgcolor\": \"white\", \"plot_bgcolor\": \"#E5ECF6\", \"polar\": {\"angularaxis\": {\"gridcolor\": \"white\", \"linecolor\": \"white\", \"ticks\": \"\"}, \"bgcolor\": \"#E5ECF6\", \"radialaxis\": {\"gridcolor\": \"white\", \"linecolor\": \"white\", \"ticks\": \"\"}}, \"scene\": {\"xaxis\": {\"backgroundcolor\": \"#E5ECF6\", \"gridcolor\": \"white\", \"gridwidth\": 2, \"linecolor\": \"white\", \"showbackground\": true, \"ticks\": \"\", \"zerolinecolor\": \"white\"}, \"yaxis\": {\"backgroundcolor\": \"#E5ECF6\", \"gridcolor\": \"white\", \"gridwidth\": 2, \"linecolor\": \"white\", \"showbackground\": true, \"ticks\": \"\", \"zerolinecolor\": \"white\"}, \"zaxis\": {\"backgroundcolor\": \"#E5ECF6\", \"gridcolor\": \"white\", \"gridwidth\": 2, \"linecolor\": \"white\", \"showbackground\": true, \"ticks\": \"\", \"zerolinecolor\": \"white\"}}, \"shapedefaults\": {\"line\": {\"color\": \"#2a3f5f\"}}, \"ternary\": {\"aaxis\": {\"gridcolor\": \"white\", \"linecolor\": \"white\", \"ticks\": \"\"}, \"baxis\": {\"gridcolor\": \"white\", \"linecolor\": \"white\", \"ticks\": \"\"}, \"bgcolor\": \"#E5ECF6\", \"caxis\": {\"gridcolor\": \"white\", \"linecolor\": \"white\", \"ticks\": \"\"}}, \"title\": {\"x\": 0.05}, \"xaxis\": {\"automargin\": true, \"gridcolor\": \"white\", \"linecolor\": \"white\", \"ticks\": \"\", \"title\": {\"standoff\": 15}, \"zerolinecolor\": \"white\", \"zerolinewidth\": 2}, \"yaxis\": {\"automargin\": true, \"gridcolor\": \"white\", \"linecolor\": \"white\", \"ticks\": \"\", \"title\": {\"standoff\": 15}, \"zerolinecolor\": \"white\", \"zerolinewidth\": 2}}}, \"title\": {\"font\": {\"color\": \"#4D5663\"}}, \"xaxis\": {\"gridcolor\": \"#E1E5ED\", \"showgrid\": true, \"tickfont\": {\"color\": \"#4D5663\"}, \"title\": {\"font\": {\"color\": \"#4D5663\"}, \"text\": \"\"}, \"zerolinecolor\": \"#E1E5ED\"}, \"yaxis\": {\"gridcolor\": \"#E1E5ED\", \"showgrid\": true, \"tickfont\": {\"color\": \"#4D5663\"}, \"title\": {\"font\": {\"color\": \"#4D5663\"}, \"text\": \"\"}, \"zerolinecolor\": \"#E1E5ED\"}},\n",
       "                        {\"showLink\": true, \"linkText\": \"Export to plot.ly\", \"plotlyServerURL\": \"https://plot.ly\", \"responsive\": true}\n",
       "                    ).then(function(){\n",
       "                            \n",
       "var gd = document.getElementById('4d2921a8-48bb-49b9-ba2b-72a9c719ab42');\n",
       "var x = new MutationObserver(function (mutations, observer) {{\n",
       "        var display = window.getComputedStyle(gd).display;\n",
       "        if (!display || display === 'none') {{\n",
       "            console.log([gd, 'removed!']);\n",
       "            Plotly.purge(gd);\n",
       "            observer.disconnect();\n",
       "        }}\n",
       "}});\n",
       "\n",
       "// Listen for the removal of the full notebook cells\n",
       "var notebookContainer = gd.closest('#notebook-container');\n",
       "if (notebookContainer) {{\n",
       "    x.observe(notebookContainer, {childList: true});\n",
       "}}\n",
       "\n",
       "// Listen for the clearing of the current output cell\n",
       "var outputEl = gd.closest('.output');\n",
       "if (outputEl) {{\n",
       "    x.observe(outputEl, {childList: true});\n",
       "}}\n",
       "\n",
       "                        })\n",
       "                };\n",
       "                });\n",
       "            </script>\n",
       "        </div>"
      ]
     },
     "metadata": {},
     "output_type": "display_data"
    }
   ],
   "source": [
    "df.cumsum().iplot()"
   ]
  },
  {
   "cell_type": "code",
   "execution_count": 27,
   "metadata": {},
   "outputs": [
    {
     "data": {
      "application/vnd.plotly.v1+json": {
       "config": {
        "linkText": "Export to plot.ly",
        "plotlyServerURL": "https://plot.ly",
        "showLink": true
       },
       "data": [
        {
         "line": {
          "color": "rgba(255, 153, 51, 1.0)",
          "dash": "solid",
          "shape": "linear",
          "width": 1.3
         },
         "marker": {
          "size": 12,
          "symbol": "circle"
         },
         "mode": "markers",
         "name": "A",
         "text": "",
         "type": "scatter",
         "x": [
          0,
          1,
          2,
          3,
          4,
          5,
          6,
          7,
          8,
          9,
          10,
          11,
          12,
          13,
          14,
          15,
          16,
          17,
          18,
          19,
          20,
          21,
          22,
          23,
          24,
          25,
          26,
          27,
          28,
          29,
          30,
          31,
          32,
          33,
          34,
          35,
          36,
          37,
          38,
          39,
          40,
          41,
          42,
          43,
          44,
          45,
          46,
          47,
          48,
          49,
          50,
          51,
          52,
          53,
          54,
          55,
          56,
          57,
          58,
          59,
          60,
          61,
          62,
          63,
          64,
          65,
          66,
          67,
          68,
          69,
          70,
          71,
          72,
          73,
          74,
          75,
          76,
          77,
          78,
          79,
          80,
          81,
          82,
          83,
          84,
          85,
          86,
          87,
          88,
          89,
          90,
          91,
          92,
          93,
          94,
          95,
          96,
          97,
          98,
          99
         ],
         "y": [
          1.1512230023350842,
          -0.557470327282694,
          0.5778840486258854,
          -0.344679605990289,
          2.0195394436412415,
          1.2407042615096386,
          -0.40385148300708257,
          0.598857704959885,
          -2.332680959813732,
          0.604661492832849,
          1.3402089802835433,
          -0.9534173766078794,
          -1.3529724142016502,
          -0.1977908456280201,
          -1.2716219077535589,
          -0.3629735985088518,
          -0.0037816647902428908,
          -0.637841997494424,
          -0.43914695100366863,
          -0.08485981865963914,
          1.2539420377490695,
          0.917033977248479,
          0.6815449910061759,
          0.4853801588888736,
          -0.21913259729452908,
          -0.07130501829656434,
          -0.4820865402352392,
          0.5241669711472657,
          0.4761629901492746,
          -0.4523144207365586,
          -1.3476364305195896,
          1.6245050077764234,
          -0.3496712134189109,
          1.023793572781277,
          0.7353873261113719,
          -1.0521699679032233,
          -0.18259348101057116,
          -0.36046699282993677,
          0.43420026758421815,
          0.8911492275099812,
          0.9134274997439051,
          -0.1933694290700083,
          -0.5298711209835657,
          1.7986479893549372,
          -0.9221455892060905,
          -0.8087803031169282,
          -1.4783406401947263,
          -0.2202978087153998,
          -1.2583710373056547,
          0.9214498727348472,
          0.7755019956334234,
          1.32151023430833,
          0.4539159585357842,
          1.123493242803924,
          -0.44944473879604535,
          1.431560184057679,
          -0.58212840743926,
          1.2104555100827499,
          0.4021111006334402,
          -0.5014756926841697,
          1.1957274431499987,
          0.6251036649148064,
          -0.6890695800733205,
          0.4294631143504364,
          -0.6206090619404612,
          -0.3987984840825513,
          0.5172954974180466,
          0.4242974461002807,
          1.1773609234412852,
          -0.18639736809154978,
          0.1683404405338652,
          -0.5975996242793816,
          -0.08948662336407827,
          0.8498990784659077,
          0.6889636303159015,
          -1.491717487274004,
          -0.24684601277092116,
          0.8231947284139284,
          -0.4833331550230219,
          -0.4017961938349551,
          -0.5429728752891533,
          -0.6775046608220098,
          0.37783652098276266,
          1.0215419382384807,
          0.49134043010576145,
          -1.014571415304215,
          0.5080913400621264,
          -1.5478048611895807,
          1.2674560501327814,
          -0.19007809437324244,
          1.2629079774805692,
          -0.8745168936734076,
          -1.716390139894592,
          1.8056565330233856,
          -0.003960951689908947,
          -1.4231814685587842,
          1.443110635103916,
          0.33950589311135804,
          1.628325486642706,
          2.507004497964046
         ]
        },
        {
         "line": {
          "color": "rgba(55, 128, 191, 1.0)",
          "dash": "solid",
          "shape": "linear",
          "width": 1.3
         },
         "marker": {
          "size": 12,
          "symbol": "circle"
         },
         "mode": "markers",
         "name": "B",
         "text": "",
         "type": "scatter",
         "x": [
          0,
          1,
          2,
          3,
          4,
          5,
          6,
          7,
          8,
          9,
          10,
          11,
          12,
          13,
          14,
          15,
          16,
          17,
          18,
          19,
          20,
          21,
          22,
          23,
          24,
          25,
          26,
          27,
          28,
          29,
          30,
          31,
          32,
          33,
          34,
          35,
          36,
          37,
          38,
          39,
          40,
          41,
          42,
          43,
          44,
          45,
          46,
          47,
          48,
          49,
          50,
          51,
          52,
          53,
          54,
          55,
          56,
          57,
          58,
          59,
          60,
          61,
          62,
          63,
          64,
          65,
          66,
          67,
          68,
          69,
          70,
          71,
          72,
          73,
          74,
          75,
          76,
          77,
          78,
          79,
          80,
          81,
          82,
          83,
          84,
          85,
          86,
          87,
          88,
          89,
          90,
          91,
          92,
          93,
          94,
          95,
          96,
          97,
          98,
          99
         ],
         "y": [
          -0.788987503239302,
          -0.5422585061278927,
          0.9892326356388509,
          -0.9461434438448012,
          -0.09402921916431635,
          -0.19924865024640628,
          0.8590593929331023,
          -0.9091925011826195,
          1.495692083105582,
          -1.6118403719596144,
          -0.46401451440320013,
          -1.4070006323123079,
          1.1022232511113057,
          -0.8801106685817904,
          -0.11982461188886281,
          0.19486191953463708,
          -1.5113145147257037,
          -0.699094427526284,
          -0.09679432849349116,
          -0.7227144546223931,
          -1.134313894919993,
          0.3339299355953139,
          -0.6305730114941479,
          -0.7823885779875046,
          -0.23242191517105823,
          -0.327696978894264,
          1.5136998148503198,
          0.27861761113921285,
          0.09992209987122552,
          0.03481300488890165,
          -1.7386178842164774,
          0.8207276699887942,
          0.6810795079121932,
          -0.25971237270389763,
          -0.8791221979392699,
          0.7140706373420913,
          -0.5210771809567327,
          0.4629475932518827,
          0.04403521887958377,
          0.9440582728703901,
          -0.08491370224626968,
          -0.3733575209924074,
          0.8859729038878594,
          -1.4462733667752667,
          1.120810185761385,
          -0.22364252408335195,
          -1.0944343421648408,
          -0.1758647985437288,
          -0.5241527457973575,
          0.6981001711240383,
          -1.4098976877138127,
          0.11272654913433439,
          0.36518191044432197,
          1.1911122631699438,
          -0.2932642356805239,
          -0.05589046443515251,
          0.4276267644922778,
          0.9135696398813802,
          -0.5624620181695016,
          0.14355354765161582,
          0.9909698963808752,
          0.337371887239409,
          -0.2261531016984824,
          1.62146996047489,
          -1.8663772773397898,
          1.2621513344801494,
          -0.4983491599480794,
          0.31403410639966095,
          0.14500849257672144,
          2.9893519613382233,
          0.40927078382324755,
          -0.13082348908263977,
          1.1582198566384083,
          -0.2768051391474269,
          0.5432493311555578,
          -0.8985376753395058,
          -0.08210623923668232,
          -0.034550502982340484,
          0.18684246632247917,
          -1.5955055332122907,
          -1.9144431569819769,
          -0.3994923336637148,
          -0.6714739783714367,
          -0.7579631515990602,
          -0.160063806581183,
          0.9088892797964211,
          0.8069987684074711,
          1.0540280777590865,
          -0.9886191692840667,
          0.9425821380174294,
          0.8728395854366348,
          -2.1804468664772365,
          0.42040626157321276,
          -0.8027801216360984,
          -1.0227402507239063,
          1.1189459846313115,
          0.269111865714286,
          -0.831251896723604,
          -0.4401937005002115,
          -1.3120191976511089
         ]
        },
        {
         "line": {
          "color": "rgba(50, 171, 96, 1.0)",
          "dash": "solid",
          "shape": "linear",
          "width": 1.3
         },
         "marker": {
          "size": 12,
          "symbol": "circle"
         },
         "mode": "markers",
         "name": "C",
         "text": "",
         "type": "scatter",
         "x": [
          0,
          1,
          2,
          3,
          4,
          5,
          6,
          7,
          8,
          9,
          10,
          11,
          12,
          13,
          14,
          15,
          16,
          17,
          18,
          19,
          20,
          21,
          22,
          23,
          24,
          25,
          26,
          27,
          28,
          29,
          30,
          31,
          32,
          33,
          34,
          35,
          36,
          37,
          38,
          39,
          40,
          41,
          42,
          43,
          44,
          45,
          46,
          47,
          48,
          49,
          50,
          51,
          52,
          53,
          54,
          55,
          56,
          57,
          58,
          59,
          60,
          61,
          62,
          63,
          64,
          65,
          66,
          67,
          68,
          69,
          70,
          71,
          72,
          73,
          74,
          75,
          76,
          77,
          78,
          79,
          80,
          81,
          82,
          83,
          84,
          85,
          86,
          87,
          88,
          89,
          90,
          91,
          92,
          93,
          94,
          95,
          96,
          97,
          98,
          99
         ],
         "y": [
          -0.504190109711075,
          1.6012897596608073,
          -2.4015615885377635,
          0.22424394831832875,
          0.11451661182061569,
          -2.0365917087650445,
          -0.2592780426612458,
          1.9197136093896574,
          0.9078984082363902,
          1.5239383587219542,
          1.283391045930873,
          -1.4825850327945231,
          -1.2084983443753696,
          0.03751028458800968,
          1.411526568915033,
          0.13547515750744535,
          -1.2681377075558802,
          1.1539795710746097,
          -0.9237475946315008,
          -0.4435221065506829,
          0.5996228244653771,
          -0.20261578589232965,
          -0.10318798708536814,
          -0.6686490696839271,
          -1.5111039593484648,
          0.23387543365681107,
          1.9419354066204064,
          -0.8476976336958679,
          -2.2742934864417954,
          2.671994791310154,
          -0.5113613798705504,
          0.09575200754648848,
          0.24277888992182603,
          1.625630610778071,
          -0.8549730080100917,
          0.20296134620324963,
          0.9593841993956891,
          1.946006978702458,
          0.40557139601303205,
          -0.6396758556493364,
          -0.8515581363856267,
          -0.21181537810715237,
          -0.558996512047563,
          -0.05114977874494024,
          0.9849812644515917,
          -0.9728614702567793,
          -1.0537802806552885,
          -1.780036164343888,
          -2.0322014723977397,
          -0.31609809368673764,
          -0.500377664546493,
          0.7932615573456987,
          0.5489866343480266,
          -0.40714505226083064,
          1.105726477104565,
          1.1465712031577753,
          0.8696802043295803,
          -1.477747788165224,
          -0.542474588291942,
          0.4013675288248289,
          -1.0440652619397701,
          -0.18883339618605968,
          0.22023879272589045,
          -0.8331017104417808,
          0.631588770394152,
          -0.5031141112289463,
          -0.5666037745152175,
          0.7539046336279461,
          1.2415102350908072,
          1.1728178561572784,
          -1.4604201524521583,
          -1.9360206812941283,
          -1.473179291021896,
          0.7542038100967359,
          0.38295698678575607,
          0.04532216707872163,
          -0.4920054769205359,
          -0.995055916426763,
          0.25489364860134983,
          -1.61645588466108,
          -0.23437969142740975,
          -0.10562962218807836,
          -1.1610715820433977,
          -1.1996031814058148,
          -0.6381811542516939,
          0.2397956976473858,
          0.8628803185071027,
          -0.06771987623909129,
          -0.4202638045715199,
          -0.09840692783886096,
          0.6308117168152751,
          -0.16290091978819743,
          0.6527953748750503,
          -0.965087014098585,
          0.13990627387267512,
          0.9826137237371966,
          -1.0505663653481307,
          0.20350978085395932,
          0.8788780050405945,
          -2.2244494932290633
         ]
        }
       ],
       "layout": {
        "legend": {
         "bgcolor": "#FFFFFF",
         "font": {
          "color": "#4D5663"
         }
        },
        "paper_bgcolor": "#FFFFFF",
        "plot_bgcolor": "#FFFFFF",
        "template": {
         "data": {
          "bar": [
           {
            "error_x": {
             "color": "#2a3f5f"
            },
            "error_y": {
             "color": "#2a3f5f"
            },
            "marker": {
             "line": {
              "color": "#E5ECF6",
              "width": 0.5
             }
            },
            "type": "bar"
           }
          ],
          "barpolar": [
           {
            "marker": {
             "line": {
              "color": "#E5ECF6",
              "width": 0.5
             }
            },
            "type": "barpolar"
           }
          ],
          "carpet": [
           {
            "aaxis": {
             "endlinecolor": "#2a3f5f",
             "gridcolor": "white",
             "linecolor": "white",
             "minorgridcolor": "white",
             "startlinecolor": "#2a3f5f"
            },
            "baxis": {
             "endlinecolor": "#2a3f5f",
             "gridcolor": "white",
             "linecolor": "white",
             "minorgridcolor": "white",
             "startlinecolor": "#2a3f5f"
            },
            "type": "carpet"
           }
          ],
          "choropleth": [
           {
            "colorbar": {
             "outlinewidth": 0,
             "ticks": ""
            },
            "type": "choropleth"
           }
          ],
          "contour": [
           {
            "colorbar": {
             "outlinewidth": 0,
             "ticks": ""
            },
            "colorscale": [
             [
              0,
              "#0d0887"
             ],
             [
              0.1111111111111111,
              "#46039f"
             ],
             [
              0.2222222222222222,
              "#7201a8"
             ],
             [
              0.3333333333333333,
              "#9c179e"
             ],
             [
              0.4444444444444444,
              "#bd3786"
             ],
             [
              0.5555555555555556,
              "#d8576b"
             ],
             [
              0.6666666666666666,
              "#ed7953"
             ],
             [
              0.7777777777777778,
              "#fb9f3a"
             ],
             [
              0.8888888888888888,
              "#fdca26"
             ],
             [
              1,
              "#f0f921"
             ]
            ],
            "type": "contour"
           }
          ],
          "contourcarpet": [
           {
            "colorbar": {
             "outlinewidth": 0,
             "ticks": ""
            },
            "type": "contourcarpet"
           }
          ],
          "heatmap": [
           {
            "colorbar": {
             "outlinewidth": 0,
             "ticks": ""
            },
            "colorscale": [
             [
              0,
              "#0d0887"
             ],
             [
              0.1111111111111111,
              "#46039f"
             ],
             [
              0.2222222222222222,
              "#7201a8"
             ],
             [
              0.3333333333333333,
              "#9c179e"
             ],
             [
              0.4444444444444444,
              "#bd3786"
             ],
             [
              0.5555555555555556,
              "#d8576b"
             ],
             [
              0.6666666666666666,
              "#ed7953"
             ],
             [
              0.7777777777777778,
              "#fb9f3a"
             ],
             [
              0.8888888888888888,
              "#fdca26"
             ],
             [
              1,
              "#f0f921"
             ]
            ],
            "type": "heatmap"
           }
          ],
          "heatmapgl": [
           {
            "colorbar": {
             "outlinewidth": 0,
             "ticks": ""
            },
            "colorscale": [
             [
              0,
              "#0d0887"
             ],
             [
              0.1111111111111111,
              "#46039f"
             ],
             [
              0.2222222222222222,
              "#7201a8"
             ],
             [
              0.3333333333333333,
              "#9c179e"
             ],
             [
              0.4444444444444444,
              "#bd3786"
             ],
             [
              0.5555555555555556,
              "#d8576b"
             ],
             [
              0.6666666666666666,
              "#ed7953"
             ],
             [
              0.7777777777777778,
              "#fb9f3a"
             ],
             [
              0.8888888888888888,
              "#fdca26"
             ],
             [
              1,
              "#f0f921"
             ]
            ],
            "type": "heatmapgl"
           }
          ],
          "histogram": [
           {
            "marker": {
             "colorbar": {
              "outlinewidth": 0,
              "ticks": ""
             }
            },
            "type": "histogram"
           }
          ],
          "histogram2d": [
           {
            "colorbar": {
             "outlinewidth": 0,
             "ticks": ""
            },
            "colorscale": [
             [
              0,
              "#0d0887"
             ],
             [
              0.1111111111111111,
              "#46039f"
             ],
             [
              0.2222222222222222,
              "#7201a8"
             ],
             [
              0.3333333333333333,
              "#9c179e"
             ],
             [
              0.4444444444444444,
              "#bd3786"
             ],
             [
              0.5555555555555556,
              "#d8576b"
             ],
             [
              0.6666666666666666,
              "#ed7953"
             ],
             [
              0.7777777777777778,
              "#fb9f3a"
             ],
             [
              0.8888888888888888,
              "#fdca26"
             ],
             [
              1,
              "#f0f921"
             ]
            ],
            "type": "histogram2d"
           }
          ],
          "histogram2dcontour": [
           {
            "colorbar": {
             "outlinewidth": 0,
             "ticks": ""
            },
            "colorscale": [
             [
              0,
              "#0d0887"
             ],
             [
              0.1111111111111111,
              "#46039f"
             ],
             [
              0.2222222222222222,
              "#7201a8"
             ],
             [
              0.3333333333333333,
              "#9c179e"
             ],
             [
              0.4444444444444444,
              "#bd3786"
             ],
             [
              0.5555555555555556,
              "#d8576b"
             ],
             [
              0.6666666666666666,
              "#ed7953"
             ],
             [
              0.7777777777777778,
              "#fb9f3a"
             ],
             [
              0.8888888888888888,
              "#fdca26"
             ],
             [
              1,
              "#f0f921"
             ]
            ],
            "type": "histogram2dcontour"
           }
          ],
          "mesh3d": [
           {
            "colorbar": {
             "outlinewidth": 0,
             "ticks": ""
            },
            "type": "mesh3d"
           }
          ],
          "parcoords": [
           {
            "line": {
             "colorbar": {
              "outlinewidth": 0,
              "ticks": ""
             }
            },
            "type": "parcoords"
           }
          ],
          "pie": [
           {
            "automargin": true,
            "type": "pie"
           }
          ],
          "scatter": [
           {
            "marker": {
             "colorbar": {
              "outlinewidth": 0,
              "ticks": ""
             }
            },
            "type": "scatter"
           }
          ],
          "scatter3d": [
           {
            "line": {
             "colorbar": {
              "outlinewidth": 0,
              "ticks": ""
             }
            },
            "marker": {
             "colorbar": {
              "outlinewidth": 0,
              "ticks": ""
             }
            },
            "type": "scatter3d"
           }
          ],
          "scattercarpet": [
           {
            "marker": {
             "colorbar": {
              "outlinewidth": 0,
              "ticks": ""
             }
            },
            "type": "scattercarpet"
           }
          ],
          "scattergeo": [
           {
            "marker": {
             "colorbar": {
              "outlinewidth": 0,
              "ticks": ""
             }
            },
            "type": "scattergeo"
           }
          ],
          "scattergl": [
           {
            "marker": {
             "colorbar": {
              "outlinewidth": 0,
              "ticks": ""
             }
            },
            "type": "scattergl"
           }
          ],
          "scattermapbox": [
           {
            "marker": {
             "colorbar": {
              "outlinewidth": 0,
              "ticks": ""
             }
            },
            "type": "scattermapbox"
           }
          ],
          "scatterpolar": [
           {
            "marker": {
             "colorbar": {
              "outlinewidth": 0,
              "ticks": ""
             }
            },
            "type": "scatterpolar"
           }
          ],
          "scatterpolargl": [
           {
            "marker": {
             "colorbar": {
              "outlinewidth": 0,
              "ticks": ""
             }
            },
            "type": "scatterpolargl"
           }
          ],
          "scatterternary": [
           {
            "marker": {
             "colorbar": {
              "outlinewidth": 0,
              "ticks": ""
             }
            },
            "type": "scatterternary"
           }
          ],
          "surface": [
           {
            "colorbar": {
             "outlinewidth": 0,
             "ticks": ""
            },
            "colorscale": [
             [
              0,
              "#0d0887"
             ],
             [
              0.1111111111111111,
              "#46039f"
             ],
             [
              0.2222222222222222,
              "#7201a8"
             ],
             [
              0.3333333333333333,
              "#9c179e"
             ],
             [
              0.4444444444444444,
              "#bd3786"
             ],
             [
              0.5555555555555556,
              "#d8576b"
             ],
             [
              0.6666666666666666,
              "#ed7953"
             ],
             [
              0.7777777777777778,
              "#fb9f3a"
             ],
             [
              0.8888888888888888,
              "#fdca26"
             ],
             [
              1,
              "#f0f921"
             ]
            ],
            "type": "surface"
           }
          ],
          "table": [
           {
            "cells": {
             "fill": {
              "color": "#EBF0F8"
             },
             "line": {
              "color": "white"
             }
            },
            "header": {
             "fill": {
              "color": "#C8D4E3"
             },
             "line": {
              "color": "white"
             }
            },
            "type": "table"
           }
          ]
         },
         "layout": {
          "annotationdefaults": {
           "arrowcolor": "#2a3f5f",
           "arrowhead": 0,
           "arrowwidth": 1
          },
          "coloraxis": {
           "colorbar": {
            "outlinewidth": 0,
            "ticks": ""
           }
          },
          "colorscale": {
           "diverging": [
            [
             0,
             "#8e0152"
            ],
            [
             0.1,
             "#c51b7d"
            ],
            [
             0.2,
             "#de77ae"
            ],
            [
             0.3,
             "#f1b6da"
            ],
            [
             0.4,
             "#fde0ef"
            ],
            [
             0.5,
             "#f7f7f7"
            ],
            [
             0.6,
             "#e6f5d0"
            ],
            [
             0.7,
             "#b8e186"
            ],
            [
             0.8,
             "#7fbc41"
            ],
            [
             0.9,
             "#4d9221"
            ],
            [
             1,
             "#276419"
            ]
           ],
           "sequential": [
            [
             0,
             "#0d0887"
            ],
            [
             0.1111111111111111,
             "#46039f"
            ],
            [
             0.2222222222222222,
             "#7201a8"
            ],
            [
             0.3333333333333333,
             "#9c179e"
            ],
            [
             0.4444444444444444,
             "#bd3786"
            ],
            [
             0.5555555555555556,
             "#d8576b"
            ],
            [
             0.6666666666666666,
             "#ed7953"
            ],
            [
             0.7777777777777778,
             "#fb9f3a"
            ],
            [
             0.8888888888888888,
             "#fdca26"
            ],
            [
             1,
             "#f0f921"
            ]
           ],
           "sequentialminus": [
            [
             0,
             "#0d0887"
            ],
            [
             0.1111111111111111,
             "#46039f"
            ],
            [
             0.2222222222222222,
             "#7201a8"
            ],
            [
             0.3333333333333333,
             "#9c179e"
            ],
            [
             0.4444444444444444,
             "#bd3786"
            ],
            [
             0.5555555555555556,
             "#d8576b"
            ],
            [
             0.6666666666666666,
             "#ed7953"
            ],
            [
             0.7777777777777778,
             "#fb9f3a"
            ],
            [
             0.8888888888888888,
             "#fdca26"
            ],
            [
             1,
             "#f0f921"
            ]
           ]
          },
          "colorway": [
           "#636efa",
           "#EF553B",
           "#00cc96",
           "#ab63fa",
           "#FFA15A",
           "#19d3f3",
           "#FF6692",
           "#B6E880",
           "#FF97FF",
           "#FECB52"
          ],
          "font": {
           "color": "#2a3f5f"
          },
          "geo": {
           "bgcolor": "white",
           "lakecolor": "white",
           "landcolor": "#E5ECF6",
           "showlakes": true,
           "showland": true,
           "subunitcolor": "white"
          },
          "hoverlabel": {
           "align": "left"
          },
          "hovermode": "closest",
          "mapbox": {
           "style": "light"
          },
          "paper_bgcolor": "white",
          "plot_bgcolor": "#E5ECF6",
          "polar": {
           "angularaxis": {
            "gridcolor": "white",
            "linecolor": "white",
            "ticks": ""
           },
           "bgcolor": "#E5ECF6",
           "radialaxis": {
            "gridcolor": "white",
            "linecolor": "white",
            "ticks": ""
           }
          },
          "scene": {
           "xaxis": {
            "backgroundcolor": "#E5ECF6",
            "gridcolor": "white",
            "gridwidth": 2,
            "linecolor": "white",
            "showbackground": true,
            "ticks": "",
            "zerolinecolor": "white"
           },
           "yaxis": {
            "backgroundcolor": "#E5ECF6",
            "gridcolor": "white",
            "gridwidth": 2,
            "linecolor": "white",
            "showbackground": true,
            "ticks": "",
            "zerolinecolor": "white"
           },
           "zaxis": {
            "backgroundcolor": "#E5ECF6",
            "gridcolor": "white",
            "gridwidth": 2,
            "linecolor": "white",
            "showbackground": true,
            "ticks": "",
            "zerolinecolor": "white"
           }
          },
          "shapedefaults": {
           "line": {
            "color": "#2a3f5f"
           }
          },
          "ternary": {
           "aaxis": {
            "gridcolor": "white",
            "linecolor": "white",
            "ticks": ""
           },
           "baxis": {
            "gridcolor": "white",
            "linecolor": "white",
            "ticks": ""
           },
           "bgcolor": "#E5ECF6",
           "caxis": {
            "gridcolor": "white",
            "linecolor": "white",
            "ticks": ""
           }
          },
          "title": {
           "x": 0.05
          },
          "xaxis": {
           "automargin": true,
           "gridcolor": "white",
           "linecolor": "white",
           "ticks": "",
           "title": {
            "standoff": 15
           },
           "zerolinecolor": "white",
           "zerolinewidth": 2
          },
          "yaxis": {
           "automargin": true,
           "gridcolor": "white",
           "linecolor": "white",
           "ticks": "",
           "title": {
            "standoff": 15
           },
           "zerolinecolor": "white",
           "zerolinewidth": 2
          }
         }
        },
        "title": {
         "font": {
          "color": "#4D5663"
         }
        },
        "xaxis": {
         "gridcolor": "#E1E5ED",
         "showgrid": true,
         "tickfont": {
          "color": "#4D5663"
         },
         "title": {
          "font": {
           "color": "#4D5663"
          },
          "text": "x axis"
         },
         "zerolinecolor": "#E1E5ED"
        },
        "yaxis": {
         "gridcolor": "#E1E5ED",
         "showgrid": true,
         "tickfont": {
          "color": "#4D5663"
         },
         "title": {
          "font": {
           "color": "#4D5663"
          },
          "text": "y axis"
         },
         "zerolinecolor": "#E1E5ED"
        }
       }
      },
      "text/html": [
       "<div>\n",
       "        \n",
       "        \n",
       "            <div id=\"6a0e9d47-a5a6-4289-9745-fc3cf1b47b4f\" class=\"plotly-graph-div\" style=\"height:525px; width:100%;\"></div>\n",
       "            <script type=\"text/javascript\">\n",
       "                require([\"plotly\"], function(Plotly) {\n",
       "                    window.PLOTLYENV=window.PLOTLYENV || {};\n",
       "                    window.PLOTLYENV.BASE_URL='https://plot.ly';\n",
       "                    \n",
       "                if (document.getElementById(\"6a0e9d47-a5a6-4289-9745-fc3cf1b47b4f\")) {\n",
       "                    Plotly.newPlot(\n",
       "                        '6a0e9d47-a5a6-4289-9745-fc3cf1b47b4f',\n",
       "                        [{\"line\": {\"color\": \"rgba(255, 153, 51, 1.0)\", \"dash\": \"solid\", \"shape\": \"linear\", \"width\": 1.3}, \"marker\": {\"size\": 12, \"symbol\": \"circle\"}, \"mode\": \"markers\", \"name\": \"A\", \"text\": \"\", \"type\": \"scatter\", \"x\": [0, 1, 2, 3, 4, 5, 6, 7, 8, 9, 10, 11, 12, 13, 14, 15, 16, 17, 18, 19, 20, 21, 22, 23, 24, 25, 26, 27, 28, 29, 30, 31, 32, 33, 34, 35, 36, 37, 38, 39, 40, 41, 42, 43, 44, 45, 46, 47, 48, 49, 50, 51, 52, 53, 54, 55, 56, 57, 58, 59, 60, 61, 62, 63, 64, 65, 66, 67, 68, 69, 70, 71, 72, 73, 74, 75, 76, 77, 78, 79, 80, 81, 82, 83, 84, 85, 86, 87, 88, 89, 90, 91, 92, 93, 94, 95, 96, 97, 98, 99], \"y\": [1.1512230023350842, -0.557470327282694, 0.5778840486258854, -0.344679605990289, 2.0195394436412415, 1.2407042615096386, -0.40385148300708257, 0.598857704959885, -2.332680959813732, 0.604661492832849, 1.3402089802835433, -0.9534173766078794, -1.3529724142016502, -0.1977908456280201, -1.2716219077535589, -0.3629735985088518, -0.0037816647902428908, -0.637841997494424, -0.43914695100366863, -0.08485981865963914, 1.2539420377490695, 0.917033977248479, 0.6815449910061759, 0.4853801588888736, -0.21913259729452908, -0.07130501829656434, -0.4820865402352392, 0.5241669711472657, 0.4761629901492746, -0.4523144207365586, -1.3476364305195896, 1.6245050077764234, -0.3496712134189109, 1.023793572781277, 0.7353873261113719, -1.0521699679032233, -0.18259348101057116, -0.36046699282993677, 0.43420026758421815, 0.8911492275099812, 0.9134274997439051, -0.1933694290700083, -0.5298711209835657, 1.7986479893549372, -0.9221455892060905, -0.8087803031169282, -1.4783406401947263, -0.2202978087153998, -1.2583710373056547, 0.9214498727348472, 0.7755019956334234, 1.32151023430833, 0.4539159585357842, 1.123493242803924, -0.44944473879604535, 1.431560184057679, -0.58212840743926, 1.2104555100827499, 0.4021111006334402, -0.5014756926841697, 1.1957274431499987, 0.6251036649148064, -0.6890695800733205, 0.4294631143504364, -0.6206090619404612, -0.3987984840825513, 0.5172954974180466, 0.4242974461002807, 1.1773609234412852, -0.18639736809154978, 0.1683404405338652, -0.5975996242793816, -0.08948662336407827, 0.8498990784659077, 0.6889636303159015, -1.491717487274004, -0.24684601277092116, 0.8231947284139284, -0.4833331550230219, -0.4017961938349551, -0.5429728752891533, -0.6775046608220098, 0.37783652098276266, 1.0215419382384807, 0.49134043010576145, -1.014571415304215, 0.5080913400621264, -1.5478048611895807, 1.2674560501327814, -0.19007809437324244, 1.2629079774805692, -0.8745168936734076, -1.716390139894592, 1.8056565330233856, -0.003960951689908947, -1.4231814685587842, 1.443110635103916, 0.33950589311135804, 1.628325486642706, 2.507004497964046]}, {\"line\": {\"color\": \"rgba(55, 128, 191, 1.0)\", \"dash\": \"solid\", \"shape\": \"linear\", \"width\": 1.3}, \"marker\": {\"size\": 12, \"symbol\": \"circle\"}, \"mode\": \"markers\", \"name\": \"B\", \"text\": \"\", \"type\": \"scatter\", \"x\": [0, 1, 2, 3, 4, 5, 6, 7, 8, 9, 10, 11, 12, 13, 14, 15, 16, 17, 18, 19, 20, 21, 22, 23, 24, 25, 26, 27, 28, 29, 30, 31, 32, 33, 34, 35, 36, 37, 38, 39, 40, 41, 42, 43, 44, 45, 46, 47, 48, 49, 50, 51, 52, 53, 54, 55, 56, 57, 58, 59, 60, 61, 62, 63, 64, 65, 66, 67, 68, 69, 70, 71, 72, 73, 74, 75, 76, 77, 78, 79, 80, 81, 82, 83, 84, 85, 86, 87, 88, 89, 90, 91, 92, 93, 94, 95, 96, 97, 98, 99], \"y\": [-0.788987503239302, -0.5422585061278927, 0.9892326356388509, -0.9461434438448012, -0.09402921916431635, -0.19924865024640628, 0.8590593929331023, -0.9091925011826195, 1.495692083105582, -1.6118403719596144, -0.46401451440320013, -1.4070006323123079, 1.1022232511113057, -0.8801106685817904, -0.11982461188886281, 0.19486191953463708, -1.5113145147257037, -0.699094427526284, -0.09679432849349116, -0.7227144546223931, -1.134313894919993, 0.3339299355953139, -0.6305730114941479, -0.7823885779875046, -0.23242191517105823, -0.327696978894264, 1.5136998148503198, 0.27861761113921285, 0.09992209987122552, 0.03481300488890165, -1.7386178842164774, 0.8207276699887942, 0.6810795079121932, -0.25971237270389763, -0.8791221979392699, 0.7140706373420913, -0.5210771809567327, 0.4629475932518827, 0.04403521887958377, 0.9440582728703901, -0.08491370224626968, -0.3733575209924074, 0.8859729038878594, -1.4462733667752667, 1.120810185761385, -0.22364252408335195, -1.0944343421648408, -0.1758647985437288, -0.5241527457973575, 0.6981001711240383, -1.4098976877138127, 0.11272654913433439, 0.36518191044432197, 1.1911122631699438, -0.2932642356805239, -0.05589046443515251, 0.4276267644922778, 0.9135696398813802, -0.5624620181695016, 0.14355354765161582, 0.9909698963808752, 0.337371887239409, -0.2261531016984824, 1.62146996047489, -1.8663772773397898, 1.2621513344801494, -0.4983491599480794, 0.31403410639966095, 0.14500849257672144, 2.9893519613382233, 0.40927078382324755, -0.13082348908263977, 1.1582198566384083, -0.2768051391474269, 0.5432493311555578, -0.8985376753395058, -0.08210623923668232, -0.034550502982340484, 0.18684246632247917, -1.5955055332122907, -1.9144431569819769, -0.3994923336637148, -0.6714739783714367, -0.7579631515990602, -0.160063806581183, 0.9088892797964211, 0.8069987684074711, 1.0540280777590865, -0.9886191692840667, 0.9425821380174294, 0.8728395854366348, -2.1804468664772365, 0.42040626157321276, -0.8027801216360984, -1.0227402507239063, 1.1189459846313115, 0.269111865714286, -0.831251896723604, -0.4401937005002115, -1.3120191976511089]}, {\"line\": {\"color\": \"rgba(50, 171, 96, 1.0)\", \"dash\": \"solid\", \"shape\": \"linear\", \"width\": 1.3}, \"marker\": {\"size\": 12, \"symbol\": \"circle\"}, \"mode\": \"markers\", \"name\": \"C\", \"text\": \"\", \"type\": \"scatter\", \"x\": [0, 1, 2, 3, 4, 5, 6, 7, 8, 9, 10, 11, 12, 13, 14, 15, 16, 17, 18, 19, 20, 21, 22, 23, 24, 25, 26, 27, 28, 29, 30, 31, 32, 33, 34, 35, 36, 37, 38, 39, 40, 41, 42, 43, 44, 45, 46, 47, 48, 49, 50, 51, 52, 53, 54, 55, 56, 57, 58, 59, 60, 61, 62, 63, 64, 65, 66, 67, 68, 69, 70, 71, 72, 73, 74, 75, 76, 77, 78, 79, 80, 81, 82, 83, 84, 85, 86, 87, 88, 89, 90, 91, 92, 93, 94, 95, 96, 97, 98, 99], \"y\": [-0.504190109711075, 1.6012897596608073, -2.4015615885377635, 0.22424394831832875, 0.11451661182061569, -2.0365917087650445, -0.2592780426612458, 1.9197136093896574, 0.9078984082363902, 1.5239383587219542, 1.283391045930873, -1.4825850327945231, -1.2084983443753696, 0.03751028458800968, 1.411526568915033, 0.13547515750744535, -1.2681377075558802, 1.1539795710746097, -0.9237475946315008, -0.4435221065506829, 0.5996228244653771, -0.20261578589232965, -0.10318798708536814, -0.6686490696839271, -1.5111039593484648, 0.23387543365681107, 1.9419354066204064, -0.8476976336958679, -2.2742934864417954, 2.671994791310154, -0.5113613798705504, 0.09575200754648848, 0.24277888992182603, 1.625630610778071, -0.8549730080100917, 0.20296134620324963, 0.9593841993956891, 1.946006978702458, 0.40557139601303205, -0.6396758556493364, -0.8515581363856267, -0.21181537810715237, -0.558996512047563, -0.05114977874494024, 0.9849812644515917, -0.9728614702567793, -1.0537802806552885, -1.780036164343888, -2.0322014723977397, -0.31609809368673764, -0.500377664546493, 0.7932615573456987, 0.5489866343480266, -0.40714505226083064, 1.105726477104565, 1.1465712031577753, 0.8696802043295803, -1.477747788165224, -0.542474588291942, 0.4013675288248289, -1.0440652619397701, -0.18883339618605968, 0.22023879272589045, -0.8331017104417808, 0.631588770394152, -0.5031141112289463, -0.5666037745152175, 0.7539046336279461, 1.2415102350908072, 1.1728178561572784, -1.4604201524521583, -1.9360206812941283, -1.473179291021896, 0.7542038100967359, 0.38295698678575607, 0.04532216707872163, -0.4920054769205359, -0.995055916426763, 0.25489364860134983, -1.61645588466108, -0.23437969142740975, -0.10562962218807836, -1.1610715820433977, -1.1996031814058148, -0.6381811542516939, 0.2397956976473858, 0.8628803185071027, -0.06771987623909129, -0.4202638045715199, -0.09840692783886096, 0.6308117168152751, -0.16290091978819743, 0.6527953748750503, -0.965087014098585, 0.13990627387267512, 0.9826137237371966, -1.0505663653481307, 0.20350978085395932, 0.8788780050405945, -2.2244494932290633]}],\n",
       "                        {\"legend\": {\"bgcolor\": \"#FFFFFF\", \"font\": {\"color\": \"#4D5663\"}}, \"paper_bgcolor\": \"#FFFFFF\", \"plot_bgcolor\": \"#FFFFFF\", \"template\": {\"data\": {\"bar\": [{\"error_x\": {\"color\": \"#2a3f5f\"}, \"error_y\": {\"color\": \"#2a3f5f\"}, \"marker\": {\"line\": {\"color\": \"#E5ECF6\", \"width\": 0.5}}, \"type\": \"bar\"}], \"barpolar\": [{\"marker\": {\"line\": {\"color\": \"#E5ECF6\", \"width\": 0.5}}, \"type\": \"barpolar\"}], \"carpet\": [{\"aaxis\": {\"endlinecolor\": \"#2a3f5f\", \"gridcolor\": \"white\", \"linecolor\": \"white\", \"minorgridcolor\": \"white\", \"startlinecolor\": \"#2a3f5f\"}, \"baxis\": {\"endlinecolor\": \"#2a3f5f\", \"gridcolor\": \"white\", \"linecolor\": \"white\", \"minorgridcolor\": \"white\", \"startlinecolor\": \"#2a3f5f\"}, \"type\": \"carpet\"}], \"choropleth\": [{\"colorbar\": {\"outlinewidth\": 0, \"ticks\": \"\"}, \"type\": \"choropleth\"}], \"contour\": [{\"colorbar\": {\"outlinewidth\": 0, \"ticks\": \"\"}, \"colorscale\": [[0.0, \"#0d0887\"], [0.1111111111111111, \"#46039f\"], [0.2222222222222222, \"#7201a8\"], [0.3333333333333333, \"#9c179e\"], [0.4444444444444444, \"#bd3786\"], [0.5555555555555556, \"#d8576b\"], [0.6666666666666666, \"#ed7953\"], [0.7777777777777778, \"#fb9f3a\"], [0.8888888888888888, \"#fdca26\"], [1.0, \"#f0f921\"]], \"type\": \"contour\"}], \"contourcarpet\": [{\"colorbar\": {\"outlinewidth\": 0, \"ticks\": \"\"}, \"type\": \"contourcarpet\"}], \"heatmap\": [{\"colorbar\": {\"outlinewidth\": 0, \"ticks\": \"\"}, \"colorscale\": [[0.0, \"#0d0887\"], [0.1111111111111111, \"#46039f\"], [0.2222222222222222, \"#7201a8\"], [0.3333333333333333, \"#9c179e\"], [0.4444444444444444, \"#bd3786\"], [0.5555555555555556, \"#d8576b\"], [0.6666666666666666, \"#ed7953\"], [0.7777777777777778, \"#fb9f3a\"], [0.8888888888888888, \"#fdca26\"], [1.0, \"#f0f921\"]], \"type\": \"heatmap\"}], \"heatmapgl\": [{\"colorbar\": {\"outlinewidth\": 0, \"ticks\": \"\"}, \"colorscale\": [[0.0, \"#0d0887\"], [0.1111111111111111, \"#46039f\"], [0.2222222222222222, \"#7201a8\"], [0.3333333333333333, \"#9c179e\"], [0.4444444444444444, \"#bd3786\"], [0.5555555555555556, \"#d8576b\"], [0.6666666666666666, \"#ed7953\"], [0.7777777777777778, \"#fb9f3a\"], [0.8888888888888888, \"#fdca26\"], [1.0, \"#f0f921\"]], \"type\": \"heatmapgl\"}], \"histogram\": [{\"marker\": {\"colorbar\": {\"outlinewidth\": 0, \"ticks\": \"\"}}, \"type\": \"histogram\"}], \"histogram2d\": [{\"colorbar\": {\"outlinewidth\": 0, \"ticks\": \"\"}, \"colorscale\": [[0.0, \"#0d0887\"], [0.1111111111111111, \"#46039f\"], [0.2222222222222222, \"#7201a8\"], [0.3333333333333333, \"#9c179e\"], [0.4444444444444444, \"#bd3786\"], [0.5555555555555556, \"#d8576b\"], [0.6666666666666666, \"#ed7953\"], [0.7777777777777778, \"#fb9f3a\"], [0.8888888888888888, \"#fdca26\"], [1.0, \"#f0f921\"]], \"type\": \"histogram2d\"}], \"histogram2dcontour\": [{\"colorbar\": {\"outlinewidth\": 0, \"ticks\": \"\"}, \"colorscale\": [[0.0, \"#0d0887\"], [0.1111111111111111, \"#46039f\"], [0.2222222222222222, \"#7201a8\"], [0.3333333333333333, \"#9c179e\"], [0.4444444444444444, \"#bd3786\"], [0.5555555555555556, \"#d8576b\"], [0.6666666666666666, \"#ed7953\"], [0.7777777777777778, \"#fb9f3a\"], [0.8888888888888888, \"#fdca26\"], [1.0, \"#f0f921\"]], \"type\": \"histogram2dcontour\"}], \"mesh3d\": [{\"colorbar\": {\"outlinewidth\": 0, \"ticks\": \"\"}, \"type\": \"mesh3d\"}], \"parcoords\": [{\"line\": {\"colorbar\": {\"outlinewidth\": 0, \"ticks\": \"\"}}, \"type\": \"parcoords\"}], \"pie\": [{\"automargin\": true, \"type\": \"pie\"}], \"scatter\": [{\"marker\": {\"colorbar\": {\"outlinewidth\": 0, \"ticks\": \"\"}}, \"type\": \"scatter\"}], \"scatter3d\": [{\"line\": {\"colorbar\": {\"outlinewidth\": 0, \"ticks\": \"\"}}, \"marker\": {\"colorbar\": {\"outlinewidth\": 0, \"ticks\": \"\"}}, \"type\": \"scatter3d\"}], \"scattercarpet\": [{\"marker\": {\"colorbar\": {\"outlinewidth\": 0, \"ticks\": \"\"}}, \"type\": \"scattercarpet\"}], \"scattergeo\": [{\"marker\": {\"colorbar\": {\"outlinewidth\": 0, \"ticks\": \"\"}}, \"type\": \"scattergeo\"}], \"scattergl\": [{\"marker\": {\"colorbar\": {\"outlinewidth\": 0, \"ticks\": \"\"}}, \"type\": \"scattergl\"}], \"scattermapbox\": [{\"marker\": {\"colorbar\": {\"outlinewidth\": 0, \"ticks\": \"\"}}, \"type\": \"scattermapbox\"}], \"scatterpolar\": [{\"marker\": {\"colorbar\": {\"outlinewidth\": 0, \"ticks\": \"\"}}, \"type\": \"scatterpolar\"}], \"scatterpolargl\": [{\"marker\": {\"colorbar\": {\"outlinewidth\": 0, \"ticks\": \"\"}}, \"type\": \"scatterpolargl\"}], \"scatterternary\": [{\"marker\": {\"colorbar\": {\"outlinewidth\": 0, \"ticks\": \"\"}}, \"type\": \"scatterternary\"}], \"surface\": [{\"colorbar\": {\"outlinewidth\": 0, \"ticks\": \"\"}, \"colorscale\": [[0.0, \"#0d0887\"], [0.1111111111111111, \"#46039f\"], [0.2222222222222222, \"#7201a8\"], [0.3333333333333333, \"#9c179e\"], [0.4444444444444444, \"#bd3786\"], [0.5555555555555556, \"#d8576b\"], [0.6666666666666666, \"#ed7953\"], [0.7777777777777778, \"#fb9f3a\"], [0.8888888888888888, \"#fdca26\"], [1.0, \"#f0f921\"]], \"type\": \"surface\"}], \"table\": [{\"cells\": {\"fill\": {\"color\": \"#EBF0F8\"}, \"line\": {\"color\": \"white\"}}, \"header\": {\"fill\": {\"color\": \"#C8D4E3\"}, \"line\": {\"color\": \"white\"}}, \"type\": \"table\"}]}, \"layout\": {\"annotationdefaults\": {\"arrowcolor\": \"#2a3f5f\", \"arrowhead\": 0, \"arrowwidth\": 1}, \"coloraxis\": {\"colorbar\": {\"outlinewidth\": 0, \"ticks\": \"\"}}, \"colorscale\": {\"diverging\": [[0, \"#8e0152\"], [0.1, \"#c51b7d\"], [0.2, \"#de77ae\"], [0.3, \"#f1b6da\"], [0.4, \"#fde0ef\"], [0.5, \"#f7f7f7\"], [0.6, \"#e6f5d0\"], [0.7, \"#b8e186\"], [0.8, \"#7fbc41\"], [0.9, \"#4d9221\"], [1, \"#276419\"]], \"sequential\": [[0.0, \"#0d0887\"], [0.1111111111111111, \"#46039f\"], [0.2222222222222222, \"#7201a8\"], [0.3333333333333333, \"#9c179e\"], [0.4444444444444444, \"#bd3786\"], [0.5555555555555556, \"#d8576b\"], [0.6666666666666666, \"#ed7953\"], [0.7777777777777778, \"#fb9f3a\"], [0.8888888888888888, \"#fdca26\"], [1.0, \"#f0f921\"]], \"sequentialminus\": [[0.0, \"#0d0887\"], [0.1111111111111111, \"#46039f\"], [0.2222222222222222, \"#7201a8\"], [0.3333333333333333, \"#9c179e\"], [0.4444444444444444, \"#bd3786\"], [0.5555555555555556, \"#d8576b\"], [0.6666666666666666, \"#ed7953\"], [0.7777777777777778, \"#fb9f3a\"], [0.8888888888888888, \"#fdca26\"], [1.0, \"#f0f921\"]]}, \"colorway\": [\"#636efa\", \"#EF553B\", \"#00cc96\", \"#ab63fa\", \"#FFA15A\", \"#19d3f3\", \"#FF6692\", \"#B6E880\", \"#FF97FF\", \"#FECB52\"], \"font\": {\"color\": \"#2a3f5f\"}, \"geo\": {\"bgcolor\": \"white\", \"lakecolor\": \"white\", \"landcolor\": \"#E5ECF6\", \"showlakes\": true, \"showland\": true, \"subunitcolor\": \"white\"}, \"hoverlabel\": {\"align\": \"left\"}, \"hovermode\": \"closest\", \"mapbox\": {\"style\": \"light\"}, \"paper_bgcolor\": \"white\", \"plot_bgcolor\": \"#E5ECF6\", \"polar\": {\"angularaxis\": {\"gridcolor\": \"white\", \"linecolor\": \"white\", \"ticks\": \"\"}, \"bgcolor\": \"#E5ECF6\", \"radialaxis\": {\"gridcolor\": \"white\", \"linecolor\": \"white\", \"ticks\": \"\"}}, \"scene\": {\"xaxis\": {\"backgroundcolor\": \"#E5ECF6\", \"gridcolor\": \"white\", \"gridwidth\": 2, \"linecolor\": \"white\", \"showbackground\": true, \"ticks\": \"\", \"zerolinecolor\": \"white\"}, \"yaxis\": {\"backgroundcolor\": \"#E5ECF6\", \"gridcolor\": \"white\", \"gridwidth\": 2, \"linecolor\": \"white\", \"showbackground\": true, \"ticks\": \"\", \"zerolinecolor\": \"white\"}, \"zaxis\": {\"backgroundcolor\": \"#E5ECF6\", \"gridcolor\": \"white\", \"gridwidth\": 2, \"linecolor\": \"white\", \"showbackground\": true, \"ticks\": \"\", \"zerolinecolor\": \"white\"}}, \"shapedefaults\": {\"line\": {\"color\": \"#2a3f5f\"}}, \"ternary\": {\"aaxis\": {\"gridcolor\": \"white\", \"linecolor\": \"white\", \"ticks\": \"\"}, \"baxis\": {\"gridcolor\": \"white\", \"linecolor\": \"white\", \"ticks\": \"\"}, \"bgcolor\": \"#E5ECF6\", \"caxis\": {\"gridcolor\": \"white\", \"linecolor\": \"white\", \"ticks\": \"\"}}, \"title\": {\"x\": 0.05}, \"xaxis\": {\"automargin\": true, \"gridcolor\": \"white\", \"linecolor\": \"white\", \"ticks\": \"\", \"title\": {\"standoff\": 15}, \"zerolinecolor\": \"white\", \"zerolinewidth\": 2}, \"yaxis\": {\"automargin\": true, \"gridcolor\": \"white\", \"linecolor\": \"white\", \"ticks\": \"\", \"title\": {\"standoff\": 15}, \"zerolinecolor\": \"white\", \"zerolinewidth\": 2}}}, \"title\": {\"font\": {\"color\": \"#4D5663\"}}, \"xaxis\": {\"gridcolor\": \"#E1E5ED\", \"showgrid\": true, \"tickfont\": {\"color\": \"#4D5663\"}, \"title\": {\"font\": {\"color\": \"#4D5663\"}, \"text\": \"x axis\"}, \"zerolinecolor\": \"#E1E5ED\"}, \"yaxis\": {\"gridcolor\": \"#E1E5ED\", \"showgrid\": true, \"tickfont\": {\"color\": \"#4D5663\"}, \"title\": {\"font\": {\"color\": \"#4D5663\"}, \"text\": \"y axis\"}, \"zerolinecolor\": \"#E1E5ED\"}},\n",
       "                        {\"showLink\": true, \"linkText\": \"Export to plot.ly\", \"plotlyServerURL\": \"https://plot.ly\", \"responsive\": true}\n",
       "                    ).then(function(){\n",
       "                            \n",
       "var gd = document.getElementById('6a0e9d47-a5a6-4289-9745-fc3cf1b47b4f');\n",
       "var x = new MutationObserver(function (mutations, observer) {{\n",
       "        var display = window.getComputedStyle(gd).display;\n",
       "        if (!display || display === 'none') {{\n",
       "            console.log([gd, 'removed!']);\n",
       "            Plotly.purge(gd);\n",
       "            observer.disconnect();\n",
       "        }}\n",
       "}});\n",
       "\n",
       "// Listen for the removal of the full notebook cells\n",
       "var notebookContainer = gd.closest('#notebook-container');\n",
       "if (notebookContainer) {{\n",
       "    x.observe(notebookContainer, {childList: true});\n",
       "}}\n",
       "\n",
       "// Listen for the clearing of the current output cell\n",
       "var outputEl = gd.closest('.output');\n",
       "if (outputEl) {{\n",
       "    x.observe(outputEl, {childList: true});\n",
       "}}\n",
       "\n",
       "                        })\n",
       "                };\n",
       "                });\n",
       "            </script>\n",
       "        </div>"
      ]
     },
     "metadata": {},
     "output_type": "display_data"
    }
   ],
   "source": [
    "df.iplot(mode='markers',xTitle='x axis',yTitle='y axis')"
   ]
  },
  {
   "cell_type": "code",
   "execution_count": 32,
   "metadata": {},
   "outputs": [
    {
     "data": {
      "application/vnd.plotly.v1+json": {
       "config": {
        "linkText": "Export to plot.ly",
        "plotlyServerURL": "https://plot.ly",
        "showLink": true
       },
       "data": [
        {
         "marker": {
          "color": "rgba(255, 153, 51, 0.6)",
          "line": {
           "color": "rgba(255, 153, 51, 1.0)",
           "width": 1
          }
         },
         "name": "A",
         "orientation": "v",
         "text": "",
         "type": "bar",
         "x": [
          0,
          1,
          2,
          3,
          4,
          5,
          6,
          7,
          8,
          9,
          10,
          11,
          12,
          13,
          14,
          15,
          16,
          17,
          18,
          19,
          20,
          21,
          22,
          23,
          24,
          25,
          26,
          27,
          28,
          29,
          30,
          31,
          32,
          33,
          34,
          35,
          36,
          37,
          38,
          39,
          40,
          41,
          42,
          43,
          44,
          45,
          46,
          47,
          48,
          49,
          50,
          51,
          52,
          53,
          54,
          55,
          56,
          57,
          58,
          59,
          60,
          61,
          62,
          63,
          64,
          65,
          66,
          67,
          68,
          69,
          70,
          71,
          72,
          73,
          74,
          75,
          76,
          77,
          78,
          79,
          80,
          81,
          82,
          83,
          84,
          85,
          86,
          87,
          88,
          89,
          90,
          91,
          92,
          93,
          94,
          95,
          96,
          97,
          98,
          99
         ],
         "y": [
          1.1512230023350842,
          -0.557470327282694,
          0.5778840486258854,
          -0.344679605990289,
          2.0195394436412415,
          1.2407042615096386,
          -0.40385148300708257,
          0.598857704959885,
          -2.332680959813732,
          0.604661492832849,
          1.3402089802835433,
          -0.9534173766078794,
          -1.3529724142016502,
          -0.1977908456280201,
          -1.2716219077535589,
          -0.3629735985088518,
          -0.0037816647902428908,
          -0.637841997494424,
          -0.43914695100366863,
          -0.08485981865963914,
          1.2539420377490695,
          0.917033977248479,
          0.6815449910061759,
          0.4853801588888736,
          -0.21913259729452908,
          -0.07130501829656434,
          -0.4820865402352392,
          0.5241669711472657,
          0.4761629901492746,
          -0.4523144207365586,
          -1.3476364305195896,
          1.6245050077764234,
          -0.3496712134189109,
          1.023793572781277,
          0.7353873261113719,
          -1.0521699679032233,
          -0.18259348101057116,
          -0.36046699282993677,
          0.43420026758421815,
          0.8911492275099812,
          0.9134274997439051,
          -0.1933694290700083,
          -0.5298711209835657,
          1.7986479893549372,
          -0.9221455892060905,
          -0.8087803031169282,
          -1.4783406401947263,
          -0.2202978087153998,
          -1.2583710373056547,
          0.9214498727348472,
          0.7755019956334234,
          1.32151023430833,
          0.4539159585357842,
          1.123493242803924,
          -0.44944473879604535,
          1.431560184057679,
          -0.58212840743926,
          1.2104555100827499,
          0.4021111006334402,
          -0.5014756926841697,
          1.1957274431499987,
          0.6251036649148064,
          -0.6890695800733205,
          0.4294631143504364,
          -0.6206090619404612,
          -0.3987984840825513,
          0.5172954974180466,
          0.4242974461002807,
          1.1773609234412852,
          -0.18639736809154978,
          0.1683404405338652,
          -0.5975996242793816,
          -0.08948662336407827,
          0.8498990784659077,
          0.6889636303159015,
          -1.491717487274004,
          -0.24684601277092116,
          0.8231947284139284,
          -0.4833331550230219,
          -0.4017961938349551,
          -0.5429728752891533,
          -0.6775046608220098,
          0.37783652098276266,
          1.0215419382384807,
          0.49134043010576145,
          -1.014571415304215,
          0.5080913400621264,
          -1.5478048611895807,
          1.2674560501327814,
          -0.19007809437324244,
          1.2629079774805692,
          -0.8745168936734076,
          -1.716390139894592,
          1.8056565330233856,
          -0.003960951689908947,
          -1.4231814685587842,
          1.443110635103916,
          0.33950589311135804,
          1.628325486642706,
          2.507004497964046
         ]
        },
        {
         "marker": {
          "color": "rgba(55, 128, 191, 0.6)",
          "line": {
           "color": "rgba(55, 128, 191, 1.0)",
           "width": 1
          }
         },
         "name": "B",
         "orientation": "v",
         "text": "",
         "type": "bar",
         "x": [
          0,
          1,
          2,
          3,
          4,
          5,
          6,
          7,
          8,
          9,
          10,
          11,
          12,
          13,
          14,
          15,
          16,
          17,
          18,
          19,
          20,
          21,
          22,
          23,
          24,
          25,
          26,
          27,
          28,
          29,
          30,
          31,
          32,
          33,
          34,
          35,
          36,
          37,
          38,
          39,
          40,
          41,
          42,
          43,
          44,
          45,
          46,
          47,
          48,
          49,
          50,
          51,
          52,
          53,
          54,
          55,
          56,
          57,
          58,
          59,
          60,
          61,
          62,
          63,
          64,
          65,
          66,
          67,
          68,
          69,
          70,
          71,
          72,
          73,
          74,
          75,
          76,
          77,
          78,
          79,
          80,
          81,
          82,
          83,
          84,
          85,
          86,
          87,
          88,
          89,
          90,
          91,
          92,
          93,
          94,
          95,
          96,
          97,
          98,
          99
         ],
         "y": [
          -0.788987503239302,
          -0.5422585061278927,
          0.9892326356388509,
          -0.9461434438448012,
          -0.09402921916431635,
          -0.19924865024640628,
          0.8590593929331023,
          -0.9091925011826195,
          1.495692083105582,
          -1.6118403719596144,
          -0.46401451440320013,
          -1.4070006323123079,
          1.1022232511113057,
          -0.8801106685817904,
          -0.11982461188886281,
          0.19486191953463708,
          -1.5113145147257037,
          -0.699094427526284,
          -0.09679432849349116,
          -0.7227144546223931,
          -1.134313894919993,
          0.3339299355953139,
          -0.6305730114941479,
          -0.7823885779875046,
          -0.23242191517105823,
          -0.327696978894264,
          1.5136998148503198,
          0.27861761113921285,
          0.09992209987122552,
          0.03481300488890165,
          -1.7386178842164774,
          0.8207276699887942,
          0.6810795079121932,
          -0.25971237270389763,
          -0.8791221979392699,
          0.7140706373420913,
          -0.5210771809567327,
          0.4629475932518827,
          0.04403521887958377,
          0.9440582728703901,
          -0.08491370224626968,
          -0.3733575209924074,
          0.8859729038878594,
          -1.4462733667752667,
          1.120810185761385,
          -0.22364252408335195,
          -1.0944343421648408,
          -0.1758647985437288,
          -0.5241527457973575,
          0.6981001711240383,
          -1.4098976877138127,
          0.11272654913433439,
          0.36518191044432197,
          1.1911122631699438,
          -0.2932642356805239,
          -0.05589046443515251,
          0.4276267644922778,
          0.9135696398813802,
          -0.5624620181695016,
          0.14355354765161582,
          0.9909698963808752,
          0.337371887239409,
          -0.2261531016984824,
          1.62146996047489,
          -1.8663772773397898,
          1.2621513344801494,
          -0.4983491599480794,
          0.31403410639966095,
          0.14500849257672144,
          2.9893519613382233,
          0.40927078382324755,
          -0.13082348908263977,
          1.1582198566384083,
          -0.2768051391474269,
          0.5432493311555578,
          -0.8985376753395058,
          -0.08210623923668232,
          -0.034550502982340484,
          0.18684246632247917,
          -1.5955055332122907,
          -1.9144431569819769,
          -0.3994923336637148,
          -0.6714739783714367,
          -0.7579631515990602,
          -0.160063806581183,
          0.9088892797964211,
          0.8069987684074711,
          1.0540280777590865,
          -0.9886191692840667,
          0.9425821380174294,
          0.8728395854366348,
          -2.1804468664772365,
          0.42040626157321276,
          -0.8027801216360984,
          -1.0227402507239063,
          1.1189459846313115,
          0.269111865714286,
          -0.831251896723604,
          -0.4401937005002115,
          -1.3120191976511089
         ]
        },
        {
         "marker": {
          "color": "rgba(50, 171, 96, 0.6)",
          "line": {
           "color": "rgba(50, 171, 96, 1.0)",
           "width": 1
          }
         },
         "name": "C",
         "orientation": "v",
         "text": "",
         "type": "bar",
         "x": [
          0,
          1,
          2,
          3,
          4,
          5,
          6,
          7,
          8,
          9,
          10,
          11,
          12,
          13,
          14,
          15,
          16,
          17,
          18,
          19,
          20,
          21,
          22,
          23,
          24,
          25,
          26,
          27,
          28,
          29,
          30,
          31,
          32,
          33,
          34,
          35,
          36,
          37,
          38,
          39,
          40,
          41,
          42,
          43,
          44,
          45,
          46,
          47,
          48,
          49,
          50,
          51,
          52,
          53,
          54,
          55,
          56,
          57,
          58,
          59,
          60,
          61,
          62,
          63,
          64,
          65,
          66,
          67,
          68,
          69,
          70,
          71,
          72,
          73,
          74,
          75,
          76,
          77,
          78,
          79,
          80,
          81,
          82,
          83,
          84,
          85,
          86,
          87,
          88,
          89,
          90,
          91,
          92,
          93,
          94,
          95,
          96,
          97,
          98,
          99
         ],
         "y": [
          -0.504190109711075,
          1.6012897596608073,
          -2.4015615885377635,
          0.22424394831832875,
          0.11451661182061569,
          -2.0365917087650445,
          -0.2592780426612458,
          1.9197136093896574,
          0.9078984082363902,
          1.5239383587219542,
          1.283391045930873,
          -1.4825850327945231,
          -1.2084983443753696,
          0.03751028458800968,
          1.411526568915033,
          0.13547515750744535,
          -1.2681377075558802,
          1.1539795710746097,
          -0.9237475946315008,
          -0.4435221065506829,
          0.5996228244653771,
          -0.20261578589232965,
          -0.10318798708536814,
          -0.6686490696839271,
          -1.5111039593484648,
          0.23387543365681107,
          1.9419354066204064,
          -0.8476976336958679,
          -2.2742934864417954,
          2.671994791310154,
          -0.5113613798705504,
          0.09575200754648848,
          0.24277888992182603,
          1.625630610778071,
          -0.8549730080100917,
          0.20296134620324963,
          0.9593841993956891,
          1.946006978702458,
          0.40557139601303205,
          -0.6396758556493364,
          -0.8515581363856267,
          -0.21181537810715237,
          -0.558996512047563,
          -0.05114977874494024,
          0.9849812644515917,
          -0.9728614702567793,
          -1.0537802806552885,
          -1.780036164343888,
          -2.0322014723977397,
          -0.31609809368673764,
          -0.500377664546493,
          0.7932615573456987,
          0.5489866343480266,
          -0.40714505226083064,
          1.105726477104565,
          1.1465712031577753,
          0.8696802043295803,
          -1.477747788165224,
          -0.542474588291942,
          0.4013675288248289,
          -1.0440652619397701,
          -0.18883339618605968,
          0.22023879272589045,
          -0.8331017104417808,
          0.631588770394152,
          -0.5031141112289463,
          -0.5666037745152175,
          0.7539046336279461,
          1.2415102350908072,
          1.1728178561572784,
          -1.4604201524521583,
          -1.9360206812941283,
          -1.473179291021896,
          0.7542038100967359,
          0.38295698678575607,
          0.04532216707872163,
          -0.4920054769205359,
          -0.995055916426763,
          0.25489364860134983,
          -1.61645588466108,
          -0.23437969142740975,
          -0.10562962218807836,
          -1.1610715820433977,
          -1.1996031814058148,
          -0.6381811542516939,
          0.2397956976473858,
          0.8628803185071027,
          -0.06771987623909129,
          -0.4202638045715199,
          -0.09840692783886096,
          0.6308117168152751,
          -0.16290091978819743,
          0.6527953748750503,
          -0.965087014098585,
          0.13990627387267512,
          0.9826137237371966,
          -1.0505663653481307,
          0.20350978085395932,
          0.8788780050405945,
          -2.2244494932290633
         ]
        }
       ],
       "layout": {
        "bargap": 0.5,
        "barmode": "stack",
        "legend": {
         "bgcolor": "#151516",
         "font": {
          "color": "#D9D9D9"
         },
         "traceorder": "normal"
        },
        "paper_bgcolor": "#151516",
        "plot_bgcolor": "#151516",
        "template": {
         "data": {
          "bar": [
           {
            "error_x": {
             "color": "#2a3f5f"
            },
            "error_y": {
             "color": "#2a3f5f"
            },
            "marker": {
             "line": {
              "color": "#E5ECF6",
              "width": 0.5
             }
            },
            "type": "bar"
           }
          ],
          "barpolar": [
           {
            "marker": {
             "line": {
              "color": "#E5ECF6",
              "width": 0.5
             }
            },
            "type": "barpolar"
           }
          ],
          "carpet": [
           {
            "aaxis": {
             "endlinecolor": "#2a3f5f",
             "gridcolor": "white",
             "linecolor": "white",
             "minorgridcolor": "white",
             "startlinecolor": "#2a3f5f"
            },
            "baxis": {
             "endlinecolor": "#2a3f5f",
             "gridcolor": "white",
             "linecolor": "white",
             "minorgridcolor": "white",
             "startlinecolor": "#2a3f5f"
            },
            "type": "carpet"
           }
          ],
          "choropleth": [
           {
            "colorbar": {
             "outlinewidth": 0,
             "ticks": ""
            },
            "type": "choropleth"
           }
          ],
          "contour": [
           {
            "colorbar": {
             "outlinewidth": 0,
             "ticks": ""
            },
            "colorscale": [
             [
              0,
              "#0d0887"
             ],
             [
              0.1111111111111111,
              "#46039f"
             ],
             [
              0.2222222222222222,
              "#7201a8"
             ],
             [
              0.3333333333333333,
              "#9c179e"
             ],
             [
              0.4444444444444444,
              "#bd3786"
             ],
             [
              0.5555555555555556,
              "#d8576b"
             ],
             [
              0.6666666666666666,
              "#ed7953"
             ],
             [
              0.7777777777777778,
              "#fb9f3a"
             ],
             [
              0.8888888888888888,
              "#fdca26"
             ],
             [
              1,
              "#f0f921"
             ]
            ],
            "type": "contour"
           }
          ],
          "contourcarpet": [
           {
            "colorbar": {
             "outlinewidth": 0,
             "ticks": ""
            },
            "type": "contourcarpet"
           }
          ],
          "heatmap": [
           {
            "colorbar": {
             "outlinewidth": 0,
             "ticks": ""
            },
            "colorscale": [
             [
              0,
              "#0d0887"
             ],
             [
              0.1111111111111111,
              "#46039f"
             ],
             [
              0.2222222222222222,
              "#7201a8"
             ],
             [
              0.3333333333333333,
              "#9c179e"
             ],
             [
              0.4444444444444444,
              "#bd3786"
             ],
             [
              0.5555555555555556,
              "#d8576b"
             ],
             [
              0.6666666666666666,
              "#ed7953"
             ],
             [
              0.7777777777777778,
              "#fb9f3a"
             ],
             [
              0.8888888888888888,
              "#fdca26"
             ],
             [
              1,
              "#f0f921"
             ]
            ],
            "type": "heatmap"
           }
          ],
          "heatmapgl": [
           {
            "colorbar": {
             "outlinewidth": 0,
             "ticks": ""
            },
            "colorscale": [
             [
              0,
              "#0d0887"
             ],
             [
              0.1111111111111111,
              "#46039f"
             ],
             [
              0.2222222222222222,
              "#7201a8"
             ],
             [
              0.3333333333333333,
              "#9c179e"
             ],
             [
              0.4444444444444444,
              "#bd3786"
             ],
             [
              0.5555555555555556,
              "#d8576b"
             ],
             [
              0.6666666666666666,
              "#ed7953"
             ],
             [
              0.7777777777777778,
              "#fb9f3a"
             ],
             [
              0.8888888888888888,
              "#fdca26"
             ],
             [
              1,
              "#f0f921"
             ]
            ],
            "type": "heatmapgl"
           }
          ],
          "histogram": [
           {
            "marker": {
             "colorbar": {
              "outlinewidth": 0,
              "ticks": ""
             }
            },
            "type": "histogram"
           }
          ],
          "histogram2d": [
           {
            "colorbar": {
             "outlinewidth": 0,
             "ticks": ""
            },
            "colorscale": [
             [
              0,
              "#0d0887"
             ],
             [
              0.1111111111111111,
              "#46039f"
             ],
             [
              0.2222222222222222,
              "#7201a8"
             ],
             [
              0.3333333333333333,
              "#9c179e"
             ],
             [
              0.4444444444444444,
              "#bd3786"
             ],
             [
              0.5555555555555556,
              "#d8576b"
             ],
             [
              0.6666666666666666,
              "#ed7953"
             ],
             [
              0.7777777777777778,
              "#fb9f3a"
             ],
             [
              0.8888888888888888,
              "#fdca26"
             ],
             [
              1,
              "#f0f921"
             ]
            ],
            "type": "histogram2d"
           }
          ],
          "histogram2dcontour": [
           {
            "colorbar": {
             "outlinewidth": 0,
             "ticks": ""
            },
            "colorscale": [
             [
              0,
              "#0d0887"
             ],
             [
              0.1111111111111111,
              "#46039f"
             ],
             [
              0.2222222222222222,
              "#7201a8"
             ],
             [
              0.3333333333333333,
              "#9c179e"
             ],
             [
              0.4444444444444444,
              "#bd3786"
             ],
             [
              0.5555555555555556,
              "#d8576b"
             ],
             [
              0.6666666666666666,
              "#ed7953"
             ],
             [
              0.7777777777777778,
              "#fb9f3a"
             ],
             [
              0.8888888888888888,
              "#fdca26"
             ],
             [
              1,
              "#f0f921"
             ]
            ],
            "type": "histogram2dcontour"
           }
          ],
          "mesh3d": [
           {
            "colorbar": {
             "outlinewidth": 0,
             "ticks": ""
            },
            "type": "mesh3d"
           }
          ],
          "parcoords": [
           {
            "line": {
             "colorbar": {
              "outlinewidth": 0,
              "ticks": ""
             }
            },
            "type": "parcoords"
           }
          ],
          "pie": [
           {
            "automargin": true,
            "type": "pie"
           }
          ],
          "scatter": [
           {
            "marker": {
             "colorbar": {
              "outlinewidth": 0,
              "ticks": ""
             }
            },
            "type": "scatter"
           }
          ],
          "scatter3d": [
           {
            "line": {
             "colorbar": {
              "outlinewidth": 0,
              "ticks": ""
             }
            },
            "marker": {
             "colorbar": {
              "outlinewidth": 0,
              "ticks": ""
             }
            },
            "type": "scatter3d"
           }
          ],
          "scattercarpet": [
           {
            "marker": {
             "colorbar": {
              "outlinewidth": 0,
              "ticks": ""
             }
            },
            "type": "scattercarpet"
           }
          ],
          "scattergeo": [
           {
            "marker": {
             "colorbar": {
              "outlinewidth": 0,
              "ticks": ""
             }
            },
            "type": "scattergeo"
           }
          ],
          "scattergl": [
           {
            "marker": {
             "colorbar": {
              "outlinewidth": 0,
              "ticks": ""
             }
            },
            "type": "scattergl"
           }
          ],
          "scattermapbox": [
           {
            "marker": {
             "colorbar": {
              "outlinewidth": 0,
              "ticks": ""
             }
            },
            "type": "scattermapbox"
           }
          ],
          "scatterpolar": [
           {
            "marker": {
             "colorbar": {
              "outlinewidth": 0,
              "ticks": ""
             }
            },
            "type": "scatterpolar"
           }
          ],
          "scatterpolargl": [
           {
            "marker": {
             "colorbar": {
              "outlinewidth": 0,
              "ticks": ""
             }
            },
            "type": "scatterpolargl"
           }
          ],
          "scatterternary": [
           {
            "marker": {
             "colorbar": {
              "outlinewidth": 0,
              "ticks": ""
             }
            },
            "type": "scatterternary"
           }
          ],
          "surface": [
           {
            "colorbar": {
             "outlinewidth": 0,
             "ticks": ""
            },
            "colorscale": [
             [
              0,
              "#0d0887"
             ],
             [
              0.1111111111111111,
              "#46039f"
             ],
             [
              0.2222222222222222,
              "#7201a8"
             ],
             [
              0.3333333333333333,
              "#9c179e"
             ],
             [
              0.4444444444444444,
              "#bd3786"
             ],
             [
              0.5555555555555556,
              "#d8576b"
             ],
             [
              0.6666666666666666,
              "#ed7953"
             ],
             [
              0.7777777777777778,
              "#fb9f3a"
             ],
             [
              0.8888888888888888,
              "#fdca26"
             ],
             [
              1,
              "#f0f921"
             ]
            ],
            "type": "surface"
           }
          ],
          "table": [
           {
            "cells": {
             "fill": {
              "color": "#EBF0F8"
             },
             "line": {
              "color": "white"
             }
            },
            "header": {
             "fill": {
              "color": "#C8D4E3"
             },
             "line": {
              "color": "white"
             }
            },
            "type": "table"
           }
          ]
         },
         "layout": {
          "annotationdefaults": {
           "arrowcolor": "#2a3f5f",
           "arrowhead": 0,
           "arrowwidth": 1
          },
          "coloraxis": {
           "colorbar": {
            "outlinewidth": 0,
            "ticks": ""
           }
          },
          "colorscale": {
           "diverging": [
            [
             0,
             "#8e0152"
            ],
            [
             0.1,
             "#c51b7d"
            ],
            [
             0.2,
             "#de77ae"
            ],
            [
             0.3,
             "#f1b6da"
            ],
            [
             0.4,
             "#fde0ef"
            ],
            [
             0.5,
             "#f7f7f7"
            ],
            [
             0.6,
             "#e6f5d0"
            ],
            [
             0.7,
             "#b8e186"
            ],
            [
             0.8,
             "#7fbc41"
            ],
            [
             0.9,
             "#4d9221"
            ],
            [
             1,
             "#276419"
            ]
           ],
           "sequential": [
            [
             0,
             "#0d0887"
            ],
            [
             0.1111111111111111,
             "#46039f"
            ],
            [
             0.2222222222222222,
             "#7201a8"
            ],
            [
             0.3333333333333333,
             "#9c179e"
            ],
            [
             0.4444444444444444,
             "#bd3786"
            ],
            [
             0.5555555555555556,
             "#d8576b"
            ],
            [
             0.6666666666666666,
             "#ed7953"
            ],
            [
             0.7777777777777778,
             "#fb9f3a"
            ],
            [
             0.8888888888888888,
             "#fdca26"
            ],
            [
             1,
             "#f0f921"
            ]
           ],
           "sequentialminus": [
            [
             0,
             "#0d0887"
            ],
            [
             0.1111111111111111,
             "#46039f"
            ],
            [
             0.2222222222222222,
             "#7201a8"
            ],
            [
             0.3333333333333333,
             "#9c179e"
            ],
            [
             0.4444444444444444,
             "#bd3786"
            ],
            [
             0.5555555555555556,
             "#d8576b"
            ],
            [
             0.6666666666666666,
             "#ed7953"
            ],
            [
             0.7777777777777778,
             "#fb9f3a"
            ],
            [
             0.8888888888888888,
             "#fdca26"
            ],
            [
             1,
             "#f0f921"
            ]
           ]
          },
          "colorway": [
           "#636efa",
           "#EF553B",
           "#00cc96",
           "#ab63fa",
           "#FFA15A",
           "#19d3f3",
           "#FF6692",
           "#B6E880",
           "#FF97FF",
           "#FECB52"
          ],
          "font": {
           "color": "#2a3f5f"
          },
          "geo": {
           "bgcolor": "white",
           "lakecolor": "white",
           "landcolor": "#E5ECF6",
           "showlakes": true,
           "showland": true,
           "subunitcolor": "white"
          },
          "hoverlabel": {
           "align": "left"
          },
          "hovermode": "closest",
          "mapbox": {
           "style": "light"
          },
          "paper_bgcolor": "white",
          "plot_bgcolor": "#E5ECF6",
          "polar": {
           "angularaxis": {
            "gridcolor": "white",
            "linecolor": "white",
            "ticks": ""
           },
           "bgcolor": "#E5ECF6",
           "radialaxis": {
            "gridcolor": "white",
            "linecolor": "white",
            "ticks": ""
           }
          },
          "scene": {
           "xaxis": {
            "backgroundcolor": "#E5ECF6",
            "gridcolor": "white",
            "gridwidth": 2,
            "linecolor": "white",
            "showbackground": true,
            "ticks": "",
            "zerolinecolor": "white"
           },
           "yaxis": {
            "backgroundcolor": "#E5ECF6",
            "gridcolor": "white",
            "gridwidth": 2,
            "linecolor": "white",
            "showbackground": true,
            "ticks": "",
            "zerolinecolor": "white"
           },
           "zaxis": {
            "backgroundcolor": "#E5ECF6",
            "gridcolor": "white",
            "gridwidth": 2,
            "linecolor": "white",
            "showbackground": true,
            "ticks": "",
            "zerolinecolor": "white"
           }
          },
          "shapedefaults": {
           "line": {
            "color": "#2a3f5f"
           }
          },
          "ternary": {
           "aaxis": {
            "gridcolor": "white",
            "linecolor": "white",
            "ticks": ""
           },
           "baxis": {
            "gridcolor": "white",
            "linecolor": "white",
            "ticks": ""
           },
           "bgcolor": "#E5ECF6",
           "caxis": {
            "gridcolor": "white",
            "linecolor": "white",
            "ticks": ""
           }
          },
          "title": {
           "x": 0.05
          },
          "xaxis": {
           "automargin": true,
           "gridcolor": "white",
           "linecolor": "white",
           "ticks": "",
           "title": {
            "standoff": 15
           },
           "zerolinecolor": "white",
           "zerolinewidth": 2
          },
          "yaxis": {
           "automargin": true,
           "gridcolor": "white",
           "linecolor": "white",
           "ticks": "",
           "title": {
            "standoff": 15
           },
           "zerolinecolor": "white",
           "zerolinewidth": 2
          }
         }
        },
        "title": {
         "font": {
          "color": "#D9D9D9"
         }
        },
        "xaxis": {
         "gridcolor": "#434343",
         "showgrid": true,
         "tickfont": {
          "color": "#C2C2C2"
         },
         "title": {
          "font": {
           "color": "#D9D9D9"
          },
          "text": ""
         },
         "zerolinecolor": "#666570"
        },
        "yaxis": {
         "gridcolor": "#434343",
         "showgrid": true,
         "tickfont": {
          "color": "#C2C2C2"
         },
         "title": {
          "font": {
           "color": "#D9D9D9"
          },
          "text": ""
         },
         "zerolinecolor": "#666570"
        }
       }
      },
      "text/html": [
       "<div>\n",
       "        \n",
       "        \n",
       "            <div id=\"27385f07-a5cc-453f-8619-29672a7d7ec0\" class=\"plotly-graph-div\" style=\"height:525px; width:100%;\"></div>\n",
       "            <script type=\"text/javascript\">\n",
       "                require([\"plotly\"], function(Plotly) {\n",
       "                    window.PLOTLYENV=window.PLOTLYENV || {};\n",
       "                    window.PLOTLYENV.BASE_URL='https://plot.ly';\n",
       "                    \n",
       "                if (document.getElementById(\"27385f07-a5cc-453f-8619-29672a7d7ec0\")) {\n",
       "                    Plotly.newPlot(\n",
       "                        '27385f07-a5cc-453f-8619-29672a7d7ec0',\n",
       "                        [{\"marker\": {\"color\": \"rgba(255, 153, 51, 0.6)\", \"line\": {\"color\": \"rgba(255, 153, 51, 1.0)\", \"width\": 1}}, \"name\": \"A\", \"orientation\": \"v\", \"text\": \"\", \"type\": \"bar\", \"x\": [0, 1, 2, 3, 4, 5, 6, 7, 8, 9, 10, 11, 12, 13, 14, 15, 16, 17, 18, 19, 20, 21, 22, 23, 24, 25, 26, 27, 28, 29, 30, 31, 32, 33, 34, 35, 36, 37, 38, 39, 40, 41, 42, 43, 44, 45, 46, 47, 48, 49, 50, 51, 52, 53, 54, 55, 56, 57, 58, 59, 60, 61, 62, 63, 64, 65, 66, 67, 68, 69, 70, 71, 72, 73, 74, 75, 76, 77, 78, 79, 80, 81, 82, 83, 84, 85, 86, 87, 88, 89, 90, 91, 92, 93, 94, 95, 96, 97, 98, 99], \"y\": [1.1512230023350842, -0.557470327282694, 0.5778840486258854, -0.344679605990289, 2.0195394436412415, 1.2407042615096386, -0.40385148300708257, 0.598857704959885, -2.332680959813732, 0.604661492832849, 1.3402089802835433, -0.9534173766078794, -1.3529724142016502, -0.1977908456280201, -1.2716219077535589, -0.3629735985088518, -0.0037816647902428908, -0.637841997494424, -0.43914695100366863, -0.08485981865963914, 1.2539420377490695, 0.917033977248479, 0.6815449910061759, 0.4853801588888736, -0.21913259729452908, -0.07130501829656434, -0.4820865402352392, 0.5241669711472657, 0.4761629901492746, -0.4523144207365586, -1.3476364305195896, 1.6245050077764234, -0.3496712134189109, 1.023793572781277, 0.7353873261113719, -1.0521699679032233, -0.18259348101057116, -0.36046699282993677, 0.43420026758421815, 0.8911492275099812, 0.9134274997439051, -0.1933694290700083, -0.5298711209835657, 1.7986479893549372, -0.9221455892060905, -0.8087803031169282, -1.4783406401947263, -0.2202978087153998, -1.2583710373056547, 0.9214498727348472, 0.7755019956334234, 1.32151023430833, 0.4539159585357842, 1.123493242803924, -0.44944473879604535, 1.431560184057679, -0.58212840743926, 1.2104555100827499, 0.4021111006334402, -0.5014756926841697, 1.1957274431499987, 0.6251036649148064, -0.6890695800733205, 0.4294631143504364, -0.6206090619404612, -0.3987984840825513, 0.5172954974180466, 0.4242974461002807, 1.1773609234412852, -0.18639736809154978, 0.1683404405338652, -0.5975996242793816, -0.08948662336407827, 0.8498990784659077, 0.6889636303159015, -1.491717487274004, -0.24684601277092116, 0.8231947284139284, -0.4833331550230219, -0.4017961938349551, -0.5429728752891533, -0.6775046608220098, 0.37783652098276266, 1.0215419382384807, 0.49134043010576145, -1.014571415304215, 0.5080913400621264, -1.5478048611895807, 1.2674560501327814, -0.19007809437324244, 1.2629079774805692, -0.8745168936734076, -1.716390139894592, 1.8056565330233856, -0.003960951689908947, -1.4231814685587842, 1.443110635103916, 0.33950589311135804, 1.628325486642706, 2.507004497964046]}, {\"marker\": {\"color\": \"rgba(55, 128, 191, 0.6)\", \"line\": {\"color\": \"rgba(55, 128, 191, 1.0)\", \"width\": 1}}, \"name\": \"B\", \"orientation\": \"v\", \"text\": \"\", \"type\": \"bar\", \"x\": [0, 1, 2, 3, 4, 5, 6, 7, 8, 9, 10, 11, 12, 13, 14, 15, 16, 17, 18, 19, 20, 21, 22, 23, 24, 25, 26, 27, 28, 29, 30, 31, 32, 33, 34, 35, 36, 37, 38, 39, 40, 41, 42, 43, 44, 45, 46, 47, 48, 49, 50, 51, 52, 53, 54, 55, 56, 57, 58, 59, 60, 61, 62, 63, 64, 65, 66, 67, 68, 69, 70, 71, 72, 73, 74, 75, 76, 77, 78, 79, 80, 81, 82, 83, 84, 85, 86, 87, 88, 89, 90, 91, 92, 93, 94, 95, 96, 97, 98, 99], \"y\": [-0.788987503239302, -0.5422585061278927, 0.9892326356388509, -0.9461434438448012, -0.09402921916431635, -0.19924865024640628, 0.8590593929331023, -0.9091925011826195, 1.495692083105582, -1.6118403719596144, -0.46401451440320013, -1.4070006323123079, 1.1022232511113057, -0.8801106685817904, -0.11982461188886281, 0.19486191953463708, -1.5113145147257037, -0.699094427526284, -0.09679432849349116, -0.7227144546223931, -1.134313894919993, 0.3339299355953139, -0.6305730114941479, -0.7823885779875046, -0.23242191517105823, -0.327696978894264, 1.5136998148503198, 0.27861761113921285, 0.09992209987122552, 0.03481300488890165, -1.7386178842164774, 0.8207276699887942, 0.6810795079121932, -0.25971237270389763, -0.8791221979392699, 0.7140706373420913, -0.5210771809567327, 0.4629475932518827, 0.04403521887958377, 0.9440582728703901, -0.08491370224626968, -0.3733575209924074, 0.8859729038878594, -1.4462733667752667, 1.120810185761385, -0.22364252408335195, -1.0944343421648408, -0.1758647985437288, -0.5241527457973575, 0.6981001711240383, -1.4098976877138127, 0.11272654913433439, 0.36518191044432197, 1.1911122631699438, -0.2932642356805239, -0.05589046443515251, 0.4276267644922778, 0.9135696398813802, -0.5624620181695016, 0.14355354765161582, 0.9909698963808752, 0.337371887239409, -0.2261531016984824, 1.62146996047489, -1.8663772773397898, 1.2621513344801494, -0.4983491599480794, 0.31403410639966095, 0.14500849257672144, 2.9893519613382233, 0.40927078382324755, -0.13082348908263977, 1.1582198566384083, -0.2768051391474269, 0.5432493311555578, -0.8985376753395058, -0.08210623923668232, -0.034550502982340484, 0.18684246632247917, -1.5955055332122907, -1.9144431569819769, -0.3994923336637148, -0.6714739783714367, -0.7579631515990602, -0.160063806581183, 0.9088892797964211, 0.8069987684074711, 1.0540280777590865, -0.9886191692840667, 0.9425821380174294, 0.8728395854366348, -2.1804468664772365, 0.42040626157321276, -0.8027801216360984, -1.0227402507239063, 1.1189459846313115, 0.269111865714286, -0.831251896723604, -0.4401937005002115, -1.3120191976511089]}, {\"marker\": {\"color\": \"rgba(50, 171, 96, 0.6)\", \"line\": {\"color\": \"rgba(50, 171, 96, 1.0)\", \"width\": 1}}, \"name\": \"C\", \"orientation\": \"v\", \"text\": \"\", \"type\": \"bar\", \"x\": [0, 1, 2, 3, 4, 5, 6, 7, 8, 9, 10, 11, 12, 13, 14, 15, 16, 17, 18, 19, 20, 21, 22, 23, 24, 25, 26, 27, 28, 29, 30, 31, 32, 33, 34, 35, 36, 37, 38, 39, 40, 41, 42, 43, 44, 45, 46, 47, 48, 49, 50, 51, 52, 53, 54, 55, 56, 57, 58, 59, 60, 61, 62, 63, 64, 65, 66, 67, 68, 69, 70, 71, 72, 73, 74, 75, 76, 77, 78, 79, 80, 81, 82, 83, 84, 85, 86, 87, 88, 89, 90, 91, 92, 93, 94, 95, 96, 97, 98, 99], \"y\": [-0.504190109711075, 1.6012897596608073, -2.4015615885377635, 0.22424394831832875, 0.11451661182061569, -2.0365917087650445, -0.2592780426612458, 1.9197136093896574, 0.9078984082363902, 1.5239383587219542, 1.283391045930873, -1.4825850327945231, -1.2084983443753696, 0.03751028458800968, 1.411526568915033, 0.13547515750744535, -1.2681377075558802, 1.1539795710746097, -0.9237475946315008, -0.4435221065506829, 0.5996228244653771, -0.20261578589232965, -0.10318798708536814, -0.6686490696839271, -1.5111039593484648, 0.23387543365681107, 1.9419354066204064, -0.8476976336958679, -2.2742934864417954, 2.671994791310154, -0.5113613798705504, 0.09575200754648848, 0.24277888992182603, 1.625630610778071, -0.8549730080100917, 0.20296134620324963, 0.9593841993956891, 1.946006978702458, 0.40557139601303205, -0.6396758556493364, -0.8515581363856267, -0.21181537810715237, -0.558996512047563, -0.05114977874494024, 0.9849812644515917, -0.9728614702567793, -1.0537802806552885, -1.780036164343888, -2.0322014723977397, -0.31609809368673764, -0.500377664546493, 0.7932615573456987, 0.5489866343480266, -0.40714505226083064, 1.105726477104565, 1.1465712031577753, 0.8696802043295803, -1.477747788165224, -0.542474588291942, 0.4013675288248289, -1.0440652619397701, -0.18883339618605968, 0.22023879272589045, -0.8331017104417808, 0.631588770394152, -0.5031141112289463, -0.5666037745152175, 0.7539046336279461, 1.2415102350908072, 1.1728178561572784, -1.4604201524521583, -1.9360206812941283, -1.473179291021896, 0.7542038100967359, 0.38295698678575607, 0.04532216707872163, -0.4920054769205359, -0.995055916426763, 0.25489364860134983, -1.61645588466108, -0.23437969142740975, -0.10562962218807836, -1.1610715820433977, -1.1996031814058148, -0.6381811542516939, 0.2397956976473858, 0.8628803185071027, -0.06771987623909129, -0.4202638045715199, -0.09840692783886096, 0.6308117168152751, -0.16290091978819743, 0.6527953748750503, -0.965087014098585, 0.13990627387267512, 0.9826137237371966, -1.0505663653481307, 0.20350978085395932, 0.8788780050405945, -2.2244494932290633]}],\n",
       "                        {\"bargap\": 0.5, \"barmode\": \"stack\", \"legend\": {\"bgcolor\": \"#151516\", \"font\": {\"color\": \"#D9D9D9\"}, \"traceorder\": \"normal\"}, \"paper_bgcolor\": \"#151516\", \"plot_bgcolor\": \"#151516\", \"template\": {\"data\": {\"bar\": [{\"error_x\": {\"color\": \"#2a3f5f\"}, \"error_y\": {\"color\": \"#2a3f5f\"}, \"marker\": {\"line\": {\"color\": \"#E5ECF6\", \"width\": 0.5}}, \"type\": \"bar\"}], \"barpolar\": [{\"marker\": {\"line\": {\"color\": \"#E5ECF6\", \"width\": 0.5}}, \"type\": \"barpolar\"}], \"carpet\": [{\"aaxis\": {\"endlinecolor\": \"#2a3f5f\", \"gridcolor\": \"white\", \"linecolor\": \"white\", \"minorgridcolor\": \"white\", \"startlinecolor\": \"#2a3f5f\"}, \"baxis\": {\"endlinecolor\": \"#2a3f5f\", \"gridcolor\": \"white\", \"linecolor\": \"white\", \"minorgridcolor\": \"white\", \"startlinecolor\": \"#2a3f5f\"}, \"type\": \"carpet\"}], \"choropleth\": [{\"colorbar\": {\"outlinewidth\": 0, \"ticks\": \"\"}, \"type\": \"choropleth\"}], \"contour\": [{\"colorbar\": {\"outlinewidth\": 0, \"ticks\": \"\"}, \"colorscale\": [[0.0, \"#0d0887\"], [0.1111111111111111, \"#46039f\"], [0.2222222222222222, \"#7201a8\"], [0.3333333333333333, \"#9c179e\"], [0.4444444444444444, \"#bd3786\"], [0.5555555555555556, \"#d8576b\"], [0.6666666666666666, \"#ed7953\"], [0.7777777777777778, \"#fb9f3a\"], [0.8888888888888888, \"#fdca26\"], [1.0, \"#f0f921\"]], \"type\": \"contour\"}], \"contourcarpet\": [{\"colorbar\": {\"outlinewidth\": 0, \"ticks\": \"\"}, \"type\": \"contourcarpet\"}], \"heatmap\": [{\"colorbar\": {\"outlinewidth\": 0, \"ticks\": \"\"}, \"colorscale\": [[0.0, \"#0d0887\"], [0.1111111111111111, \"#46039f\"], [0.2222222222222222, \"#7201a8\"], [0.3333333333333333, \"#9c179e\"], [0.4444444444444444, \"#bd3786\"], [0.5555555555555556, \"#d8576b\"], [0.6666666666666666, \"#ed7953\"], [0.7777777777777778, \"#fb9f3a\"], [0.8888888888888888, \"#fdca26\"], [1.0, \"#f0f921\"]], \"type\": \"heatmap\"}], \"heatmapgl\": [{\"colorbar\": {\"outlinewidth\": 0, \"ticks\": \"\"}, \"colorscale\": [[0.0, \"#0d0887\"], [0.1111111111111111, \"#46039f\"], [0.2222222222222222, \"#7201a8\"], [0.3333333333333333, \"#9c179e\"], [0.4444444444444444, \"#bd3786\"], [0.5555555555555556, \"#d8576b\"], [0.6666666666666666, \"#ed7953\"], [0.7777777777777778, \"#fb9f3a\"], [0.8888888888888888, \"#fdca26\"], [1.0, \"#f0f921\"]], \"type\": \"heatmapgl\"}], \"histogram\": [{\"marker\": {\"colorbar\": {\"outlinewidth\": 0, \"ticks\": \"\"}}, \"type\": \"histogram\"}], \"histogram2d\": [{\"colorbar\": {\"outlinewidth\": 0, \"ticks\": \"\"}, \"colorscale\": [[0.0, \"#0d0887\"], [0.1111111111111111, \"#46039f\"], [0.2222222222222222, \"#7201a8\"], [0.3333333333333333, \"#9c179e\"], [0.4444444444444444, \"#bd3786\"], [0.5555555555555556, \"#d8576b\"], [0.6666666666666666, \"#ed7953\"], [0.7777777777777778, \"#fb9f3a\"], [0.8888888888888888, \"#fdca26\"], [1.0, \"#f0f921\"]], \"type\": \"histogram2d\"}], \"histogram2dcontour\": [{\"colorbar\": {\"outlinewidth\": 0, \"ticks\": \"\"}, \"colorscale\": [[0.0, \"#0d0887\"], [0.1111111111111111, \"#46039f\"], [0.2222222222222222, \"#7201a8\"], [0.3333333333333333, \"#9c179e\"], [0.4444444444444444, \"#bd3786\"], [0.5555555555555556, \"#d8576b\"], [0.6666666666666666, \"#ed7953\"], [0.7777777777777778, \"#fb9f3a\"], [0.8888888888888888, \"#fdca26\"], [1.0, \"#f0f921\"]], \"type\": \"histogram2dcontour\"}], \"mesh3d\": [{\"colorbar\": {\"outlinewidth\": 0, \"ticks\": \"\"}, \"type\": \"mesh3d\"}], \"parcoords\": [{\"line\": {\"colorbar\": {\"outlinewidth\": 0, \"ticks\": \"\"}}, \"type\": \"parcoords\"}], \"pie\": [{\"automargin\": true, \"type\": \"pie\"}], \"scatter\": [{\"marker\": {\"colorbar\": {\"outlinewidth\": 0, \"ticks\": \"\"}}, \"type\": \"scatter\"}], \"scatter3d\": [{\"line\": {\"colorbar\": {\"outlinewidth\": 0, \"ticks\": \"\"}}, \"marker\": {\"colorbar\": {\"outlinewidth\": 0, \"ticks\": \"\"}}, \"type\": \"scatter3d\"}], \"scattercarpet\": [{\"marker\": {\"colorbar\": {\"outlinewidth\": 0, \"ticks\": \"\"}}, \"type\": \"scattercarpet\"}], \"scattergeo\": [{\"marker\": {\"colorbar\": {\"outlinewidth\": 0, \"ticks\": \"\"}}, \"type\": \"scattergeo\"}], \"scattergl\": [{\"marker\": {\"colorbar\": {\"outlinewidth\": 0, \"ticks\": \"\"}}, \"type\": \"scattergl\"}], \"scattermapbox\": [{\"marker\": {\"colorbar\": {\"outlinewidth\": 0, \"ticks\": \"\"}}, \"type\": \"scattermapbox\"}], \"scatterpolar\": [{\"marker\": {\"colorbar\": {\"outlinewidth\": 0, \"ticks\": \"\"}}, \"type\": \"scatterpolar\"}], \"scatterpolargl\": [{\"marker\": {\"colorbar\": {\"outlinewidth\": 0, \"ticks\": \"\"}}, \"type\": \"scatterpolargl\"}], \"scatterternary\": [{\"marker\": {\"colorbar\": {\"outlinewidth\": 0, \"ticks\": \"\"}}, \"type\": \"scatterternary\"}], \"surface\": [{\"colorbar\": {\"outlinewidth\": 0, \"ticks\": \"\"}, \"colorscale\": [[0.0, \"#0d0887\"], [0.1111111111111111, \"#46039f\"], [0.2222222222222222, \"#7201a8\"], [0.3333333333333333, \"#9c179e\"], [0.4444444444444444, \"#bd3786\"], [0.5555555555555556, \"#d8576b\"], [0.6666666666666666, \"#ed7953\"], [0.7777777777777778, \"#fb9f3a\"], [0.8888888888888888, \"#fdca26\"], [1.0, \"#f0f921\"]], \"type\": \"surface\"}], \"table\": [{\"cells\": {\"fill\": {\"color\": \"#EBF0F8\"}, \"line\": {\"color\": \"white\"}}, \"header\": {\"fill\": {\"color\": \"#C8D4E3\"}, \"line\": {\"color\": \"white\"}}, \"type\": \"table\"}]}, \"layout\": {\"annotationdefaults\": {\"arrowcolor\": \"#2a3f5f\", \"arrowhead\": 0, \"arrowwidth\": 1}, \"coloraxis\": {\"colorbar\": {\"outlinewidth\": 0, \"ticks\": \"\"}}, \"colorscale\": {\"diverging\": [[0, \"#8e0152\"], [0.1, \"#c51b7d\"], [0.2, \"#de77ae\"], [0.3, \"#f1b6da\"], [0.4, \"#fde0ef\"], [0.5, \"#f7f7f7\"], [0.6, \"#e6f5d0\"], [0.7, \"#b8e186\"], [0.8, \"#7fbc41\"], [0.9, \"#4d9221\"], [1, \"#276419\"]], \"sequential\": [[0.0, \"#0d0887\"], [0.1111111111111111, \"#46039f\"], [0.2222222222222222, \"#7201a8\"], [0.3333333333333333, \"#9c179e\"], [0.4444444444444444, \"#bd3786\"], [0.5555555555555556, \"#d8576b\"], [0.6666666666666666, \"#ed7953\"], [0.7777777777777778, \"#fb9f3a\"], [0.8888888888888888, \"#fdca26\"], [1.0, \"#f0f921\"]], \"sequentialminus\": [[0.0, \"#0d0887\"], [0.1111111111111111, \"#46039f\"], [0.2222222222222222, \"#7201a8\"], [0.3333333333333333, \"#9c179e\"], [0.4444444444444444, \"#bd3786\"], [0.5555555555555556, \"#d8576b\"], [0.6666666666666666, \"#ed7953\"], [0.7777777777777778, \"#fb9f3a\"], [0.8888888888888888, \"#fdca26\"], [1.0, \"#f0f921\"]]}, \"colorway\": [\"#636efa\", \"#EF553B\", \"#00cc96\", \"#ab63fa\", \"#FFA15A\", \"#19d3f3\", \"#FF6692\", \"#B6E880\", \"#FF97FF\", \"#FECB52\"], \"font\": {\"color\": \"#2a3f5f\"}, \"geo\": {\"bgcolor\": \"white\", \"lakecolor\": \"white\", \"landcolor\": \"#E5ECF6\", \"showlakes\": true, \"showland\": true, \"subunitcolor\": \"white\"}, \"hoverlabel\": {\"align\": \"left\"}, \"hovermode\": \"closest\", \"mapbox\": {\"style\": \"light\"}, \"paper_bgcolor\": \"white\", \"plot_bgcolor\": \"#E5ECF6\", \"polar\": {\"angularaxis\": {\"gridcolor\": \"white\", \"linecolor\": \"white\", \"ticks\": \"\"}, \"bgcolor\": \"#E5ECF6\", \"radialaxis\": {\"gridcolor\": \"white\", \"linecolor\": \"white\", \"ticks\": \"\"}}, \"scene\": {\"xaxis\": {\"backgroundcolor\": \"#E5ECF6\", \"gridcolor\": \"white\", \"gridwidth\": 2, \"linecolor\": \"white\", \"showbackground\": true, \"ticks\": \"\", \"zerolinecolor\": \"white\"}, \"yaxis\": {\"backgroundcolor\": \"#E5ECF6\", \"gridcolor\": \"white\", \"gridwidth\": 2, \"linecolor\": \"white\", \"showbackground\": true, \"ticks\": \"\", \"zerolinecolor\": \"white\"}, \"zaxis\": {\"backgroundcolor\": \"#E5ECF6\", \"gridcolor\": \"white\", \"gridwidth\": 2, \"linecolor\": \"white\", \"showbackground\": true, \"ticks\": \"\", \"zerolinecolor\": \"white\"}}, \"shapedefaults\": {\"line\": {\"color\": \"#2a3f5f\"}}, \"ternary\": {\"aaxis\": {\"gridcolor\": \"white\", \"linecolor\": \"white\", \"ticks\": \"\"}, \"baxis\": {\"gridcolor\": \"white\", \"linecolor\": \"white\", \"ticks\": \"\"}, \"bgcolor\": \"#E5ECF6\", \"caxis\": {\"gridcolor\": \"white\", \"linecolor\": \"white\", \"ticks\": \"\"}}, \"title\": {\"x\": 0.05}, \"xaxis\": {\"automargin\": true, \"gridcolor\": \"white\", \"linecolor\": \"white\", \"ticks\": \"\", \"title\": {\"standoff\": 15}, \"zerolinecolor\": \"white\", \"zerolinewidth\": 2}, \"yaxis\": {\"automargin\": true, \"gridcolor\": \"white\", \"linecolor\": \"white\", \"ticks\": \"\", \"title\": {\"standoff\": 15}, \"zerolinecolor\": \"white\", \"zerolinewidth\": 2}}}, \"title\": {\"font\": {\"color\": \"#D9D9D9\"}}, \"xaxis\": {\"gridcolor\": \"#434343\", \"showgrid\": true, \"tickfont\": {\"color\": \"#C2C2C2\"}, \"title\": {\"font\": {\"color\": \"#D9D9D9\"}, \"text\": \"\"}, \"zerolinecolor\": \"#666570\"}, \"yaxis\": {\"gridcolor\": \"#434343\", \"showgrid\": true, \"tickfont\": {\"color\": \"#C2C2C2\"}, \"title\": {\"font\": {\"color\": \"#D9D9D9\"}, \"text\": \"\"}, \"zerolinecolor\": \"#666570\"}},\n",
       "                        {\"showLink\": true, \"linkText\": \"Export to plot.ly\", \"plotlyServerURL\": \"https://plot.ly\", \"responsive\": true}\n",
       "                    ).then(function(){\n",
       "                            \n",
       "var gd = document.getElementById('27385f07-a5cc-453f-8619-29672a7d7ec0');\n",
       "var x = new MutationObserver(function (mutations, observer) {{\n",
       "        var display = window.getComputedStyle(gd).display;\n",
       "        if (!display || display === 'none') {{\n",
       "            console.log([gd, 'removed!']);\n",
       "            Plotly.purge(gd);\n",
       "            observer.disconnect();\n",
       "        }}\n",
       "}});\n",
       "\n",
       "// Listen for the removal of the full notebook cells\n",
       "var notebookContainer = gd.closest('#notebook-container');\n",
       "if (notebookContainer) {{\n",
       "    x.observe(notebookContainer, {childList: true});\n",
       "}}\n",
       "\n",
       "// Listen for the clearing of the current output cell\n",
       "var outputEl = gd.closest('.output');\n",
       "if (outputEl) {{\n",
       "    x.observe(outputEl, {childList: true});\n",
       "}}\n",
       "\n",
       "                        })\n",
       "                };\n",
       "                });\n",
       "            </script>\n",
       "        </div>"
      ]
     },
     "metadata": {},
     "output_type": "display_data"
    }
   ],
   "source": [
    "cf.set_config_file(theme='solar')\n",
    "df.iplot(kind='bar',barmode='stack',bargap=0.5)"
   ]
  },
  {
   "cell_type": "code",
   "execution_count": 33,
   "metadata": {},
   "outputs": [
    {
     "data": {
      "application/vnd.plotly.v1+json": {
       "config": {
        "linkText": "Export to plot.ly",
        "plotlyServerURL": "https://plot.ly",
        "showLink": true
       },
       "data": [
        {
         "boxpoints": false,
         "line": {
          "width": 1.3
         },
         "marker": {
          "color": "rgba(255, 153, 51, 1.0)"
         },
         "name": "A",
         "orientation": "v",
         "type": "box",
         "y": [
          1.1512230023350842,
          -0.557470327282694,
          0.5778840486258854,
          -0.344679605990289,
          2.0195394436412415,
          1.2407042615096386,
          -0.40385148300708257,
          0.598857704959885,
          -2.332680959813732,
          0.604661492832849,
          1.3402089802835433,
          -0.9534173766078794,
          -1.3529724142016502,
          -0.1977908456280201,
          -1.2716219077535589,
          -0.3629735985088518,
          -0.0037816647902428908,
          -0.637841997494424,
          -0.43914695100366863,
          -0.08485981865963914,
          1.2539420377490695,
          0.917033977248479,
          0.6815449910061759,
          0.4853801588888736,
          -0.21913259729452908,
          -0.07130501829656434,
          -0.4820865402352392,
          0.5241669711472657,
          0.4761629901492746,
          -0.4523144207365586,
          -1.3476364305195896,
          1.6245050077764234,
          -0.3496712134189109,
          1.023793572781277,
          0.7353873261113719,
          -1.0521699679032233,
          -0.18259348101057116,
          -0.36046699282993677,
          0.43420026758421815,
          0.8911492275099812,
          0.9134274997439051,
          -0.1933694290700083,
          -0.5298711209835657,
          1.7986479893549372,
          -0.9221455892060905,
          -0.8087803031169282,
          -1.4783406401947263,
          -0.2202978087153998,
          -1.2583710373056547,
          0.9214498727348472,
          0.7755019956334234,
          1.32151023430833,
          0.4539159585357842,
          1.123493242803924,
          -0.44944473879604535,
          1.431560184057679,
          -0.58212840743926,
          1.2104555100827499,
          0.4021111006334402,
          -0.5014756926841697,
          1.1957274431499987,
          0.6251036649148064,
          -0.6890695800733205,
          0.4294631143504364,
          -0.6206090619404612,
          -0.3987984840825513,
          0.5172954974180466,
          0.4242974461002807,
          1.1773609234412852,
          -0.18639736809154978,
          0.1683404405338652,
          -0.5975996242793816,
          -0.08948662336407827,
          0.8498990784659077,
          0.6889636303159015,
          -1.491717487274004,
          -0.24684601277092116,
          0.8231947284139284,
          -0.4833331550230219,
          -0.4017961938349551,
          -0.5429728752891533,
          -0.6775046608220098,
          0.37783652098276266,
          1.0215419382384807,
          0.49134043010576145,
          -1.014571415304215,
          0.5080913400621264,
          -1.5478048611895807,
          1.2674560501327814,
          -0.19007809437324244,
          1.2629079774805692,
          -0.8745168936734076,
          -1.716390139894592,
          1.8056565330233856,
          -0.003960951689908947,
          -1.4231814685587842,
          1.443110635103916,
          0.33950589311135804,
          1.628325486642706,
          2.507004497964046
         ]
        },
        {
         "boxpoints": false,
         "line": {
          "width": 1.3
         },
         "marker": {
          "color": "rgba(55, 128, 191, 1.0)"
         },
         "name": "B",
         "orientation": "v",
         "type": "box",
         "y": [
          -0.788987503239302,
          -0.5422585061278927,
          0.9892326356388509,
          -0.9461434438448012,
          -0.09402921916431635,
          -0.19924865024640628,
          0.8590593929331023,
          -0.9091925011826195,
          1.495692083105582,
          -1.6118403719596144,
          -0.46401451440320013,
          -1.4070006323123079,
          1.1022232511113057,
          -0.8801106685817904,
          -0.11982461188886281,
          0.19486191953463708,
          -1.5113145147257037,
          -0.699094427526284,
          -0.09679432849349116,
          -0.7227144546223931,
          -1.134313894919993,
          0.3339299355953139,
          -0.6305730114941479,
          -0.7823885779875046,
          -0.23242191517105823,
          -0.327696978894264,
          1.5136998148503198,
          0.27861761113921285,
          0.09992209987122552,
          0.03481300488890165,
          -1.7386178842164774,
          0.8207276699887942,
          0.6810795079121932,
          -0.25971237270389763,
          -0.8791221979392699,
          0.7140706373420913,
          -0.5210771809567327,
          0.4629475932518827,
          0.04403521887958377,
          0.9440582728703901,
          -0.08491370224626968,
          -0.3733575209924074,
          0.8859729038878594,
          -1.4462733667752667,
          1.120810185761385,
          -0.22364252408335195,
          -1.0944343421648408,
          -0.1758647985437288,
          -0.5241527457973575,
          0.6981001711240383,
          -1.4098976877138127,
          0.11272654913433439,
          0.36518191044432197,
          1.1911122631699438,
          -0.2932642356805239,
          -0.05589046443515251,
          0.4276267644922778,
          0.9135696398813802,
          -0.5624620181695016,
          0.14355354765161582,
          0.9909698963808752,
          0.337371887239409,
          -0.2261531016984824,
          1.62146996047489,
          -1.8663772773397898,
          1.2621513344801494,
          -0.4983491599480794,
          0.31403410639966095,
          0.14500849257672144,
          2.9893519613382233,
          0.40927078382324755,
          -0.13082348908263977,
          1.1582198566384083,
          -0.2768051391474269,
          0.5432493311555578,
          -0.8985376753395058,
          -0.08210623923668232,
          -0.034550502982340484,
          0.18684246632247917,
          -1.5955055332122907,
          -1.9144431569819769,
          -0.3994923336637148,
          -0.6714739783714367,
          -0.7579631515990602,
          -0.160063806581183,
          0.9088892797964211,
          0.8069987684074711,
          1.0540280777590865,
          -0.9886191692840667,
          0.9425821380174294,
          0.8728395854366348,
          -2.1804468664772365,
          0.42040626157321276,
          -0.8027801216360984,
          -1.0227402507239063,
          1.1189459846313115,
          0.269111865714286,
          -0.831251896723604,
          -0.4401937005002115,
          -1.3120191976511089
         ]
        },
        {
         "boxpoints": false,
         "line": {
          "width": 1.3
         },
         "marker": {
          "color": "rgba(50, 171, 96, 1.0)"
         },
         "name": "C",
         "orientation": "v",
         "type": "box",
         "y": [
          -0.504190109711075,
          1.6012897596608073,
          -2.4015615885377635,
          0.22424394831832875,
          0.11451661182061569,
          -2.0365917087650445,
          -0.2592780426612458,
          1.9197136093896574,
          0.9078984082363902,
          1.5239383587219542,
          1.283391045930873,
          -1.4825850327945231,
          -1.2084983443753696,
          0.03751028458800968,
          1.411526568915033,
          0.13547515750744535,
          -1.2681377075558802,
          1.1539795710746097,
          -0.9237475946315008,
          -0.4435221065506829,
          0.5996228244653771,
          -0.20261578589232965,
          -0.10318798708536814,
          -0.6686490696839271,
          -1.5111039593484648,
          0.23387543365681107,
          1.9419354066204064,
          -0.8476976336958679,
          -2.2742934864417954,
          2.671994791310154,
          -0.5113613798705504,
          0.09575200754648848,
          0.24277888992182603,
          1.625630610778071,
          -0.8549730080100917,
          0.20296134620324963,
          0.9593841993956891,
          1.946006978702458,
          0.40557139601303205,
          -0.6396758556493364,
          -0.8515581363856267,
          -0.21181537810715237,
          -0.558996512047563,
          -0.05114977874494024,
          0.9849812644515917,
          -0.9728614702567793,
          -1.0537802806552885,
          -1.780036164343888,
          -2.0322014723977397,
          -0.31609809368673764,
          -0.500377664546493,
          0.7932615573456987,
          0.5489866343480266,
          -0.40714505226083064,
          1.105726477104565,
          1.1465712031577753,
          0.8696802043295803,
          -1.477747788165224,
          -0.542474588291942,
          0.4013675288248289,
          -1.0440652619397701,
          -0.18883339618605968,
          0.22023879272589045,
          -0.8331017104417808,
          0.631588770394152,
          -0.5031141112289463,
          -0.5666037745152175,
          0.7539046336279461,
          1.2415102350908072,
          1.1728178561572784,
          -1.4604201524521583,
          -1.9360206812941283,
          -1.473179291021896,
          0.7542038100967359,
          0.38295698678575607,
          0.04532216707872163,
          -0.4920054769205359,
          -0.995055916426763,
          0.25489364860134983,
          -1.61645588466108,
          -0.23437969142740975,
          -0.10562962218807836,
          -1.1610715820433977,
          -1.1996031814058148,
          -0.6381811542516939,
          0.2397956976473858,
          0.8628803185071027,
          -0.06771987623909129,
          -0.4202638045715199,
          -0.09840692783886096,
          0.6308117168152751,
          -0.16290091978819743,
          0.6527953748750503,
          -0.965087014098585,
          0.13990627387267512,
          0.9826137237371966,
          -1.0505663653481307,
          0.20350978085395932,
          0.8788780050405945,
          -2.2244494932290633
         ]
        }
       ],
       "layout": {
        "legend": {
         "bgcolor": "#151516",
         "font": {
          "color": "#D9D9D9"
         }
        },
        "paper_bgcolor": "#151516",
        "plot_bgcolor": "#151516",
        "template": {
         "data": {
          "bar": [
           {
            "error_x": {
             "color": "#2a3f5f"
            },
            "error_y": {
             "color": "#2a3f5f"
            },
            "marker": {
             "line": {
              "color": "#E5ECF6",
              "width": 0.5
             }
            },
            "type": "bar"
           }
          ],
          "barpolar": [
           {
            "marker": {
             "line": {
              "color": "#E5ECF6",
              "width": 0.5
             }
            },
            "type": "barpolar"
           }
          ],
          "carpet": [
           {
            "aaxis": {
             "endlinecolor": "#2a3f5f",
             "gridcolor": "white",
             "linecolor": "white",
             "minorgridcolor": "white",
             "startlinecolor": "#2a3f5f"
            },
            "baxis": {
             "endlinecolor": "#2a3f5f",
             "gridcolor": "white",
             "linecolor": "white",
             "minorgridcolor": "white",
             "startlinecolor": "#2a3f5f"
            },
            "type": "carpet"
           }
          ],
          "choropleth": [
           {
            "colorbar": {
             "outlinewidth": 0,
             "ticks": ""
            },
            "type": "choropleth"
           }
          ],
          "contour": [
           {
            "colorbar": {
             "outlinewidth": 0,
             "ticks": ""
            },
            "colorscale": [
             [
              0,
              "#0d0887"
             ],
             [
              0.1111111111111111,
              "#46039f"
             ],
             [
              0.2222222222222222,
              "#7201a8"
             ],
             [
              0.3333333333333333,
              "#9c179e"
             ],
             [
              0.4444444444444444,
              "#bd3786"
             ],
             [
              0.5555555555555556,
              "#d8576b"
             ],
             [
              0.6666666666666666,
              "#ed7953"
             ],
             [
              0.7777777777777778,
              "#fb9f3a"
             ],
             [
              0.8888888888888888,
              "#fdca26"
             ],
             [
              1,
              "#f0f921"
             ]
            ],
            "type": "contour"
           }
          ],
          "contourcarpet": [
           {
            "colorbar": {
             "outlinewidth": 0,
             "ticks": ""
            },
            "type": "contourcarpet"
           }
          ],
          "heatmap": [
           {
            "colorbar": {
             "outlinewidth": 0,
             "ticks": ""
            },
            "colorscale": [
             [
              0,
              "#0d0887"
             ],
             [
              0.1111111111111111,
              "#46039f"
             ],
             [
              0.2222222222222222,
              "#7201a8"
             ],
             [
              0.3333333333333333,
              "#9c179e"
             ],
             [
              0.4444444444444444,
              "#bd3786"
             ],
             [
              0.5555555555555556,
              "#d8576b"
             ],
             [
              0.6666666666666666,
              "#ed7953"
             ],
             [
              0.7777777777777778,
              "#fb9f3a"
             ],
             [
              0.8888888888888888,
              "#fdca26"
             ],
             [
              1,
              "#f0f921"
             ]
            ],
            "type": "heatmap"
           }
          ],
          "heatmapgl": [
           {
            "colorbar": {
             "outlinewidth": 0,
             "ticks": ""
            },
            "colorscale": [
             [
              0,
              "#0d0887"
             ],
             [
              0.1111111111111111,
              "#46039f"
             ],
             [
              0.2222222222222222,
              "#7201a8"
             ],
             [
              0.3333333333333333,
              "#9c179e"
             ],
             [
              0.4444444444444444,
              "#bd3786"
             ],
             [
              0.5555555555555556,
              "#d8576b"
             ],
             [
              0.6666666666666666,
              "#ed7953"
             ],
             [
              0.7777777777777778,
              "#fb9f3a"
             ],
             [
              0.8888888888888888,
              "#fdca26"
             ],
             [
              1,
              "#f0f921"
             ]
            ],
            "type": "heatmapgl"
           }
          ],
          "histogram": [
           {
            "marker": {
             "colorbar": {
              "outlinewidth": 0,
              "ticks": ""
             }
            },
            "type": "histogram"
           }
          ],
          "histogram2d": [
           {
            "colorbar": {
             "outlinewidth": 0,
             "ticks": ""
            },
            "colorscale": [
             [
              0,
              "#0d0887"
             ],
             [
              0.1111111111111111,
              "#46039f"
             ],
             [
              0.2222222222222222,
              "#7201a8"
             ],
             [
              0.3333333333333333,
              "#9c179e"
             ],
             [
              0.4444444444444444,
              "#bd3786"
             ],
             [
              0.5555555555555556,
              "#d8576b"
             ],
             [
              0.6666666666666666,
              "#ed7953"
             ],
             [
              0.7777777777777778,
              "#fb9f3a"
             ],
             [
              0.8888888888888888,
              "#fdca26"
             ],
             [
              1,
              "#f0f921"
             ]
            ],
            "type": "histogram2d"
           }
          ],
          "histogram2dcontour": [
           {
            "colorbar": {
             "outlinewidth": 0,
             "ticks": ""
            },
            "colorscale": [
             [
              0,
              "#0d0887"
             ],
             [
              0.1111111111111111,
              "#46039f"
             ],
             [
              0.2222222222222222,
              "#7201a8"
             ],
             [
              0.3333333333333333,
              "#9c179e"
             ],
             [
              0.4444444444444444,
              "#bd3786"
             ],
             [
              0.5555555555555556,
              "#d8576b"
             ],
             [
              0.6666666666666666,
              "#ed7953"
             ],
             [
              0.7777777777777778,
              "#fb9f3a"
             ],
             [
              0.8888888888888888,
              "#fdca26"
             ],
             [
              1,
              "#f0f921"
             ]
            ],
            "type": "histogram2dcontour"
           }
          ],
          "mesh3d": [
           {
            "colorbar": {
             "outlinewidth": 0,
             "ticks": ""
            },
            "type": "mesh3d"
           }
          ],
          "parcoords": [
           {
            "line": {
             "colorbar": {
              "outlinewidth": 0,
              "ticks": ""
             }
            },
            "type": "parcoords"
           }
          ],
          "pie": [
           {
            "automargin": true,
            "type": "pie"
           }
          ],
          "scatter": [
           {
            "marker": {
             "colorbar": {
              "outlinewidth": 0,
              "ticks": ""
             }
            },
            "type": "scatter"
           }
          ],
          "scatter3d": [
           {
            "line": {
             "colorbar": {
              "outlinewidth": 0,
              "ticks": ""
             }
            },
            "marker": {
             "colorbar": {
              "outlinewidth": 0,
              "ticks": ""
             }
            },
            "type": "scatter3d"
           }
          ],
          "scattercarpet": [
           {
            "marker": {
             "colorbar": {
              "outlinewidth": 0,
              "ticks": ""
             }
            },
            "type": "scattercarpet"
           }
          ],
          "scattergeo": [
           {
            "marker": {
             "colorbar": {
              "outlinewidth": 0,
              "ticks": ""
             }
            },
            "type": "scattergeo"
           }
          ],
          "scattergl": [
           {
            "marker": {
             "colorbar": {
              "outlinewidth": 0,
              "ticks": ""
             }
            },
            "type": "scattergl"
           }
          ],
          "scattermapbox": [
           {
            "marker": {
             "colorbar": {
              "outlinewidth": 0,
              "ticks": ""
             }
            },
            "type": "scattermapbox"
           }
          ],
          "scatterpolar": [
           {
            "marker": {
             "colorbar": {
              "outlinewidth": 0,
              "ticks": ""
             }
            },
            "type": "scatterpolar"
           }
          ],
          "scatterpolargl": [
           {
            "marker": {
             "colorbar": {
              "outlinewidth": 0,
              "ticks": ""
             }
            },
            "type": "scatterpolargl"
           }
          ],
          "scatterternary": [
           {
            "marker": {
             "colorbar": {
              "outlinewidth": 0,
              "ticks": ""
             }
            },
            "type": "scatterternary"
           }
          ],
          "surface": [
           {
            "colorbar": {
             "outlinewidth": 0,
             "ticks": ""
            },
            "colorscale": [
             [
              0,
              "#0d0887"
             ],
             [
              0.1111111111111111,
              "#46039f"
             ],
             [
              0.2222222222222222,
              "#7201a8"
             ],
             [
              0.3333333333333333,
              "#9c179e"
             ],
             [
              0.4444444444444444,
              "#bd3786"
             ],
             [
              0.5555555555555556,
              "#d8576b"
             ],
             [
              0.6666666666666666,
              "#ed7953"
             ],
             [
              0.7777777777777778,
              "#fb9f3a"
             ],
             [
              0.8888888888888888,
              "#fdca26"
             ],
             [
              1,
              "#f0f921"
             ]
            ],
            "type": "surface"
           }
          ],
          "table": [
           {
            "cells": {
             "fill": {
              "color": "#EBF0F8"
             },
             "line": {
              "color": "white"
             }
            },
            "header": {
             "fill": {
              "color": "#C8D4E3"
             },
             "line": {
              "color": "white"
             }
            },
            "type": "table"
           }
          ]
         },
         "layout": {
          "annotationdefaults": {
           "arrowcolor": "#2a3f5f",
           "arrowhead": 0,
           "arrowwidth": 1
          },
          "coloraxis": {
           "colorbar": {
            "outlinewidth": 0,
            "ticks": ""
           }
          },
          "colorscale": {
           "diverging": [
            [
             0,
             "#8e0152"
            ],
            [
             0.1,
             "#c51b7d"
            ],
            [
             0.2,
             "#de77ae"
            ],
            [
             0.3,
             "#f1b6da"
            ],
            [
             0.4,
             "#fde0ef"
            ],
            [
             0.5,
             "#f7f7f7"
            ],
            [
             0.6,
             "#e6f5d0"
            ],
            [
             0.7,
             "#b8e186"
            ],
            [
             0.8,
             "#7fbc41"
            ],
            [
             0.9,
             "#4d9221"
            ],
            [
             1,
             "#276419"
            ]
           ],
           "sequential": [
            [
             0,
             "#0d0887"
            ],
            [
             0.1111111111111111,
             "#46039f"
            ],
            [
             0.2222222222222222,
             "#7201a8"
            ],
            [
             0.3333333333333333,
             "#9c179e"
            ],
            [
             0.4444444444444444,
             "#bd3786"
            ],
            [
             0.5555555555555556,
             "#d8576b"
            ],
            [
             0.6666666666666666,
             "#ed7953"
            ],
            [
             0.7777777777777778,
             "#fb9f3a"
            ],
            [
             0.8888888888888888,
             "#fdca26"
            ],
            [
             1,
             "#f0f921"
            ]
           ],
           "sequentialminus": [
            [
             0,
             "#0d0887"
            ],
            [
             0.1111111111111111,
             "#46039f"
            ],
            [
             0.2222222222222222,
             "#7201a8"
            ],
            [
             0.3333333333333333,
             "#9c179e"
            ],
            [
             0.4444444444444444,
             "#bd3786"
            ],
            [
             0.5555555555555556,
             "#d8576b"
            ],
            [
             0.6666666666666666,
             "#ed7953"
            ],
            [
             0.7777777777777778,
             "#fb9f3a"
            ],
            [
             0.8888888888888888,
             "#fdca26"
            ],
            [
             1,
             "#f0f921"
            ]
           ]
          },
          "colorway": [
           "#636efa",
           "#EF553B",
           "#00cc96",
           "#ab63fa",
           "#FFA15A",
           "#19d3f3",
           "#FF6692",
           "#B6E880",
           "#FF97FF",
           "#FECB52"
          ],
          "font": {
           "color": "#2a3f5f"
          },
          "geo": {
           "bgcolor": "white",
           "lakecolor": "white",
           "landcolor": "#E5ECF6",
           "showlakes": true,
           "showland": true,
           "subunitcolor": "white"
          },
          "hoverlabel": {
           "align": "left"
          },
          "hovermode": "closest",
          "mapbox": {
           "style": "light"
          },
          "paper_bgcolor": "white",
          "plot_bgcolor": "#E5ECF6",
          "polar": {
           "angularaxis": {
            "gridcolor": "white",
            "linecolor": "white",
            "ticks": ""
           },
           "bgcolor": "#E5ECF6",
           "radialaxis": {
            "gridcolor": "white",
            "linecolor": "white",
            "ticks": ""
           }
          },
          "scene": {
           "xaxis": {
            "backgroundcolor": "#E5ECF6",
            "gridcolor": "white",
            "gridwidth": 2,
            "linecolor": "white",
            "showbackground": true,
            "ticks": "",
            "zerolinecolor": "white"
           },
           "yaxis": {
            "backgroundcolor": "#E5ECF6",
            "gridcolor": "white",
            "gridwidth": 2,
            "linecolor": "white",
            "showbackground": true,
            "ticks": "",
            "zerolinecolor": "white"
           },
           "zaxis": {
            "backgroundcolor": "#E5ECF6",
            "gridcolor": "white",
            "gridwidth": 2,
            "linecolor": "white",
            "showbackground": true,
            "ticks": "",
            "zerolinecolor": "white"
           }
          },
          "shapedefaults": {
           "line": {
            "color": "#2a3f5f"
           }
          },
          "ternary": {
           "aaxis": {
            "gridcolor": "white",
            "linecolor": "white",
            "ticks": ""
           },
           "baxis": {
            "gridcolor": "white",
            "linecolor": "white",
            "ticks": ""
           },
           "bgcolor": "#E5ECF6",
           "caxis": {
            "gridcolor": "white",
            "linecolor": "white",
            "ticks": ""
           }
          },
          "title": {
           "x": 0.05
          },
          "xaxis": {
           "automargin": true,
           "gridcolor": "white",
           "linecolor": "white",
           "ticks": "",
           "title": {
            "standoff": 15
           },
           "zerolinecolor": "white",
           "zerolinewidth": 2
          },
          "yaxis": {
           "automargin": true,
           "gridcolor": "white",
           "linecolor": "white",
           "ticks": "",
           "title": {
            "standoff": 15
           },
           "zerolinecolor": "white",
           "zerolinewidth": 2
          }
         }
        },
        "title": {
         "font": {
          "color": "#D9D9D9"
         }
        },
        "xaxis": {
         "gridcolor": "#434343",
         "showgrid": true,
         "tickfont": {
          "color": "#C2C2C2"
         },
         "title": {
          "font": {
           "color": "#D9D9D9"
          },
          "text": ""
         },
         "zerolinecolor": "#666570"
        },
        "yaxis": {
         "gridcolor": "#434343",
         "showgrid": true,
         "tickfont": {
          "color": "#C2C2C2"
         },
         "title": {
          "font": {
           "color": "#D9D9D9"
          },
          "text": ""
         },
         "zerolinecolor": "#666570"
        }
       }
      },
      "text/html": [
       "<div>\n",
       "        \n",
       "        \n",
       "            <div id=\"0d340c62-f2a9-4d03-8d86-112f1edb0de2\" class=\"plotly-graph-div\" style=\"height:525px; width:100%;\"></div>\n",
       "            <script type=\"text/javascript\">\n",
       "                require([\"plotly\"], function(Plotly) {\n",
       "                    window.PLOTLYENV=window.PLOTLYENV || {};\n",
       "                    window.PLOTLYENV.BASE_URL='https://plot.ly';\n",
       "                    \n",
       "                if (document.getElementById(\"0d340c62-f2a9-4d03-8d86-112f1edb0de2\")) {\n",
       "                    Plotly.newPlot(\n",
       "                        '0d340c62-f2a9-4d03-8d86-112f1edb0de2',\n",
       "                        [{\"boxpoints\": false, \"line\": {\"width\": 1.3}, \"marker\": {\"color\": \"rgba(255, 153, 51, 1.0)\"}, \"name\": \"A\", \"orientation\": \"v\", \"type\": \"box\", \"y\": [1.1512230023350842, -0.557470327282694, 0.5778840486258854, -0.344679605990289, 2.0195394436412415, 1.2407042615096386, -0.40385148300708257, 0.598857704959885, -2.332680959813732, 0.604661492832849, 1.3402089802835433, -0.9534173766078794, -1.3529724142016502, -0.1977908456280201, -1.2716219077535589, -0.3629735985088518, -0.0037816647902428908, -0.637841997494424, -0.43914695100366863, -0.08485981865963914, 1.2539420377490695, 0.917033977248479, 0.6815449910061759, 0.4853801588888736, -0.21913259729452908, -0.07130501829656434, -0.4820865402352392, 0.5241669711472657, 0.4761629901492746, -0.4523144207365586, -1.3476364305195896, 1.6245050077764234, -0.3496712134189109, 1.023793572781277, 0.7353873261113719, -1.0521699679032233, -0.18259348101057116, -0.36046699282993677, 0.43420026758421815, 0.8911492275099812, 0.9134274997439051, -0.1933694290700083, -0.5298711209835657, 1.7986479893549372, -0.9221455892060905, -0.8087803031169282, -1.4783406401947263, -0.2202978087153998, -1.2583710373056547, 0.9214498727348472, 0.7755019956334234, 1.32151023430833, 0.4539159585357842, 1.123493242803924, -0.44944473879604535, 1.431560184057679, -0.58212840743926, 1.2104555100827499, 0.4021111006334402, -0.5014756926841697, 1.1957274431499987, 0.6251036649148064, -0.6890695800733205, 0.4294631143504364, -0.6206090619404612, -0.3987984840825513, 0.5172954974180466, 0.4242974461002807, 1.1773609234412852, -0.18639736809154978, 0.1683404405338652, -0.5975996242793816, -0.08948662336407827, 0.8498990784659077, 0.6889636303159015, -1.491717487274004, -0.24684601277092116, 0.8231947284139284, -0.4833331550230219, -0.4017961938349551, -0.5429728752891533, -0.6775046608220098, 0.37783652098276266, 1.0215419382384807, 0.49134043010576145, -1.014571415304215, 0.5080913400621264, -1.5478048611895807, 1.2674560501327814, -0.19007809437324244, 1.2629079774805692, -0.8745168936734076, -1.716390139894592, 1.8056565330233856, -0.003960951689908947, -1.4231814685587842, 1.443110635103916, 0.33950589311135804, 1.628325486642706, 2.507004497964046]}, {\"boxpoints\": false, \"line\": {\"width\": 1.3}, \"marker\": {\"color\": \"rgba(55, 128, 191, 1.0)\"}, \"name\": \"B\", \"orientation\": \"v\", \"type\": \"box\", \"y\": [-0.788987503239302, -0.5422585061278927, 0.9892326356388509, -0.9461434438448012, -0.09402921916431635, -0.19924865024640628, 0.8590593929331023, -0.9091925011826195, 1.495692083105582, -1.6118403719596144, -0.46401451440320013, -1.4070006323123079, 1.1022232511113057, -0.8801106685817904, -0.11982461188886281, 0.19486191953463708, -1.5113145147257037, -0.699094427526284, -0.09679432849349116, -0.7227144546223931, -1.134313894919993, 0.3339299355953139, -0.6305730114941479, -0.7823885779875046, -0.23242191517105823, -0.327696978894264, 1.5136998148503198, 0.27861761113921285, 0.09992209987122552, 0.03481300488890165, -1.7386178842164774, 0.8207276699887942, 0.6810795079121932, -0.25971237270389763, -0.8791221979392699, 0.7140706373420913, -0.5210771809567327, 0.4629475932518827, 0.04403521887958377, 0.9440582728703901, -0.08491370224626968, -0.3733575209924074, 0.8859729038878594, -1.4462733667752667, 1.120810185761385, -0.22364252408335195, -1.0944343421648408, -0.1758647985437288, -0.5241527457973575, 0.6981001711240383, -1.4098976877138127, 0.11272654913433439, 0.36518191044432197, 1.1911122631699438, -0.2932642356805239, -0.05589046443515251, 0.4276267644922778, 0.9135696398813802, -0.5624620181695016, 0.14355354765161582, 0.9909698963808752, 0.337371887239409, -0.2261531016984824, 1.62146996047489, -1.8663772773397898, 1.2621513344801494, -0.4983491599480794, 0.31403410639966095, 0.14500849257672144, 2.9893519613382233, 0.40927078382324755, -0.13082348908263977, 1.1582198566384083, -0.2768051391474269, 0.5432493311555578, -0.8985376753395058, -0.08210623923668232, -0.034550502982340484, 0.18684246632247917, -1.5955055332122907, -1.9144431569819769, -0.3994923336637148, -0.6714739783714367, -0.7579631515990602, -0.160063806581183, 0.9088892797964211, 0.8069987684074711, 1.0540280777590865, -0.9886191692840667, 0.9425821380174294, 0.8728395854366348, -2.1804468664772365, 0.42040626157321276, -0.8027801216360984, -1.0227402507239063, 1.1189459846313115, 0.269111865714286, -0.831251896723604, -0.4401937005002115, -1.3120191976511089]}, {\"boxpoints\": false, \"line\": {\"width\": 1.3}, \"marker\": {\"color\": \"rgba(50, 171, 96, 1.0)\"}, \"name\": \"C\", \"orientation\": \"v\", \"type\": \"box\", \"y\": [-0.504190109711075, 1.6012897596608073, -2.4015615885377635, 0.22424394831832875, 0.11451661182061569, -2.0365917087650445, -0.2592780426612458, 1.9197136093896574, 0.9078984082363902, 1.5239383587219542, 1.283391045930873, -1.4825850327945231, -1.2084983443753696, 0.03751028458800968, 1.411526568915033, 0.13547515750744535, -1.2681377075558802, 1.1539795710746097, -0.9237475946315008, -0.4435221065506829, 0.5996228244653771, -0.20261578589232965, -0.10318798708536814, -0.6686490696839271, -1.5111039593484648, 0.23387543365681107, 1.9419354066204064, -0.8476976336958679, -2.2742934864417954, 2.671994791310154, -0.5113613798705504, 0.09575200754648848, 0.24277888992182603, 1.625630610778071, -0.8549730080100917, 0.20296134620324963, 0.9593841993956891, 1.946006978702458, 0.40557139601303205, -0.6396758556493364, -0.8515581363856267, -0.21181537810715237, -0.558996512047563, -0.05114977874494024, 0.9849812644515917, -0.9728614702567793, -1.0537802806552885, -1.780036164343888, -2.0322014723977397, -0.31609809368673764, -0.500377664546493, 0.7932615573456987, 0.5489866343480266, -0.40714505226083064, 1.105726477104565, 1.1465712031577753, 0.8696802043295803, -1.477747788165224, -0.542474588291942, 0.4013675288248289, -1.0440652619397701, -0.18883339618605968, 0.22023879272589045, -0.8331017104417808, 0.631588770394152, -0.5031141112289463, -0.5666037745152175, 0.7539046336279461, 1.2415102350908072, 1.1728178561572784, -1.4604201524521583, -1.9360206812941283, -1.473179291021896, 0.7542038100967359, 0.38295698678575607, 0.04532216707872163, -0.4920054769205359, -0.995055916426763, 0.25489364860134983, -1.61645588466108, -0.23437969142740975, -0.10562962218807836, -1.1610715820433977, -1.1996031814058148, -0.6381811542516939, 0.2397956976473858, 0.8628803185071027, -0.06771987623909129, -0.4202638045715199, -0.09840692783886096, 0.6308117168152751, -0.16290091978819743, 0.6527953748750503, -0.965087014098585, 0.13990627387267512, 0.9826137237371966, -1.0505663653481307, 0.20350978085395932, 0.8788780050405945, -2.2244494932290633]}],\n",
       "                        {\"legend\": {\"bgcolor\": \"#151516\", \"font\": {\"color\": \"#D9D9D9\"}}, \"paper_bgcolor\": \"#151516\", \"plot_bgcolor\": \"#151516\", \"template\": {\"data\": {\"bar\": [{\"error_x\": {\"color\": \"#2a3f5f\"}, \"error_y\": {\"color\": \"#2a3f5f\"}, \"marker\": {\"line\": {\"color\": \"#E5ECF6\", \"width\": 0.5}}, \"type\": \"bar\"}], \"barpolar\": [{\"marker\": {\"line\": {\"color\": \"#E5ECF6\", \"width\": 0.5}}, \"type\": \"barpolar\"}], \"carpet\": [{\"aaxis\": {\"endlinecolor\": \"#2a3f5f\", \"gridcolor\": \"white\", \"linecolor\": \"white\", \"minorgridcolor\": \"white\", \"startlinecolor\": \"#2a3f5f\"}, \"baxis\": {\"endlinecolor\": \"#2a3f5f\", \"gridcolor\": \"white\", \"linecolor\": \"white\", \"minorgridcolor\": \"white\", \"startlinecolor\": \"#2a3f5f\"}, \"type\": \"carpet\"}], \"choropleth\": [{\"colorbar\": {\"outlinewidth\": 0, \"ticks\": \"\"}, \"type\": \"choropleth\"}], \"contour\": [{\"colorbar\": {\"outlinewidth\": 0, \"ticks\": \"\"}, \"colorscale\": [[0.0, \"#0d0887\"], [0.1111111111111111, \"#46039f\"], [0.2222222222222222, \"#7201a8\"], [0.3333333333333333, \"#9c179e\"], [0.4444444444444444, \"#bd3786\"], [0.5555555555555556, \"#d8576b\"], [0.6666666666666666, \"#ed7953\"], [0.7777777777777778, \"#fb9f3a\"], [0.8888888888888888, \"#fdca26\"], [1.0, \"#f0f921\"]], \"type\": \"contour\"}], \"contourcarpet\": [{\"colorbar\": {\"outlinewidth\": 0, \"ticks\": \"\"}, \"type\": \"contourcarpet\"}], \"heatmap\": [{\"colorbar\": {\"outlinewidth\": 0, \"ticks\": \"\"}, \"colorscale\": [[0.0, \"#0d0887\"], [0.1111111111111111, \"#46039f\"], [0.2222222222222222, \"#7201a8\"], [0.3333333333333333, \"#9c179e\"], [0.4444444444444444, \"#bd3786\"], [0.5555555555555556, \"#d8576b\"], [0.6666666666666666, \"#ed7953\"], [0.7777777777777778, \"#fb9f3a\"], [0.8888888888888888, \"#fdca26\"], [1.0, \"#f0f921\"]], \"type\": \"heatmap\"}], \"heatmapgl\": [{\"colorbar\": {\"outlinewidth\": 0, \"ticks\": \"\"}, \"colorscale\": [[0.0, \"#0d0887\"], [0.1111111111111111, \"#46039f\"], [0.2222222222222222, \"#7201a8\"], [0.3333333333333333, \"#9c179e\"], [0.4444444444444444, \"#bd3786\"], [0.5555555555555556, \"#d8576b\"], [0.6666666666666666, \"#ed7953\"], [0.7777777777777778, \"#fb9f3a\"], [0.8888888888888888, \"#fdca26\"], [1.0, \"#f0f921\"]], \"type\": \"heatmapgl\"}], \"histogram\": [{\"marker\": {\"colorbar\": {\"outlinewidth\": 0, \"ticks\": \"\"}}, \"type\": \"histogram\"}], \"histogram2d\": [{\"colorbar\": {\"outlinewidth\": 0, \"ticks\": \"\"}, \"colorscale\": [[0.0, \"#0d0887\"], [0.1111111111111111, \"#46039f\"], [0.2222222222222222, \"#7201a8\"], [0.3333333333333333, \"#9c179e\"], [0.4444444444444444, \"#bd3786\"], [0.5555555555555556, \"#d8576b\"], [0.6666666666666666, \"#ed7953\"], [0.7777777777777778, \"#fb9f3a\"], [0.8888888888888888, \"#fdca26\"], [1.0, \"#f0f921\"]], \"type\": \"histogram2d\"}], \"histogram2dcontour\": [{\"colorbar\": {\"outlinewidth\": 0, \"ticks\": \"\"}, \"colorscale\": [[0.0, \"#0d0887\"], [0.1111111111111111, \"#46039f\"], [0.2222222222222222, \"#7201a8\"], [0.3333333333333333, \"#9c179e\"], [0.4444444444444444, \"#bd3786\"], [0.5555555555555556, \"#d8576b\"], [0.6666666666666666, \"#ed7953\"], [0.7777777777777778, \"#fb9f3a\"], [0.8888888888888888, \"#fdca26\"], [1.0, \"#f0f921\"]], \"type\": \"histogram2dcontour\"}], \"mesh3d\": [{\"colorbar\": {\"outlinewidth\": 0, \"ticks\": \"\"}, \"type\": \"mesh3d\"}], \"parcoords\": [{\"line\": {\"colorbar\": {\"outlinewidth\": 0, \"ticks\": \"\"}}, \"type\": \"parcoords\"}], \"pie\": [{\"automargin\": true, \"type\": \"pie\"}], \"scatter\": [{\"marker\": {\"colorbar\": {\"outlinewidth\": 0, \"ticks\": \"\"}}, \"type\": \"scatter\"}], \"scatter3d\": [{\"line\": {\"colorbar\": {\"outlinewidth\": 0, \"ticks\": \"\"}}, \"marker\": {\"colorbar\": {\"outlinewidth\": 0, \"ticks\": \"\"}}, \"type\": \"scatter3d\"}], \"scattercarpet\": [{\"marker\": {\"colorbar\": {\"outlinewidth\": 0, \"ticks\": \"\"}}, \"type\": \"scattercarpet\"}], \"scattergeo\": [{\"marker\": {\"colorbar\": {\"outlinewidth\": 0, \"ticks\": \"\"}}, \"type\": \"scattergeo\"}], \"scattergl\": [{\"marker\": {\"colorbar\": {\"outlinewidth\": 0, \"ticks\": \"\"}}, \"type\": \"scattergl\"}], \"scattermapbox\": [{\"marker\": {\"colorbar\": {\"outlinewidth\": 0, \"ticks\": \"\"}}, \"type\": \"scattermapbox\"}], \"scatterpolar\": [{\"marker\": {\"colorbar\": {\"outlinewidth\": 0, \"ticks\": \"\"}}, \"type\": \"scatterpolar\"}], \"scatterpolargl\": [{\"marker\": {\"colorbar\": {\"outlinewidth\": 0, \"ticks\": \"\"}}, \"type\": \"scatterpolargl\"}], \"scatterternary\": [{\"marker\": {\"colorbar\": {\"outlinewidth\": 0, \"ticks\": \"\"}}, \"type\": \"scatterternary\"}], \"surface\": [{\"colorbar\": {\"outlinewidth\": 0, \"ticks\": \"\"}, \"colorscale\": [[0.0, \"#0d0887\"], [0.1111111111111111, \"#46039f\"], [0.2222222222222222, \"#7201a8\"], [0.3333333333333333, \"#9c179e\"], [0.4444444444444444, \"#bd3786\"], [0.5555555555555556, \"#d8576b\"], [0.6666666666666666, \"#ed7953\"], [0.7777777777777778, \"#fb9f3a\"], [0.8888888888888888, \"#fdca26\"], [1.0, \"#f0f921\"]], \"type\": \"surface\"}], \"table\": [{\"cells\": {\"fill\": {\"color\": \"#EBF0F8\"}, \"line\": {\"color\": \"white\"}}, \"header\": {\"fill\": {\"color\": \"#C8D4E3\"}, \"line\": {\"color\": \"white\"}}, \"type\": \"table\"}]}, \"layout\": {\"annotationdefaults\": {\"arrowcolor\": \"#2a3f5f\", \"arrowhead\": 0, \"arrowwidth\": 1}, \"coloraxis\": {\"colorbar\": {\"outlinewidth\": 0, \"ticks\": \"\"}}, \"colorscale\": {\"diverging\": [[0, \"#8e0152\"], [0.1, \"#c51b7d\"], [0.2, \"#de77ae\"], [0.3, \"#f1b6da\"], [0.4, \"#fde0ef\"], [0.5, \"#f7f7f7\"], [0.6, \"#e6f5d0\"], [0.7, \"#b8e186\"], [0.8, \"#7fbc41\"], [0.9, \"#4d9221\"], [1, \"#276419\"]], \"sequential\": [[0.0, \"#0d0887\"], [0.1111111111111111, \"#46039f\"], [0.2222222222222222, \"#7201a8\"], [0.3333333333333333, \"#9c179e\"], [0.4444444444444444, \"#bd3786\"], [0.5555555555555556, \"#d8576b\"], [0.6666666666666666, \"#ed7953\"], [0.7777777777777778, \"#fb9f3a\"], [0.8888888888888888, \"#fdca26\"], [1.0, \"#f0f921\"]], \"sequentialminus\": [[0.0, \"#0d0887\"], [0.1111111111111111, \"#46039f\"], [0.2222222222222222, \"#7201a8\"], [0.3333333333333333, \"#9c179e\"], [0.4444444444444444, \"#bd3786\"], [0.5555555555555556, \"#d8576b\"], [0.6666666666666666, \"#ed7953\"], [0.7777777777777778, \"#fb9f3a\"], [0.8888888888888888, \"#fdca26\"], [1.0, \"#f0f921\"]]}, \"colorway\": [\"#636efa\", \"#EF553B\", \"#00cc96\", \"#ab63fa\", \"#FFA15A\", \"#19d3f3\", \"#FF6692\", \"#B6E880\", \"#FF97FF\", \"#FECB52\"], \"font\": {\"color\": \"#2a3f5f\"}, \"geo\": {\"bgcolor\": \"white\", \"lakecolor\": \"white\", \"landcolor\": \"#E5ECF6\", \"showlakes\": true, \"showland\": true, \"subunitcolor\": \"white\"}, \"hoverlabel\": {\"align\": \"left\"}, \"hovermode\": \"closest\", \"mapbox\": {\"style\": \"light\"}, \"paper_bgcolor\": \"white\", \"plot_bgcolor\": \"#E5ECF6\", \"polar\": {\"angularaxis\": {\"gridcolor\": \"white\", \"linecolor\": \"white\", \"ticks\": \"\"}, \"bgcolor\": \"#E5ECF6\", \"radialaxis\": {\"gridcolor\": \"white\", \"linecolor\": \"white\", \"ticks\": \"\"}}, \"scene\": {\"xaxis\": {\"backgroundcolor\": \"#E5ECF6\", \"gridcolor\": \"white\", \"gridwidth\": 2, \"linecolor\": \"white\", \"showbackground\": true, \"ticks\": \"\", \"zerolinecolor\": \"white\"}, \"yaxis\": {\"backgroundcolor\": \"#E5ECF6\", \"gridcolor\": \"white\", \"gridwidth\": 2, \"linecolor\": \"white\", \"showbackground\": true, \"ticks\": \"\", \"zerolinecolor\": \"white\"}, \"zaxis\": {\"backgroundcolor\": \"#E5ECF6\", \"gridcolor\": \"white\", \"gridwidth\": 2, \"linecolor\": \"white\", \"showbackground\": true, \"ticks\": \"\", \"zerolinecolor\": \"white\"}}, \"shapedefaults\": {\"line\": {\"color\": \"#2a3f5f\"}}, \"ternary\": {\"aaxis\": {\"gridcolor\": \"white\", \"linecolor\": \"white\", \"ticks\": \"\"}, \"baxis\": {\"gridcolor\": \"white\", \"linecolor\": \"white\", \"ticks\": \"\"}, \"bgcolor\": \"#E5ECF6\", \"caxis\": {\"gridcolor\": \"white\", \"linecolor\": \"white\", \"ticks\": \"\"}}, \"title\": {\"x\": 0.05}, \"xaxis\": {\"automargin\": true, \"gridcolor\": \"white\", \"linecolor\": \"white\", \"ticks\": \"\", \"title\": {\"standoff\": 15}, \"zerolinecolor\": \"white\", \"zerolinewidth\": 2}, \"yaxis\": {\"automargin\": true, \"gridcolor\": \"white\", \"linecolor\": \"white\", \"ticks\": \"\", \"title\": {\"standoff\": 15}, \"zerolinecolor\": \"white\", \"zerolinewidth\": 2}}}, \"title\": {\"font\": {\"color\": \"#D9D9D9\"}}, \"xaxis\": {\"gridcolor\": \"#434343\", \"showgrid\": true, \"tickfont\": {\"color\": \"#C2C2C2\"}, \"title\": {\"font\": {\"color\": \"#D9D9D9\"}, \"text\": \"\"}, \"zerolinecolor\": \"#666570\"}, \"yaxis\": {\"gridcolor\": \"#434343\", \"showgrid\": true, \"tickfont\": {\"color\": \"#C2C2C2\"}, \"title\": {\"font\": {\"color\": \"#D9D9D9\"}, \"text\": \"\"}, \"zerolinecolor\": \"#666570\"}},\n",
       "                        {\"showLink\": true, \"linkText\": \"Export to plot.ly\", \"plotlyServerURL\": \"https://plot.ly\", \"responsive\": true}\n",
       "                    ).then(function(){\n",
       "                            \n",
       "var gd = document.getElementById('0d340c62-f2a9-4d03-8d86-112f1edb0de2');\n",
       "var x = new MutationObserver(function (mutations, observer) {{\n",
       "        var display = window.getComputedStyle(gd).display;\n",
       "        if (!display || display === 'none') {{\n",
       "            console.log([gd, 'removed!']);\n",
       "            Plotly.purge(gd);\n",
       "            observer.disconnect();\n",
       "        }}\n",
       "}});\n",
       "\n",
       "// Listen for the removal of the full notebook cells\n",
       "var notebookContainer = gd.closest('#notebook-container');\n",
       "if (notebookContainer) {{\n",
       "    x.observe(notebookContainer, {childList: true});\n",
       "}}\n",
       "\n",
       "// Listen for the clearing of the current output cell\n",
       "var outputEl = gd.closest('.output');\n",
       "if (outputEl) {{\n",
       "    x.observe(outputEl, {childList: true});\n",
       "}}\n",
       "\n",
       "                        })\n",
       "                };\n",
       "                });\n",
       "            </script>\n",
       "        </div>"
      ]
     },
     "metadata": {},
     "output_type": "display_data"
    }
   ],
   "source": [
    "df.iplot(kind='box')"
   ]
  },
  {
   "cell_type": "code",
   "execution_count": 36,
   "metadata": {},
   "outputs": [
    {
     "data": {
      "application/vnd.plotly.v1+json": {
       "config": {
        "linkText": "Export to plot.ly",
        "plotlyServerURL": "https://plot.ly",
        "showLink": true
       },
       "data": [
        {
         "fill": "tonexty",
         "fillcolor": "rgba(255, 153, 51, 0.3)",
         "line": {
          "color": "rgba(255, 153, 51, 1.0)",
          "dash": "solid",
          "shape": "linear",
          "width": 1.3
         },
         "mode": "lines",
         "name": "A",
         "text": "",
         "type": "scatter",
         "x": [
          0,
          1,
          2,
          3,
          4,
          5,
          6,
          7,
          8,
          9,
          10,
          11,
          12,
          13,
          14,
          15,
          16,
          17,
          18,
          19,
          20,
          21,
          22,
          23,
          24,
          25,
          26,
          27,
          28,
          29,
          30,
          31,
          32,
          33,
          34,
          35,
          36,
          37,
          38,
          39,
          40,
          41,
          42,
          43,
          44,
          45,
          46,
          47,
          48,
          49,
          50,
          51,
          52,
          53,
          54,
          55,
          56,
          57,
          58,
          59,
          60,
          61,
          62,
          63,
          64,
          65,
          66,
          67,
          68,
          69,
          70,
          71,
          72,
          73,
          74,
          75,
          76,
          77,
          78,
          79,
          80,
          81,
          82,
          83,
          84,
          85,
          86,
          87,
          88,
          89,
          90,
          91,
          92,
          93,
          94,
          95,
          96,
          97,
          98,
          99
         ],
         "y": [
          1.1512230023350842,
          0.5937526750523903,
          1.1716367236782756,
          0.8269571176879866,
          2.846496561329228,
          4.0872008228388665,
          3.683349339831784,
          4.282207044791669,
          1.9495260849779368,
          2.5541875778107856,
          3.894396558094329,
          2.9409791814864494,
          1.5880067672847993,
          1.390215921656779,
          0.11859401390322022,
          -0.24437958460563158,
          -0.24816124939587447,
          -0.8860032468902985,
          -1.3251501978939673,
          -1.4100100165536065,
          -0.15606797880453693,
          0.7609659984439421,
          1.442510989450118,
          1.9278911483389916,
          1.7087585510444625,
          1.637453532747898,
          1.1553669925126588,
          1.6795339636599245,
          2.155696953809199,
          1.7033825330726404,
          0.35574610255305084,
          1.9802511103294742,
          1.6305798969105634,
          2.6543734696918406,
          3.3897607958032125,
          2.337590827899989,
          2.154997346889418,
          1.7945303540594812,
          2.2287306216436993,
          3.1198798491536803,
          4.033307348897585,
          3.839937919827577,
          3.3100667988440113,
          5.108714788198949,
          4.186569198992858,
          3.37778889587593,
          1.8994482556812038,
          1.679150446965804,
          0.4207794096601494,
          1.3422292823949966,
          2.11773127802842,
          3.43924151233675,
          3.8931574708725343,
          5.016650713676459,
          4.567205974880413,
          5.998766158938093,
          5.416637751498833,
          6.6270932615815825,
          7.029204362215022,
          6.527728669530853,
          7.723456112680852,
          8.348559777595659,
          7.659490197522338,
          8.088953311872775,
          7.468344249932313,
          7.069545765849762,
          7.586841263267809,
          8.01113870936809,
          9.188499632809375,
          9.002102264717825,
          9.170442705251691,
          8.57284308097231,
          8.483356457608233,
          9.333255536074141,
          10.022219166390043,
          8.530501679116039,
          8.283655666345117,
          9.106850394759046,
          8.623517239736024,
          8.22172104590107,
          7.678748170611917,
          7.001243509789908,
          7.379080030772671,
          8.400621969011151,
          8.891962399116913,
          7.877390983812698,
          8.385482323874825,
          6.837677462685244,
          8.105133512818025,
          7.9150554184447826,
          9.177963395925351,
          8.303446502251944,
          6.587056362357352,
          8.392712895380738,
          8.38875194369083,
          6.965570475132045,
          8.40868111023596,
          8.748187003347319,
          10.376512489990024,
          12.883516987954069
         ]
        },
        {
         "fill": "tonexty",
         "fillcolor": "rgba(55, 128, 191, 0.3)",
         "line": {
          "color": "rgba(55, 128, 191, 1.0)",
          "dash": "solid",
          "shape": "linear",
          "width": 1.3
         },
         "mode": "lines",
         "name": "B",
         "text": "",
         "type": "scatter",
         "x": [
          0,
          1,
          2,
          3,
          4,
          5,
          6,
          7,
          8,
          9,
          10,
          11,
          12,
          13,
          14,
          15,
          16,
          17,
          18,
          19,
          20,
          21,
          22,
          23,
          24,
          25,
          26,
          27,
          28,
          29,
          30,
          31,
          32,
          33,
          34,
          35,
          36,
          37,
          38,
          39,
          40,
          41,
          42,
          43,
          44,
          45,
          46,
          47,
          48,
          49,
          50,
          51,
          52,
          53,
          54,
          55,
          56,
          57,
          58,
          59,
          60,
          61,
          62,
          63,
          64,
          65,
          66,
          67,
          68,
          69,
          70,
          71,
          72,
          73,
          74,
          75,
          76,
          77,
          78,
          79,
          80,
          81,
          82,
          83,
          84,
          85,
          86,
          87,
          88,
          89,
          90,
          91,
          92,
          93,
          94,
          95,
          96,
          97,
          98,
          99
         ],
         "y": [
          0.36223549909578223,
          -0.7374933343148045,
          0.8296233499499318,
          -0.4611996998851584,
          1.4643105245917667,
          2.5057661358549987,
          2.9609740457810183,
          2.650639249558284,
          1.8136503728501339,
          0.8064714937233683,
          1.6826659596037117,
          -0.6777520493164757,
          -0.9285012124068199,
          -2.0064027266166304,
          -3.397849246259052,
          -3.5659609252332665,
          -5.081057104749213,
          -6.417993529769921,
          -6.953934809267082,
          -7.7615090825491135,
          -7.641880939720037,
          -6.390917026876244,
          -6.339945047364217,
          -6.636953466462847,
          -7.088507978928433,
          -7.487509976119263,
          -6.455896701504183,
          -5.653112119217704,
          -5.077027029197204,
          -5.494528445044861,
          -8.580782759780929,
          -6.13555008201571,
          -5.804141787522428,
          -5.040060587445049,
          -5.183795459272947,
          -5.521894789834079,
          -6.225565451801382,
          -6.123084851379436,
          -5.644849364915634,
          -3.8096418645352625,
          -2.981128067037627,
          -3.547855017100042,
          -3.1917532341957484,
          -2.8393786116160777,
          -2.6407140150607837,
          -3.6731368422610635,
          -6.245911824620631,
          -6.64207443187976,
          -8.424598214982773,
          -6.805048171123887,
          -7.439443863204276,
          -6.005207079761611,
          -5.186109210781504,
          -2.871503704807636,
          -3.614212679284205,
          -2.238542959661679,
          -2.3930446026086614,
          -0.26901945264453087,
          -0.42937037018059243,
          -0.7872925152131467,
          1.3994048243177275,
          2.3618803764719436,
          1.4466576947001402,
          3.497590769525467,
          1.0106044302452162,
          1.8739572806428146,
          1.8929036181127827,
          2.631235170612725,
          3.953604586630731,
          6.756559179877405,
          7.334170404234518,
          6.605747290872498,
          7.674480524146828,
          8.247574463465309,
          9.479787424936768,
          7.08953226232326,
          6.760580010315656,
          7.5492242357472445,
          7.252733547046701,
          5.2554318199994565,
          2.7980157877283265,
          1.7210187932426022,
          1.4273813358539282,
          1.6909601224933484,
          2.022236746017927,
          1.9165546105101328,
          3.231644718979731,
          2.737867935549236,
          3.01670481639795,
          3.769208860042137,
          5.904956422959341,
          2.849992662808697,
          1.5540087844873174,
          2.556885195874605,
          1.5301839934607901,
          1.2259485095333176,
          2.9381710103515184,
          2.4464250067392728,
          3.6345567928817664,
          4.8295420931947035
         ]
        },
        {
         "fill": "tonexty",
         "fillcolor": "rgba(50, 171, 96, 0.3)",
         "line": {
          "color": "rgba(50, 171, 96, 1.0)",
          "dash": "solid",
          "shape": "linear",
          "width": 1.3
         },
         "mode": "lines",
         "name": "C",
         "text": "",
         "type": "scatter",
         "x": [
          0,
          1,
          2,
          3,
          4,
          5,
          6,
          7,
          8,
          9,
          10,
          11,
          12,
          13,
          14,
          15,
          16,
          17,
          18,
          19,
          20,
          21,
          22,
          23,
          24,
          25,
          26,
          27,
          28,
          29,
          30,
          31,
          32,
          33,
          34,
          35,
          36,
          37,
          38,
          39,
          40,
          41,
          42,
          43,
          44,
          45,
          46,
          47,
          48,
          49,
          50,
          51,
          52,
          53,
          54,
          55,
          56,
          57,
          58,
          59,
          60,
          61,
          62,
          63,
          64,
          65,
          66,
          67,
          68,
          69,
          70,
          71,
          72,
          73,
          74,
          75,
          76,
          77,
          78,
          79,
          80,
          81,
          82,
          83,
          84,
          85,
          86,
          87,
          88,
          89,
          90,
          91,
          92,
          93,
          94,
          95,
          96,
          97,
          98,
          99
         ],
         "y": [
          -0.1419546106152928,
          0.35960631563492784,
          -0.47483858863809936,
          -1.5414176901548609,
          0.4986091461426799,
          -0.4965269513591326,
          -0.3005970840943588,
          1.308781729072564,
          1.3796912606008043,
          1.896450740195993,
          4.056036252007209,
          0.21303321029249855,
          -1.2462142971732153,
          -2.2866055267950163,
          -2.266525477522405,
          -2.299161998989174,
          -5.082395886061001,
          -5.265352740007099,
          -6.725041614135761,
          -7.976137993968475,
          -7.256887026674022,
          -6.208538899722559,
          -6.260754907295899,
          -7.226412396078457,
          -9.189070867892507,
          -9.354197431426526,
          -6.380648750191039,
          -6.425561801600429,
          -8.123770198021724,
          -5.869276822559227,
          -9.466892517165846,
          -6.925907831854138,
          -6.35172064743903,
          -3.9620088365835793,
          -4.960716716421569,
          -5.0958547007794515,
          -4.840141163351065,
          -2.7916535842266614,
          -1.9078467017498282,
          -0.7123150570187926,
          -0.7353593959067837,
          -1.513901724076351,
          -1.7167964532196205,
          -1.41557160938489,
          -0.2319257483780044,
          -2.2372100458350634,
          -5.863765308849919,
          -8.039964080452936,
          -11.854689335953688,
          -10.55123738578154,
          -11.686010742408422,
          -9.458512401620059,
          -8.090427898291924,
          -6.182967444578887,
          -5.819949941950892,
          -3.2977090191705902,
          -2.5825304577879926,
          -1.9362530959890858,
          -2.639078601817089,
          -2.5956332180248145,
          -1.4530011404337104,
          -0.6793589844655541,
          -1.3743428735114671,
          -0.15651150912792122,
          -2.0119090780140203,
          -1.651670338845368,
          -2.199327775890618,
          -0.7070915897627295,
          1.8567880613460837,
          5.832560510750036,
          4.949751582654991,
          2.2853077879988417,
          1.8808617302512758,
          3.2081594796664925,
          4.823329427923708,
          2.478396432388922,
          1.657438703460782,
          1.451027012465608,
          1.4094299723664143,
          -2.2043276393419102,
          -4.89612336304045,
          -6.078749979714253,
          -7.533459019146324,
          -8.46948341391272,
          -8.776387944639833,
          -8.642274382500242,
          -6.464303955523541,
          -7.025800615193127,
          -7.167227538915932,
          -6.5131304231106055,
          -3.7465711433781266,
          -6.964435823316968,
          -7.607624326763299,
          -7.569834929474597,
          -8.456629858015736,
          -7.778251618206012,
          -7.116595482735941,
          -7.404831705494227,
          -5.33782191431114,
          -6.367286107227265
         ]
        }
       ],
       "layout": {
        "legend": {
         "bgcolor": "#151516",
         "font": {
          "color": "#D9D9D9"
         }
        },
        "paper_bgcolor": "#151516",
        "plot_bgcolor": "#151516",
        "template": {
         "data": {
          "bar": [
           {
            "error_x": {
             "color": "#2a3f5f"
            },
            "error_y": {
             "color": "#2a3f5f"
            },
            "marker": {
             "line": {
              "color": "#E5ECF6",
              "width": 0.5
             }
            },
            "type": "bar"
           }
          ],
          "barpolar": [
           {
            "marker": {
             "line": {
              "color": "#E5ECF6",
              "width": 0.5
             }
            },
            "type": "barpolar"
           }
          ],
          "carpet": [
           {
            "aaxis": {
             "endlinecolor": "#2a3f5f",
             "gridcolor": "white",
             "linecolor": "white",
             "minorgridcolor": "white",
             "startlinecolor": "#2a3f5f"
            },
            "baxis": {
             "endlinecolor": "#2a3f5f",
             "gridcolor": "white",
             "linecolor": "white",
             "minorgridcolor": "white",
             "startlinecolor": "#2a3f5f"
            },
            "type": "carpet"
           }
          ],
          "choropleth": [
           {
            "colorbar": {
             "outlinewidth": 0,
             "ticks": ""
            },
            "type": "choropleth"
           }
          ],
          "contour": [
           {
            "colorbar": {
             "outlinewidth": 0,
             "ticks": ""
            },
            "colorscale": [
             [
              0,
              "#0d0887"
             ],
             [
              0.1111111111111111,
              "#46039f"
             ],
             [
              0.2222222222222222,
              "#7201a8"
             ],
             [
              0.3333333333333333,
              "#9c179e"
             ],
             [
              0.4444444444444444,
              "#bd3786"
             ],
             [
              0.5555555555555556,
              "#d8576b"
             ],
             [
              0.6666666666666666,
              "#ed7953"
             ],
             [
              0.7777777777777778,
              "#fb9f3a"
             ],
             [
              0.8888888888888888,
              "#fdca26"
             ],
             [
              1,
              "#f0f921"
             ]
            ],
            "type": "contour"
           }
          ],
          "contourcarpet": [
           {
            "colorbar": {
             "outlinewidth": 0,
             "ticks": ""
            },
            "type": "contourcarpet"
           }
          ],
          "heatmap": [
           {
            "colorbar": {
             "outlinewidth": 0,
             "ticks": ""
            },
            "colorscale": [
             [
              0,
              "#0d0887"
             ],
             [
              0.1111111111111111,
              "#46039f"
             ],
             [
              0.2222222222222222,
              "#7201a8"
             ],
             [
              0.3333333333333333,
              "#9c179e"
             ],
             [
              0.4444444444444444,
              "#bd3786"
             ],
             [
              0.5555555555555556,
              "#d8576b"
             ],
             [
              0.6666666666666666,
              "#ed7953"
             ],
             [
              0.7777777777777778,
              "#fb9f3a"
             ],
             [
              0.8888888888888888,
              "#fdca26"
             ],
             [
              1,
              "#f0f921"
             ]
            ],
            "type": "heatmap"
           }
          ],
          "heatmapgl": [
           {
            "colorbar": {
             "outlinewidth": 0,
             "ticks": ""
            },
            "colorscale": [
             [
              0,
              "#0d0887"
             ],
             [
              0.1111111111111111,
              "#46039f"
             ],
             [
              0.2222222222222222,
              "#7201a8"
             ],
             [
              0.3333333333333333,
              "#9c179e"
             ],
             [
              0.4444444444444444,
              "#bd3786"
             ],
             [
              0.5555555555555556,
              "#d8576b"
             ],
             [
              0.6666666666666666,
              "#ed7953"
             ],
             [
              0.7777777777777778,
              "#fb9f3a"
             ],
             [
              0.8888888888888888,
              "#fdca26"
             ],
             [
              1,
              "#f0f921"
             ]
            ],
            "type": "heatmapgl"
           }
          ],
          "histogram": [
           {
            "marker": {
             "colorbar": {
              "outlinewidth": 0,
              "ticks": ""
             }
            },
            "type": "histogram"
           }
          ],
          "histogram2d": [
           {
            "colorbar": {
             "outlinewidth": 0,
             "ticks": ""
            },
            "colorscale": [
             [
              0,
              "#0d0887"
             ],
             [
              0.1111111111111111,
              "#46039f"
             ],
             [
              0.2222222222222222,
              "#7201a8"
             ],
             [
              0.3333333333333333,
              "#9c179e"
             ],
             [
              0.4444444444444444,
              "#bd3786"
             ],
             [
              0.5555555555555556,
              "#d8576b"
             ],
             [
              0.6666666666666666,
              "#ed7953"
             ],
             [
              0.7777777777777778,
              "#fb9f3a"
             ],
             [
              0.8888888888888888,
              "#fdca26"
             ],
             [
              1,
              "#f0f921"
             ]
            ],
            "type": "histogram2d"
           }
          ],
          "histogram2dcontour": [
           {
            "colorbar": {
             "outlinewidth": 0,
             "ticks": ""
            },
            "colorscale": [
             [
              0,
              "#0d0887"
             ],
             [
              0.1111111111111111,
              "#46039f"
             ],
             [
              0.2222222222222222,
              "#7201a8"
             ],
             [
              0.3333333333333333,
              "#9c179e"
             ],
             [
              0.4444444444444444,
              "#bd3786"
             ],
             [
              0.5555555555555556,
              "#d8576b"
             ],
             [
              0.6666666666666666,
              "#ed7953"
             ],
             [
              0.7777777777777778,
              "#fb9f3a"
             ],
             [
              0.8888888888888888,
              "#fdca26"
             ],
             [
              1,
              "#f0f921"
             ]
            ],
            "type": "histogram2dcontour"
           }
          ],
          "mesh3d": [
           {
            "colorbar": {
             "outlinewidth": 0,
             "ticks": ""
            },
            "type": "mesh3d"
           }
          ],
          "parcoords": [
           {
            "line": {
             "colorbar": {
              "outlinewidth": 0,
              "ticks": ""
             }
            },
            "type": "parcoords"
           }
          ],
          "pie": [
           {
            "automargin": true,
            "type": "pie"
           }
          ],
          "scatter": [
           {
            "marker": {
             "colorbar": {
              "outlinewidth": 0,
              "ticks": ""
             }
            },
            "type": "scatter"
           }
          ],
          "scatter3d": [
           {
            "line": {
             "colorbar": {
              "outlinewidth": 0,
              "ticks": ""
             }
            },
            "marker": {
             "colorbar": {
              "outlinewidth": 0,
              "ticks": ""
             }
            },
            "type": "scatter3d"
           }
          ],
          "scattercarpet": [
           {
            "marker": {
             "colorbar": {
              "outlinewidth": 0,
              "ticks": ""
             }
            },
            "type": "scattercarpet"
           }
          ],
          "scattergeo": [
           {
            "marker": {
             "colorbar": {
              "outlinewidth": 0,
              "ticks": ""
             }
            },
            "type": "scattergeo"
           }
          ],
          "scattergl": [
           {
            "marker": {
             "colorbar": {
              "outlinewidth": 0,
              "ticks": ""
             }
            },
            "type": "scattergl"
           }
          ],
          "scattermapbox": [
           {
            "marker": {
             "colorbar": {
              "outlinewidth": 0,
              "ticks": ""
             }
            },
            "type": "scattermapbox"
           }
          ],
          "scatterpolar": [
           {
            "marker": {
             "colorbar": {
              "outlinewidth": 0,
              "ticks": ""
             }
            },
            "type": "scatterpolar"
           }
          ],
          "scatterpolargl": [
           {
            "marker": {
             "colorbar": {
              "outlinewidth": 0,
              "ticks": ""
             }
            },
            "type": "scatterpolargl"
           }
          ],
          "scatterternary": [
           {
            "marker": {
             "colorbar": {
              "outlinewidth": 0,
              "ticks": ""
             }
            },
            "type": "scatterternary"
           }
          ],
          "surface": [
           {
            "colorbar": {
             "outlinewidth": 0,
             "ticks": ""
            },
            "colorscale": [
             [
              0,
              "#0d0887"
             ],
             [
              0.1111111111111111,
              "#46039f"
             ],
             [
              0.2222222222222222,
              "#7201a8"
             ],
             [
              0.3333333333333333,
              "#9c179e"
             ],
             [
              0.4444444444444444,
              "#bd3786"
             ],
             [
              0.5555555555555556,
              "#d8576b"
             ],
             [
              0.6666666666666666,
              "#ed7953"
             ],
             [
              0.7777777777777778,
              "#fb9f3a"
             ],
             [
              0.8888888888888888,
              "#fdca26"
             ],
             [
              1,
              "#f0f921"
             ]
            ],
            "type": "surface"
           }
          ],
          "table": [
           {
            "cells": {
             "fill": {
              "color": "#EBF0F8"
             },
             "line": {
              "color": "white"
             }
            },
            "header": {
             "fill": {
              "color": "#C8D4E3"
             },
             "line": {
              "color": "white"
             }
            },
            "type": "table"
           }
          ]
         },
         "layout": {
          "annotationdefaults": {
           "arrowcolor": "#2a3f5f",
           "arrowhead": 0,
           "arrowwidth": 1
          },
          "coloraxis": {
           "colorbar": {
            "outlinewidth": 0,
            "ticks": ""
           }
          },
          "colorscale": {
           "diverging": [
            [
             0,
             "#8e0152"
            ],
            [
             0.1,
             "#c51b7d"
            ],
            [
             0.2,
             "#de77ae"
            ],
            [
             0.3,
             "#f1b6da"
            ],
            [
             0.4,
             "#fde0ef"
            ],
            [
             0.5,
             "#f7f7f7"
            ],
            [
             0.6,
             "#e6f5d0"
            ],
            [
             0.7,
             "#b8e186"
            ],
            [
             0.8,
             "#7fbc41"
            ],
            [
             0.9,
             "#4d9221"
            ],
            [
             1,
             "#276419"
            ]
           ],
           "sequential": [
            [
             0,
             "#0d0887"
            ],
            [
             0.1111111111111111,
             "#46039f"
            ],
            [
             0.2222222222222222,
             "#7201a8"
            ],
            [
             0.3333333333333333,
             "#9c179e"
            ],
            [
             0.4444444444444444,
             "#bd3786"
            ],
            [
             0.5555555555555556,
             "#d8576b"
            ],
            [
             0.6666666666666666,
             "#ed7953"
            ],
            [
             0.7777777777777778,
             "#fb9f3a"
            ],
            [
             0.8888888888888888,
             "#fdca26"
            ],
            [
             1,
             "#f0f921"
            ]
           ],
           "sequentialminus": [
            [
             0,
             "#0d0887"
            ],
            [
             0.1111111111111111,
             "#46039f"
            ],
            [
             0.2222222222222222,
             "#7201a8"
            ],
            [
             0.3333333333333333,
             "#9c179e"
            ],
            [
             0.4444444444444444,
             "#bd3786"
            ],
            [
             0.5555555555555556,
             "#d8576b"
            ],
            [
             0.6666666666666666,
             "#ed7953"
            ],
            [
             0.7777777777777778,
             "#fb9f3a"
            ],
            [
             0.8888888888888888,
             "#fdca26"
            ],
            [
             1,
             "#f0f921"
            ]
           ]
          },
          "colorway": [
           "#636efa",
           "#EF553B",
           "#00cc96",
           "#ab63fa",
           "#FFA15A",
           "#19d3f3",
           "#FF6692",
           "#B6E880",
           "#FF97FF",
           "#FECB52"
          ],
          "font": {
           "color": "#2a3f5f"
          },
          "geo": {
           "bgcolor": "white",
           "lakecolor": "white",
           "landcolor": "#E5ECF6",
           "showlakes": true,
           "showland": true,
           "subunitcolor": "white"
          },
          "hoverlabel": {
           "align": "left"
          },
          "hovermode": "closest",
          "mapbox": {
           "style": "light"
          },
          "paper_bgcolor": "white",
          "plot_bgcolor": "#E5ECF6",
          "polar": {
           "angularaxis": {
            "gridcolor": "white",
            "linecolor": "white",
            "ticks": ""
           },
           "bgcolor": "#E5ECF6",
           "radialaxis": {
            "gridcolor": "white",
            "linecolor": "white",
            "ticks": ""
           }
          },
          "scene": {
           "xaxis": {
            "backgroundcolor": "#E5ECF6",
            "gridcolor": "white",
            "gridwidth": 2,
            "linecolor": "white",
            "showbackground": true,
            "ticks": "",
            "zerolinecolor": "white"
           },
           "yaxis": {
            "backgroundcolor": "#E5ECF6",
            "gridcolor": "white",
            "gridwidth": 2,
            "linecolor": "white",
            "showbackground": true,
            "ticks": "",
            "zerolinecolor": "white"
           },
           "zaxis": {
            "backgroundcolor": "#E5ECF6",
            "gridcolor": "white",
            "gridwidth": 2,
            "linecolor": "white",
            "showbackground": true,
            "ticks": "",
            "zerolinecolor": "white"
           }
          },
          "shapedefaults": {
           "line": {
            "color": "#2a3f5f"
           }
          },
          "ternary": {
           "aaxis": {
            "gridcolor": "white",
            "linecolor": "white",
            "ticks": ""
           },
           "baxis": {
            "gridcolor": "white",
            "linecolor": "white",
            "ticks": ""
           },
           "bgcolor": "#E5ECF6",
           "caxis": {
            "gridcolor": "white",
            "linecolor": "white",
            "ticks": ""
           }
          },
          "title": {
           "x": 0.05
          },
          "xaxis": {
           "automargin": true,
           "gridcolor": "white",
           "linecolor": "white",
           "ticks": "",
           "title": {
            "standoff": 15
           },
           "zerolinecolor": "white",
           "zerolinewidth": 2
          },
          "yaxis": {
           "automargin": true,
           "gridcolor": "white",
           "linecolor": "white",
           "ticks": "",
           "title": {
            "standoff": 15
           },
           "zerolinecolor": "white",
           "zerolinewidth": 2
          }
         }
        },
        "title": {
         "font": {
          "color": "#D9D9D9"
         }
        },
        "xaxis": {
         "gridcolor": "#434343",
         "showgrid": true,
         "tickfont": {
          "color": "#C2C2C2"
         },
         "title": {
          "font": {
           "color": "#D9D9D9"
          },
          "text": ""
         },
         "zerolinecolor": "#666570"
        },
        "yaxis": {
         "gridcolor": "#434343",
         "showgrid": true,
         "tickfont": {
          "color": "#C2C2C2"
         },
         "title": {
          "font": {
           "color": "#D9D9D9"
          },
          "text": ""
         },
         "zerolinecolor": "#666570"
        }
       }
      },
      "text/html": [
       "<div>\n",
       "        \n",
       "        \n",
       "            <div id=\"cb3544c0-2013-497c-8be0-d5df5adba8f9\" class=\"plotly-graph-div\" style=\"height:525px; width:100%;\"></div>\n",
       "            <script type=\"text/javascript\">\n",
       "                require([\"plotly\"], function(Plotly) {\n",
       "                    window.PLOTLYENV=window.PLOTLYENV || {};\n",
       "                    window.PLOTLYENV.BASE_URL='https://plot.ly';\n",
       "                    \n",
       "                if (document.getElementById(\"cb3544c0-2013-497c-8be0-d5df5adba8f9\")) {\n",
       "                    Plotly.newPlot(\n",
       "                        'cb3544c0-2013-497c-8be0-d5df5adba8f9',\n",
       "                        [{\"fill\": \"tonexty\", \"fillcolor\": \"rgba(255, 153, 51, 0.3)\", \"line\": {\"color\": \"rgba(255, 153, 51, 1.0)\", \"dash\": \"solid\", \"shape\": \"linear\", \"width\": 1.3}, \"mode\": \"lines\", \"name\": \"A\", \"text\": \"\", \"type\": \"scatter\", \"x\": [0, 1, 2, 3, 4, 5, 6, 7, 8, 9, 10, 11, 12, 13, 14, 15, 16, 17, 18, 19, 20, 21, 22, 23, 24, 25, 26, 27, 28, 29, 30, 31, 32, 33, 34, 35, 36, 37, 38, 39, 40, 41, 42, 43, 44, 45, 46, 47, 48, 49, 50, 51, 52, 53, 54, 55, 56, 57, 58, 59, 60, 61, 62, 63, 64, 65, 66, 67, 68, 69, 70, 71, 72, 73, 74, 75, 76, 77, 78, 79, 80, 81, 82, 83, 84, 85, 86, 87, 88, 89, 90, 91, 92, 93, 94, 95, 96, 97, 98, 99], \"y\": [1.1512230023350842, 0.5937526750523903, 1.1716367236782756, 0.8269571176879866, 2.846496561329228, 4.0872008228388665, 3.683349339831784, 4.282207044791669, 1.9495260849779368, 2.5541875778107856, 3.894396558094329, 2.9409791814864494, 1.5880067672847993, 1.390215921656779, 0.11859401390322022, -0.24437958460563158, -0.24816124939587447, -0.8860032468902985, -1.3251501978939673, -1.4100100165536065, -0.15606797880453693, 0.7609659984439421, 1.442510989450118, 1.9278911483389916, 1.7087585510444625, 1.637453532747898, 1.1553669925126588, 1.6795339636599245, 2.155696953809199, 1.7033825330726404, 0.35574610255305084, 1.9802511103294742, 1.6305798969105634, 2.6543734696918406, 3.3897607958032125, 2.337590827899989, 2.154997346889418, 1.7945303540594812, 2.2287306216436993, 3.1198798491536803, 4.033307348897585, 3.839937919827577, 3.3100667988440113, 5.108714788198949, 4.186569198992858, 3.37778889587593, 1.8994482556812038, 1.679150446965804, 0.4207794096601494, 1.3422292823949966, 2.11773127802842, 3.43924151233675, 3.8931574708725343, 5.016650713676459, 4.567205974880413, 5.998766158938093, 5.416637751498833, 6.6270932615815825, 7.029204362215022, 6.527728669530853, 7.723456112680852, 8.348559777595659, 7.659490197522338, 8.088953311872775, 7.468344249932313, 7.069545765849762, 7.586841263267809, 8.01113870936809, 9.188499632809375, 9.002102264717825, 9.170442705251691, 8.57284308097231, 8.483356457608233, 9.333255536074141, 10.022219166390043, 8.530501679116039, 8.283655666345117, 9.106850394759046, 8.623517239736024, 8.22172104590107, 7.678748170611917, 7.001243509789908, 7.379080030772671, 8.400621969011151, 8.891962399116913, 7.877390983812698, 8.385482323874825, 6.837677462685244, 8.105133512818025, 7.9150554184447826, 9.177963395925351, 8.303446502251944, 6.587056362357352, 8.392712895380738, 8.38875194369083, 6.965570475132045, 8.40868111023596, 8.748187003347319, 10.376512489990024, 12.883516987954069]}, {\"fill\": \"tonexty\", \"fillcolor\": \"rgba(55, 128, 191, 0.3)\", \"line\": {\"color\": \"rgba(55, 128, 191, 1.0)\", \"dash\": \"solid\", \"shape\": \"linear\", \"width\": 1.3}, \"mode\": \"lines\", \"name\": \"B\", \"text\": \"\", \"type\": \"scatter\", \"x\": [0, 1, 2, 3, 4, 5, 6, 7, 8, 9, 10, 11, 12, 13, 14, 15, 16, 17, 18, 19, 20, 21, 22, 23, 24, 25, 26, 27, 28, 29, 30, 31, 32, 33, 34, 35, 36, 37, 38, 39, 40, 41, 42, 43, 44, 45, 46, 47, 48, 49, 50, 51, 52, 53, 54, 55, 56, 57, 58, 59, 60, 61, 62, 63, 64, 65, 66, 67, 68, 69, 70, 71, 72, 73, 74, 75, 76, 77, 78, 79, 80, 81, 82, 83, 84, 85, 86, 87, 88, 89, 90, 91, 92, 93, 94, 95, 96, 97, 98, 99], \"y\": [0.36223549909578223, -0.7374933343148045, 0.8296233499499318, -0.4611996998851584, 1.4643105245917667, 2.5057661358549987, 2.9609740457810183, 2.650639249558284, 1.8136503728501339, 0.8064714937233683, 1.6826659596037117, -0.6777520493164757, -0.9285012124068199, -2.0064027266166304, -3.397849246259052, -3.5659609252332665, -5.081057104749213, -6.417993529769921, -6.953934809267082, -7.7615090825491135, -7.641880939720037, -6.390917026876244, -6.339945047364217, -6.636953466462847, -7.088507978928433, -7.487509976119263, -6.455896701504183, -5.653112119217704, -5.077027029197204, -5.494528445044861, -8.580782759780929, -6.13555008201571, -5.804141787522428, -5.040060587445049, -5.183795459272947, -5.521894789834079, -6.225565451801382, -6.123084851379436, -5.644849364915634, -3.8096418645352625, -2.981128067037627, -3.547855017100042, -3.1917532341957484, -2.8393786116160777, -2.6407140150607837, -3.6731368422610635, -6.245911824620631, -6.64207443187976, -8.424598214982773, -6.805048171123887, -7.439443863204276, -6.005207079761611, -5.186109210781504, -2.871503704807636, -3.614212679284205, -2.238542959661679, -2.3930446026086614, -0.26901945264453087, -0.42937037018059243, -0.7872925152131467, 1.3994048243177275, 2.3618803764719436, 1.4466576947001402, 3.497590769525467, 1.0106044302452162, 1.8739572806428146, 1.8929036181127827, 2.631235170612725, 3.953604586630731, 6.756559179877405, 7.334170404234518, 6.605747290872498, 7.674480524146828, 8.247574463465309, 9.479787424936768, 7.08953226232326, 6.760580010315656, 7.5492242357472445, 7.252733547046701, 5.2554318199994565, 2.7980157877283265, 1.7210187932426022, 1.4273813358539282, 1.6909601224933484, 2.022236746017927, 1.9165546105101328, 3.231644718979731, 2.737867935549236, 3.01670481639795, 3.769208860042137, 5.904956422959341, 2.849992662808697, 1.5540087844873174, 2.556885195874605, 1.5301839934607901, 1.2259485095333176, 2.9381710103515184, 2.4464250067392728, 3.6345567928817664, 4.8295420931947035]}, {\"fill\": \"tonexty\", \"fillcolor\": \"rgba(50, 171, 96, 0.3)\", \"line\": {\"color\": \"rgba(50, 171, 96, 1.0)\", \"dash\": \"solid\", \"shape\": \"linear\", \"width\": 1.3}, \"mode\": \"lines\", \"name\": \"C\", \"text\": \"\", \"type\": \"scatter\", \"x\": [0, 1, 2, 3, 4, 5, 6, 7, 8, 9, 10, 11, 12, 13, 14, 15, 16, 17, 18, 19, 20, 21, 22, 23, 24, 25, 26, 27, 28, 29, 30, 31, 32, 33, 34, 35, 36, 37, 38, 39, 40, 41, 42, 43, 44, 45, 46, 47, 48, 49, 50, 51, 52, 53, 54, 55, 56, 57, 58, 59, 60, 61, 62, 63, 64, 65, 66, 67, 68, 69, 70, 71, 72, 73, 74, 75, 76, 77, 78, 79, 80, 81, 82, 83, 84, 85, 86, 87, 88, 89, 90, 91, 92, 93, 94, 95, 96, 97, 98, 99], \"y\": [-0.1419546106152928, 0.35960631563492784, -0.47483858863809936, -1.5414176901548609, 0.4986091461426799, -0.4965269513591326, -0.3005970840943588, 1.308781729072564, 1.3796912606008043, 1.896450740195993, 4.056036252007209, 0.21303321029249855, -1.2462142971732153, -2.2866055267950163, -2.266525477522405, -2.299161998989174, -5.082395886061001, -5.265352740007099, -6.725041614135761, -7.976137993968475, -7.256887026674022, -6.208538899722559, -6.260754907295899, -7.226412396078457, -9.189070867892507, -9.354197431426526, -6.380648750191039, -6.425561801600429, -8.123770198021724, -5.869276822559227, -9.466892517165846, -6.925907831854138, -6.35172064743903, -3.9620088365835793, -4.960716716421569, -5.0958547007794515, -4.840141163351065, -2.7916535842266614, -1.9078467017498282, -0.7123150570187926, -0.7353593959067837, -1.513901724076351, -1.7167964532196205, -1.41557160938489, -0.2319257483780044, -2.2372100458350634, -5.863765308849919, -8.039964080452936, -11.854689335953688, -10.55123738578154, -11.686010742408422, -9.458512401620059, -8.090427898291924, -6.182967444578887, -5.819949941950892, -3.2977090191705902, -2.5825304577879926, -1.9362530959890858, -2.639078601817089, -2.5956332180248145, -1.4530011404337104, -0.6793589844655541, -1.3743428735114671, -0.15651150912792122, -2.0119090780140203, -1.651670338845368, -2.199327775890618, -0.7070915897627295, 1.8567880613460837, 5.832560510750036, 4.949751582654991, 2.2853077879988417, 1.8808617302512758, 3.2081594796664925, 4.823329427923708, 2.478396432388922, 1.657438703460782, 1.451027012465608, 1.4094299723664143, -2.2043276393419102, -4.89612336304045, -6.078749979714253, -7.533459019146324, -8.46948341391272, -8.776387944639833, -8.642274382500242, -6.464303955523541, -7.025800615193127, -7.167227538915932, -6.5131304231106055, -3.7465711433781266, -6.964435823316968, -7.607624326763299, -7.569834929474597, -8.456629858015736, -7.778251618206012, -7.116595482735941, -7.404831705494227, -5.33782191431114, -6.367286107227265]}],\n",
       "                        {\"legend\": {\"bgcolor\": \"#151516\", \"font\": {\"color\": \"#D9D9D9\"}}, \"paper_bgcolor\": \"#151516\", \"plot_bgcolor\": \"#151516\", \"template\": {\"data\": {\"bar\": [{\"error_x\": {\"color\": \"#2a3f5f\"}, \"error_y\": {\"color\": \"#2a3f5f\"}, \"marker\": {\"line\": {\"color\": \"#E5ECF6\", \"width\": 0.5}}, \"type\": \"bar\"}], \"barpolar\": [{\"marker\": {\"line\": {\"color\": \"#E5ECF6\", \"width\": 0.5}}, \"type\": \"barpolar\"}], \"carpet\": [{\"aaxis\": {\"endlinecolor\": \"#2a3f5f\", \"gridcolor\": \"white\", \"linecolor\": \"white\", \"minorgridcolor\": \"white\", \"startlinecolor\": \"#2a3f5f\"}, \"baxis\": {\"endlinecolor\": \"#2a3f5f\", \"gridcolor\": \"white\", \"linecolor\": \"white\", \"minorgridcolor\": \"white\", \"startlinecolor\": \"#2a3f5f\"}, \"type\": \"carpet\"}], \"choropleth\": [{\"colorbar\": {\"outlinewidth\": 0, \"ticks\": \"\"}, \"type\": \"choropleth\"}], \"contour\": [{\"colorbar\": {\"outlinewidth\": 0, \"ticks\": \"\"}, \"colorscale\": [[0.0, \"#0d0887\"], [0.1111111111111111, \"#46039f\"], [0.2222222222222222, \"#7201a8\"], [0.3333333333333333, \"#9c179e\"], [0.4444444444444444, \"#bd3786\"], [0.5555555555555556, \"#d8576b\"], [0.6666666666666666, \"#ed7953\"], [0.7777777777777778, \"#fb9f3a\"], [0.8888888888888888, \"#fdca26\"], [1.0, \"#f0f921\"]], \"type\": \"contour\"}], \"contourcarpet\": [{\"colorbar\": {\"outlinewidth\": 0, \"ticks\": \"\"}, \"type\": \"contourcarpet\"}], \"heatmap\": [{\"colorbar\": {\"outlinewidth\": 0, \"ticks\": \"\"}, \"colorscale\": [[0.0, \"#0d0887\"], [0.1111111111111111, \"#46039f\"], [0.2222222222222222, \"#7201a8\"], [0.3333333333333333, \"#9c179e\"], [0.4444444444444444, \"#bd3786\"], [0.5555555555555556, \"#d8576b\"], [0.6666666666666666, \"#ed7953\"], [0.7777777777777778, \"#fb9f3a\"], [0.8888888888888888, \"#fdca26\"], [1.0, \"#f0f921\"]], \"type\": \"heatmap\"}], \"heatmapgl\": [{\"colorbar\": {\"outlinewidth\": 0, \"ticks\": \"\"}, \"colorscale\": [[0.0, \"#0d0887\"], [0.1111111111111111, \"#46039f\"], [0.2222222222222222, \"#7201a8\"], [0.3333333333333333, \"#9c179e\"], [0.4444444444444444, \"#bd3786\"], [0.5555555555555556, \"#d8576b\"], [0.6666666666666666, \"#ed7953\"], [0.7777777777777778, \"#fb9f3a\"], [0.8888888888888888, \"#fdca26\"], [1.0, \"#f0f921\"]], \"type\": \"heatmapgl\"}], \"histogram\": [{\"marker\": {\"colorbar\": {\"outlinewidth\": 0, \"ticks\": \"\"}}, \"type\": \"histogram\"}], \"histogram2d\": [{\"colorbar\": {\"outlinewidth\": 0, \"ticks\": \"\"}, \"colorscale\": [[0.0, \"#0d0887\"], [0.1111111111111111, \"#46039f\"], [0.2222222222222222, \"#7201a8\"], [0.3333333333333333, \"#9c179e\"], [0.4444444444444444, \"#bd3786\"], [0.5555555555555556, \"#d8576b\"], [0.6666666666666666, \"#ed7953\"], [0.7777777777777778, \"#fb9f3a\"], [0.8888888888888888, \"#fdca26\"], [1.0, \"#f0f921\"]], \"type\": \"histogram2d\"}], \"histogram2dcontour\": [{\"colorbar\": {\"outlinewidth\": 0, \"ticks\": \"\"}, \"colorscale\": [[0.0, \"#0d0887\"], [0.1111111111111111, \"#46039f\"], [0.2222222222222222, \"#7201a8\"], [0.3333333333333333, \"#9c179e\"], [0.4444444444444444, \"#bd3786\"], [0.5555555555555556, \"#d8576b\"], [0.6666666666666666, \"#ed7953\"], [0.7777777777777778, \"#fb9f3a\"], [0.8888888888888888, \"#fdca26\"], [1.0, \"#f0f921\"]], \"type\": \"histogram2dcontour\"}], \"mesh3d\": [{\"colorbar\": {\"outlinewidth\": 0, \"ticks\": \"\"}, \"type\": \"mesh3d\"}], \"parcoords\": [{\"line\": {\"colorbar\": {\"outlinewidth\": 0, \"ticks\": \"\"}}, \"type\": \"parcoords\"}], \"pie\": [{\"automargin\": true, \"type\": \"pie\"}], \"scatter\": [{\"marker\": {\"colorbar\": {\"outlinewidth\": 0, \"ticks\": \"\"}}, \"type\": \"scatter\"}], \"scatter3d\": [{\"line\": {\"colorbar\": {\"outlinewidth\": 0, \"ticks\": \"\"}}, \"marker\": {\"colorbar\": {\"outlinewidth\": 0, \"ticks\": \"\"}}, \"type\": \"scatter3d\"}], \"scattercarpet\": [{\"marker\": {\"colorbar\": {\"outlinewidth\": 0, \"ticks\": \"\"}}, \"type\": \"scattercarpet\"}], \"scattergeo\": [{\"marker\": {\"colorbar\": {\"outlinewidth\": 0, \"ticks\": \"\"}}, \"type\": \"scattergeo\"}], \"scattergl\": [{\"marker\": {\"colorbar\": {\"outlinewidth\": 0, \"ticks\": \"\"}}, \"type\": \"scattergl\"}], \"scattermapbox\": [{\"marker\": {\"colorbar\": {\"outlinewidth\": 0, \"ticks\": \"\"}}, \"type\": \"scattermapbox\"}], \"scatterpolar\": [{\"marker\": {\"colorbar\": {\"outlinewidth\": 0, \"ticks\": \"\"}}, \"type\": \"scatterpolar\"}], \"scatterpolargl\": [{\"marker\": {\"colorbar\": {\"outlinewidth\": 0, \"ticks\": \"\"}}, \"type\": \"scatterpolargl\"}], \"scatterternary\": [{\"marker\": {\"colorbar\": {\"outlinewidth\": 0, \"ticks\": \"\"}}, \"type\": \"scatterternary\"}], \"surface\": [{\"colorbar\": {\"outlinewidth\": 0, \"ticks\": \"\"}, \"colorscale\": [[0.0, \"#0d0887\"], [0.1111111111111111, \"#46039f\"], [0.2222222222222222, \"#7201a8\"], [0.3333333333333333, \"#9c179e\"], [0.4444444444444444, \"#bd3786\"], [0.5555555555555556, \"#d8576b\"], [0.6666666666666666, \"#ed7953\"], [0.7777777777777778, \"#fb9f3a\"], [0.8888888888888888, \"#fdca26\"], [1.0, \"#f0f921\"]], \"type\": \"surface\"}], \"table\": [{\"cells\": {\"fill\": {\"color\": \"#EBF0F8\"}, \"line\": {\"color\": \"white\"}}, \"header\": {\"fill\": {\"color\": \"#C8D4E3\"}, \"line\": {\"color\": \"white\"}}, \"type\": \"table\"}]}, \"layout\": {\"annotationdefaults\": {\"arrowcolor\": \"#2a3f5f\", \"arrowhead\": 0, \"arrowwidth\": 1}, \"coloraxis\": {\"colorbar\": {\"outlinewidth\": 0, \"ticks\": \"\"}}, \"colorscale\": {\"diverging\": [[0, \"#8e0152\"], [0.1, \"#c51b7d\"], [0.2, \"#de77ae\"], [0.3, \"#f1b6da\"], [0.4, \"#fde0ef\"], [0.5, \"#f7f7f7\"], [0.6, \"#e6f5d0\"], [0.7, \"#b8e186\"], [0.8, \"#7fbc41\"], [0.9, \"#4d9221\"], [1, \"#276419\"]], \"sequential\": [[0.0, \"#0d0887\"], [0.1111111111111111, \"#46039f\"], [0.2222222222222222, \"#7201a8\"], [0.3333333333333333, \"#9c179e\"], [0.4444444444444444, \"#bd3786\"], [0.5555555555555556, \"#d8576b\"], [0.6666666666666666, \"#ed7953\"], [0.7777777777777778, \"#fb9f3a\"], [0.8888888888888888, \"#fdca26\"], [1.0, \"#f0f921\"]], \"sequentialminus\": [[0.0, \"#0d0887\"], [0.1111111111111111, \"#46039f\"], [0.2222222222222222, \"#7201a8\"], [0.3333333333333333, \"#9c179e\"], [0.4444444444444444, \"#bd3786\"], [0.5555555555555556, \"#d8576b\"], [0.6666666666666666, \"#ed7953\"], [0.7777777777777778, \"#fb9f3a\"], [0.8888888888888888, \"#fdca26\"], [1.0, \"#f0f921\"]]}, \"colorway\": [\"#636efa\", \"#EF553B\", \"#00cc96\", \"#ab63fa\", \"#FFA15A\", \"#19d3f3\", \"#FF6692\", \"#B6E880\", \"#FF97FF\", \"#FECB52\"], \"font\": {\"color\": \"#2a3f5f\"}, \"geo\": {\"bgcolor\": \"white\", \"lakecolor\": \"white\", \"landcolor\": \"#E5ECF6\", \"showlakes\": true, \"showland\": true, \"subunitcolor\": \"white\"}, \"hoverlabel\": {\"align\": \"left\"}, \"hovermode\": \"closest\", \"mapbox\": {\"style\": \"light\"}, \"paper_bgcolor\": \"white\", \"plot_bgcolor\": \"#E5ECF6\", \"polar\": {\"angularaxis\": {\"gridcolor\": \"white\", \"linecolor\": \"white\", \"ticks\": \"\"}, \"bgcolor\": \"#E5ECF6\", \"radialaxis\": {\"gridcolor\": \"white\", \"linecolor\": \"white\", \"ticks\": \"\"}}, \"scene\": {\"xaxis\": {\"backgroundcolor\": \"#E5ECF6\", \"gridcolor\": \"white\", \"gridwidth\": 2, \"linecolor\": \"white\", \"showbackground\": true, \"ticks\": \"\", \"zerolinecolor\": \"white\"}, \"yaxis\": {\"backgroundcolor\": \"#E5ECF6\", \"gridcolor\": \"white\", \"gridwidth\": 2, \"linecolor\": \"white\", \"showbackground\": true, \"ticks\": \"\", \"zerolinecolor\": \"white\"}, \"zaxis\": {\"backgroundcolor\": \"#E5ECF6\", \"gridcolor\": \"white\", \"gridwidth\": 2, \"linecolor\": \"white\", \"showbackground\": true, \"ticks\": \"\", \"zerolinecolor\": \"white\"}}, \"shapedefaults\": {\"line\": {\"color\": \"#2a3f5f\"}}, \"ternary\": {\"aaxis\": {\"gridcolor\": \"white\", \"linecolor\": \"white\", \"ticks\": \"\"}, \"baxis\": {\"gridcolor\": \"white\", \"linecolor\": \"white\", \"ticks\": \"\"}, \"bgcolor\": \"#E5ECF6\", \"caxis\": {\"gridcolor\": \"white\", \"linecolor\": \"white\", \"ticks\": \"\"}}, \"title\": {\"x\": 0.05}, \"xaxis\": {\"automargin\": true, \"gridcolor\": \"white\", \"linecolor\": \"white\", \"ticks\": \"\", \"title\": {\"standoff\": 15}, \"zerolinecolor\": \"white\", \"zerolinewidth\": 2}, \"yaxis\": {\"automargin\": true, \"gridcolor\": \"white\", \"linecolor\": \"white\", \"ticks\": \"\", \"title\": {\"standoff\": 15}, \"zerolinecolor\": \"white\", \"zerolinewidth\": 2}}}, \"title\": {\"font\": {\"color\": \"#D9D9D9\"}}, \"xaxis\": {\"gridcolor\": \"#434343\", \"showgrid\": true, \"tickfont\": {\"color\": \"#C2C2C2\"}, \"title\": {\"font\": {\"color\": \"#D9D9D9\"}, \"text\": \"\"}, \"zerolinecolor\": \"#666570\"}, \"yaxis\": {\"gridcolor\": \"#434343\", \"showgrid\": true, \"tickfont\": {\"color\": \"#C2C2C2\"}, \"title\": {\"font\": {\"color\": \"#D9D9D9\"}, \"text\": \"\"}, \"zerolinecolor\": \"#666570\"}},\n",
       "                        {\"showLink\": true, \"linkText\": \"Export to plot.ly\", \"plotlyServerURL\": \"https://plot.ly\", \"responsive\": true}\n",
       "                    ).then(function(){\n",
       "                            \n",
       "var gd = document.getElementById('cb3544c0-2013-497c-8be0-d5df5adba8f9');\n",
       "var x = new MutationObserver(function (mutations, observer) {{\n",
       "        var display = window.getComputedStyle(gd).display;\n",
       "        if (!display || display === 'none') {{\n",
       "            console.log([gd, 'removed!']);\n",
       "            Plotly.purge(gd);\n",
       "            observer.disconnect();\n",
       "        }}\n",
       "}});\n",
       "\n",
       "// Listen for the removal of the full notebook cells\n",
       "var notebookContainer = gd.closest('#notebook-container');\n",
       "if (notebookContainer) {{\n",
       "    x.observe(notebookContainer, {childList: true});\n",
       "}}\n",
       "\n",
       "// Listen for the clearing of the current output cell\n",
       "var outputEl = gd.closest('.output');\n",
       "if (outputEl) {{\n",
       "    x.observe(outputEl, {childList: true});\n",
       "}}\n",
       "\n",
       "                        })\n",
       "                };\n",
       "                });\n",
       "            </script>\n",
       "        </div>"
      ]
     },
     "metadata": {},
     "output_type": "display_data"
    }
   ],
   "source": [
    "df.cumsum().iplot(kind='area',fill=True)"
   ]
  },
  {
   "cell_type": "code",
   "execution_count": 37,
   "metadata": {},
   "outputs": [
    {
     "data": {
      "application/vnd.plotly.v1+json": {
       "config": {
        "linkText": "Export to plot.ly",
        "plotlyServerURL": "https://plot.ly",
        "showLink": true
       },
       "data": [
        {
         "colorscale": [
          [
           0,
           "rgb(255, 153, 51)"
          ],
          [
           0.1111111111111111,
           "rgb(55, 128, 191)"
          ],
          [
           0.2222222222222222,
           "rgb(50, 171, 96)"
          ],
          [
           0.3333333333333333,
           "rgb(128, 0, 128)"
          ],
          [
           0.4444444444444444,
           "rgb(219, 64, 82)"
          ],
          [
           0.5555555555555556,
           "rgb(0, 128, 128)"
          ],
          [
           0.6666666666666666,
           "rgb(255, 255, 51)"
          ],
          [
           0.7777777777777778,
           "rgb(128, 128, 0)"
          ],
          [
           0.8888888888888888,
           "rgb(251, 128, 114)"
          ],
          [
           1,
           "rgb(128, 177, 211)"
          ]
         ],
         "type": "surface",
         "x": [
          0,
          1,
          2,
          3,
          4,
          5,
          6,
          7,
          8,
          9,
          10,
          11,
          12,
          13,
          14,
          15,
          16,
          17,
          18,
          19,
          20,
          21,
          22,
          23,
          24,
          25,
          26,
          27,
          28,
          29,
          30,
          31,
          32,
          33,
          34,
          35,
          36,
          37,
          38,
          39,
          40,
          41,
          42,
          43,
          44,
          45,
          46,
          47,
          48,
          49,
          50,
          51,
          52,
          53,
          54,
          55,
          56,
          57,
          58,
          59,
          60,
          61,
          62,
          63,
          64,
          65,
          66,
          67,
          68,
          69,
          70,
          71,
          72,
          73,
          74,
          75,
          76,
          77,
          78,
          79,
          80,
          81,
          82,
          83,
          84,
          85,
          86,
          87,
          88,
          89,
          90,
          91,
          92,
          93,
          94,
          95,
          96,
          97,
          98,
          99
         ],
         "y": [
          "A",
          "B",
          "C"
         ],
         "z": [
          [
           1.1512230023350842,
           -0.557470327282694,
           0.5778840486258854,
           -0.344679605990289,
           2.0195394436412415,
           1.2407042615096386,
           -0.40385148300708257,
           0.598857704959885,
           -2.332680959813732,
           0.604661492832849,
           1.3402089802835433,
           -0.9534173766078794,
           -1.3529724142016502,
           -0.1977908456280201,
           -1.2716219077535589,
           -0.3629735985088518,
           -0.0037816647902428908,
           -0.637841997494424,
           -0.43914695100366863,
           -0.08485981865963914,
           1.2539420377490695,
           0.917033977248479,
           0.6815449910061759,
           0.4853801588888736,
           -0.21913259729452908,
           -0.07130501829656434,
           -0.4820865402352392,
           0.5241669711472657,
           0.4761629901492746,
           -0.4523144207365586,
           -1.3476364305195896,
           1.6245050077764234,
           -0.3496712134189109,
           1.023793572781277,
           0.7353873261113719,
           -1.0521699679032233,
           -0.18259348101057116,
           -0.36046699282993677,
           0.43420026758421815,
           0.8911492275099812,
           0.9134274997439051,
           -0.1933694290700083,
           -0.5298711209835657,
           1.7986479893549372,
           -0.9221455892060905,
           -0.8087803031169282,
           -1.4783406401947263,
           -0.2202978087153998,
           -1.2583710373056547,
           0.9214498727348472,
           0.7755019956334234,
           1.32151023430833,
           0.4539159585357842,
           1.123493242803924,
           -0.44944473879604535,
           1.431560184057679,
           -0.58212840743926,
           1.2104555100827499,
           0.4021111006334402,
           -0.5014756926841697,
           1.1957274431499987,
           0.6251036649148064,
           -0.6890695800733205,
           0.4294631143504364,
           -0.6206090619404612,
           -0.3987984840825513,
           0.5172954974180466,
           0.4242974461002807,
           1.1773609234412852,
           -0.18639736809154978,
           0.1683404405338652,
           -0.5975996242793816,
           -0.08948662336407827,
           0.8498990784659077,
           0.6889636303159015,
           -1.491717487274004,
           -0.24684601277092116,
           0.8231947284139284,
           -0.4833331550230219,
           -0.4017961938349551,
           -0.5429728752891533,
           -0.6775046608220098,
           0.37783652098276266,
           1.0215419382384807,
           0.49134043010576145,
           -1.014571415304215,
           0.5080913400621264,
           -1.5478048611895807,
           1.2674560501327814,
           -0.19007809437324244,
           1.2629079774805692,
           -0.8745168936734076,
           -1.716390139894592,
           1.8056565330233856,
           -0.003960951689908947,
           -1.4231814685587842,
           1.443110635103916,
           0.33950589311135804,
           1.628325486642706,
           2.507004497964046
          ],
          [
           -0.788987503239302,
           -0.5422585061278927,
           0.9892326356388509,
           -0.9461434438448012,
           -0.09402921916431635,
           -0.19924865024640628,
           0.8590593929331023,
           -0.9091925011826195,
           1.495692083105582,
           -1.6118403719596144,
           -0.46401451440320013,
           -1.4070006323123079,
           1.1022232511113057,
           -0.8801106685817904,
           -0.11982461188886281,
           0.19486191953463708,
           -1.5113145147257037,
           -0.699094427526284,
           -0.09679432849349116,
           -0.7227144546223931,
           -1.134313894919993,
           0.3339299355953139,
           -0.6305730114941479,
           -0.7823885779875046,
           -0.23242191517105823,
           -0.327696978894264,
           1.5136998148503198,
           0.27861761113921285,
           0.09992209987122552,
           0.03481300488890165,
           -1.7386178842164774,
           0.8207276699887942,
           0.6810795079121932,
           -0.25971237270389763,
           -0.8791221979392699,
           0.7140706373420913,
           -0.5210771809567327,
           0.4629475932518827,
           0.04403521887958377,
           0.9440582728703901,
           -0.08491370224626968,
           -0.3733575209924074,
           0.8859729038878594,
           -1.4462733667752667,
           1.120810185761385,
           -0.22364252408335195,
           -1.0944343421648408,
           -0.1758647985437288,
           -0.5241527457973575,
           0.6981001711240383,
           -1.4098976877138127,
           0.11272654913433439,
           0.36518191044432197,
           1.1911122631699438,
           -0.2932642356805239,
           -0.05589046443515251,
           0.4276267644922778,
           0.9135696398813802,
           -0.5624620181695016,
           0.14355354765161582,
           0.9909698963808752,
           0.337371887239409,
           -0.2261531016984824,
           1.62146996047489,
           -1.8663772773397898,
           1.2621513344801494,
           -0.4983491599480794,
           0.31403410639966095,
           0.14500849257672144,
           2.9893519613382233,
           0.40927078382324755,
           -0.13082348908263977,
           1.1582198566384083,
           -0.2768051391474269,
           0.5432493311555578,
           -0.8985376753395058,
           -0.08210623923668232,
           -0.034550502982340484,
           0.18684246632247917,
           -1.5955055332122907,
           -1.9144431569819769,
           -0.3994923336637148,
           -0.6714739783714367,
           -0.7579631515990602,
           -0.160063806581183,
           0.9088892797964211,
           0.8069987684074711,
           1.0540280777590865,
           -0.9886191692840667,
           0.9425821380174294,
           0.8728395854366348,
           -2.1804468664772365,
           0.42040626157321276,
           -0.8027801216360984,
           -1.0227402507239063,
           1.1189459846313115,
           0.269111865714286,
           -0.831251896723604,
           -0.4401937005002115,
           -1.3120191976511089
          ],
          [
           -0.504190109711075,
           1.6012897596608073,
           -2.4015615885377635,
           0.22424394831832875,
           0.11451661182061569,
           -2.0365917087650445,
           -0.2592780426612458,
           1.9197136093896574,
           0.9078984082363902,
           1.5239383587219542,
           1.283391045930873,
           -1.4825850327945231,
           -1.2084983443753696,
           0.03751028458800968,
           1.411526568915033,
           0.13547515750744535,
           -1.2681377075558802,
           1.1539795710746097,
           -0.9237475946315008,
           -0.4435221065506829,
           0.5996228244653771,
           -0.20261578589232965,
           -0.10318798708536814,
           -0.6686490696839271,
           -1.5111039593484648,
           0.23387543365681107,
           1.9419354066204064,
           -0.8476976336958679,
           -2.2742934864417954,
           2.671994791310154,
           -0.5113613798705504,
           0.09575200754648848,
           0.24277888992182603,
           1.625630610778071,
           -0.8549730080100917,
           0.20296134620324963,
           0.9593841993956891,
           1.946006978702458,
           0.40557139601303205,
           -0.6396758556493364,
           -0.8515581363856267,
           -0.21181537810715237,
           -0.558996512047563,
           -0.05114977874494024,
           0.9849812644515917,
           -0.9728614702567793,
           -1.0537802806552885,
           -1.780036164343888,
           -2.0322014723977397,
           -0.31609809368673764,
           -0.500377664546493,
           0.7932615573456987,
           0.5489866343480266,
           -0.40714505226083064,
           1.105726477104565,
           1.1465712031577753,
           0.8696802043295803,
           -1.477747788165224,
           -0.542474588291942,
           0.4013675288248289,
           -1.0440652619397701,
           -0.18883339618605968,
           0.22023879272589045,
           -0.8331017104417808,
           0.631588770394152,
           -0.5031141112289463,
           -0.5666037745152175,
           0.7539046336279461,
           1.2415102350908072,
           1.1728178561572784,
           -1.4604201524521583,
           -1.9360206812941283,
           -1.473179291021896,
           0.7542038100967359,
           0.38295698678575607,
           0.04532216707872163,
           -0.4920054769205359,
           -0.995055916426763,
           0.25489364860134983,
           -1.61645588466108,
           -0.23437969142740975,
           -0.10562962218807836,
           -1.1610715820433977,
           -1.1996031814058148,
           -0.6381811542516939,
           0.2397956976473858,
           0.8628803185071027,
           -0.06771987623909129,
           -0.4202638045715199,
           -0.09840692783886096,
           0.6308117168152751,
           -0.16290091978819743,
           0.6527953748750503,
           -0.965087014098585,
           0.13990627387267512,
           0.9826137237371966,
           -1.0505663653481307,
           0.20350978085395932,
           0.8788780050405945,
           -2.2244494932290633
          ]
         ]
        }
       ],
       "layout": {
        "legend": {
         "bgcolor": "#151516",
         "font": {
          "color": "#D9D9D9"
         }
        },
        "paper_bgcolor": "#151516",
        "plot_bgcolor": "#151516",
        "template": {
         "data": {
          "bar": [
           {
            "error_x": {
             "color": "#2a3f5f"
            },
            "error_y": {
             "color": "#2a3f5f"
            },
            "marker": {
             "line": {
              "color": "#E5ECF6",
              "width": 0.5
             }
            },
            "type": "bar"
           }
          ],
          "barpolar": [
           {
            "marker": {
             "line": {
              "color": "#E5ECF6",
              "width": 0.5
             }
            },
            "type": "barpolar"
           }
          ],
          "carpet": [
           {
            "aaxis": {
             "endlinecolor": "#2a3f5f",
             "gridcolor": "white",
             "linecolor": "white",
             "minorgridcolor": "white",
             "startlinecolor": "#2a3f5f"
            },
            "baxis": {
             "endlinecolor": "#2a3f5f",
             "gridcolor": "white",
             "linecolor": "white",
             "minorgridcolor": "white",
             "startlinecolor": "#2a3f5f"
            },
            "type": "carpet"
           }
          ],
          "choropleth": [
           {
            "colorbar": {
             "outlinewidth": 0,
             "ticks": ""
            },
            "type": "choropleth"
           }
          ],
          "contour": [
           {
            "colorbar": {
             "outlinewidth": 0,
             "ticks": ""
            },
            "colorscale": [
             [
              0,
              "#0d0887"
             ],
             [
              0.1111111111111111,
              "#46039f"
             ],
             [
              0.2222222222222222,
              "#7201a8"
             ],
             [
              0.3333333333333333,
              "#9c179e"
             ],
             [
              0.4444444444444444,
              "#bd3786"
             ],
             [
              0.5555555555555556,
              "#d8576b"
             ],
             [
              0.6666666666666666,
              "#ed7953"
             ],
             [
              0.7777777777777778,
              "#fb9f3a"
             ],
             [
              0.8888888888888888,
              "#fdca26"
             ],
             [
              1,
              "#f0f921"
             ]
            ],
            "type": "contour"
           }
          ],
          "contourcarpet": [
           {
            "colorbar": {
             "outlinewidth": 0,
             "ticks": ""
            },
            "type": "contourcarpet"
           }
          ],
          "heatmap": [
           {
            "colorbar": {
             "outlinewidth": 0,
             "ticks": ""
            },
            "colorscale": [
             [
              0,
              "#0d0887"
             ],
             [
              0.1111111111111111,
              "#46039f"
             ],
             [
              0.2222222222222222,
              "#7201a8"
             ],
             [
              0.3333333333333333,
              "#9c179e"
             ],
             [
              0.4444444444444444,
              "#bd3786"
             ],
             [
              0.5555555555555556,
              "#d8576b"
             ],
             [
              0.6666666666666666,
              "#ed7953"
             ],
             [
              0.7777777777777778,
              "#fb9f3a"
             ],
             [
              0.8888888888888888,
              "#fdca26"
             ],
             [
              1,
              "#f0f921"
             ]
            ],
            "type": "heatmap"
           }
          ],
          "heatmapgl": [
           {
            "colorbar": {
             "outlinewidth": 0,
             "ticks": ""
            },
            "colorscale": [
             [
              0,
              "#0d0887"
             ],
             [
              0.1111111111111111,
              "#46039f"
             ],
             [
              0.2222222222222222,
              "#7201a8"
             ],
             [
              0.3333333333333333,
              "#9c179e"
             ],
             [
              0.4444444444444444,
              "#bd3786"
             ],
             [
              0.5555555555555556,
              "#d8576b"
             ],
             [
              0.6666666666666666,
              "#ed7953"
             ],
             [
              0.7777777777777778,
              "#fb9f3a"
             ],
             [
              0.8888888888888888,
              "#fdca26"
             ],
             [
              1,
              "#f0f921"
             ]
            ],
            "type": "heatmapgl"
           }
          ],
          "histogram": [
           {
            "marker": {
             "colorbar": {
              "outlinewidth": 0,
              "ticks": ""
             }
            },
            "type": "histogram"
           }
          ],
          "histogram2d": [
           {
            "colorbar": {
             "outlinewidth": 0,
             "ticks": ""
            },
            "colorscale": [
             [
              0,
              "#0d0887"
             ],
             [
              0.1111111111111111,
              "#46039f"
             ],
             [
              0.2222222222222222,
              "#7201a8"
             ],
             [
              0.3333333333333333,
              "#9c179e"
             ],
             [
              0.4444444444444444,
              "#bd3786"
             ],
             [
              0.5555555555555556,
              "#d8576b"
             ],
             [
              0.6666666666666666,
              "#ed7953"
             ],
             [
              0.7777777777777778,
              "#fb9f3a"
             ],
             [
              0.8888888888888888,
              "#fdca26"
             ],
             [
              1,
              "#f0f921"
             ]
            ],
            "type": "histogram2d"
           }
          ],
          "histogram2dcontour": [
           {
            "colorbar": {
             "outlinewidth": 0,
             "ticks": ""
            },
            "colorscale": [
             [
              0,
              "#0d0887"
             ],
             [
              0.1111111111111111,
              "#46039f"
             ],
             [
              0.2222222222222222,
              "#7201a8"
             ],
             [
              0.3333333333333333,
              "#9c179e"
             ],
             [
              0.4444444444444444,
              "#bd3786"
             ],
             [
              0.5555555555555556,
              "#d8576b"
             ],
             [
              0.6666666666666666,
              "#ed7953"
             ],
             [
              0.7777777777777778,
              "#fb9f3a"
             ],
             [
              0.8888888888888888,
              "#fdca26"
             ],
             [
              1,
              "#f0f921"
             ]
            ],
            "type": "histogram2dcontour"
           }
          ],
          "mesh3d": [
           {
            "colorbar": {
             "outlinewidth": 0,
             "ticks": ""
            },
            "type": "mesh3d"
           }
          ],
          "parcoords": [
           {
            "line": {
             "colorbar": {
              "outlinewidth": 0,
              "ticks": ""
             }
            },
            "type": "parcoords"
           }
          ],
          "pie": [
           {
            "automargin": true,
            "type": "pie"
           }
          ],
          "scatter": [
           {
            "marker": {
             "colorbar": {
              "outlinewidth": 0,
              "ticks": ""
             }
            },
            "type": "scatter"
           }
          ],
          "scatter3d": [
           {
            "line": {
             "colorbar": {
              "outlinewidth": 0,
              "ticks": ""
             }
            },
            "marker": {
             "colorbar": {
              "outlinewidth": 0,
              "ticks": ""
             }
            },
            "type": "scatter3d"
           }
          ],
          "scattercarpet": [
           {
            "marker": {
             "colorbar": {
              "outlinewidth": 0,
              "ticks": ""
             }
            },
            "type": "scattercarpet"
           }
          ],
          "scattergeo": [
           {
            "marker": {
             "colorbar": {
              "outlinewidth": 0,
              "ticks": ""
             }
            },
            "type": "scattergeo"
           }
          ],
          "scattergl": [
           {
            "marker": {
             "colorbar": {
              "outlinewidth": 0,
              "ticks": ""
             }
            },
            "type": "scattergl"
           }
          ],
          "scattermapbox": [
           {
            "marker": {
             "colorbar": {
              "outlinewidth": 0,
              "ticks": ""
             }
            },
            "type": "scattermapbox"
           }
          ],
          "scatterpolar": [
           {
            "marker": {
             "colorbar": {
              "outlinewidth": 0,
              "ticks": ""
             }
            },
            "type": "scatterpolar"
           }
          ],
          "scatterpolargl": [
           {
            "marker": {
             "colorbar": {
              "outlinewidth": 0,
              "ticks": ""
             }
            },
            "type": "scatterpolargl"
           }
          ],
          "scatterternary": [
           {
            "marker": {
             "colorbar": {
              "outlinewidth": 0,
              "ticks": ""
             }
            },
            "type": "scatterternary"
           }
          ],
          "surface": [
           {
            "colorbar": {
             "outlinewidth": 0,
             "ticks": ""
            },
            "colorscale": [
             [
              0,
              "#0d0887"
             ],
             [
              0.1111111111111111,
              "#46039f"
             ],
             [
              0.2222222222222222,
              "#7201a8"
             ],
             [
              0.3333333333333333,
              "#9c179e"
             ],
             [
              0.4444444444444444,
              "#bd3786"
             ],
             [
              0.5555555555555556,
              "#d8576b"
             ],
             [
              0.6666666666666666,
              "#ed7953"
             ],
             [
              0.7777777777777778,
              "#fb9f3a"
             ],
             [
              0.8888888888888888,
              "#fdca26"
             ],
             [
              1,
              "#f0f921"
             ]
            ],
            "type": "surface"
           }
          ],
          "table": [
           {
            "cells": {
             "fill": {
              "color": "#EBF0F8"
             },
             "line": {
              "color": "white"
             }
            },
            "header": {
             "fill": {
              "color": "#C8D4E3"
             },
             "line": {
              "color": "white"
             }
            },
            "type": "table"
           }
          ]
         },
         "layout": {
          "annotationdefaults": {
           "arrowcolor": "#2a3f5f",
           "arrowhead": 0,
           "arrowwidth": 1
          },
          "coloraxis": {
           "colorbar": {
            "outlinewidth": 0,
            "ticks": ""
           }
          },
          "colorscale": {
           "diverging": [
            [
             0,
             "#8e0152"
            ],
            [
             0.1,
             "#c51b7d"
            ],
            [
             0.2,
             "#de77ae"
            ],
            [
             0.3,
             "#f1b6da"
            ],
            [
             0.4,
             "#fde0ef"
            ],
            [
             0.5,
             "#f7f7f7"
            ],
            [
             0.6,
             "#e6f5d0"
            ],
            [
             0.7,
             "#b8e186"
            ],
            [
             0.8,
             "#7fbc41"
            ],
            [
             0.9,
             "#4d9221"
            ],
            [
             1,
             "#276419"
            ]
           ],
           "sequential": [
            [
             0,
             "#0d0887"
            ],
            [
             0.1111111111111111,
             "#46039f"
            ],
            [
             0.2222222222222222,
             "#7201a8"
            ],
            [
             0.3333333333333333,
             "#9c179e"
            ],
            [
             0.4444444444444444,
             "#bd3786"
            ],
            [
             0.5555555555555556,
             "#d8576b"
            ],
            [
             0.6666666666666666,
             "#ed7953"
            ],
            [
             0.7777777777777778,
             "#fb9f3a"
            ],
            [
             0.8888888888888888,
             "#fdca26"
            ],
            [
             1,
             "#f0f921"
            ]
           ],
           "sequentialminus": [
            [
             0,
             "#0d0887"
            ],
            [
             0.1111111111111111,
             "#46039f"
            ],
            [
             0.2222222222222222,
             "#7201a8"
            ],
            [
             0.3333333333333333,
             "#9c179e"
            ],
            [
             0.4444444444444444,
             "#bd3786"
            ],
            [
             0.5555555555555556,
             "#d8576b"
            ],
            [
             0.6666666666666666,
             "#ed7953"
            ],
            [
             0.7777777777777778,
             "#fb9f3a"
            ],
            [
             0.8888888888888888,
             "#fdca26"
            ],
            [
             1,
             "#f0f921"
            ]
           ]
          },
          "colorway": [
           "#636efa",
           "#EF553B",
           "#00cc96",
           "#ab63fa",
           "#FFA15A",
           "#19d3f3",
           "#FF6692",
           "#B6E880",
           "#FF97FF",
           "#FECB52"
          ],
          "font": {
           "color": "#2a3f5f"
          },
          "geo": {
           "bgcolor": "white",
           "lakecolor": "white",
           "landcolor": "#E5ECF6",
           "showlakes": true,
           "showland": true,
           "subunitcolor": "white"
          },
          "hoverlabel": {
           "align": "left"
          },
          "hovermode": "closest",
          "mapbox": {
           "style": "light"
          },
          "paper_bgcolor": "white",
          "plot_bgcolor": "#E5ECF6",
          "polar": {
           "angularaxis": {
            "gridcolor": "white",
            "linecolor": "white",
            "ticks": ""
           },
           "bgcolor": "#E5ECF6",
           "radialaxis": {
            "gridcolor": "white",
            "linecolor": "white",
            "ticks": ""
           }
          },
          "scene": {
           "xaxis": {
            "backgroundcolor": "#E5ECF6",
            "gridcolor": "white",
            "gridwidth": 2,
            "linecolor": "white",
            "showbackground": true,
            "ticks": "",
            "zerolinecolor": "white"
           },
           "yaxis": {
            "backgroundcolor": "#E5ECF6",
            "gridcolor": "white",
            "gridwidth": 2,
            "linecolor": "white",
            "showbackground": true,
            "ticks": "",
            "zerolinecolor": "white"
           },
           "zaxis": {
            "backgroundcolor": "#E5ECF6",
            "gridcolor": "white",
            "gridwidth": 2,
            "linecolor": "white",
            "showbackground": true,
            "ticks": "",
            "zerolinecolor": "white"
           }
          },
          "shapedefaults": {
           "line": {
            "color": "#2a3f5f"
           }
          },
          "ternary": {
           "aaxis": {
            "gridcolor": "white",
            "linecolor": "white",
            "ticks": ""
           },
           "baxis": {
            "gridcolor": "white",
            "linecolor": "white",
            "ticks": ""
           },
           "bgcolor": "#E5ECF6",
           "caxis": {
            "gridcolor": "white",
            "linecolor": "white",
            "ticks": ""
           }
          },
          "title": {
           "x": 0.05
          },
          "xaxis": {
           "automargin": true,
           "gridcolor": "white",
           "linecolor": "white",
           "ticks": "",
           "title": {
            "standoff": 15
           },
           "zerolinecolor": "white",
           "zerolinewidth": 2
          },
          "yaxis": {
           "automargin": true,
           "gridcolor": "white",
           "linecolor": "white",
           "ticks": "",
           "title": {
            "standoff": 15
           },
           "zerolinecolor": "white",
           "zerolinewidth": 2
          }
         }
        },
        "title": {
         "font": {
          "color": "#D9D9D9"
         }
        },
        "xaxis": {
         "gridcolor": "#434343",
         "showgrid": true,
         "tickfont": {
          "color": "#C2C2C2"
         },
         "title": {
          "font": {
           "color": "#D9D9D9"
          },
          "text": ""
         },
         "zerolinecolor": "#666570"
        },
        "yaxis": {
         "gridcolor": "#434343",
         "showgrid": true,
         "tickfont": {
          "color": "#C2C2C2"
         },
         "title": {
          "font": {
           "color": "#D9D9D9"
          },
          "text": ""
         },
         "zerolinecolor": "#666570"
        }
       }
      },
      "text/html": [
       "<div>\n",
       "        \n",
       "        \n",
       "            <div id=\"68b67a2d-2690-4811-8954-2b97490a1a76\" class=\"plotly-graph-div\" style=\"height:525px; width:100%;\"></div>\n",
       "            <script type=\"text/javascript\">\n",
       "                require([\"plotly\"], function(Plotly) {\n",
       "                    window.PLOTLYENV=window.PLOTLYENV || {};\n",
       "                    window.PLOTLYENV.BASE_URL='https://plot.ly';\n",
       "                    \n",
       "                if (document.getElementById(\"68b67a2d-2690-4811-8954-2b97490a1a76\")) {\n",
       "                    Plotly.newPlot(\n",
       "                        '68b67a2d-2690-4811-8954-2b97490a1a76',\n",
       "                        [{\"colorscale\": [[0.0, \"rgb(255, 153, 51)\"], [0.1111111111111111, \"rgb(55, 128, 191)\"], [0.2222222222222222, \"rgb(50, 171, 96)\"], [0.3333333333333333, \"rgb(128, 0, 128)\"], [0.4444444444444444, \"rgb(219, 64, 82)\"], [0.5555555555555556, \"rgb(0, 128, 128)\"], [0.6666666666666666, \"rgb(255, 255, 51)\"], [0.7777777777777778, \"rgb(128, 128, 0)\"], [0.8888888888888888, \"rgb(251, 128, 114)\"], [1.0, \"rgb(128, 177, 211)\"]], \"type\": \"surface\", \"x\": [0, 1, 2, 3, 4, 5, 6, 7, 8, 9, 10, 11, 12, 13, 14, 15, 16, 17, 18, 19, 20, 21, 22, 23, 24, 25, 26, 27, 28, 29, 30, 31, 32, 33, 34, 35, 36, 37, 38, 39, 40, 41, 42, 43, 44, 45, 46, 47, 48, 49, 50, 51, 52, 53, 54, 55, 56, 57, 58, 59, 60, 61, 62, 63, 64, 65, 66, 67, 68, 69, 70, 71, 72, 73, 74, 75, 76, 77, 78, 79, 80, 81, 82, 83, 84, 85, 86, 87, 88, 89, 90, 91, 92, 93, 94, 95, 96, 97, 98, 99], \"y\": [\"A\", \"B\", \"C\"], \"z\": [[1.1512230023350842, -0.557470327282694, 0.5778840486258854, -0.344679605990289, 2.0195394436412415, 1.2407042615096386, -0.40385148300708257, 0.598857704959885, -2.332680959813732, 0.604661492832849, 1.3402089802835433, -0.9534173766078794, -1.3529724142016502, -0.1977908456280201, -1.2716219077535589, -0.3629735985088518, -0.0037816647902428908, -0.637841997494424, -0.43914695100366863, -0.08485981865963914, 1.2539420377490695, 0.917033977248479, 0.6815449910061759, 0.4853801588888736, -0.21913259729452908, -0.07130501829656434, -0.4820865402352392, 0.5241669711472657, 0.4761629901492746, -0.4523144207365586, -1.3476364305195896, 1.6245050077764234, -0.3496712134189109, 1.023793572781277, 0.7353873261113719, -1.0521699679032233, -0.18259348101057116, -0.36046699282993677, 0.43420026758421815, 0.8911492275099812, 0.9134274997439051, -0.1933694290700083, -0.5298711209835657, 1.7986479893549372, -0.9221455892060905, -0.8087803031169282, -1.4783406401947263, -0.2202978087153998, -1.2583710373056547, 0.9214498727348472, 0.7755019956334234, 1.32151023430833, 0.4539159585357842, 1.123493242803924, -0.44944473879604535, 1.431560184057679, -0.58212840743926, 1.2104555100827499, 0.4021111006334402, -0.5014756926841697, 1.1957274431499987, 0.6251036649148064, -0.6890695800733205, 0.4294631143504364, -0.6206090619404612, -0.3987984840825513, 0.5172954974180466, 0.4242974461002807, 1.1773609234412852, -0.18639736809154978, 0.1683404405338652, -0.5975996242793816, -0.08948662336407827, 0.8498990784659077, 0.6889636303159015, -1.491717487274004, -0.24684601277092116, 0.8231947284139284, -0.4833331550230219, -0.4017961938349551, -0.5429728752891533, -0.6775046608220098, 0.37783652098276266, 1.0215419382384807, 0.49134043010576145, -1.014571415304215, 0.5080913400621264, -1.5478048611895807, 1.2674560501327814, -0.19007809437324244, 1.2629079774805692, -0.8745168936734076, -1.716390139894592, 1.8056565330233856, -0.003960951689908947, -1.4231814685587842, 1.443110635103916, 0.33950589311135804, 1.628325486642706, 2.507004497964046], [-0.788987503239302, -0.5422585061278927, 0.9892326356388509, -0.9461434438448012, -0.09402921916431635, -0.19924865024640628, 0.8590593929331023, -0.9091925011826195, 1.495692083105582, -1.6118403719596144, -0.46401451440320013, -1.4070006323123079, 1.1022232511113057, -0.8801106685817904, -0.11982461188886281, 0.19486191953463708, -1.5113145147257037, -0.699094427526284, -0.09679432849349116, -0.7227144546223931, -1.134313894919993, 0.3339299355953139, -0.6305730114941479, -0.7823885779875046, -0.23242191517105823, -0.327696978894264, 1.5136998148503198, 0.27861761113921285, 0.09992209987122552, 0.03481300488890165, -1.7386178842164774, 0.8207276699887942, 0.6810795079121932, -0.25971237270389763, -0.8791221979392699, 0.7140706373420913, -0.5210771809567327, 0.4629475932518827, 0.04403521887958377, 0.9440582728703901, -0.08491370224626968, -0.3733575209924074, 0.8859729038878594, -1.4462733667752667, 1.120810185761385, -0.22364252408335195, -1.0944343421648408, -0.1758647985437288, -0.5241527457973575, 0.6981001711240383, -1.4098976877138127, 0.11272654913433439, 0.36518191044432197, 1.1911122631699438, -0.2932642356805239, -0.05589046443515251, 0.4276267644922778, 0.9135696398813802, -0.5624620181695016, 0.14355354765161582, 0.9909698963808752, 0.337371887239409, -0.2261531016984824, 1.62146996047489, -1.8663772773397898, 1.2621513344801494, -0.4983491599480794, 0.31403410639966095, 0.14500849257672144, 2.9893519613382233, 0.40927078382324755, -0.13082348908263977, 1.1582198566384083, -0.2768051391474269, 0.5432493311555578, -0.8985376753395058, -0.08210623923668232, -0.034550502982340484, 0.18684246632247917, -1.5955055332122907, -1.9144431569819769, -0.3994923336637148, -0.6714739783714367, -0.7579631515990602, -0.160063806581183, 0.9088892797964211, 0.8069987684074711, 1.0540280777590865, -0.9886191692840667, 0.9425821380174294, 0.8728395854366348, -2.1804468664772365, 0.42040626157321276, -0.8027801216360984, -1.0227402507239063, 1.1189459846313115, 0.269111865714286, -0.831251896723604, -0.4401937005002115, -1.3120191976511089], [-0.504190109711075, 1.6012897596608073, -2.4015615885377635, 0.22424394831832875, 0.11451661182061569, -2.0365917087650445, -0.2592780426612458, 1.9197136093896574, 0.9078984082363902, 1.5239383587219542, 1.283391045930873, -1.4825850327945231, -1.2084983443753696, 0.03751028458800968, 1.411526568915033, 0.13547515750744535, -1.2681377075558802, 1.1539795710746097, -0.9237475946315008, -0.4435221065506829, 0.5996228244653771, -0.20261578589232965, -0.10318798708536814, -0.6686490696839271, -1.5111039593484648, 0.23387543365681107, 1.9419354066204064, -0.8476976336958679, -2.2742934864417954, 2.671994791310154, -0.5113613798705504, 0.09575200754648848, 0.24277888992182603, 1.625630610778071, -0.8549730080100917, 0.20296134620324963, 0.9593841993956891, 1.946006978702458, 0.40557139601303205, -0.6396758556493364, -0.8515581363856267, -0.21181537810715237, -0.558996512047563, -0.05114977874494024, 0.9849812644515917, -0.9728614702567793, -1.0537802806552885, -1.780036164343888, -2.0322014723977397, -0.31609809368673764, -0.500377664546493, 0.7932615573456987, 0.5489866343480266, -0.40714505226083064, 1.105726477104565, 1.1465712031577753, 0.8696802043295803, -1.477747788165224, -0.542474588291942, 0.4013675288248289, -1.0440652619397701, -0.18883339618605968, 0.22023879272589045, -0.8331017104417808, 0.631588770394152, -0.5031141112289463, -0.5666037745152175, 0.7539046336279461, 1.2415102350908072, 1.1728178561572784, -1.4604201524521583, -1.9360206812941283, -1.473179291021896, 0.7542038100967359, 0.38295698678575607, 0.04532216707872163, -0.4920054769205359, -0.995055916426763, 0.25489364860134983, -1.61645588466108, -0.23437969142740975, -0.10562962218807836, -1.1610715820433977, -1.1996031814058148, -0.6381811542516939, 0.2397956976473858, 0.8628803185071027, -0.06771987623909129, -0.4202638045715199, -0.09840692783886096, 0.6308117168152751, -0.16290091978819743, 0.6527953748750503, -0.965087014098585, 0.13990627387267512, 0.9826137237371966, -1.0505663653481307, 0.20350978085395932, 0.8788780050405945, -2.2244494932290633]]}],\n",
       "                        {\"legend\": {\"bgcolor\": \"#151516\", \"font\": {\"color\": \"#D9D9D9\"}}, \"paper_bgcolor\": \"#151516\", \"plot_bgcolor\": \"#151516\", \"template\": {\"data\": {\"bar\": [{\"error_x\": {\"color\": \"#2a3f5f\"}, \"error_y\": {\"color\": \"#2a3f5f\"}, \"marker\": {\"line\": {\"color\": \"#E5ECF6\", \"width\": 0.5}}, \"type\": \"bar\"}], \"barpolar\": [{\"marker\": {\"line\": {\"color\": \"#E5ECF6\", \"width\": 0.5}}, \"type\": \"barpolar\"}], \"carpet\": [{\"aaxis\": {\"endlinecolor\": \"#2a3f5f\", \"gridcolor\": \"white\", \"linecolor\": \"white\", \"minorgridcolor\": \"white\", \"startlinecolor\": \"#2a3f5f\"}, \"baxis\": {\"endlinecolor\": \"#2a3f5f\", \"gridcolor\": \"white\", \"linecolor\": \"white\", \"minorgridcolor\": \"white\", \"startlinecolor\": \"#2a3f5f\"}, \"type\": \"carpet\"}], \"choropleth\": [{\"colorbar\": {\"outlinewidth\": 0, \"ticks\": \"\"}, \"type\": \"choropleth\"}], \"contour\": [{\"colorbar\": {\"outlinewidth\": 0, \"ticks\": \"\"}, \"colorscale\": [[0.0, \"#0d0887\"], [0.1111111111111111, \"#46039f\"], [0.2222222222222222, \"#7201a8\"], [0.3333333333333333, \"#9c179e\"], [0.4444444444444444, \"#bd3786\"], [0.5555555555555556, \"#d8576b\"], [0.6666666666666666, \"#ed7953\"], [0.7777777777777778, \"#fb9f3a\"], [0.8888888888888888, \"#fdca26\"], [1.0, \"#f0f921\"]], \"type\": \"contour\"}], \"contourcarpet\": [{\"colorbar\": {\"outlinewidth\": 0, \"ticks\": \"\"}, \"type\": \"contourcarpet\"}], \"heatmap\": [{\"colorbar\": {\"outlinewidth\": 0, \"ticks\": \"\"}, \"colorscale\": [[0.0, \"#0d0887\"], [0.1111111111111111, \"#46039f\"], [0.2222222222222222, \"#7201a8\"], [0.3333333333333333, \"#9c179e\"], [0.4444444444444444, \"#bd3786\"], [0.5555555555555556, \"#d8576b\"], [0.6666666666666666, \"#ed7953\"], [0.7777777777777778, \"#fb9f3a\"], [0.8888888888888888, \"#fdca26\"], [1.0, \"#f0f921\"]], \"type\": \"heatmap\"}], \"heatmapgl\": [{\"colorbar\": {\"outlinewidth\": 0, \"ticks\": \"\"}, \"colorscale\": [[0.0, \"#0d0887\"], [0.1111111111111111, \"#46039f\"], [0.2222222222222222, \"#7201a8\"], [0.3333333333333333, \"#9c179e\"], [0.4444444444444444, \"#bd3786\"], [0.5555555555555556, \"#d8576b\"], [0.6666666666666666, \"#ed7953\"], [0.7777777777777778, \"#fb9f3a\"], [0.8888888888888888, \"#fdca26\"], [1.0, \"#f0f921\"]], \"type\": \"heatmapgl\"}], \"histogram\": [{\"marker\": {\"colorbar\": {\"outlinewidth\": 0, \"ticks\": \"\"}}, \"type\": \"histogram\"}], \"histogram2d\": [{\"colorbar\": {\"outlinewidth\": 0, \"ticks\": \"\"}, \"colorscale\": [[0.0, \"#0d0887\"], [0.1111111111111111, \"#46039f\"], [0.2222222222222222, \"#7201a8\"], [0.3333333333333333, \"#9c179e\"], [0.4444444444444444, \"#bd3786\"], [0.5555555555555556, \"#d8576b\"], [0.6666666666666666, \"#ed7953\"], [0.7777777777777778, \"#fb9f3a\"], [0.8888888888888888, \"#fdca26\"], [1.0, \"#f0f921\"]], \"type\": \"histogram2d\"}], \"histogram2dcontour\": [{\"colorbar\": {\"outlinewidth\": 0, \"ticks\": \"\"}, \"colorscale\": [[0.0, \"#0d0887\"], [0.1111111111111111, \"#46039f\"], [0.2222222222222222, \"#7201a8\"], [0.3333333333333333, \"#9c179e\"], [0.4444444444444444, \"#bd3786\"], [0.5555555555555556, \"#d8576b\"], [0.6666666666666666, \"#ed7953\"], [0.7777777777777778, \"#fb9f3a\"], [0.8888888888888888, \"#fdca26\"], [1.0, \"#f0f921\"]], \"type\": \"histogram2dcontour\"}], \"mesh3d\": [{\"colorbar\": {\"outlinewidth\": 0, \"ticks\": \"\"}, \"type\": \"mesh3d\"}], \"parcoords\": [{\"line\": {\"colorbar\": {\"outlinewidth\": 0, \"ticks\": \"\"}}, \"type\": \"parcoords\"}], \"pie\": [{\"automargin\": true, \"type\": \"pie\"}], \"scatter\": [{\"marker\": {\"colorbar\": {\"outlinewidth\": 0, \"ticks\": \"\"}}, \"type\": \"scatter\"}], \"scatter3d\": [{\"line\": {\"colorbar\": {\"outlinewidth\": 0, \"ticks\": \"\"}}, \"marker\": {\"colorbar\": {\"outlinewidth\": 0, \"ticks\": \"\"}}, \"type\": \"scatter3d\"}], \"scattercarpet\": [{\"marker\": {\"colorbar\": {\"outlinewidth\": 0, \"ticks\": \"\"}}, \"type\": \"scattercarpet\"}], \"scattergeo\": [{\"marker\": {\"colorbar\": {\"outlinewidth\": 0, \"ticks\": \"\"}}, \"type\": \"scattergeo\"}], \"scattergl\": [{\"marker\": {\"colorbar\": {\"outlinewidth\": 0, \"ticks\": \"\"}}, \"type\": \"scattergl\"}], \"scattermapbox\": [{\"marker\": {\"colorbar\": {\"outlinewidth\": 0, \"ticks\": \"\"}}, \"type\": \"scattermapbox\"}], \"scatterpolar\": [{\"marker\": {\"colorbar\": {\"outlinewidth\": 0, \"ticks\": \"\"}}, \"type\": \"scatterpolar\"}], \"scatterpolargl\": [{\"marker\": {\"colorbar\": {\"outlinewidth\": 0, \"ticks\": \"\"}}, \"type\": \"scatterpolargl\"}], \"scatterternary\": [{\"marker\": {\"colorbar\": {\"outlinewidth\": 0, \"ticks\": \"\"}}, \"type\": \"scatterternary\"}], \"surface\": [{\"colorbar\": {\"outlinewidth\": 0, \"ticks\": \"\"}, \"colorscale\": [[0.0, \"#0d0887\"], [0.1111111111111111, \"#46039f\"], [0.2222222222222222, \"#7201a8\"], [0.3333333333333333, \"#9c179e\"], [0.4444444444444444, \"#bd3786\"], [0.5555555555555556, \"#d8576b\"], [0.6666666666666666, \"#ed7953\"], [0.7777777777777778, \"#fb9f3a\"], [0.8888888888888888, \"#fdca26\"], [1.0, \"#f0f921\"]], \"type\": \"surface\"}], \"table\": [{\"cells\": {\"fill\": {\"color\": \"#EBF0F8\"}, \"line\": {\"color\": \"white\"}}, \"header\": {\"fill\": {\"color\": \"#C8D4E3\"}, \"line\": {\"color\": \"white\"}}, \"type\": \"table\"}]}, \"layout\": {\"annotationdefaults\": {\"arrowcolor\": \"#2a3f5f\", \"arrowhead\": 0, \"arrowwidth\": 1}, \"coloraxis\": {\"colorbar\": {\"outlinewidth\": 0, \"ticks\": \"\"}}, \"colorscale\": {\"diverging\": [[0, \"#8e0152\"], [0.1, \"#c51b7d\"], [0.2, \"#de77ae\"], [0.3, \"#f1b6da\"], [0.4, \"#fde0ef\"], [0.5, \"#f7f7f7\"], [0.6, \"#e6f5d0\"], [0.7, \"#b8e186\"], [0.8, \"#7fbc41\"], [0.9, \"#4d9221\"], [1, \"#276419\"]], \"sequential\": [[0.0, \"#0d0887\"], [0.1111111111111111, \"#46039f\"], [0.2222222222222222, \"#7201a8\"], [0.3333333333333333, \"#9c179e\"], [0.4444444444444444, \"#bd3786\"], [0.5555555555555556, \"#d8576b\"], [0.6666666666666666, \"#ed7953\"], [0.7777777777777778, \"#fb9f3a\"], [0.8888888888888888, \"#fdca26\"], [1.0, \"#f0f921\"]], \"sequentialminus\": [[0.0, \"#0d0887\"], [0.1111111111111111, \"#46039f\"], [0.2222222222222222, \"#7201a8\"], [0.3333333333333333, \"#9c179e\"], [0.4444444444444444, \"#bd3786\"], [0.5555555555555556, \"#d8576b\"], [0.6666666666666666, \"#ed7953\"], [0.7777777777777778, \"#fb9f3a\"], [0.8888888888888888, \"#fdca26\"], [1.0, \"#f0f921\"]]}, \"colorway\": [\"#636efa\", \"#EF553B\", \"#00cc96\", \"#ab63fa\", \"#FFA15A\", \"#19d3f3\", \"#FF6692\", \"#B6E880\", \"#FF97FF\", \"#FECB52\"], \"font\": {\"color\": \"#2a3f5f\"}, \"geo\": {\"bgcolor\": \"white\", \"lakecolor\": \"white\", \"landcolor\": \"#E5ECF6\", \"showlakes\": true, \"showland\": true, \"subunitcolor\": \"white\"}, \"hoverlabel\": {\"align\": \"left\"}, \"hovermode\": \"closest\", \"mapbox\": {\"style\": \"light\"}, \"paper_bgcolor\": \"white\", \"plot_bgcolor\": \"#E5ECF6\", \"polar\": {\"angularaxis\": {\"gridcolor\": \"white\", \"linecolor\": \"white\", \"ticks\": \"\"}, \"bgcolor\": \"#E5ECF6\", \"radialaxis\": {\"gridcolor\": \"white\", \"linecolor\": \"white\", \"ticks\": \"\"}}, \"scene\": {\"xaxis\": {\"backgroundcolor\": \"#E5ECF6\", \"gridcolor\": \"white\", \"gridwidth\": 2, \"linecolor\": \"white\", \"showbackground\": true, \"ticks\": \"\", \"zerolinecolor\": \"white\"}, \"yaxis\": {\"backgroundcolor\": \"#E5ECF6\", \"gridcolor\": \"white\", \"gridwidth\": 2, \"linecolor\": \"white\", \"showbackground\": true, \"ticks\": \"\", \"zerolinecolor\": \"white\"}, \"zaxis\": {\"backgroundcolor\": \"#E5ECF6\", \"gridcolor\": \"white\", \"gridwidth\": 2, \"linecolor\": \"white\", \"showbackground\": true, \"ticks\": \"\", \"zerolinecolor\": \"white\"}}, \"shapedefaults\": {\"line\": {\"color\": \"#2a3f5f\"}}, \"ternary\": {\"aaxis\": {\"gridcolor\": \"white\", \"linecolor\": \"white\", \"ticks\": \"\"}, \"baxis\": {\"gridcolor\": \"white\", \"linecolor\": \"white\", \"ticks\": \"\"}, \"bgcolor\": \"#E5ECF6\", \"caxis\": {\"gridcolor\": \"white\", \"linecolor\": \"white\", \"ticks\": \"\"}}, \"title\": {\"x\": 0.05}, \"xaxis\": {\"automargin\": true, \"gridcolor\": \"white\", \"linecolor\": \"white\", \"ticks\": \"\", \"title\": {\"standoff\": 15}, \"zerolinecolor\": \"white\", \"zerolinewidth\": 2}, \"yaxis\": {\"automargin\": true, \"gridcolor\": \"white\", \"linecolor\": \"white\", \"ticks\": \"\", \"title\": {\"standoff\": 15}, \"zerolinecolor\": \"white\", \"zerolinewidth\": 2}}}, \"title\": {\"font\": {\"color\": \"#D9D9D9\"}}, \"xaxis\": {\"gridcolor\": \"#434343\", \"showgrid\": true, \"tickfont\": {\"color\": \"#C2C2C2\"}, \"title\": {\"font\": {\"color\": \"#D9D9D9\"}, \"text\": \"\"}, \"zerolinecolor\": \"#666570\"}, \"yaxis\": {\"gridcolor\": \"#434343\", \"showgrid\": true, \"tickfont\": {\"color\": \"#C2C2C2\"}, \"title\": {\"font\": {\"color\": \"#D9D9D9\"}, \"text\": \"\"}, \"zerolinecolor\": \"#666570\"}},\n",
       "                        {\"showLink\": true, \"linkText\": \"Export to plot.ly\", \"plotlyServerURL\": \"https://plot.ly\", \"responsive\": true}\n",
       "                    ).then(function(){\n",
       "                            \n",
       "var gd = document.getElementById('68b67a2d-2690-4811-8954-2b97490a1a76');\n",
       "var x = new MutationObserver(function (mutations, observer) {{\n",
       "        var display = window.getComputedStyle(gd).display;\n",
       "        if (!display || display === 'none') {{\n",
       "            console.log([gd, 'removed!']);\n",
       "            Plotly.purge(gd);\n",
       "            observer.disconnect();\n",
       "        }}\n",
       "}});\n",
       "\n",
       "// Listen for the removal of the full notebook cells\n",
       "var notebookContainer = gd.closest('#notebook-container');\n",
       "if (notebookContainer) {{\n",
       "    x.observe(notebookContainer, {childList: true});\n",
       "}}\n",
       "\n",
       "// Listen for the clearing of the current output cell\n",
       "var outputEl = gd.closest('.output');\n",
       "if (outputEl) {{\n",
       "    x.observe(outputEl, {childList: true});\n",
       "}}\n",
       "\n",
       "                        })\n",
       "                };\n",
       "                });\n",
       "            </script>\n",
       "        </div>"
      ]
     },
     "metadata": {},
     "output_type": "display_data"
    }
   ],
   "source": [
    "df.iplot(kind='surface')"
   ]
  },
  {
   "cell_type": "code",
   "execution_count": 38,
   "metadata": {},
   "outputs": [
    {
     "name": "stderr",
     "output_type": "stream",
     "text": [
      "c:\\program files (x86)\\python37-32\\lib\\site-packages\\cufflinks\\datagen.py:380: RuntimeWarning:\n",
      "\n",
      "invalid value encountered in true_divide\n",
      "\n"
     ]
    },
    {
     "data": {
      "application/vnd.plotly.v1+json": {
       "config": {
        "linkText": "Export to plot.ly",
        "plotlyServerURL": "https://plot.ly",
        "showLink": true
       },
       "data": [
        {
         "colorscale": [
          [
           0,
           "rgb(255, 153, 51)"
          ],
          [
           0.1111111111111111,
           "rgb(55, 128, 191)"
          ],
          [
           0.2222222222222222,
           "rgb(50, 171, 96)"
          ],
          [
           0.3333333333333333,
           "rgb(128, 0, 128)"
          ],
          [
           0.4444444444444444,
           "rgb(219, 64, 82)"
          ],
          [
           0.5555555555555556,
           "rgb(0, 128, 128)"
          ],
          [
           0.6666666666666666,
           "rgb(255, 255, 51)"
          ],
          [
           0.7777777777777778,
           "rgb(128, 128, 0)"
          ],
          [
           0.8888888888888888,
           "rgb(251, 128, 114)"
          ],
          [
           1,
           "rgb(128, 177, 211)"
          ]
         ],
         "type": "surface",
         "x": [
          -10,
          -9.75,
          -9.5,
          -9.25,
          -9,
          -8.75,
          -8.5,
          -8.25,
          -8,
          -7.75,
          -7.5,
          -7.25,
          -7,
          -6.75,
          -6.5,
          -6.25,
          -6,
          -5.75,
          -5.5,
          -5.25,
          -5,
          -4.75,
          -4.5,
          -4.25,
          -4,
          -3.75,
          -3.5,
          -3.25,
          -3,
          -2.75,
          -2.5,
          -2.25,
          -2,
          -1.75,
          -1.5,
          -1.25,
          -1,
          -0.75,
          -0.5,
          -0.25,
          0,
          0.25,
          0.5,
          0.75,
          1,
          1.25,
          1.5,
          1.75,
          2,
          2.25,
          2.5,
          2.75,
          3,
          3.25,
          3.5,
          3.75,
          4,
          4.25,
          4.5,
          4.75,
          5,
          5.25,
          5.5,
          5.75,
          6,
          6.25,
          6.5,
          6.75,
          7,
          7.25,
          7.5,
          7.75,
          8,
          8.25,
          8.5,
          8.75,
          9,
          9.25,
          9.5,
          9.75
         ],
         "y": [
          -10,
          -9.75,
          -9.5,
          -9.25,
          -9,
          -8.75,
          -8.5,
          -8.25,
          -8,
          -7.75,
          -7.5,
          -7.25,
          -7,
          -6.75,
          -6.5,
          -6.25,
          -6,
          -5.75,
          -5.5,
          -5.25,
          -5,
          -4.75,
          -4.5,
          -4.25,
          -4,
          -3.75,
          -3.5,
          -3.25,
          -3,
          -2.75,
          -2.5,
          -2.25,
          -2,
          -1.75,
          -1.5,
          -1.25,
          -1,
          -0.75,
          -0.5,
          -0.25,
          0,
          0.25,
          0.5,
          0.75,
          1,
          1.25,
          1.5,
          1.75,
          2,
          2.25,
          2.5,
          2.75,
          3,
          3.25,
          3.5,
          3.75,
          4,
          4.25,
          4.5,
          4.75,
          5,
          5.25,
          5.5,
          5.75,
          6,
          6.25,
          6.5,
          6.75,
          7,
          7.25,
          7.5,
          7.75,
          8,
          8.25,
          8.5,
          8.75,
          9,
          9.25,
          9.5,
          9.75
         ],
         "z": [
          [
           0.14141961054935853,
           0.14111903500315878,
           0.13650222610828716,
           0.12777380562398274,
           0.11526115097856116,
           0.0993958462307399,
           0.08069235790121831,
           0.059725017515438364,
           0.037104384846577534,
           0.013454008098850966,
           -0.01061150357619211,
           -0.0345063152690242,
           -0.05769048962428924,
           -0.07968395387291566,
           -0.10007704610444179,
           -0.11853755153953285,
           -0.13481430178982187,
           -0.1487375524385824,
           -0.16021647158282734,
           -0.16923416092386775,
           -0.17584069010379264,
           -0.1801446545297837,
           -0.18230376872794093,
           -0.18251498442862385,
           -0.18100457917857166,
           -0.17801860199902664,
           -0.1738139924448547,
           -0.16865061331126227,
           -0.16278435980926842,
           -0.15646143337355978,
           -0.1499137997580331,
           -0.14335579129849668,
           -0.13698176393514344,
           -0.13096468174943518,
           -0.1254554756233313,
           -0.12058300781296416,
           -0.1164544699167505,
           -0.1131560467581887,
           -0.1107536917561867,
           -0.10929387900894774,
           -0.10880422217787396,
           -0.10929387900894774,
           -0.1107536917561867,
           -0.1131560467581887,
           -0.1164544699167505,
           -0.12058300781296416,
           -0.1254554756233313,
           -0.13096468174943518,
           -0.13698176393514344,
           -0.14335579129849668,
           -0.1499137997580331,
           -0.15646143337355978,
           -0.16278435980926842,
           -0.16865061331126227,
           -0.1738139924448547,
           -0.17801860199902664,
           -0.18100457917857166,
           -0.18251498442862385,
           -0.18230376872794093,
           -0.1801446545297837,
           -0.17584069010379264,
           -0.16923416092386775,
           -0.16021647158282734,
           -0.1487375524385824,
           -0.13481430178982187,
           -0.11853755153953285,
           -0.10007704610444179,
           -0.07968395387291566,
           -0.05769048962428924,
           -0.0345063152690242,
           -0.01061150357619211,
           0.013454008098850966,
           0.037104384846577534,
           0.059725017515438364,
           0.08069235790121831,
           0.0993958462307399,
           0.11526115097856116,
           0.12777380562398274,
           0.13650222610828716,
           0.14111903500315878
          ],
          [
           0.14111903500315878,
           0.13632396086944565,
           0.12719030582037316,
           0.11405907878471819,
           0.09738828403656238,
           0.07773008237271903,
           0.05570574218106777,
           0.03197958453286062,
           0.007233082355737275,
           -0.017859822184363938,
           -0.042655257000177006,
           -0.06655906279410359,
           -0.08904297911487404,
           -0.10965701691843574,
           -0.12803786284735597,
           -0.14391335124448024,
           -0.15710321083861073,
           -0.16751643729146143,
           -0.1751457556394694,
           -0.1800597155006458,
           -0.18239300622958532,
           -0.18233559039097344,
           -0.18012123502583363,
           -0.1760159755489718,
           -0.17030698199702413,
           -0.16329221750830802,
           -0.15527119023634725,
           -0.14653700801271363,
           -0.13736985507049018,
           -0.12803192632998142,
           -0.11876378051842666,
           -0.10978201113265723,
           -0.10127808535368477,
           -0.09341816596346665,
           -0.08634370978474622,
           -0.08017262722723162,
           -0.0750007897964791,
           -0.07090368426500879,
           -0.06793803188546253,
           -0.06614321685638791,
           -0.06554239869174844,
           -0.06614321685638791,
           -0.06793803188546253,
           -0.07090368426500879,
           -0.0750007897964791,
           -0.08017262722723162,
           -0.08634370978474622,
           -0.09341816596346665,
           -0.10127808535368477,
           -0.10978201113265723,
           -0.11876378051842666,
           -0.12803192632998142,
           -0.13736985507049018,
           -0.14653700801271363,
           -0.15527119023634725,
           -0.16329221750830802,
           -0.17030698199702413,
           -0.1760159755489718,
           -0.18012123502583363,
           -0.18233559039097344,
           -0.18239300622958532,
           -0.1800597155006458,
           -0.1751457556394694,
           -0.16751643729146143,
           -0.15710321083861073,
           -0.14391335124448024,
           -0.12803786284735597,
           -0.10965701691843574,
           -0.08904297911487404,
           -0.06655906279410359,
           -0.042655257000177006,
           -0.017859822184363938,
           0.007233082355737275,
           0.03197958453286062,
           0.05570574218106777,
           0.07773008237271903,
           0.09738828403656238,
           0.11405907878471819,
           0.12719030582037316,
           0.13632396086944565
          ],
          [
           0.13650222610828716,
           0.12719030582037316,
           0.1136526088802527,
           0.09636827159298987,
           0.0759235678781371,
           0.05298490441364873,
           0.028270310898122826,
           0.0025207381574719806,
           -0.023527608249201665,
           -0.04916880920228074,
           -0.07374973820785838,
           -0.09668883252747353,
           -0.11749065565570795,
           -0.13575600794040762,
           -0.1511875643863488,
           -0.163591222139663,
           -0.17287351607260815,
           -0.17903560277058095,
           -0.1821644169794075,
           -0.18242166855756492,
           -0.1800313728705813,
           -0.1752665961050691,
           -0.16843605361995675,
           -0.15987112992755653,
           -0.1499137997580331,
           -0.13890582780165694,
           -0.1271795169340972,
           -0.11505016730310495,
           -0.10281030706494565,
           -0.0907256642328181,
           -0.07903277128303789,
           -0.06793803188546253,
           -0.05761803324395176,
           -0.04822085787410071,
           -0.039868134180728126,
           -0.032657564269347995,
           -0.026665677985416577,
           -0.021950582012676394,
           -0.01855449981019833,
           -0.016505930263581485,
           -0.015821288518275644,
           -0.016505930263581485,
           -0.01855449981019833,
           -0.021950582012676394,
           -0.026665677985416577,
           -0.032657564269347995,
           -0.039868134180728126,
           -0.04822085787410071,
           -0.05761803324395176,
           -0.06793803188546253,
           -0.07903277128303789,
           -0.0907256642328181,
           -0.10281030706494565,
           -0.11505016730310495,
           -0.1271795169340972,
           -0.13890582780165694,
           -0.1499137997580331,
           -0.15987112992755653,
           -0.16843605361995675,
           -0.1752665961050691,
           -0.1800313728705813,
           -0.18242166855756492,
           -0.1821644169794075,
           -0.17903560277058095,
           -0.17287351607260815,
           -0.163591222139663,
           -0.1511875643863488,
           -0.13575600794040762,
           -0.11749065565570795,
           -0.09668883252747353,
           -0.07374973820785838,
           -0.04916880920228074,
           -0.023527608249201665,
           0.0025207381574719806,
           0.028270310898122826,
           0.05298490441364873,
           0.0759235678781371,
           0.09636827159298987,
           0.1136526088802527,
           0.12719030582037316
          ],
          [
           0.12777380562398274,
           0.11405907878471819,
           0.09636827159298987,
           0.07531659368730659,
           0.05161237775613617,
           0.026026147564044762,
           -0.0006409754282528475,
           -0.027588123185645037,
           -0.054043516875550875,
           -0.07929019757294747,
           -0.10268778525178764,
           -0.12368964794720452,
           -0.14185512230149663,
           -0.15685668268767797,
           -0.16848219583369567,
           -0.17663261032673944,
           -0.18131560690315682,
           -0.1826358700412797,
           -0.18078273088932142,
           -0.1760159755489718,
           -0.16865061331126227,
           -0.15904136091487175,
           -0.14756752732225356,
           -0.13461888616197776,
           -0.12058300781296416,
           -0.10583439818051152,
           -0.0907256642328181,
           -0.07558080422426758,
           -0.060690608986011814,
           -0.046310064114579955,
           -0.032657564269347995,
           -0.019915691575644292,
           -0.00823327044894154,
           0.0022716100207446164,
           0.011507919583092052,
           0.019407660252202565,
           0.025921773001301992,
           0.031016232090896562,
           0.03466854669458865,
           0.03686485131708162,
           0.03759772656874239,
           0.03686485131708162,
           0.03466854669458865,
           0.031016232090896562,
           0.025921773001301992,
           0.019407660252202565,
           0.011507919583092052,
           0.0022716100207446164,
           -0.00823327044894154,
           -0.019915691575644292,
           -0.032657564269347995,
           -0.046310064114579955,
           -0.060690608986011814,
           -0.07558080422426758,
           -0.0907256642328181,
           -0.10583439818051152,
           -0.12058300781296416,
           -0.13461888616197776,
           -0.14756752732225356,
           -0.15904136091487175,
           -0.16865061331126227,
           -0.1760159755489718,
           -0.18078273088932142,
           -0.1826358700412797,
           -0.18131560690315682,
           -0.17663261032673944,
           -0.16848219583369567,
           -0.15685668268767797,
           -0.14185512230149663,
           -0.12368964794720452,
           -0.10268778525178764,
           -0.07929019757294747,
           -0.054043516875550875,
           -0.027588123185645037,
           -0.0006409754282528475,
           0.026026147564044762,
           0.05161237775613617,
           0.07531659368730659,
           0.09636827159298987,
           0.11405907878471819
          ],
          [
           0.11526115097856116,
           0.09738828403656238,
           0.0759235678781371,
           0.05161237775613617,
           0.025275083284098894,
           -0.0022274559793407315,
           -0.03002807965783915,
           -0.0572857273340844,
           -0.08321475815193494,
           -0.10711012813756442,
           -0.1283676319466868,
           -0.1464987033293174,
           -0.16113955966514656,
           -0.17205475511311313,
           -0.17913546063850083,
           -0.18239300622958532,
           -0.18194839266053625,
           -0.17801860199902664,
           -0.17090060569317098,
           -0.1609539875623888,
           -0.14858307017251748,
           -0.13421936300715656,
           -0.11830504740258321,
           -0.10127808535368477,
           -0.08355939645450051,
           -0.06554239869174844,
           -0.04758506314163741,
           -0.030004497243790427,
           -0.013073952151520388,
           0.0029779491154211806,
           0.017966041941118966,
           0.031745840459068614,
           0.044209509361482956,
           0.05528095770522729,
           0.0649104168254659,
           0.07306884206017318,
           0.07974244535617742,
           0.08492762656935865,
           0.08862652853638416,
           0.09084339726921295,
           0.09158188560927924,
           0.09084339726921295,
           0.08862652853638416,
           0.08492762656935865,
           0.07974244535617742,
           0.07306884206017318,
           0.0649104168254659,
           0.05528095770522729,
           0.044209509361482956,
           0.031745840459068614,
           0.017966041941118966,
           0.0029779491154211806,
           -0.013073952151520388,
           -0.030004497243790427,
           -0.04758506314163741,
           -0.06554239869174844,
           -0.08355939645450051,
           -0.10127808535368477,
           -0.11830504740258321,
           -0.13421936300715656,
           -0.14858307017251748,
           -0.1609539875623888,
           -0.17090060569317098,
           -0.17801860199902664,
           -0.18194839266053625,
           -0.18239300622958532,
           -0.17913546063850083,
           -0.17205475511311313,
           -0.16113955966514656,
           -0.1464987033293174,
           -0.1283676319466868,
           -0.10711012813756442,
           -0.08321475815193494,
           -0.0572857273340844,
           -0.03002807965783915,
           -0.0022274559793407315,
           0.025275083284098894,
           0.05161237775613617,
           0.0759235678781371,
           0.09738828403656238
          ],
          [
           0.0993958462307399,
           0.07773008237271903,
           0.05298490441364873,
           0.026026147564044762,
           -0.0022274559793407315,
           -0.030841885736018544,
           -0.05890402451081101,
           -0.08555491563889543,
           -0.11001880232017779,
           -0.1316269478872783,
           -0.14983554931501694,
           -0.1642373823959323,
           -0.17456713788189782,
           -0.1807007071005138,
           -0.18264893898060253,
           -0.18054660691367944,
           -0.17463748569481502,
           -0.16525654180237792,
           -0.1528102839666787,
           -0.1377563081818195,
           -0.12058300781296416,
           -0.10179031338845618,
           -0.08187218787401292,
           -0.061301442485772274,
           -0.040517266401149735,
           -0.019915691575644292,
           0.0001569493213448689,
           0.019407660252202565,
           0.03759772656874239,
           0.054541276561040686,
           0.07010183827093616,
           0.08418731130237875,
           0.09674378883254962,
           0.10774865812501504,
           0.11720338291232232,
           0.12512633286074154,
           0.13154597877649798,
           0.13649472168344115,
           0.14000357308347133,
           0.14209785531573388,
           0.14279404657238684,
           0.14209785531573388,
           0.14000357308347133,
           0.13649472168344115,
           0.13154597877649798,
           0.12512633286074154,
           0.11720338291232232,
           0.10774865812501504,
           0.09674378883254962,
           0.08418731130237875,
           0.07010183827093616,
           0.054541276561040686,
           0.03759772656874239,
           0.019407660252202565,
           0.0001569493213448689,
           -0.019915691575644292,
           -0.040517266401149735,
           -0.061301442485772274,
           -0.08187218787401292,
           -0.10179031338845618,
           -0.12058300781296416,
           -0.1377563081818195,
           -0.1528102839666787,
           -0.16525654180237792,
           -0.17463748569481502,
           -0.18054660691367944,
           -0.18264893898060253,
           -0.1807007071005138,
           -0.17456713788189782,
           -0.1642373823959323,
           -0.14983554931501694,
           -0.1316269478872783,
           -0.11001880232017779,
           -0.08555491563889543,
           -0.05890402451081101,
           -0.030841885736018544,
           -0.0022274559793407315,
           0.026026147564044762,
           0.05298490441364873,
           0.07773008237271903
          ],
          [
           0.08069235790121831,
           0.05570574218106777,
           0.028270310898122826,
           -0.0006409754282528475,
           -0.03002807965783915,
           -0.05890402451081101,
           -0.08633239590937543,
           -0.1114606806231028,
           -0.13354819579908725,
           -0.15198770280837584,
           -0.16632015713858264,
           -0.17624240938958516,
           -0.18160802037610754,
           -0.18242166855756492,
           -0.1788278960809016,
           -0.17109514979541934,
           -0.15959621882048483,
           -0.14478624788034108,
           -0.1271795169340972,
           -0.10732612754693129,
           -0.0857896329957062,
           -0.0631265026963309,
           -0.039868134180728126,
           -0.016505930263581485,
           0.0065202421682302655,
           0.02883009042098063,
           0.05010748884225075,
           0.07010183827093616,
           0.08862652853638416,
           0.10555493165712146,
           0.12081441070397907,
           0.13437885433763305,
           0.14626024334832619,
           0.15649972810645998,
           0.16515865057394133,
           0.17230988766358785,
           0.17802983029511174,
           0.18239124981424537,
           0.18545724476618586,
           0.18727640924644018,
           0.18787932061729182,
           0.18727640924644018,
           0.18545724476618586,
           0.18239124981424537,
           0.17802983029511174,
           0.17230988766358785,
           0.16515865057394133,
           0.15649972810645998,
           0.14626024334832619,
           0.13437885433763305,
           0.12081441070397907,
           0.10555493165712146,
           0.08862652853638416,
           0.07010183827093616,
           0.05010748884225075,
           0.02883009042098063,
           0.0065202421682302655,
           -0.016505930263581485,
           -0.039868134180728126,
           -0.0631265026963309,
           -0.0857896329957062,
           -0.10732612754693129,
           -0.1271795169340972,
           -0.14478624788034108,
           -0.15959621882048483,
           -0.17109514979541934,
           -0.1788278960809016,
           -0.18242166855756492,
           -0.18160802037610754,
           -0.17624240938958516,
           -0.16632015713858264,
           -0.15198770280837584,
           -0.13354819579908725,
           -0.1114606806231028,
           -0.08633239590937543,
           -0.05890402451081101,
           -0.03002807965783915,
           -0.0006409754282528475,
           0.028270310898122826,
           0.05570574218106777
          ],
          [
           0.059725017515438364,
           0.03197958453286062,
           0.0025207381574719806,
           -0.027588123185645037,
           -0.0572857273340844,
           -0.08555491563889543,
           -0.1114606806231028,
           -0.13418273806183595,
           -0.15304146672549196,
           -0.16751643729146143,
           -0.17725715646546372,
           -0.18208605074549258,
           -0.18199408570471504,
           -0.17712974307464055,
           -0.16778234479339135,
           -0.1543609103022869,
           -0.13736985507049018,
           -0.11738288358628372,
           -0.0950164022704569,
           -0.07090368426500879,
           -0.045670869380806056,
           -0.019915691575644292,
           0.0058103924762656495,
           0.031016232090896562,
           0.05528095770522729,
           0.07825990831739421,
           0.09968670899986165,
           0.11937185506223688,
           0.13719827990417027,
           0.15311446345017118,
           0.16712567793535366,
           0.1792839709402817,
           0.18967745729212915,
           0.19841943861188654,
           0.20563779959612533,
           0.21146505144444128,
           0.21602931256266372,
           0.21944644111666822,
           0.22181346801290225,
           0.2232034254780841,
           0.22366162672468853,
           0.2232034254780841,
           0.22181346801290225,
           0.21944644111666822,
           0.21602931256266372,
           0.21146505144444128,
           0.20563779959612533,
           0.19841943861188654,
           0.18967745729212915,
           0.1792839709402817,
           0.16712567793535366,
           0.15311446345017118,
           0.13719827990417027,
           0.11937185506223688,
           0.09968670899986165,
           0.07825990831739421,
           0.05528095770522729,
           0.031016232090896562,
           0.0058103924762656495,
           -0.019915691575644292,
           -0.045670869380806056,
           -0.07090368426500879,
           -0.0950164022704569,
           -0.11738288358628372,
           -0.13736985507049018,
           -0.1543609103022869,
           -0.16778234479339135,
           -0.17712974307464055,
           -0.18199408570471504,
           -0.18208605074549258,
           -0.17725715646546372,
           -0.16751643729146143,
           -0.15304146672549196,
           -0.13418273806183595,
           -0.1114606806231028,
           -0.08555491563889543,
           -0.0572857273340844,
           -0.027588123185645037,
           0.0025207381574719806,
           0.03197958453286062
          ],
          [
           0.037104384846577534,
           0.007233082355737275,
           -0.023527608249201665,
           -0.054043516875550875,
           -0.08321475815193494,
           -0.11001880232017779,
           -0.13354819579908725,
           -0.15304146672549196,
           -0.167906160972842,
           -0.17773339606034183,
           -0.18230376872794093,
           -0.18158488243001691,
           -0.17572115154133375,
           -0.16501687105976595,
           -0.1499137997580331,
           -0.13096468174943518,
           -0.10880422217787396,
           -0.08411903827788304,
           -0.05761803324395176,
           -0.030004497243790427,
           -0.001951040868825416,
           0.025921773001301992,
           0.05306249567952219,
           0.07900122348247962,
           0.10335731863015635,
           0.1258425822940911,
           0.14626024334832619,
           0.16450028494360933,
           0.18053174205108255,
           0.1943926655354523,
           0.2061784643801796,
           0.21602931256266372,
           0.2241172482256385,
           0.23063350923189954,
           0.23577655069724138,
           0.23974108638511749,
           0.242708395806646,
           0.24483804991090943,
           0.24626113579560338,
           0.24707500803079696,
           0.24733956165584545,
           0.24707500803079696,
           0.24626113579560338,
           0.24483804991090943,
           0.242708395806646,
           0.23974108638511749,
           0.23577655069724138,
           0.23063350923189954,
           0.2241172482256385,
           0.21602931256266372,
           0.2061784643801796,
           0.1943926655354523,
           0.18053174205108255,
           0.16450028494360933,
           0.14626024334832619,
           0.1258425822940911,
           0.10335731863015635,
           0.07900122348247962,
           0.05306249567952219,
           0.025921773001301992,
           -0.001951040868825416,
           -0.030004497243790427,
           -0.05761803324395176,
           -0.08411903827788304,
           -0.10880422217787396,
           -0.13096468174943518,
           -0.1499137997580331,
           -0.16501687105976595,
           -0.17572115154133375,
           -0.18158488243001691,
           -0.18230376872794093,
           -0.17773339606034183,
           -0.167906160972842,
           -0.15304146672549196,
           -0.13354819579908725,
           -0.11001880232017779,
           -0.08321475815193494,
           -0.054043516875550875,
           -0.023527608249201665,
           0.007233082355737275
          ],
          [
           0.013454008098850966,
           -0.017859822184363938,
           -0.04916880920228074,
           -0.07929019757294747,
           -0.10711012813756442,
           -0.1316269478872783,
           -0.15198770280837584,
           -0.16751643729146143,
           -0.17773339606034183,
           -0.18236471957976835,
           -0.18134271385500067,
           -0.1747972342928682,
           -0.16303912773542587,
           -0.14653700801271363,
           -0.1258888846262905,
           -0.10179031338845618,
           -0.0750007897964791,
           -0.046310064114579955,
           -0.016505930263581485,
           0.013655158230898757,
           0.043473546354522816,
           0.07232710218505171,
           0.09968670899986165,
           0.12512633286074154,
           0.14832776112580212,
           0.16908036038891633,
           0.18727640924644018,
           0.20290271423033404,
           0.21602931256266372,
           0.22679610352037188,
           0.23539823538075702,
           0.2420710146043941,
           0.24707500803079696,
           0.2506818889186662,
           0.2531614457800734,
           0.25477004091850136,
           0.2557406839380664,
           0.2562747828163765,
           0.25653555744366946,
           0.2566430509401283,
           0.2566706526738519,
           0.2566430509401283,
           0.25653555744366946,
           0.2562747828163765,
           0.2557406839380664,
           0.25477004091850136,
           0.2531614457800734,
           0.2506818889186662,
           0.24707500803079696,
           0.2420710146043941,
           0.23539823538075702,
           0.22679610352037188,
           0.21602931256266372,
           0.20290271423033404,
           0.18727640924644018,
           0.16908036038891633,
           0.14832776112580212,
           0.12512633286074154,
           0.09968670899986165,
           0.07232710218505171,
           0.043473546354522816,
           0.013655158230898757,
           -0.016505930263581485,
           -0.046310064114579955,
           -0.0750007897964791,
           -0.10179031338845618,
           -0.1258888846262905,
           -0.14653700801271363,
           -0.16303912773542587,
           -0.1747972342928682,
           -0.18134271385500067,
           -0.18236471957976835,
           -0.17773339606034183,
           -0.16751643729146143,
           -0.15198770280837584,
           -0.1316269478872783,
           -0.10711012813756442,
           -0.07929019757294747,
           -0.04916880920228074,
           -0.017859822184363938
          ],
          [
           -0.01061150357619211,
           -0.042655257000177006,
           -0.07374973820785838,
           -0.10268778525178764,
           -0.1283676319466868,
           -0.14983554931501694,
           -0.16632015713858264,
           -0.17725715646546372,
           -0.18230376872794093,
           -0.18134271385500067,
           -0.17447608825271163,
           -0.16200998595397612,
           -0.14443111863131364,
           -0.12237701362727325,
           -0.09660159075517502,
           -0.06793803188546253,
           -0.03726086233570953,
           -0.005449066140771361,
           0.026648129724923395,
           0.058241427706856384,
           0.08862652853638416,
           0.11720338291232232,
           0.14348926836260514,
           0.16712567793535366,
           0.18787932061729182,
           0.20563779959612533,
           0.22040074178662336,
           0.23226729318028777,
           0.24142096714711753,
           0.24811283911536614,
           0.25264402764959015,
           0.255348298963932,
           0.256575492104657,
           0.2566762997375786,
           0.2559887694405144,
           0.2548267267047997,
           0.25347017586536014,
           0.252157618714697,
           0.25108014921898075,
           0.25037713957121355,
           0.25013332713993036,
           0.25037713957121355,
           0.25108014921898075,
           0.252157618714697,
           0.25347017586536014,
           0.2548267267047997,
           0.2559887694405144,
           0.2566762997375786,
           0.256575492104657,
           0.255348298963932,
           0.25264402764959015,
           0.24811283911536614,
           0.24142096714711753,
           0.23226729318028777,
           0.22040074178662336,
           0.20563779959612533,
           0.18787932061729182,
           0.16712567793535366,
           0.14348926836260514,
           0.11720338291232232,
           0.08862652853638416,
           0.058241427706856384,
           0.026648129724923395,
           -0.005449066140771361,
           -0.03726086233570953,
           -0.06793803188546253,
           -0.09660159075517502,
           -0.12237701362727325,
           -0.14443111863131364,
           -0.16200998595397612,
           -0.17447608825271163,
           -0.18134271385500067,
           -0.18230376872794093,
           -0.17725715646546372,
           -0.16632015713858264,
           -0.14983554931501694,
           -0.1283676319466868,
           -0.10268778525178764,
           -0.07374973820785838,
           -0.042655257000177006
          ],
          [
           -0.0345063152690242,
           -0.06655906279410359,
           -0.09668883252747353,
           -0.12368964794720452,
           -0.1464987033293174,
           -0.1642373823959323,
           -0.17624240938958516,
           -0.18208605074549258,
           -0.18158488243001691,
           -0.1747972342928682,
           -0.16200998595397612,
           -0.1437158894806465,
           -0.12058300781296416,
           -0.09341816596346665,
           -0.0631265026963309,
           -0.03066927919323432,
           0.0029779491154211806,
           0.03686485131708162,
           0.07010183827093616,
           0.1018902143955224,
           0.13154597877649798,
           0.15851669454452746,
           0.18239124981424537,
           0.20290271423033404,
           0.21992483146863692,
           0.23346296309158113,
           0.24364050109720906,
           0.2506818889186662,
           0.254893432701845,
           0.2566430509401283,
           0.2563400102730029,
           0.25441554164532254,
           0.25130504004127213,
           0.24743234013685533,
           0.2431963471432226,
           0.23896010343988033,
           0.23504220166614895,
           0.2317103248693539,
           0.22917661128094333,
           0.22759450814784551,
           0.2270567942100705,
           0.22759450814784551,
           0.22917661128094333,
           0.2317103248693539,
           0.23504220166614895,
           0.23896010343988033,
           0.2431963471432226,
           0.24743234013685533,
           0.25130504004127213,
           0.25441554164532254,
           0.2563400102730029,
           0.2566430509401283,
           0.254893432701845,
           0.2506818889186662,
           0.24364050109720906,
           0.23346296309158113,
           0.21992483146863692,
           0.20290271423033404,
           0.18239124981424537,
           0.15851669454452746,
           0.13154597877649798,
           0.1018902143955224,
           0.07010183827093616,
           0.03686485131708162,
           0.0029779491154211806,
           -0.03066927919323432,
           -0.0631265026963309,
           -0.09341816596346665,
           -0.12058300781296416,
           -0.1437158894806465,
           -0.16200998595397612,
           -0.1747972342928682,
           -0.18158488243001691,
           -0.18208605074549258,
           -0.17624240938958516,
           -0.1642373823959323,
           -0.1464987033293174,
           -0.12368964794720452,
           -0.09668883252747353,
           -0.06655906279410359
          ],
          [
           -0.05769048962428924,
           -0.08904297911487404,
           -0.11749065565570795,
           -0.14185512230149663,
           -0.16113955966514656,
           -0.17456713788189782,
           -0.18160802037610754,
           -0.18199408570471504,
           -0.17572115154133375,
           -0.16303912773542587,
           -0.14443111863131364,
           -0.12058300781296416,
           -0.09234546620178369,
           -0.060690608986011814,
           -0.026665677985416577,
           0.008653858363151095,
           0.044209509361482956,
           0.07900122348247962,
           0.11212338767979044,
           0.14279404657238684,
           0.17037647050011587,
           0.1943926655354523,
           0.2145288714461612,
           0.23063350923189954,
           0.242708395806646,
           0.2508943222213973,
           0.2554522819126627,
           0.2567417315441088,
           0.25519727019112654,
           0.25130504004127213,
           0.2455799958764798,
           0.23854497801642713,
           0.23071227369415243,
           0.22256808600007377,
           0.21456006847846779,
           0.2070878465419809,
           0.20049625055173417,
           0.19507084218595108,
           0.19103523332295086,
           0.18854967763954522,
           0.18771045677679687,
           0.18854967763954522,
           0.19103523332295086,
           0.19507084218595108,
           0.20049625055173417,
           0.2070878465419809,
           0.21456006847846779,
           0.22256808600007377,
           0.23071227369415243,
           0.23854497801642713,
           0.2455799958764798,
           0.25130504004127213,
           0.25519727019112654,
           0.2567417315441088,
           0.2554522819126627,
           0.2508943222213973,
           0.242708395806646,
           0.23063350923189954,
           0.2145288714461612,
           0.1943926655354523,
           0.17037647050011587,
           0.14279404657238684,
           0.11212338767979044,
           0.07900122348247962,
           0.044209509361482956,
           0.008653858363151095,
           -0.026665677985416577,
           -0.060690608986011814,
           -0.09234546620178369,
           -0.12058300781296416,
           -0.14443111863131364,
           -0.16303912773542587,
           -0.17572115154133375,
           -0.18199408570471504,
           -0.18160802037610754,
           -0.17456713788189782,
           -0.16113955966514656,
           -0.14185512230149663,
           -0.11749065565570795,
           -0.08904297911487404
          ],
          [
           -0.07968395387291566,
           -0.10965701691843574,
           -0.13575600794040762,
           -0.15685668268767797,
           -0.17205475511311313,
           -0.1807007071005138,
           -0.18242166855756492,
           -0.17712974307464055,
           -0.16501687105976595,
           -0.14653700801271363,
           -0.12237701362727325,
           -0.09341816596346665,
           -0.060690608986011814,
           -0.02532329427921568,
           0.011507919583092052,
           0.04863139306208121,
           0.08492762656935865,
           0.11937185506223688,
           0.1510696036571175,
           0.1792839709402817,
           0.20345392533496165,
           0.2232034254780841,
           0.2383416766936446,
           0.24885528388828942,
           0.254893432701845,
           0.25674750760048576,
           0.2548267267047997,
           0.24963143467045815,
           0.24172565029557566,
           0.2317103248693539,
           0.22019854657881394,
           0.20779364608280457,
           0.19507084218595108,
           0.18256273925541686,
           0.17074867404778504,
           0.16004763127913005,
           0.15081422331281308,
           0.1433370736825879,
           0.13783886506830845,
           0.134477311926808,
           0.1333463922312941,
           0.134477311926808,
           0.13783886506830845,
           0.1433370736825879,
           0.15081422331281308,
           0.16004763127913005,
           0.17074867404778504,
           0.18256273925541686,
           0.19507084218595108,
           0.20779364608280457,
           0.22019854657881394,
           0.2317103248693539,
           0.24172565029557566,
           0.24963143467045815,
           0.2548267267047997,
           0.25674750760048576,
           0.254893432701845,
           0.24885528388828942,
           0.2383416766936446,
           0.2232034254780841,
           0.20345392533496165,
           0.1792839709402817,
           0.1510696036571175,
           0.11937185506223688,
           0.08492762656935865,
           0.04863139306208121,
           0.011507919583092052,
           -0.02532329427921568,
           -0.060690608986011814,
           -0.09341816596346665,
           -0.12237701362727325,
           -0.14653700801271363,
           -0.16501687105976595,
           -0.17712974307464055,
           -0.18242166855756492,
           -0.1807007071005138,
           -0.17205475511311313,
           -0.15685668268767797,
           -0.13575600794040762,
           -0.10965701691843574
          ],
          [
           -0.10007704610444179,
           -0.12803786284735597,
           -0.1511875643863488,
           -0.16848219583369567,
           -0.17913546063850083,
           -0.18264893898060253,
           -0.1788278960809016,
           -0.16778234479339135,
           -0.1499137997580331,
           -0.1258888846262905,
           -0.09660159075517502,
           -0.0631265026963309,
           -0.026665677985416577,
           0.011507919583092052,
           0.05010748884225075,
           0.0878871354792479,
           0.12369173187889267,
           0.15649972810645998,
           0.18545724476618586,
           0.20990234059772522,
           0.22937894091767205,
           0.24364050109720906,
           0.25264402764959015,
           0.25653555744366946,
           0.25562857790064414,
           0.25037713957121355,
           0.2413455569066888,
           0.22917661128094333,
           0.21456006847846779,
           0.1982031145119569,
           0.18080401871815463,
           0.1630299764243758,
           0.1454996929947382,
           0.12877087581897034,
           0.11333242903336224,
           0.09960082298540655,
           0.08791985781076668,
           0.07856287339249271,
           0.07173638515428266,
           0.06758414818694233,
           0.0661907655654817,
           0.06758414818694233,
           0.07173638515428266,
           0.07856287339249271,
           0.08791985781076668,
           0.09960082298540655,
           0.11333242903336224,
           0.12877087581897034,
           0.1454996929947382,
           0.1630299764243758,
           0.18080401871815463,
           0.1982031145119569,
           0.21456006847846779,
           0.22917661128094333,
           0.2413455569066888,
           0.25037713957121355,
           0.25562857790064414,
           0.25653555744366946,
           0.25264402764959015,
           0.24364050109720906,
           0.22937894091767205,
           0.20990234059772522,
           0.18545724476618586,
           0.15649972810645998,
           0.12369173187889267,
           0.0878871354792479,
           0.05010748884225075,
           0.011507919583092052,
           -0.026665677985416577,
           -0.0631265026963309,
           -0.09660159075517502,
           -0.1258888846262905,
           -0.1499137997580331,
           -0.16778234479339135,
           -0.1788278960809016,
           -0.18264893898060253,
           -0.17913546063850083,
           -0.16848219583369567,
           -0.1511875643863488,
           -0.12803786284735597
          ],
          [
           -0.11853755153953285,
           -0.14391335124448024,
           -0.163591222139663,
           -0.17663261032673944,
           -0.18239300622958532,
           -0.18054660691367944,
           -0.17109514979541934,
           -0.1543609103022869,
           -0.13096468174943518,
           -0.10179031338845618,
           -0.06793803188546253,
           -0.03066927919323432,
           0.008653858363151095,
           0.04863139306208121,
           0.0878871354792479,
           0.12512633286074154,
           0.15918658398472915,
           0.1890798565922851,
           0.21402402107025095,
           0.23346296309158113,
           0.24707500803079696,
           0.25477004091850136,
           0.2566762997375786,
           0.25311832399967577,
           0.24458792842044305,
           0.2317103248693539,
           0.2152076253393881,
           0.19586192453391038,
           0.17447999195279823,
           0.15186131748507978,
           0.12877087581897034,
           0.10591753298818528,
           0.08393854575868848,
           0.06339013493636744,
           0.044743679368913644,
           0.02838670735216783,
           0.014627580006334946,
           0.0037025838949493145,
           -0.004215913110515241,
           -0.009011537058698997,
           -0.010617349295218181,
           -0.009011537058698997,
           -0.004215913110515241,
           0.0037025838949493145,
           0.014627580006334946,
           0.02838670735216783,
           0.044743679368913644,
           0.06339013493636744,
           0.08393854575868848,
           0.10591753298818528,
           0.12877087581897034,
           0.15186131748507978,
           0.17447999195279823,
           0.19586192453391038,
           0.2152076253393881,
           0.2317103248693539,
           0.24458792842044305,
           0.25311832399967577,
           0.2566762997375786,
           0.25477004091850136,
           0.24707500803079696,
           0.23346296309158113,
           0.21402402107025095,
           0.1890798565922851,
           0.15918658398472915,
           0.12512633286074154,
           0.0878871354792479,
           0.04863139306208121,
           0.008653858363151095,
           -0.03066927919323432,
           -0.06793803188546253,
           -0.10179031338845618,
           -0.13096468174943518,
           -0.1543609103022869,
           -0.17109514979541934,
           -0.18054660691367944,
           -0.18239300622958532,
           -0.17663261032673944,
           -0.163591222139663,
           -0.14391335124448024
          ],
          [
           -0.13481430178982187,
           -0.15710321083861073,
           -0.17287351607260815,
           -0.18131560690315682,
           -0.18194839266053625,
           -0.17463748569481502,
           -0.15959621882048483,
           -0.13736985507049018,
           -0.10880422217787396,
           -0.0750007897964791,
           -0.03726086233570953,
           0.0029779491154211806,
           0.044209509361482956,
           0.08492762656935865,
           0.12369173187889267,
           0.15918658398472915,
           0.1902732638436695,
           0.21602931256266372,
           0.23577655069724138,
           0.24909585663212155,
           0.25582893038458626,
           0.2560677827399544,
           0.25013332713993036,
           0.23854497801642713,
           0.22198354690007724,
           0.20124995852555586,
           0.17722237538812438,
           0.15081422331281308,
           0.12293536517635703,
           0.09445829662141196,
           0.0661907655654817,
           0.03885568116655977,
           0.013078615468659323,
           -0.010617349295218181,
           -0.03181017613329085,
           -0.050171999808914604,
           -0.06545830501430487,
           -0.07749482277960204,
           -0.08616386191642225,
           -0.09139170665445415,
           -0.09313849939964196,
           -0.09139170665445415,
           -0.08616386191642225,
           -0.07749482277960204,
           -0.06545830501430487,
           -0.050171999808914604,
           -0.03181017613329085,
           -0.010617349295218181,
           0.013078615468659323,
           0.03885568116655977,
           0.0661907655654817,
           0.09445829662141196,
           0.12293536517635703,
           0.15081422331281308,
           0.17722237538812438,
           0.20124995852555586,
           0.22198354690007724,
           0.23854497801642713,
           0.25013332713993036,
           0.2560677827399544,
           0.25582893038458626,
           0.24909585663212155,
           0.23577655069724138,
           0.21602931256266372,
           0.1902732638436695,
           0.15918658398472915,
           0.12369173187889267,
           0.08492762656935865,
           0.044209509361482956,
           0.0029779491154211806,
           -0.03726086233570953,
           -0.0750007897964791,
           -0.10880422217787396,
           -0.13736985507049018,
           -0.15959621882048483,
           -0.17463748569481502,
           -0.18194839266053625,
           -0.18131560690315682,
           -0.17287351607260815,
           -0.15710321083861073
          ],
          [
           -0.1487375524385824,
           -0.16751643729146143,
           -0.17903560277058095,
           -0.1826358700412797,
           -0.17801860199902664,
           -0.16525654180237792,
           -0.14478624788034108,
           -0.11738288358628372,
           -0.08411903827788304,
           -0.046310064114579955,
           -0.005449066140771361,
           0.03686485131708162,
           0.07900122348247962,
           0.11937185506223688,
           0.15649972810645998,
           0.1890798565922851,
           0.21602931256266372,
           0.2365243422174828,
           0.25002327766855664,
           0.2562747828163765,
           0.2553118000893658,
           0.24743234013685533,
           0.23316893482082693,
           0.21324911772700825,
           0.18854967763954522,
           0.16004763127913005,
           0.12877087581897034,
           0.0957513146109,
           0.06198291759831892,
           0.02838670735216783,
           -0.004215913110515241,
           -0.03512071345143313,
           -0.06374895250625122,
           -0.08964697741323371,
           -0.11247819731414006,
           -0.132008995765264,
           -0.14809048863531396,
           -0.16063822727306362,
           -0.1696119802323752,
           -0.17499760171649797,
           -0.1767927226084377,
           -0.17499760171649797,
           -0.1696119802323752,
           -0.16063822727306362,
           -0.14809048863531396,
           -0.132008995765264,
           -0.11247819731414006,
           -0.08964697741323371,
           -0.06374895250625122,
           -0.03512071345143313,
           -0.004215913110515241,
           0.02838670735216783,
           0.06198291759831892,
           0.0957513146109,
           0.12877087581897034,
           0.16004763127913005,
           0.18854967763954522,
           0.21324911772700825,
           0.23316893482082693,
           0.24743234013685533,
           0.2553118000893658,
           0.2562747828163765,
           0.25002327766855664,
           0.2365243422174828,
           0.21602931256266372,
           0.1890798565922851,
           0.15649972810645998,
           0.11937185506223688,
           0.07900122348247962,
           0.03686485131708162,
           -0.005449066140771361,
           -0.046310064114579955,
           -0.08411903827788304,
           -0.11738288358628372,
           -0.14478624788034108,
           -0.16525654180237792,
           -0.17801860199902664,
           -0.1826358700412797,
           -0.17903560277058095,
           -0.16751643729146143
          ],
          [
           -0.16021647158282734,
           -0.1751457556394694,
           -0.1821644169794075,
           -0.18078273088932142,
           -0.17090060569317098,
           -0.1528102839666787,
           -0.1271795169340972,
           -0.0950164022704569,
           -0.05761803324395176,
           -0.016505930263581485,
           0.026648129724923395,
           0.07010183827093616,
           0.11212338767979044,
           0.1510696036571175,
           0.18545724476618586,
           0.21402402107025095,
           0.23577655069724138,
           0.25002327766855664,
           0.25639126767027576,
           0.2548267267047997,
           0.2455799958764798,
           0.22917661128094333,
           0.2063767337439853,
           0.17812580971586786,
           0.1454996929947382,
           0.1096476200446325,
           0.07173638515428266,
           0.032898814044057145,
           -0.005810793613848673,
           -0.043452159632214875,
           -0.0792240541655952,
           -0.11247819731414006,
           -0.1427221428215067,
           -0.1696119802323752,
           -0.1929363397545002,
           -0.2125937105436689,
           -0.22856545626592412,
           -0.24088710992360066,
           -0.24962054293732017,
           -0.254829433326894,
           -0.2565601183892334,
           -0.254829433326894,
           -0.24962054293732017,
           -0.24088710992360066,
           -0.22856545626592412,
           -0.2125937105436689,
           -0.1929363397545002,
           -0.1696119802323752,
           -0.1427221428215067,
           -0.11247819731414006,
           -0.0792240541655952,
           -0.043452159632214875,
           -0.005810793613848673,
           0.032898814044057145,
           0.07173638515428266,
           0.1096476200446325,
           0.1454996929947382,
           0.17812580971586786,
           0.2063767337439853,
           0.22917661128094333,
           0.2455799958764798,
           0.2548267267047997,
           0.25639126767027576,
           0.25002327766855664,
           0.23577655069724138,
           0.21402402107025095,
           0.18545724476618586,
           0.1510696036571175,
           0.11212338767979044,
           0.07010183827093616,
           0.026648129724923395,
           -0.016505930263581485,
           -0.05761803324395176,
           -0.0950164022704569,
           -0.1271795169340972,
           -0.1528102839666787,
           -0.17090060569317098,
           -0.18078273088932142,
           -0.1821644169794075,
           -0.1751457556394694
          ],
          [
           -0.16923416092386775,
           -0.1800597155006458,
           -0.18242166855756492,
           -0.1760159755489718,
           -0.1609539875623888,
           -0.1377563081818195,
           -0.10732612754693129,
           -0.07090368426500879,
           -0.030004497243790427,
           0.013655158230898757,
           0.058241427706856384,
           0.1018902143955224,
           0.14279404657238684,
           0.1792839709402817,
           0.20990234059772522,
           0.23346296309158113,
           0.24909585663212155,
           0.2562747828163765,
           0.2548267267047997,
           0.24492352037505036,
           0.2270567942100705,
           0.20199833430642128,
           0.17074867404778504,
           0.134477311926808,
           0.09445829662141196,
           0.05200503792795912,
           0.00840808631479302,
           -0.03512071345143313,
           -0.07749482277960204,
           -0.1177881852505473,
           -0.15525760655490364,
           -0.18935183535374994,
           -0.21970771693043267,
           -0.246134617818378,
           -0.268589046149572,
           -0.28714197491104243,
           -0.30194177876754097,
           -0.31317589634427284,
           -0.3210343185560354,
           -0.32567778292945404,
           -0.32721314035298743,
           -0.32567778292945404,
           -0.3210343185560354,
           -0.31317589634427284,
           -0.30194177876754097,
           -0.28714197491104243,
           -0.268589046149572,
           -0.246134617818378,
           -0.21970771693043267,
           -0.18935183535374994,
           -0.15525760655490364,
           -0.1177881852505473,
           -0.07749482277960204,
           -0.03512071345143313,
           0.00840808631479302,
           0.05200503792795912,
           0.09445829662141196,
           0.134477311926808,
           0.17074867404778504,
           0.20199833430642128,
           0.2270567942100705,
           0.24492352037505036,
           0.2548267267047997,
           0.2562747828163765,
           0.24909585663212155,
           0.23346296309158113,
           0.20990234059772522,
           0.1792839709402817,
           0.14279404657238684,
           0.1018902143955224,
           0.058241427706856384,
           0.013655158230898757,
           -0.030004497243790427,
           -0.07090368426500879,
           -0.10732612754693129,
           -0.1377563081818195,
           -0.1609539875623888,
           -0.1760159755489718,
           -0.18242166855756492,
           -0.1800597155006458
          ],
          [
           -0.17584069010379264,
           -0.18239300622958532,
           -0.1800313728705813,
           -0.16865061331126227,
           -0.14858307017251748,
           -0.12058300781296416,
           -0.0857896329957062,
           -0.045670869380806056,
           -0.001951040868825416,
           0.043473546354522816,
           0.08862652853638416,
           0.13154597877649798,
           0.17037647050011587,
           0.20345392533496165,
           0.22937894091767205,
           0.24707500803079696,
           0.25582893038458626,
           0.2553118000893658,
           0.2455799958764798,
           0.2270567942100705,
           0.20049625055173417,
           0.16693195814109418,
           0.12761407121954643,
           0.08393854575868848,
           0.037372873633869375,
           -0.010617349295218181,
           -0.05863687417657578,
           -0.10542055787501849,
           -0.14988136590815446,
           -0.19114437378651342,
           -0.22856545626592412,
           -0.2617343483375656,
           -0.29046275344788247,
           -0.31475910259630246,
           -0.33479237619194996,
           -0.35084804028714445,
           -0.3632795822101567,
           -0.37245933283868765,
           -0.3787322233669178,
           -0.382375848005458,
           -0.3835697098652554,
           -0.382375848005458,
           -0.3787322233669178,
           -0.37245933283868765,
           -0.3632795822101567,
           -0.35084804028714445,
           -0.33479237619194996,
           -0.31475910259630246,
           -0.29046275344788247,
           -0.2617343483375656,
           -0.22856545626592412,
           -0.19114437378651342,
           -0.14988136590815446,
           -0.10542055787501849,
           -0.05863687417657578,
           -0.010617349295218181,
           0.037372873633869375,
           0.08393854575868848,
           0.12761407121954643,
           0.16693195814109418,
           0.20049625055173417,
           0.2270567942100705,
           0.2455799958764798,
           0.2553118000893658,
           0.25582893038458626,
           0.24707500803079696,
           0.22937894091767205,
           0.20345392533496165,
           0.17037647050011587,
           0.13154597877649798,
           0.08862652853638416,
           0.043473546354522816,
           -0.001951040868825416,
           -0.045670869380806056,
           -0.0857896329957062,
           -0.12058300781296416,
           -0.14858307017251748,
           -0.16865061331126227,
           -0.1800313728705813,
           -0.18239300622958532
          ],
          [
           -0.1801446545297837,
           -0.18233559039097344,
           -0.1752665961050691,
           -0.15904136091487175,
           -0.13421936300715656,
           -0.10179031338845618,
           -0.0631265026963309,
           -0.019915691575644292,
           0.025921773001301992,
           0.07232710218505171,
           0.11720338291232232,
           0.15851669454452746,
           0.1943926655354523,
           0.2232034254780841,
           0.24364050109720906,
           0.25477004091850136,
           0.2560677827399544,
           0.24743234013685533,
           0.22917661128094333,
           0.20199833430642128,
           0.16693195814109418,
           0.12528500092613942,
           0.07856287339249271,
           0.02838670735216783,
           -0.02359098016854476,
           -0.0757679524450742,
           -0.12666669235949252,
           -0.17499760171649797,
           -0.21970771693043267,
           -0.26001264723920775,
           -0.29541051237375787,
           -0.32567778292945404,
           -0.35084804028714445,
           -0.37117570680030565,
           -0.38708768931988075,
           -0.3991265770886398,
           -0.407889497747319,
           -0.41396693622794944,
           -0.417885750201407,
           -0.4200602785751461,
           -0.4207548585159486,
           -0.4200602785751461,
           -0.417885750201407,
           -0.41396693622794944,
           -0.407889497747319,
           -0.3991265770886398,
           -0.38708768931988075,
           -0.37117570680030565,
           -0.35084804028714445,
           -0.32567778292945404,
           -0.29541051237375787,
           -0.26001264723920775,
           -0.21970771693043267,
           -0.17499760171649797,
           -0.12666669235949252,
           -0.0757679524450742,
           -0.02359098016854476,
           0.02838670735216783,
           0.07856287339249271,
           0.12528500092613942,
           0.16693195814109418,
           0.20199833430642128,
           0.22917661128094333,
           0.24743234013685533,
           0.2560677827399544,
           0.25477004091850136,
           0.24364050109720906,
           0.2232034254780841,
           0.1943926655354523,
           0.15851669454452746,
           0.11720338291232232,
           0.07232710218505171,
           0.025921773001301992,
           -0.019915691575644292,
           -0.0631265026963309,
           -0.10179031338845618,
           -0.13421936300715656,
           -0.15904136091487175,
           -0.1752665961050691,
           -0.18233559039097344
          ],
          [
           -0.18230376872794093,
           -0.18012123502583363,
           -0.16843605361995675,
           -0.14756752732225356,
           -0.11830504740258321,
           -0.08187218787401292,
           -0.039868134180728126,
           0.0058103924762656495,
           0.05306249567952219,
           0.09968670899986165,
           0.14348926836260514,
           0.18239124981424537,
           0.2145288714461612,
           0.2383416766936446,
           0.25264402764959015,
           0.2566762997375786,
           0.25013332713993036,
           0.23316893482082693,
           0.2063767337439853,
           0.17074867404778504,
           0.12761407121954643,
           0.07856287339249271,
           0.02535776443828009,
           -0.030159748399708135,
           -0.08616386191642225,
           -0.1409342819269669,
           -0.1929363397545002,
           -0.24088710992360066,
           -0.2838041182964338,
           -0.3210343185560354,
           -0.35226222727992795,
           -0.37749737145928347,
           -0.3970424421347404,
           -0.41144469052055266,
           -0.42143408131469146,
           -0.42785247459104203,
           -0.43157859884674826,
           -0.4334537754581445,
           -0.434213248547002,
           -0.43442757176285574,
           -0.43445783007337646,
           -0.43442757176285574,
           -0.434213248547002,
           -0.4334537754581445,
           -0.43157859884674826,
           -0.42785247459104203,
           -0.42143408131469146,
           -0.41144469052055266,
           -0.3970424421347404,
           -0.37749737145928347,
           -0.35226222727992795,
           -0.3210343185560354,
           -0.2838041182964338,
           -0.24088710992360066,
           -0.1929363397545002,
           -0.1409342819269669,
           -0.08616386191642225,
           -0.030159748399708135,
           0.02535776443828009,
           0.07856287339249271,
           0.12761407121954643,
           0.17074867404778504,
           0.2063767337439853,
           0.23316893482082693,
           0.25013332713993036,
           0.2566762997375786,
           0.25264402764959015,
           0.2383416766936446,
           0.2145288714461612,
           0.18239124981424537,
           0.14348926836260514,
           0.09968670899986165,
           0.05306249567952219,
           0.0058103924762656495,
           -0.039868134180728126,
           -0.08187218787401292,
           -0.11830504740258321,
           -0.14756752732225356,
           -0.16843605361995675,
           -0.18012123502583363
          ],
          [
           -0.18251498442862385,
           -0.1760159755489718,
           -0.15987112992755653,
           -0.13461888616197776,
           -0.10127808535368477,
           -0.061301442485772274,
           -0.016505930263581485,
           0.031016232090896562,
           0.07900122348247962,
           0.12512633286074154,
           0.16712567793535366,
           0.20290271423033404,
           0.23063350923189954,
           0.24885528388828942,
           0.25653555744366946,
           0.25311832399967577,
           0.23854497801642713,
           0.21324911772700825,
           0.17812580971586786,
           0.134477311926808,
           0.08393854575868848,
           0.02838670735216783,
           -0.030159748399708135,
           -0.08964697741323371,
           -0.14809048863531396,
           -0.2036729142303004,
           -0.254829433326894,
           -0.30031625065864676,
           -0.3392585664190622,
           -0.37117570680030565,
           -0.39598244357893553,
           -0.41396693622794944,
           -0.42574709936268906,
           -0.43220845214435083,
           -0.43442757176285574,
           -0.4335860886421158,
           -0.4308806796227811,
           -0.4274347075936389,
           -0.42421701152445723,
           -0.42197287899622543,
           -0.421171462695804,
           -0.42197287899622543,
           -0.42421701152445723,
           -0.4274347075936389,
           -0.4308806796227811,
           -0.4335860886421158,
           -0.43442757176285574,
           -0.43220845214435083,
           -0.42574709936268906,
           -0.41396693622794944,
           -0.39598244357893553,
           -0.37117570680030565,
           -0.3392585664190622,
           -0.30031625065864676,
           -0.254829433326894,
           -0.2036729142303004,
           -0.14809048863531396,
           -0.08964697741323371,
           -0.030159748399708135,
           0.02838670735216783,
           0.08393854575868848,
           0.134477311926808,
           0.17812580971586786,
           0.21324911772700825,
           0.23854497801642713,
           0.25311832399967577,
           0.25653555744366946,
           0.24885528388828942,
           0.23063350923189954,
           0.20290271423033404,
           0.16712567793535366,
           0.12512633286074154,
           0.07900122348247962,
           0.031016232090896562,
           -0.016505930263581485,
           -0.061301442485772274,
           -0.10127808535368477,
           -0.13461888616197776,
           -0.15987112992755653,
           -0.1760159755489718
          ],
          [
           -0.18100457917857166,
           -0.17030698199702413,
           -0.1499137997580331,
           -0.12058300781296416,
           -0.08355939645450051,
           -0.040517266401149735,
           0.0065202421682302655,
           0.05528095770522729,
           0.10335731863015635,
           0.14832776112580212,
           0.18787932061729182,
           0.21992483146863692,
           0.242708395806646,
           0.254893432701845,
           0.25562857790064414,
           0.24458792842044305,
           0.22198354690007724,
           0.18854967763954522,
           0.1454996929947382,
           0.09445829662141196,
           0.037372873633869375,
           -0.02359098016854476,
           -0.08616386191642225,
           -0.14809048863531396,
           -0.20724458052139974,
           -0.2617343483375656,
           -0.309992807249447,
           -0.35084804028714445,
           -0.3835697098652554,
           -0.407889497747319,
           -0.42399466300627076,
           -0.43249545715781157,
           -0.43436863670247905,
           -0.4308806796227811,
           -0.42349546556438716,
           -0.4137720534188708,
           -0.40325873487122593,
           -0.39338972722403176,
           -0.3853906832849483,
           -0.3801986514917913,
           -0.3784012476539641,
           -0.3801986514917913,
           -0.3853906832849483,
           -0.39338972722403176,
           -0.40325873487122593,
           -0.4137720534188708,
           -0.42349546556438716,
           -0.4308806796227811,
           -0.43436863670247905,
           -0.43249545715781157,
           -0.42399466300627076,
           -0.407889497747319,
           -0.3835697098652554,
           -0.35084804028714445,
           -0.309992807249447,
           -0.2617343483375656,
           -0.20724458052139974,
           -0.14809048863531396,
           -0.08616386191642225,
           -0.02359098016854476,
           0.037372873633869375,
           0.09445829662141196,
           0.1454996929947382,
           0.18854967763954522,
           0.22198354690007724,
           0.24458792842044305,
           0.25562857790064414,
           0.254893432701845,
           0.242708395806646,
           0.21992483146863692,
           0.18787932061729182,
           0.14832776112580212,
           0.10335731863015635,
           0.05528095770522729,
           0.0065202421682302655,
           -0.040517266401149735,
           -0.08355939645450051,
           -0.12058300781296416,
           -0.1499137997580331,
           -0.17030698199702413
          ],
          [
           -0.17801860199902664,
           -0.16329221750830802,
           -0.13890582780165694,
           -0.10583439818051152,
           -0.06554239869174844,
           -0.019915691575644292,
           0.02883009042098063,
           0.07825990831739421,
           0.1258425822940911,
           0.16908036038891633,
           0.20563779959612533,
           0.23346296309158113,
           0.2508943222213973,
           0.25674750760048576,
           0.25037713957121355,
           0.2317103248693539,
           0.20124995852555586,
           0.16004763127913005,
           0.1096476200446325,
           0.05200503792795912,
           -0.010617349295218181,
           -0.0757679524450742,
           -0.1409342819269669,
           -0.2036729142303004,
           -0.2617343483375656,
           -0.31317589634427284,
           -0.3564564355250057,
           -0.3905078789395116,
           -0.4147795406040892,
           -0.42925310491460716,
           -0.43442757176285574,
           -0.4312752446188071,
           -0.421171462695804,
           -0.40580225753498556,
           -0.38705535500366767,
           -0.36690087535799776,
           -0.3472686537517362,
           -0.32992927901128904,
           -0.3163857196862348,
           -0.3077817863653888,
           -0.30483270332925,
           -0.3077817863653888,
           -0.3163857196862348,
           -0.32992927901128904,
           -0.3472686537517362,
           -0.36690087535799776,
           -0.38705535500366767,
           -0.40580225753498556,
           -0.421171462695804,
           -0.4312752446188071,
           -0.43442757176285574,
           -0.42925310491460716,
           -0.4147795406040892,
           -0.3905078789395116,
           -0.3564564355250057,
           -0.31317589634427284,
           -0.2617343483375656,
           -0.2036729142303004,
           -0.1409342819269669,
           -0.0757679524450742,
           -0.010617349295218181,
           0.05200503792795912,
           0.1096476200446325,
           0.16004763127913005,
           0.20124995852555586,
           0.2317103248693539,
           0.25037713957121355,
           0.25674750760048576,
           0.2508943222213973,
           0.23346296309158113,
           0.20563779959612533,
           0.16908036038891633,
           0.1258425822940911,
           0.07825990831739421,
           0.02883009042098063,
           -0.019915691575644292,
           -0.06554239869174844,
           -0.10583439818051152,
           -0.13890582780165694,
           -0.16329221750830802
          ],
          [
           -0.1738139924448547,
           -0.15527119023634725,
           -0.1271795169340972,
           -0.0907256642328181,
           -0.04758506314163741,
           0.0001569493213448689,
           0.05010748884225075,
           0.09968670899986165,
           0.14626024334832619,
           0.18727640924644018,
           0.22040074178662336,
           0.24364050109720906,
           0.2554522819126627,
           0.2548267267047997,
           0.2413455569066888,
           0.2152076253393881,
           0.17722237538812438,
           0.12877087581897034,
           0.07173638515428266,
           0.00840808631479302,
           -0.05863687417657578,
           -0.12666669235949252,
           -0.1929363397545002,
           -0.254829433326894,
           -0.309992807249447,
           -0.3564564355250057,
           -0.39273214882544505,
           -0.417885750201407,
           -0.43157859884674826,
           -0.434076417833265,
           -0.42622489689420734,
           -0.4093935036702951,
           -0.3853906832849483,
           -0.35635521764627226,
           -0.324629843053556,
           -0.29262421276448536,
           -0.2626748843273063,
           -0.23691017597600564,
           -0.21712746254366178,
           -0.20468978410715197,
           -0.20044755867978276,
           -0.20468978410715197,
           -0.21712746254366178,
           -0.23691017597600564,
           -0.2626748843273063,
           -0.29262421276448536,
           -0.324629843053556,
           -0.35635521764627226,
           -0.3853906832849483,
           -0.4093935036702951,
           -0.42622489689420734,
           -0.434076417833265,
           -0.43157859884674826,
           -0.417885750201407,
           -0.39273214882544505,
           -0.3564564355250057,
           -0.309992807249447,
           -0.254829433326894,
           -0.1929363397545002,
           -0.12666669235949252,
           -0.05863687417657578,
           0.00840808631479302,
           0.07173638515428266,
           0.12877087581897034,
           0.17722237538812438,
           0.2152076253393881,
           0.2413455569066888,
           0.2548267267047997,
           0.2554522819126627,
           0.24364050109720906,
           0.22040074178662336,
           0.18727640924644018,
           0.14626024334832619,
           0.09968670899986165,
           0.05010748884225075,
           0.0001569493213448689,
           -0.04758506314163741,
           -0.0907256642328181,
           -0.1271795169340972,
           -0.15527119023634725
          ],
          [
           -0.16865061331126227,
           -0.14653700801271363,
           -0.11505016730310495,
           -0.07558080422426758,
           -0.030004497243790427,
           0.019407660252202565,
           0.07010183827093616,
           0.11937185506223688,
           0.16450028494360933,
           0.20290271423033404,
           0.23226729318028777,
           0.2506818889186662,
           0.2567417315441088,
           0.24963143467045815,
           0.22917661128094333,
           0.19586192453391038,
           0.15081422331281308,
           0.0957513146109,
           0.032898814044057145,
           -0.03512071345143313,
           -0.10542055787501849,
           -0.17499760171649797,
           -0.24088710992360066,
           -0.30031625065864676,
           -0.35084804028714445,
           -0.3905078789395116,
           -0.417885750201407,
           -0.43220845214435083,
           -0.4333778373354074,
           -0.42197287899622543,
           -0.39921534828629784,
           -0.36690087535799776,
           -0.32729906443176787,
           -0.28302803533990717,
           -0.23691017597600564,
           -0.19181693290541052,
           -0.15051108239111077,
           -0.11549507625799743,
           -0.08887373699192957,
           -0.0722388011028484,
           -0.06658162124929747,
           -0.0722388011028484,
           -0.08887373699192957,
           -0.11549507625799743,
           -0.15051108239111077,
           -0.19181693290541052,
           -0.23691017597600564,
           -0.28302803533990717,
           -0.32729906443176787,
           -0.36690087535799776,
           -0.39921534828629784,
           -0.42197287899622543,
           -0.4333778373354074,
           -0.43220845214435083,
           -0.417885750201407,
           -0.3905078789395116,
           -0.35084804028714445,
           -0.30031625065864676,
           -0.24088710992360066,
           -0.17499760171649797,
           -0.10542055787501849,
           -0.03512071345143313,
           0.032898814044057145,
           0.0957513146109,
           0.15081422331281308,
           0.19586192453391038,
           0.22917661128094333,
           0.24963143467045815,
           0.2567417315441088,
           0.2506818889186662,
           0.23226729318028777,
           0.20290271423033404,
           0.16450028494360933,
           0.11937185506223688,
           0.07010183827093616,
           0.019407660252202565,
           -0.030004497243790427,
           -0.07558080422426758,
           -0.11505016730310495,
           -0.14653700801271363
          ],
          [
           -0.16278435980926842,
           -0.13736985507049018,
           -0.10281030706494565,
           -0.060690608986011814,
           -0.013073952151520388,
           0.03759772656874239,
           0.08862652853638416,
           0.13719827990417027,
           0.18053174205108255,
           0.21602931256266372,
           0.24142096714711753,
           0.254893432701845,
           0.25519727019112654,
           0.24172565029557566,
           0.21456006847846779,
           0.17447999195279823,
           0.12293536517635703,
           0.06198291759831892,
           -0.005810793613848673,
           -0.07749482277960204,
           -0.14988136590815446,
           -0.21970771693043267,
           -0.2838041182964338,
           -0.3392585664190622,
           -0.3835697098652554,
           -0.4147795406040892,
           -0.43157859884674826,
           -0.4333778373354074,
           -0.4203430458705095,
           -0.39338972722403176,
           -0.3541384336243295,
           -0.30483270332925,
           -0.24822376277499153,
           -0.187427969950852,
           -0.1257644689695074,
           -0.06658162124929747,
           -0.0130814139378774,
           0.03184881503912622,
           0.0657883626364726,
           0.08691073780520595,
           0.0940800053732448,
           0.08691073780520595,
           0.0657883626364726,
           0.03184881503912622,
           -0.0130814139378774,
           -0.06658162124929747,
           -0.1257644689695074,
           -0.187427969950852,
           -0.24822376277499153,
           -0.30483270332925,
           -0.3541384336243295,
           -0.39338972722403176,
           -0.4203430458705095,
           -0.4333778373354074,
           -0.43157859884674826,
           -0.4147795406040892,
           -0.3835697098652554,
           -0.3392585664190622,
           -0.2838041182964338,
           -0.21970771693043267,
           -0.14988136590815446,
           -0.07749482277960204,
           -0.005810793613848673,
           0.06198291759831892,
           0.12293536517635703,
           0.17447999195279823,
           0.21456006847846779,
           0.24172565029557566,
           0.25519727019112654,
           0.254893432701845,
           0.24142096714711753,
           0.21602931256266372,
           0.18053174205108255,
           0.13719827990417027,
           0.08862652853638416,
           0.03759772656874239,
           -0.013073952151520388,
           -0.060690608986011814,
           -0.10281030706494565,
           -0.13736985507049018
          ],
          [
           -0.15646143337355978,
           -0.12803192632998142,
           -0.0907256642328181,
           -0.046310064114579955,
           0.0029779491154211806,
           0.054541276561040686,
           0.10555493165712146,
           0.15311446345017118,
           0.1943926655354523,
           0.22679610352037188,
           0.24811283911536614,
           0.2566430509401283,
           0.25130504004127213,
           0.2317103248693539,
           0.1982031145119569,
           0.15186131748507978,
           0.09445829662141196,
           0.02838670735216783,
           -0.043452159632214875,
           -0.1177881852505473,
           -0.19114437378651342,
           -0.26001264723920775,
           -0.3210343185560354,
           -0.37117570680030565,
           -0.407889497747319,
           -0.42925310491460716,
           -0.434076417833265,
           -0.42197287899622543,
           -0.39338972722403176,
           -0.3495953826561967,
           -0.29262421276448536,
           -0.22518118755916025,
           -0.15051108239111077,
           -0.0722388011028484,
           0.005811034304373925,
           0.07980593576993696,
           0.14609889758077332,
           0.20141317105264114,
           0.24300880867803662,
           0.2688222513075441,
           0.2775716305835139,
           0.2688222513075441,
           0.24300880867803662,
           0.20141317105264114,
           0.14609889758077332,
           0.07980593576993696,
           0.005811034304373925,
           -0.0722388011028484,
           -0.15051108239111077,
           -0.22518118755916025,
           -0.29262421276448536,
           -0.3495953826561967,
           -0.39338972722403176,
           -0.42197287899622543,
           -0.434076417833265,
           -0.42925310491460716,
           -0.407889497747319,
           -0.37117570680030565,
           -0.3210343185560354,
           -0.26001264723920775,
           -0.19114437378651342,
           -0.1177881852505473,
           -0.043452159632214875,
           0.02838670735216783,
           0.09445829662141196,
           0.15186131748507978,
           0.1982031145119569,
           0.2317103248693539,
           0.25130504004127213,
           0.2566430509401283,
           0.24811283911536614,
           0.22679610352037188,
           0.1943926655354523,
           0.15311446345017118,
           0.10555493165712146,
           0.054541276561040686,
           0.0029779491154211806,
           -0.046310064114579955,
           -0.0907256642328181,
           -0.12803192632998142
          ],
          [
           -0.1499137997580331,
           -0.11876378051842666,
           -0.07903277128303789,
           -0.032657564269347995,
           0.017966041941118966,
           0.07010183827093616,
           0.12081441070397907,
           0.16712567793535366,
           0.2061784643801796,
           0.23539823538075702,
           0.25264402764959015,
           0.2563400102730029,
           0.2455799958764798,
           0.22019854657881394,
           0.18080401871815463,
           0.12877087581897034,
           0.0661907655654817,
           -0.004215913110515241,
           -0.0792240541655952,
           -0.15525760655490364,
           -0.22856545626592412,
           -0.29541051237375787,
           -0.35226222727992795,
           -0.39598244357893553,
           -0.42399466300627076,
           -0.43442757176285574,
           -0.42622489689420734,
           -0.39921534828629784,
           -0.3541384336243295,
           -0.29262421276448536,
           -0.21712746254366178,
           -0.13081912452072303,
           -0.03744017720227128,
           0.05887491198907235,
           0.1537963512162099,
           0.24300880867803662,
           0.32242214992953067,
           0.38837235101706136,
           0.4378022692207818,
           0.4684129583840573,
           0.47877771528316515,
           0.4684129583840573,
           0.4378022692207818,
           0.38837235101706136,
           0.32242214992953067,
           0.24300880867803662,
           0.1537963512162099,
           0.05887491198907235,
           -0.03744017720227128,
           -0.13081912452072303,
           -0.21712746254366178,
           -0.29262421276448536,
           -0.3541384336243295,
           -0.39921534828629784,
           -0.42622489689420734,
           -0.43442757176285574,
           -0.42399466300627076,
           -0.39598244357893553,
           -0.35226222727992795,
           -0.29541051237375787,
           -0.22856545626592412,
           -0.15525760655490364,
           -0.0792240541655952,
           -0.004215913110515241,
           0.0661907655654817,
           0.12877087581897034,
           0.18080401871815463,
           0.22019854657881394,
           0.2455799958764798,
           0.2563400102730029,
           0.25264402764959015,
           0.23539823538075702,
           0.2061784643801796,
           0.16712567793535366,
           0.12081441070397907,
           0.07010183827093616,
           0.017966041941118966,
           -0.032657564269347995,
           -0.07903277128303789,
           -0.11876378051842666
          ],
          [
           -0.14335579129849668,
           -0.10978201113265723,
           -0.06793803188546253,
           -0.019915691575644292,
           0.031745840459068614,
           0.08418731130237875,
           0.13437885433763305,
           0.1792839709402817,
           0.21602931256266372,
           0.2420710146043941,
           0.255348298963932,
           0.25441554164532254,
           0.23854497801642713,
           0.20779364608280457,
           0.1630299764243758,
           0.10591753298818528,
           0.03885568116655977,
           -0.03512071345143313,
           -0.11247819731414006,
           -0.18935183535374994,
           -0.2617343483375656,
           -0.32567778292945404,
           -0.37749737145928347,
           -0.41396693622794944,
           -0.43249545715781157,
           -0.4312752446188071,
           -0.4093935036702951,
           -0.36690087535799776,
           -0.30483270332925,
           -0.22518118755916025,
           -0.13081912452072303,
           -0.025378460035175753,
           0.08691073780520595,
           0.20141317105264114,
           0.3133036361206578,
           0.4177941096414198,
           0.5103612401471838,
           0.5869627944413911,
           0.6442321103834694,
           0.6796406846183429,
           0.69162061945593,
           0.6796406846183429,
           0.6442321103834694,
           0.5869627944413911,
           0.5103612401471838,
           0.4177941096414198,
           0.3133036361206578,
           0.20141317105264114,
           0.08691073780520595,
           -0.025378460035175753,
           -0.13081912452072303,
           -0.22518118755916025,
           -0.30483270332925,
           -0.36690087535799776,
           -0.4093935036702951,
           -0.4312752446188071,
           -0.43249545715781157,
           -0.41396693622794944,
           -0.37749737145928347,
           -0.32567778292945404,
           -0.2617343483375656,
           -0.18935183535374994,
           -0.11247819731414006,
           -0.03512071345143313,
           0.03885568116655977,
           0.10591753298818528,
           0.1630299764243758,
           0.20779364608280457,
           0.23854497801642713,
           0.25441554164532254,
           0.255348298963932,
           0.2420710146043941,
           0.21602931256266372,
           0.1792839709402817,
           0.13437885433763305,
           0.08418731130237875,
           0.031745840459068614,
           -0.019915691575644292,
           -0.06793803188546253,
           -0.10978201113265723
          ],
          [
           -0.13698176393514344,
           -0.10127808535368477,
           -0.05761803324395176,
           -0.00823327044894154,
           0.044209509361482956,
           0.09674378883254962,
           0.14626024334832619,
           0.18967745729212915,
           0.2241172482256385,
           0.24707500803079696,
           0.256575492104657,
           0.25130504004127213,
           0.23071227369415243,
           0.19507084218595108,
           0.1454996929947382,
           0.08393854575868848,
           0.013078615468659323,
           -0.06374895250625122,
           -0.1427221428215067,
           -0.21970771693043267,
           -0.29046275344788247,
           -0.35084804028714445,
           -0.3970424421347404,
           -0.42574709936268906,
           -0.43436863670247905,
           -0.421171462695804,
           -0.3853906832849483,
           -0.32729906443176787,
           -0.24822376277499153,
           -0.15051108239111077,
           -0.03744017720227128,
           0.08691073780520595,
           0.21783961811686398,
           0.35022902170777614,
           0.47877771528316515,
           0.5982441516081277,
           0.7036898157513979,
           0.790710357098502,
           0.8556429685382863,
           0.8957396184216221,
           0.9092974268256817,
           0.8957396184216221,
           0.8556429685382863,
           0.790710357098502,
           0.7036898157513979,
           0.5982441516081277,
           0.47877771528316515,
           0.35022902170777614,
           0.21783961811686398,
           0.08691073780520595,
           -0.03744017720227128,
           -0.15051108239111077,
           -0.24822376277499153,
           -0.32729906443176787,
           -0.3853906832849483,
           -0.421171462695804,
           -0.43436863670247905,
           -0.42574709936268906,
           -0.3970424421347404,
           -0.35084804028714445,
           -0.29046275344788247,
           -0.21970771693043267,
           -0.1427221428215067,
           -0.06374895250625122,
           0.013078615468659323,
           0.08393854575868848,
           0.1454996929947382,
           0.19507084218595108,
           0.23071227369415243,
           0.25130504004127213,
           0.256575492104657,
           0.24707500803079696,
           0.2241172482256385,
           0.18967745729212915,
           0.14626024334832619,
           0.09674378883254962,
           0.044209509361482956,
           -0.00823327044894154,
           -0.05761803324395176,
           -0.10127808535368477
          ],
          [
           -0.13096468174943518,
           -0.09341816596346665,
           -0.04822085787410071,
           0.0022716100207446164,
           0.05528095770522729,
           0.10774865812501504,
           0.15649972810645998,
           0.19841943861188654,
           0.23063350923189954,
           0.2506818889186662,
           0.2566762997375786,
           0.24743234013685533,
           0.22256808600007377,
           0.18256273925541686,
           0.12877087581897034,
           0.06339013493636744,
           -0.010617349295218181,
           -0.08964697741323371,
           -0.1696119802323752,
           -0.246134617818378,
           -0.31475910259630246,
           -0.37117570680030565,
           -0.41144469052055266,
           -0.43220845214435083,
           -0.4308806796227811,
           -0.40580225753498556,
           -0.35635521764627226,
           -0.28302803533990717,
           -0.187427969950852,
           -0.0722388011028484,
           0.05887491198907235,
           0.20141317105264114,
           0.35022902170777614,
           0.49975144871271493,
           0.6442321103834694,
           0.7780040258931075,
           0.8957396184216221,
           0.992695449836068,
           1.0649315658049785,
           1.1094945766040856,
           1.124555367855928,
           1.1094945766040856,
           1.0649315658049785,
           0.992695449836068,
           0.8957396184216221,
           0.7780040258931075,
           0.6442321103834694,
           0.49975144871271493,
           0.35022902170777614,
           0.20141317105264114,
           0.05887491198907235,
           -0.0722388011028484,
           -0.187427969950852,
           -0.28302803533990717,
           -0.35635521764627226,
           -0.40580225753498556,
           -0.4308806796227811,
           -0.43220845214435083,
           -0.41144469052055266,
           -0.37117570680030565,
           -0.31475910259630246,
           -0.246134617818378,
           -0.1696119802323752,
           -0.08964697741323371,
           -0.010617349295218181,
           0.06339013493636744,
           0.12877087581897034,
           0.18256273925541686,
           0.22256808600007377,
           0.24743234013685533,
           0.2566762997375786,
           0.2506818889186662,
           0.23063350923189954,
           0.19841943861188654,
           0.15649972810645998,
           0.10774865812501504,
           0.05528095770522729,
           0.0022716100207446164,
           -0.04822085787410071,
           -0.09341816596346665
          ],
          [
           -0.1254554756233313,
           -0.08634370978474622,
           -0.039868134180728126,
           0.011507919583092052,
           0.0649104168254659,
           0.11720338291232232,
           0.16515865057394133,
           0.20563779959612533,
           0.23577655069724138,
           0.2531614457800734,
           0.2559887694405144,
           0.2431963471432226,
           0.21456006847846779,
           0.17074867404778504,
           0.11333242903336224,
           0.044743679368913644,
           -0.03181017613329085,
           -0.11247819731414006,
           -0.1929363397545002,
           -0.268589046149572,
           -0.33479237619194996,
           -0.38708768931988075,
           -0.42143408131469146,
           -0.43442757176285574,
           -0.42349546556438716,
           -0.38705535500366767,
           -0.324629843053556,
           -0.23691017597600564,
           -0.1257644689695074,
           0.005811034304373925,
           0.1537963512162099,
           0.3133036361206578,
           0.47877771528316515,
           0.6442321103834694,
           0.803509484779075,
           0.9505541014891831,
           1.0796831610910465,
           1.1858438330909473,
           1.2648434125627805,
           1.3135412961886945,
           1.3299933154720727,
           1.3135412961886945,
           1.2648434125627805,
           1.1858438330909473,
           1.0796831610910465,
           0.9505541014891831,
           0.803509484779075,
           0.6442321103834694,
           0.47877771528316515,
           0.3133036361206578,
           0.1537963512162099,
           0.005811034304373925,
           -0.1257644689695074,
           -0.23691017597600564,
           -0.324629843053556,
           -0.38705535500366767,
           -0.42349546556438716,
           -0.43442757176285574,
           -0.42143408131469146,
           -0.38708768931988075,
           -0.33479237619194996,
           -0.268589046149572,
           -0.1929363397545002,
           -0.11247819731414006,
           -0.03181017613329085,
           0.044743679368913644,
           0.11333242903336224,
           0.17074867404778504,
           0.21456006847846779,
           0.2431963471432226,
           0.2559887694405144,
           0.2531614457800734,
           0.23577655069724138,
           0.20563779959612533,
           0.16515865057394133,
           0.11720338291232232,
           0.0649104168254659,
           0.011507919583092052,
           -0.039868134180728126,
           -0.08634370978474622
          ],
          [
           -0.12058300781296416,
           -0.08017262722723162,
           -0.032657564269347995,
           0.019407660252202565,
           0.07306884206017318,
           0.12512633286074154,
           0.17230988766358785,
           0.21146505144444128,
           0.23974108638511749,
           0.25477004091850136,
           0.2548267267047997,
           0.23896010343988033,
           0.2070878465419809,
           0.16004763127913005,
           0.09960082298540655,
           0.02838670735216783,
           -0.050171999808914604,
           -0.132008995765264,
           -0.2125937105436689,
           -0.28714197491104243,
           -0.35084804028714445,
           -0.3991265770886398,
           -0.42785247459104203,
           -0.4335860886421158,
           -0.4137720534188708,
           -0.36690087535799776,
           -0.29262421276448536,
           -0.19181693290541052,
           -0.06658162124929747,
           0.07980593576993696,
           0.24300880867803662,
           0.4177941096414198,
           0.5982441516081277,
           0.7780040258931075,
           0.9505541014891831,
           1.1094945766040856,
           1.2488284837498442,
           1.3632295064019535,
           1.4482816142111579,
           1.500678835049543,
           1.518375390968938,
           1.500678835049543,
           1.4482816142111579,
           1.3632295064019535,
           1.2488284837498442,
           1.1094945766040856,
           0.9505541014891831,
           0.7780040258931075,
           0.5982441516081277,
           0.4177941096414198,
           0.24300880867803662,
           0.07980593576993696,
           -0.06658162124929747,
           -0.19181693290541052,
           -0.29262421276448536,
           -0.36690087535799776,
           -0.4137720534188708,
           -0.4335860886421158,
           -0.42785247459104203,
           -0.3991265770886398,
           -0.35084804028714445,
           -0.28714197491104243,
           -0.2125937105436689,
           -0.132008995765264,
           -0.050171999808914604,
           0.02838670735216783,
           0.09960082298540655,
           0.16004763127913005,
           0.2070878465419809,
           0.23896010343988033,
           0.2548267267047997,
           0.25477004091850136,
           0.23974108638511749,
           0.21146505144444128,
           0.17230988766358785,
           0.12512633286074154,
           0.07306884206017318,
           0.019407660252202565,
           -0.032657564269347995,
           -0.08017262722723162
          ],
          [
           -0.1164544699167505,
           -0.0750007897964791,
           -0.026665677985416577,
           0.025921773001301992,
           0.07974244535617742,
           0.13154597877649798,
           0.17802983029511174,
           0.21602931256266372,
           0.242708395806646,
           0.2557406839380664,
           0.25347017586536014,
           0.23504220166614895,
           0.20049625055173417,
           0.15081422331281308,
           0.08791985781076668,
           0.014627580006334946,
           -0.06545830501430487,
           -0.14809048863531396,
           -0.22856545626592412,
           -0.30194177876754097,
           -0.3632795822101567,
           -0.407889497747319,
           -0.43157859884674826,
           -0.4308806796227811,
           -0.40325873487122593,
           -0.3472686537517362,
           -0.2626748843273063,
           -0.15051108239111077,
           -0.0130814139378774,
           0.14609889758077332,
           0.32242214992953067,
           0.5103612401471838,
           0.7036898157513979,
           0.8957396184216221,
           1.0796831610910465,
           1.2488284837498442,
           1.3969119972732167,
           1.518375390968938,
           1.608613254431116,
           1.6641794167481594,
           1.682941969615793,
           1.6641794167481594,
           1.608613254431116,
           1.518375390968938,
           1.3969119972732167,
           1.2488284837498442,
           1.0796831610910465,
           0.8957396184216221,
           0.7036898157513979,
           0.5103612401471838,
           0.32242214992953067,
           0.14609889758077332,
           -0.0130814139378774,
           -0.15051108239111077,
           -0.2626748843273063,
           -0.3472686537517362,
           -0.40325873487122593,
           -0.4308806796227811,
           -0.43157859884674826,
           -0.407889497747319,
           -0.3632795822101567,
           -0.30194177876754097,
           -0.22856545626592412,
           -0.14809048863531396,
           -0.06545830501430487,
           0.014627580006334946,
           0.08791985781076668,
           0.15081422331281308,
           0.20049625055173417,
           0.23504220166614895,
           0.25347017586536014,
           0.2557406839380664,
           0.242708395806646,
           0.21602931256266372,
           0.17802983029511174,
           0.13154597877649798,
           0.07974244535617742,
           0.025921773001301992,
           -0.026665677985416577,
           -0.0750007897964791
          ],
          [
           -0.1131560467581887,
           -0.07090368426500879,
           -0.021950582012676394,
           0.031016232090896562,
           0.08492762656935865,
           0.13649472168344115,
           0.18239124981424537,
           0.21944644111666822,
           0.24483804991090943,
           0.2562747828163765,
           0.252157618714697,
           0.2317103248693539,
           0.19507084218595108,
           0.1433370736825879,
           0.07856287339249271,
           0.0037025838949493145,
           -0.07749482277960204,
           -0.16063822727306362,
           -0.24088710992360066,
           -0.31317589634427284,
           -0.37245933283868765,
           -0.41396693622794944,
           -0.4334537754581445,
           -0.4274347075936389,
           -0.39338972722403176,
           -0.32992927901128904,
           -0.23691017597600564,
           -0.11549507625799743,
           0.03184881503912622,
           0.20141317105264114,
           0.38837235101706136,
           0.5869627944413911,
           0.790710357098502,
           0.992695449836068,
           1.1858438330909473,
           1.3632295064019535,
           1.518375390968938,
           1.6455374774968983,
           1.7399588071171015,
           1.7980810383563555,
           1.8177033600622243,
           1.7980810383563555,
           1.7399588071171015,
           1.6455374774968983,
           1.518375390968938,
           1.3632295064019535,
           1.1858438330909473,
           0.992695449836068,
           0.790710357098502,
           0.5869627944413911,
           0.38837235101706136,
           0.20141317105264114,
           0.03184881503912622,
           -0.11549507625799743,
           -0.23691017597600564,
           -0.32992927901128904,
           -0.39338972722403176,
           -0.4274347075936389,
           -0.4334537754581445,
           -0.41396693622794944,
           -0.37245933283868765,
           -0.31317589634427284,
           -0.24088710992360066,
           -0.16063822727306362,
           -0.07749482277960204,
           0.0037025838949493145,
           0.07856287339249271,
           0.1433370736825879,
           0.19507084218595108,
           0.2317103248693539,
           0.252157618714697,
           0.2562747828163765,
           0.24483804991090943,
           0.21944644111666822,
           0.18239124981424537,
           0.13649472168344115,
           0.08492762656935865,
           0.031016232090896562,
           -0.021950582012676394,
           -0.07090368426500879
          ],
          [
           -0.1107536917561867,
           -0.06793803188546253,
           -0.01855449981019833,
           0.03466854669458865,
           0.08862652853638416,
           0.14000357308347133,
           0.18545724476618586,
           0.22181346801290225,
           0.24626113579560338,
           0.25653555744366946,
           0.25108014921898075,
           0.22917661128094333,
           0.19103523332295086,
           0.13783886506830845,
           0.07173638515428266,
           -0.004215913110515241,
           -0.08616386191642225,
           -0.1696119802323752,
           -0.24962054293732017,
           -0.3210343185560354,
           -0.3787322233669178,
           -0.417885750201407,
           -0.434213248547002,
           -0.42421701152445723,
           -0.3853906832849483,
           -0.3163857196862348,
           -0.21712746254366178,
           -0.08887373699192957,
           0.0657883626364726,
           0.24300880867803662,
           0.4378022692207818,
           0.6442321103834694,
           0.8556429685382863,
           1.0649315658049785,
           1.2648434125627805,
           1.4482816142111579,
           1.608613254431116,
           1.7399588071171015,
           1.8374507397311368,
           1.8974488797623419,
           1.917702154416812,
           1.8974488797623419,
           1.8374507397311368,
           1.7399588071171015,
           1.608613254431116,
           1.4482816142111579,
           1.2648434125627805,
           1.0649315658049785,
           0.8556429685382863,
           0.6442321103834694,
           0.4378022692207818,
           0.24300880867803662,
           0.0657883626364726,
           -0.08887373699192957,
           -0.21712746254366178,
           -0.3163857196862348,
           -0.3853906832849483,
           -0.42421701152445723,
           -0.434213248547002,
           -0.417885750201407,
           -0.3787322233669178,
           -0.3210343185560354,
           -0.24962054293732017,
           -0.1696119802323752,
           -0.08616386191642225,
           -0.004215913110515241,
           0.07173638515428266,
           0.13783886506830845,
           0.19103523332295086,
           0.22917661128094333,
           0.25108014921898075,
           0.25653555744366946,
           0.24626113579560338,
           0.22181346801290225,
           0.18545724476618586,
           0.14000357308347133,
           0.08862652853638416,
           0.03466854669458865,
           -0.01855449981019833,
           -0.06793803188546253
          ],
          [
           -0.10929387900894774,
           -0.06614321685638791,
           -0.016505930263581485,
           0.03686485131708162,
           0.09084339726921295,
           0.14209785531573388,
           0.18727640924644018,
           0.2232034254780841,
           0.24707500803079696,
           0.2566430509401283,
           0.25037713957121355,
           0.22759450814784551,
           0.18854967763954522,
           0.134477311926808,
           0.06758414818694233,
           -0.009011537058698997,
           -0.09139170665445415,
           -0.17499760171649797,
           -0.254829433326894,
           -0.32567778292945404,
           -0.382375848005458,
           -0.4200602785751461,
           -0.43442757176285574,
           -0.42197287899622543,
           -0.3801986514917913,
           -0.3077817863653888,
           -0.20468978410715197,
           -0.0722388011028484,
           0.08691073780520595,
           0.2688222513075441,
           0.4684129583840573,
           0.6796406846183429,
           0.8957396184216221,
           1.1094945766040856,
           1.3135412961886945,
           1.500678835049543,
           1.6641794167481594,
           1.7980810383563555,
           1.8974488797623419,
           1.9585929762944412,
           1.9792316740361835,
           1.9585929762944412,
           1.8974488797623419,
           1.7980810383563555,
           1.6641794167481594,
           1.500678835049543,
           1.3135412961886945,
           1.1094945766040856,
           0.8957396184216221,
           0.6796406846183429,
           0.4684129583840573,
           0.2688222513075441,
           0.08691073780520595,
           -0.0722388011028484,
           -0.20468978410715197,
           -0.3077817863653888,
           -0.3801986514917913,
           -0.42197287899622543,
           -0.43442757176285574,
           -0.4200602785751461,
           -0.382375848005458,
           -0.32567778292945404,
           -0.254829433326894,
           -0.17499760171649797,
           -0.09139170665445415,
           -0.009011537058698997,
           0.06758414818694233,
           0.134477311926808,
           0.18854967763954522,
           0.22759450814784551,
           0.25037713957121355,
           0.2566430509401283,
           0.24707500803079696,
           0.2232034254780841,
           0.18727640924644018,
           0.14209785531573388,
           0.09084339726921295,
           0.03686485131708162,
           -0.016505930263581485,
           -0.06614321685638791
          ],
          [
           -0.10880422217787396,
           -0.06554239869174844,
           -0.015821288518275644,
           0.03759772656874239,
           0.09158188560927924,
           0.14279404657238684,
           0.18787932061729182,
           0.22366162672468853,
           0.24733956165584545,
           0.2566706526738519,
           0.25013332713993036,
           0.2270567942100705,
           0.18771045677679687,
           0.1333463922312941,
           0.0661907655654817,
           -0.010617349295218181,
           -0.09313849939964196,
           -0.1767927226084377,
           -0.2565601183892334,
           -0.32721314035298743,
           -0.3835697098652554,
           -0.4207548585159486,
           -0.43445783007337646,
           -0.421171462695804,
           -0.3784012476539641,
           -0.30483270332925,
           -0.20044755867978276,
           -0.06658162124929747,
           0.0940800053732448,
           0.2775716305835139,
           0.47877771528316515,
           0.69162061945593,
           0.9092974268256817,
           1.124555367855928,
           1.3299933154720727,
           1.518375390968938,
           1.682941969615793,
           1.8177033600622243,
           1.917702154416812,
           1.9792316740361835,
           null,
           1.9792316740361835,
           1.917702154416812,
           1.8177033600622243,
           1.682941969615793,
           1.518375390968938,
           1.3299933154720727,
           1.124555367855928,
           0.9092974268256817,
           0.69162061945593,
           0.47877771528316515,
           0.2775716305835139,
           0.0940800053732448,
           -0.06658162124929747,
           -0.20044755867978276,
           -0.30483270332925,
           -0.3784012476539641,
           -0.421171462695804,
           -0.43445783007337646,
           -0.4207548585159486,
           -0.3835697098652554,
           -0.32721314035298743,
           -0.2565601183892334,
           -0.1767927226084377,
           -0.09313849939964196,
           -0.010617349295218181,
           0.0661907655654817,
           0.1333463922312941,
           0.18771045677679687,
           0.2270567942100705,
           0.25013332713993036,
           0.2566706526738519,
           0.24733956165584545,
           0.22366162672468853,
           0.18787932061729182,
           0.14279404657238684,
           0.09158188560927924,
           0.03759772656874239,
           -0.015821288518275644,
           -0.06554239869174844
          ],
          [
           -0.10929387900894774,
           -0.06614321685638791,
           -0.016505930263581485,
           0.03686485131708162,
           0.09084339726921295,
           0.14209785531573388,
           0.18727640924644018,
           0.2232034254780841,
           0.24707500803079696,
           0.2566430509401283,
           0.25037713957121355,
           0.22759450814784551,
           0.18854967763954522,
           0.134477311926808,
           0.06758414818694233,
           -0.009011537058698997,
           -0.09139170665445415,
           -0.17499760171649797,
           -0.254829433326894,
           -0.32567778292945404,
           -0.382375848005458,
           -0.4200602785751461,
           -0.43442757176285574,
           -0.42197287899622543,
           -0.3801986514917913,
           -0.3077817863653888,
           -0.20468978410715197,
           -0.0722388011028484,
           0.08691073780520595,
           0.2688222513075441,
           0.4684129583840573,
           0.6796406846183429,
           0.8957396184216221,
           1.1094945766040856,
           1.3135412961886945,
           1.500678835049543,
           1.6641794167481594,
           1.7980810383563555,
           1.8974488797623419,
           1.9585929762944412,
           1.9792316740361835,
           1.9585929762944412,
           1.8974488797623419,
           1.7980810383563555,
           1.6641794167481594,
           1.500678835049543,
           1.3135412961886945,
           1.1094945766040856,
           0.8957396184216221,
           0.6796406846183429,
           0.4684129583840573,
           0.2688222513075441,
           0.08691073780520595,
           -0.0722388011028484,
           -0.20468978410715197,
           -0.3077817863653888,
           -0.3801986514917913,
           -0.42197287899622543,
           -0.43442757176285574,
           -0.4200602785751461,
           -0.382375848005458,
           -0.32567778292945404,
           -0.254829433326894,
           -0.17499760171649797,
           -0.09139170665445415,
           -0.009011537058698997,
           0.06758414818694233,
           0.134477311926808,
           0.18854967763954522,
           0.22759450814784551,
           0.25037713957121355,
           0.2566430509401283,
           0.24707500803079696,
           0.2232034254780841,
           0.18727640924644018,
           0.14209785531573388,
           0.09084339726921295,
           0.03686485131708162,
           -0.016505930263581485,
           -0.06614321685638791
          ],
          [
           -0.1107536917561867,
           -0.06793803188546253,
           -0.01855449981019833,
           0.03466854669458865,
           0.08862652853638416,
           0.14000357308347133,
           0.18545724476618586,
           0.22181346801290225,
           0.24626113579560338,
           0.25653555744366946,
           0.25108014921898075,
           0.22917661128094333,
           0.19103523332295086,
           0.13783886506830845,
           0.07173638515428266,
           -0.004215913110515241,
           -0.08616386191642225,
           -0.1696119802323752,
           -0.24962054293732017,
           -0.3210343185560354,
           -0.3787322233669178,
           -0.417885750201407,
           -0.434213248547002,
           -0.42421701152445723,
           -0.3853906832849483,
           -0.3163857196862348,
           -0.21712746254366178,
           -0.08887373699192957,
           0.0657883626364726,
           0.24300880867803662,
           0.4378022692207818,
           0.6442321103834694,
           0.8556429685382863,
           1.0649315658049785,
           1.2648434125627805,
           1.4482816142111579,
           1.608613254431116,
           1.7399588071171015,
           1.8374507397311368,
           1.8974488797623419,
           1.917702154416812,
           1.8974488797623419,
           1.8374507397311368,
           1.7399588071171015,
           1.608613254431116,
           1.4482816142111579,
           1.2648434125627805,
           1.0649315658049785,
           0.8556429685382863,
           0.6442321103834694,
           0.4378022692207818,
           0.24300880867803662,
           0.0657883626364726,
           -0.08887373699192957,
           -0.21712746254366178,
           -0.3163857196862348,
           -0.3853906832849483,
           -0.42421701152445723,
           -0.434213248547002,
           -0.417885750201407,
           -0.3787322233669178,
           -0.3210343185560354,
           -0.24962054293732017,
           -0.1696119802323752,
           -0.08616386191642225,
           -0.004215913110515241,
           0.07173638515428266,
           0.13783886506830845,
           0.19103523332295086,
           0.22917661128094333,
           0.25108014921898075,
           0.25653555744366946,
           0.24626113579560338,
           0.22181346801290225,
           0.18545724476618586,
           0.14000357308347133,
           0.08862652853638416,
           0.03466854669458865,
           -0.01855449981019833,
           -0.06793803188546253
          ],
          [
           -0.1131560467581887,
           -0.07090368426500879,
           -0.021950582012676394,
           0.031016232090896562,
           0.08492762656935865,
           0.13649472168344115,
           0.18239124981424537,
           0.21944644111666822,
           0.24483804991090943,
           0.2562747828163765,
           0.252157618714697,
           0.2317103248693539,
           0.19507084218595108,
           0.1433370736825879,
           0.07856287339249271,
           0.0037025838949493145,
           -0.07749482277960204,
           -0.16063822727306362,
           -0.24088710992360066,
           -0.31317589634427284,
           -0.37245933283868765,
           -0.41396693622794944,
           -0.4334537754581445,
           -0.4274347075936389,
           -0.39338972722403176,
           -0.32992927901128904,
           -0.23691017597600564,
           -0.11549507625799743,
           0.03184881503912622,
           0.20141317105264114,
           0.38837235101706136,
           0.5869627944413911,
           0.790710357098502,
           0.992695449836068,
           1.1858438330909473,
           1.3632295064019535,
           1.518375390968938,
           1.6455374774968983,
           1.7399588071171015,
           1.7980810383563555,
           1.8177033600622243,
           1.7980810383563555,
           1.7399588071171015,
           1.6455374774968983,
           1.518375390968938,
           1.3632295064019535,
           1.1858438330909473,
           0.992695449836068,
           0.790710357098502,
           0.5869627944413911,
           0.38837235101706136,
           0.20141317105264114,
           0.03184881503912622,
           -0.11549507625799743,
           -0.23691017597600564,
           -0.32992927901128904,
           -0.39338972722403176,
           -0.4274347075936389,
           -0.4334537754581445,
           -0.41396693622794944,
           -0.37245933283868765,
           -0.31317589634427284,
           -0.24088710992360066,
           -0.16063822727306362,
           -0.07749482277960204,
           0.0037025838949493145,
           0.07856287339249271,
           0.1433370736825879,
           0.19507084218595108,
           0.2317103248693539,
           0.252157618714697,
           0.2562747828163765,
           0.24483804991090943,
           0.21944644111666822,
           0.18239124981424537,
           0.13649472168344115,
           0.08492762656935865,
           0.031016232090896562,
           -0.021950582012676394,
           -0.07090368426500879
          ],
          [
           -0.1164544699167505,
           -0.0750007897964791,
           -0.026665677985416577,
           0.025921773001301992,
           0.07974244535617742,
           0.13154597877649798,
           0.17802983029511174,
           0.21602931256266372,
           0.242708395806646,
           0.2557406839380664,
           0.25347017586536014,
           0.23504220166614895,
           0.20049625055173417,
           0.15081422331281308,
           0.08791985781076668,
           0.014627580006334946,
           -0.06545830501430487,
           -0.14809048863531396,
           -0.22856545626592412,
           -0.30194177876754097,
           -0.3632795822101567,
           -0.407889497747319,
           -0.43157859884674826,
           -0.4308806796227811,
           -0.40325873487122593,
           -0.3472686537517362,
           -0.2626748843273063,
           -0.15051108239111077,
           -0.0130814139378774,
           0.14609889758077332,
           0.32242214992953067,
           0.5103612401471838,
           0.7036898157513979,
           0.8957396184216221,
           1.0796831610910465,
           1.2488284837498442,
           1.3969119972732167,
           1.518375390968938,
           1.608613254431116,
           1.6641794167481594,
           1.682941969615793,
           1.6641794167481594,
           1.608613254431116,
           1.518375390968938,
           1.3969119972732167,
           1.2488284837498442,
           1.0796831610910465,
           0.8957396184216221,
           0.7036898157513979,
           0.5103612401471838,
           0.32242214992953067,
           0.14609889758077332,
           -0.0130814139378774,
           -0.15051108239111077,
           -0.2626748843273063,
           -0.3472686537517362,
           -0.40325873487122593,
           -0.4308806796227811,
           -0.43157859884674826,
           -0.407889497747319,
           -0.3632795822101567,
           -0.30194177876754097,
           -0.22856545626592412,
           -0.14809048863531396,
           -0.06545830501430487,
           0.014627580006334946,
           0.08791985781076668,
           0.15081422331281308,
           0.20049625055173417,
           0.23504220166614895,
           0.25347017586536014,
           0.2557406839380664,
           0.242708395806646,
           0.21602931256266372,
           0.17802983029511174,
           0.13154597877649798,
           0.07974244535617742,
           0.025921773001301992,
           -0.026665677985416577,
           -0.0750007897964791
          ],
          [
           -0.12058300781296416,
           -0.08017262722723162,
           -0.032657564269347995,
           0.019407660252202565,
           0.07306884206017318,
           0.12512633286074154,
           0.17230988766358785,
           0.21146505144444128,
           0.23974108638511749,
           0.25477004091850136,
           0.2548267267047997,
           0.23896010343988033,
           0.2070878465419809,
           0.16004763127913005,
           0.09960082298540655,
           0.02838670735216783,
           -0.050171999808914604,
           -0.132008995765264,
           -0.2125937105436689,
           -0.28714197491104243,
           -0.35084804028714445,
           -0.3991265770886398,
           -0.42785247459104203,
           -0.4335860886421158,
           -0.4137720534188708,
           -0.36690087535799776,
           -0.29262421276448536,
           -0.19181693290541052,
           -0.06658162124929747,
           0.07980593576993696,
           0.24300880867803662,
           0.4177941096414198,
           0.5982441516081277,
           0.7780040258931075,
           0.9505541014891831,
           1.1094945766040856,
           1.2488284837498442,
           1.3632295064019535,
           1.4482816142111579,
           1.500678835049543,
           1.518375390968938,
           1.500678835049543,
           1.4482816142111579,
           1.3632295064019535,
           1.2488284837498442,
           1.1094945766040856,
           0.9505541014891831,
           0.7780040258931075,
           0.5982441516081277,
           0.4177941096414198,
           0.24300880867803662,
           0.07980593576993696,
           -0.06658162124929747,
           -0.19181693290541052,
           -0.29262421276448536,
           -0.36690087535799776,
           -0.4137720534188708,
           -0.4335860886421158,
           -0.42785247459104203,
           -0.3991265770886398,
           -0.35084804028714445,
           -0.28714197491104243,
           -0.2125937105436689,
           -0.132008995765264,
           -0.050171999808914604,
           0.02838670735216783,
           0.09960082298540655,
           0.16004763127913005,
           0.2070878465419809,
           0.23896010343988033,
           0.2548267267047997,
           0.25477004091850136,
           0.23974108638511749,
           0.21146505144444128,
           0.17230988766358785,
           0.12512633286074154,
           0.07306884206017318,
           0.019407660252202565,
           -0.032657564269347995,
           -0.08017262722723162
          ],
          [
           -0.1254554756233313,
           -0.08634370978474622,
           -0.039868134180728126,
           0.011507919583092052,
           0.0649104168254659,
           0.11720338291232232,
           0.16515865057394133,
           0.20563779959612533,
           0.23577655069724138,
           0.2531614457800734,
           0.2559887694405144,
           0.2431963471432226,
           0.21456006847846779,
           0.17074867404778504,
           0.11333242903336224,
           0.044743679368913644,
           -0.03181017613329085,
           -0.11247819731414006,
           -0.1929363397545002,
           -0.268589046149572,
           -0.33479237619194996,
           -0.38708768931988075,
           -0.42143408131469146,
           -0.43442757176285574,
           -0.42349546556438716,
           -0.38705535500366767,
           -0.324629843053556,
           -0.23691017597600564,
           -0.1257644689695074,
           0.005811034304373925,
           0.1537963512162099,
           0.3133036361206578,
           0.47877771528316515,
           0.6442321103834694,
           0.803509484779075,
           0.9505541014891831,
           1.0796831610910465,
           1.1858438330909473,
           1.2648434125627805,
           1.3135412961886945,
           1.3299933154720727,
           1.3135412961886945,
           1.2648434125627805,
           1.1858438330909473,
           1.0796831610910465,
           0.9505541014891831,
           0.803509484779075,
           0.6442321103834694,
           0.47877771528316515,
           0.3133036361206578,
           0.1537963512162099,
           0.005811034304373925,
           -0.1257644689695074,
           -0.23691017597600564,
           -0.324629843053556,
           -0.38705535500366767,
           -0.42349546556438716,
           -0.43442757176285574,
           -0.42143408131469146,
           -0.38708768931988075,
           -0.33479237619194996,
           -0.268589046149572,
           -0.1929363397545002,
           -0.11247819731414006,
           -0.03181017613329085,
           0.044743679368913644,
           0.11333242903336224,
           0.17074867404778504,
           0.21456006847846779,
           0.2431963471432226,
           0.2559887694405144,
           0.2531614457800734,
           0.23577655069724138,
           0.20563779959612533,
           0.16515865057394133,
           0.11720338291232232,
           0.0649104168254659,
           0.011507919583092052,
           -0.039868134180728126,
           -0.08634370978474622
          ],
          [
           -0.13096468174943518,
           -0.09341816596346665,
           -0.04822085787410071,
           0.0022716100207446164,
           0.05528095770522729,
           0.10774865812501504,
           0.15649972810645998,
           0.19841943861188654,
           0.23063350923189954,
           0.2506818889186662,
           0.2566762997375786,
           0.24743234013685533,
           0.22256808600007377,
           0.18256273925541686,
           0.12877087581897034,
           0.06339013493636744,
           -0.010617349295218181,
           -0.08964697741323371,
           -0.1696119802323752,
           -0.246134617818378,
           -0.31475910259630246,
           -0.37117570680030565,
           -0.41144469052055266,
           -0.43220845214435083,
           -0.4308806796227811,
           -0.40580225753498556,
           -0.35635521764627226,
           -0.28302803533990717,
           -0.187427969950852,
           -0.0722388011028484,
           0.05887491198907235,
           0.20141317105264114,
           0.35022902170777614,
           0.49975144871271493,
           0.6442321103834694,
           0.7780040258931075,
           0.8957396184216221,
           0.992695449836068,
           1.0649315658049785,
           1.1094945766040856,
           1.124555367855928,
           1.1094945766040856,
           1.0649315658049785,
           0.992695449836068,
           0.8957396184216221,
           0.7780040258931075,
           0.6442321103834694,
           0.49975144871271493,
           0.35022902170777614,
           0.20141317105264114,
           0.05887491198907235,
           -0.0722388011028484,
           -0.187427969950852,
           -0.28302803533990717,
           -0.35635521764627226,
           -0.40580225753498556,
           -0.4308806796227811,
           -0.43220845214435083,
           -0.41144469052055266,
           -0.37117570680030565,
           -0.31475910259630246,
           -0.246134617818378,
           -0.1696119802323752,
           -0.08964697741323371,
           -0.010617349295218181,
           0.06339013493636744,
           0.12877087581897034,
           0.18256273925541686,
           0.22256808600007377,
           0.24743234013685533,
           0.2566762997375786,
           0.2506818889186662,
           0.23063350923189954,
           0.19841943861188654,
           0.15649972810645998,
           0.10774865812501504,
           0.05528095770522729,
           0.0022716100207446164,
           -0.04822085787410071,
           -0.09341816596346665
          ],
          [
           -0.13698176393514344,
           -0.10127808535368477,
           -0.05761803324395176,
           -0.00823327044894154,
           0.044209509361482956,
           0.09674378883254962,
           0.14626024334832619,
           0.18967745729212915,
           0.2241172482256385,
           0.24707500803079696,
           0.256575492104657,
           0.25130504004127213,
           0.23071227369415243,
           0.19507084218595108,
           0.1454996929947382,
           0.08393854575868848,
           0.013078615468659323,
           -0.06374895250625122,
           -0.1427221428215067,
           -0.21970771693043267,
           -0.29046275344788247,
           -0.35084804028714445,
           -0.3970424421347404,
           -0.42574709936268906,
           -0.43436863670247905,
           -0.421171462695804,
           -0.3853906832849483,
           -0.32729906443176787,
           -0.24822376277499153,
           -0.15051108239111077,
           -0.03744017720227128,
           0.08691073780520595,
           0.21783961811686398,
           0.35022902170777614,
           0.47877771528316515,
           0.5982441516081277,
           0.7036898157513979,
           0.790710357098502,
           0.8556429685382863,
           0.8957396184216221,
           0.9092974268256817,
           0.8957396184216221,
           0.8556429685382863,
           0.790710357098502,
           0.7036898157513979,
           0.5982441516081277,
           0.47877771528316515,
           0.35022902170777614,
           0.21783961811686398,
           0.08691073780520595,
           -0.03744017720227128,
           -0.15051108239111077,
           -0.24822376277499153,
           -0.32729906443176787,
           -0.3853906832849483,
           -0.421171462695804,
           -0.43436863670247905,
           -0.42574709936268906,
           -0.3970424421347404,
           -0.35084804028714445,
           -0.29046275344788247,
           -0.21970771693043267,
           -0.1427221428215067,
           -0.06374895250625122,
           0.013078615468659323,
           0.08393854575868848,
           0.1454996929947382,
           0.19507084218595108,
           0.23071227369415243,
           0.25130504004127213,
           0.256575492104657,
           0.24707500803079696,
           0.2241172482256385,
           0.18967745729212915,
           0.14626024334832619,
           0.09674378883254962,
           0.044209509361482956,
           -0.00823327044894154,
           -0.05761803324395176,
           -0.10127808535368477
          ],
          [
           -0.14335579129849668,
           -0.10978201113265723,
           -0.06793803188546253,
           -0.019915691575644292,
           0.031745840459068614,
           0.08418731130237875,
           0.13437885433763305,
           0.1792839709402817,
           0.21602931256266372,
           0.2420710146043941,
           0.255348298963932,
           0.25441554164532254,
           0.23854497801642713,
           0.20779364608280457,
           0.1630299764243758,
           0.10591753298818528,
           0.03885568116655977,
           -0.03512071345143313,
           -0.11247819731414006,
           -0.18935183535374994,
           -0.2617343483375656,
           -0.32567778292945404,
           -0.37749737145928347,
           -0.41396693622794944,
           -0.43249545715781157,
           -0.4312752446188071,
           -0.4093935036702951,
           -0.36690087535799776,
           -0.30483270332925,
           -0.22518118755916025,
           -0.13081912452072303,
           -0.025378460035175753,
           0.08691073780520595,
           0.20141317105264114,
           0.3133036361206578,
           0.4177941096414198,
           0.5103612401471838,
           0.5869627944413911,
           0.6442321103834694,
           0.6796406846183429,
           0.69162061945593,
           0.6796406846183429,
           0.6442321103834694,
           0.5869627944413911,
           0.5103612401471838,
           0.4177941096414198,
           0.3133036361206578,
           0.20141317105264114,
           0.08691073780520595,
           -0.025378460035175753,
           -0.13081912452072303,
           -0.22518118755916025,
           -0.30483270332925,
           -0.36690087535799776,
           -0.4093935036702951,
           -0.4312752446188071,
           -0.43249545715781157,
           -0.41396693622794944,
           -0.37749737145928347,
           -0.32567778292945404,
           -0.2617343483375656,
           -0.18935183535374994,
           -0.11247819731414006,
           -0.03512071345143313,
           0.03885568116655977,
           0.10591753298818528,
           0.1630299764243758,
           0.20779364608280457,
           0.23854497801642713,
           0.25441554164532254,
           0.255348298963932,
           0.2420710146043941,
           0.21602931256266372,
           0.1792839709402817,
           0.13437885433763305,
           0.08418731130237875,
           0.031745840459068614,
           -0.019915691575644292,
           -0.06793803188546253,
           -0.10978201113265723
          ],
          [
           -0.1499137997580331,
           -0.11876378051842666,
           -0.07903277128303789,
           -0.032657564269347995,
           0.017966041941118966,
           0.07010183827093616,
           0.12081441070397907,
           0.16712567793535366,
           0.2061784643801796,
           0.23539823538075702,
           0.25264402764959015,
           0.2563400102730029,
           0.2455799958764798,
           0.22019854657881394,
           0.18080401871815463,
           0.12877087581897034,
           0.0661907655654817,
           -0.004215913110515241,
           -0.0792240541655952,
           -0.15525760655490364,
           -0.22856545626592412,
           -0.29541051237375787,
           -0.35226222727992795,
           -0.39598244357893553,
           -0.42399466300627076,
           -0.43442757176285574,
           -0.42622489689420734,
           -0.39921534828629784,
           -0.3541384336243295,
           -0.29262421276448536,
           -0.21712746254366178,
           -0.13081912452072303,
           -0.03744017720227128,
           0.05887491198907235,
           0.1537963512162099,
           0.24300880867803662,
           0.32242214992953067,
           0.38837235101706136,
           0.4378022692207818,
           0.4684129583840573,
           0.47877771528316515,
           0.4684129583840573,
           0.4378022692207818,
           0.38837235101706136,
           0.32242214992953067,
           0.24300880867803662,
           0.1537963512162099,
           0.05887491198907235,
           -0.03744017720227128,
           -0.13081912452072303,
           -0.21712746254366178,
           -0.29262421276448536,
           -0.3541384336243295,
           -0.39921534828629784,
           -0.42622489689420734,
           -0.43442757176285574,
           -0.42399466300627076,
           -0.39598244357893553,
           -0.35226222727992795,
           -0.29541051237375787,
           -0.22856545626592412,
           -0.15525760655490364,
           -0.0792240541655952,
           -0.004215913110515241,
           0.0661907655654817,
           0.12877087581897034,
           0.18080401871815463,
           0.22019854657881394,
           0.2455799958764798,
           0.2563400102730029,
           0.25264402764959015,
           0.23539823538075702,
           0.2061784643801796,
           0.16712567793535366,
           0.12081441070397907,
           0.07010183827093616,
           0.017966041941118966,
           -0.032657564269347995,
           -0.07903277128303789,
           -0.11876378051842666
          ],
          [
           -0.15646143337355978,
           -0.12803192632998142,
           -0.0907256642328181,
           -0.046310064114579955,
           0.0029779491154211806,
           0.054541276561040686,
           0.10555493165712146,
           0.15311446345017118,
           0.1943926655354523,
           0.22679610352037188,
           0.24811283911536614,
           0.2566430509401283,
           0.25130504004127213,
           0.2317103248693539,
           0.1982031145119569,
           0.15186131748507978,
           0.09445829662141196,
           0.02838670735216783,
           -0.043452159632214875,
           -0.1177881852505473,
           -0.19114437378651342,
           -0.26001264723920775,
           -0.3210343185560354,
           -0.37117570680030565,
           -0.407889497747319,
           -0.42925310491460716,
           -0.434076417833265,
           -0.42197287899622543,
           -0.39338972722403176,
           -0.3495953826561967,
           -0.29262421276448536,
           -0.22518118755916025,
           -0.15051108239111077,
           -0.0722388011028484,
           0.005811034304373925,
           0.07980593576993696,
           0.14609889758077332,
           0.20141317105264114,
           0.24300880867803662,
           0.2688222513075441,
           0.2775716305835139,
           0.2688222513075441,
           0.24300880867803662,
           0.20141317105264114,
           0.14609889758077332,
           0.07980593576993696,
           0.005811034304373925,
           -0.0722388011028484,
           -0.15051108239111077,
           -0.22518118755916025,
           -0.29262421276448536,
           -0.3495953826561967,
           -0.39338972722403176,
           -0.42197287899622543,
           -0.434076417833265,
           -0.42925310491460716,
           -0.407889497747319,
           -0.37117570680030565,
           -0.3210343185560354,
           -0.26001264723920775,
           -0.19114437378651342,
           -0.1177881852505473,
           -0.043452159632214875,
           0.02838670735216783,
           0.09445829662141196,
           0.15186131748507978,
           0.1982031145119569,
           0.2317103248693539,
           0.25130504004127213,
           0.2566430509401283,
           0.24811283911536614,
           0.22679610352037188,
           0.1943926655354523,
           0.15311446345017118,
           0.10555493165712146,
           0.054541276561040686,
           0.0029779491154211806,
           -0.046310064114579955,
           -0.0907256642328181,
           -0.12803192632998142
          ],
          [
           -0.16278435980926842,
           -0.13736985507049018,
           -0.10281030706494565,
           -0.060690608986011814,
           -0.013073952151520388,
           0.03759772656874239,
           0.08862652853638416,
           0.13719827990417027,
           0.18053174205108255,
           0.21602931256266372,
           0.24142096714711753,
           0.254893432701845,
           0.25519727019112654,
           0.24172565029557566,
           0.21456006847846779,
           0.17447999195279823,
           0.12293536517635703,
           0.06198291759831892,
           -0.005810793613848673,
           -0.07749482277960204,
           -0.14988136590815446,
           -0.21970771693043267,
           -0.2838041182964338,
           -0.3392585664190622,
           -0.3835697098652554,
           -0.4147795406040892,
           -0.43157859884674826,
           -0.4333778373354074,
           -0.4203430458705095,
           -0.39338972722403176,
           -0.3541384336243295,
           -0.30483270332925,
           -0.24822376277499153,
           -0.187427969950852,
           -0.1257644689695074,
           -0.06658162124929747,
           -0.0130814139378774,
           0.03184881503912622,
           0.0657883626364726,
           0.08691073780520595,
           0.0940800053732448,
           0.08691073780520595,
           0.0657883626364726,
           0.03184881503912622,
           -0.0130814139378774,
           -0.06658162124929747,
           -0.1257644689695074,
           -0.187427969950852,
           -0.24822376277499153,
           -0.30483270332925,
           -0.3541384336243295,
           -0.39338972722403176,
           -0.4203430458705095,
           -0.4333778373354074,
           -0.43157859884674826,
           -0.4147795406040892,
           -0.3835697098652554,
           -0.3392585664190622,
           -0.2838041182964338,
           -0.21970771693043267,
           -0.14988136590815446,
           -0.07749482277960204,
           -0.005810793613848673,
           0.06198291759831892,
           0.12293536517635703,
           0.17447999195279823,
           0.21456006847846779,
           0.24172565029557566,
           0.25519727019112654,
           0.254893432701845,
           0.24142096714711753,
           0.21602931256266372,
           0.18053174205108255,
           0.13719827990417027,
           0.08862652853638416,
           0.03759772656874239,
           -0.013073952151520388,
           -0.060690608986011814,
           -0.10281030706494565,
           -0.13736985507049018
          ],
          [
           -0.16865061331126227,
           -0.14653700801271363,
           -0.11505016730310495,
           -0.07558080422426758,
           -0.030004497243790427,
           0.019407660252202565,
           0.07010183827093616,
           0.11937185506223688,
           0.16450028494360933,
           0.20290271423033404,
           0.23226729318028777,
           0.2506818889186662,
           0.2567417315441088,
           0.24963143467045815,
           0.22917661128094333,
           0.19586192453391038,
           0.15081422331281308,
           0.0957513146109,
           0.032898814044057145,
           -0.03512071345143313,
           -0.10542055787501849,
           -0.17499760171649797,
           -0.24088710992360066,
           -0.30031625065864676,
           -0.35084804028714445,
           -0.3905078789395116,
           -0.417885750201407,
           -0.43220845214435083,
           -0.4333778373354074,
           -0.42197287899622543,
           -0.39921534828629784,
           -0.36690087535799776,
           -0.32729906443176787,
           -0.28302803533990717,
           -0.23691017597600564,
           -0.19181693290541052,
           -0.15051108239111077,
           -0.11549507625799743,
           -0.08887373699192957,
           -0.0722388011028484,
           -0.06658162124929747,
           -0.0722388011028484,
           -0.08887373699192957,
           -0.11549507625799743,
           -0.15051108239111077,
           -0.19181693290541052,
           -0.23691017597600564,
           -0.28302803533990717,
           -0.32729906443176787,
           -0.36690087535799776,
           -0.39921534828629784,
           -0.42197287899622543,
           -0.4333778373354074,
           -0.43220845214435083,
           -0.417885750201407,
           -0.3905078789395116,
           -0.35084804028714445,
           -0.30031625065864676,
           -0.24088710992360066,
           -0.17499760171649797,
           -0.10542055787501849,
           -0.03512071345143313,
           0.032898814044057145,
           0.0957513146109,
           0.15081422331281308,
           0.19586192453391038,
           0.22917661128094333,
           0.24963143467045815,
           0.2567417315441088,
           0.2506818889186662,
           0.23226729318028777,
           0.20290271423033404,
           0.16450028494360933,
           0.11937185506223688,
           0.07010183827093616,
           0.019407660252202565,
           -0.030004497243790427,
           -0.07558080422426758,
           -0.11505016730310495,
           -0.14653700801271363
          ],
          [
           -0.1738139924448547,
           -0.15527119023634725,
           -0.1271795169340972,
           -0.0907256642328181,
           -0.04758506314163741,
           0.0001569493213448689,
           0.05010748884225075,
           0.09968670899986165,
           0.14626024334832619,
           0.18727640924644018,
           0.22040074178662336,
           0.24364050109720906,
           0.2554522819126627,
           0.2548267267047997,
           0.2413455569066888,
           0.2152076253393881,
           0.17722237538812438,
           0.12877087581897034,
           0.07173638515428266,
           0.00840808631479302,
           -0.05863687417657578,
           -0.12666669235949252,
           -0.1929363397545002,
           -0.254829433326894,
           -0.309992807249447,
           -0.3564564355250057,
           -0.39273214882544505,
           -0.417885750201407,
           -0.43157859884674826,
           -0.434076417833265,
           -0.42622489689420734,
           -0.4093935036702951,
           -0.3853906832849483,
           -0.35635521764627226,
           -0.324629843053556,
           -0.29262421276448536,
           -0.2626748843273063,
           -0.23691017597600564,
           -0.21712746254366178,
           -0.20468978410715197,
           -0.20044755867978276,
           -0.20468978410715197,
           -0.21712746254366178,
           -0.23691017597600564,
           -0.2626748843273063,
           -0.29262421276448536,
           -0.324629843053556,
           -0.35635521764627226,
           -0.3853906832849483,
           -0.4093935036702951,
           -0.42622489689420734,
           -0.434076417833265,
           -0.43157859884674826,
           -0.417885750201407,
           -0.39273214882544505,
           -0.3564564355250057,
           -0.309992807249447,
           -0.254829433326894,
           -0.1929363397545002,
           -0.12666669235949252,
           -0.05863687417657578,
           0.00840808631479302,
           0.07173638515428266,
           0.12877087581897034,
           0.17722237538812438,
           0.2152076253393881,
           0.2413455569066888,
           0.2548267267047997,
           0.2554522819126627,
           0.24364050109720906,
           0.22040074178662336,
           0.18727640924644018,
           0.14626024334832619,
           0.09968670899986165,
           0.05010748884225075,
           0.0001569493213448689,
           -0.04758506314163741,
           -0.0907256642328181,
           -0.1271795169340972,
           -0.15527119023634725
          ],
          [
           -0.17801860199902664,
           -0.16329221750830802,
           -0.13890582780165694,
           -0.10583439818051152,
           -0.06554239869174844,
           -0.019915691575644292,
           0.02883009042098063,
           0.07825990831739421,
           0.1258425822940911,
           0.16908036038891633,
           0.20563779959612533,
           0.23346296309158113,
           0.2508943222213973,
           0.25674750760048576,
           0.25037713957121355,
           0.2317103248693539,
           0.20124995852555586,
           0.16004763127913005,
           0.1096476200446325,
           0.05200503792795912,
           -0.010617349295218181,
           -0.0757679524450742,
           -0.1409342819269669,
           -0.2036729142303004,
           -0.2617343483375656,
           -0.31317589634427284,
           -0.3564564355250057,
           -0.3905078789395116,
           -0.4147795406040892,
           -0.42925310491460716,
           -0.43442757176285574,
           -0.4312752446188071,
           -0.421171462695804,
           -0.40580225753498556,
           -0.38705535500366767,
           -0.36690087535799776,
           -0.3472686537517362,
           -0.32992927901128904,
           -0.3163857196862348,
           -0.3077817863653888,
           -0.30483270332925,
           -0.3077817863653888,
           -0.3163857196862348,
           -0.32992927901128904,
           -0.3472686537517362,
           -0.36690087535799776,
           -0.38705535500366767,
           -0.40580225753498556,
           -0.421171462695804,
           -0.4312752446188071,
           -0.43442757176285574,
           -0.42925310491460716,
           -0.4147795406040892,
           -0.3905078789395116,
           -0.3564564355250057,
           -0.31317589634427284,
           -0.2617343483375656,
           -0.2036729142303004,
           -0.1409342819269669,
           -0.0757679524450742,
           -0.010617349295218181,
           0.05200503792795912,
           0.1096476200446325,
           0.16004763127913005,
           0.20124995852555586,
           0.2317103248693539,
           0.25037713957121355,
           0.25674750760048576,
           0.2508943222213973,
           0.23346296309158113,
           0.20563779959612533,
           0.16908036038891633,
           0.1258425822940911,
           0.07825990831739421,
           0.02883009042098063,
           -0.019915691575644292,
           -0.06554239869174844,
           -0.10583439818051152,
           -0.13890582780165694,
           -0.16329221750830802
          ],
          [
           -0.18100457917857166,
           -0.17030698199702413,
           -0.1499137997580331,
           -0.12058300781296416,
           -0.08355939645450051,
           -0.040517266401149735,
           0.0065202421682302655,
           0.05528095770522729,
           0.10335731863015635,
           0.14832776112580212,
           0.18787932061729182,
           0.21992483146863692,
           0.242708395806646,
           0.254893432701845,
           0.25562857790064414,
           0.24458792842044305,
           0.22198354690007724,
           0.18854967763954522,
           0.1454996929947382,
           0.09445829662141196,
           0.037372873633869375,
           -0.02359098016854476,
           -0.08616386191642225,
           -0.14809048863531396,
           -0.20724458052139974,
           -0.2617343483375656,
           -0.309992807249447,
           -0.35084804028714445,
           -0.3835697098652554,
           -0.407889497747319,
           -0.42399466300627076,
           -0.43249545715781157,
           -0.43436863670247905,
           -0.4308806796227811,
           -0.42349546556438716,
           -0.4137720534188708,
           -0.40325873487122593,
           -0.39338972722403176,
           -0.3853906832849483,
           -0.3801986514917913,
           -0.3784012476539641,
           -0.3801986514917913,
           -0.3853906832849483,
           -0.39338972722403176,
           -0.40325873487122593,
           -0.4137720534188708,
           -0.42349546556438716,
           -0.4308806796227811,
           -0.43436863670247905,
           -0.43249545715781157,
           -0.42399466300627076,
           -0.407889497747319,
           -0.3835697098652554,
           -0.35084804028714445,
           -0.309992807249447,
           -0.2617343483375656,
           -0.20724458052139974,
           -0.14809048863531396,
           -0.08616386191642225,
           -0.02359098016854476,
           0.037372873633869375,
           0.09445829662141196,
           0.1454996929947382,
           0.18854967763954522,
           0.22198354690007724,
           0.24458792842044305,
           0.25562857790064414,
           0.254893432701845,
           0.242708395806646,
           0.21992483146863692,
           0.18787932061729182,
           0.14832776112580212,
           0.10335731863015635,
           0.05528095770522729,
           0.0065202421682302655,
           -0.040517266401149735,
           -0.08355939645450051,
           -0.12058300781296416,
           -0.1499137997580331,
           -0.17030698199702413
          ],
          [
           -0.18251498442862385,
           -0.1760159755489718,
           -0.15987112992755653,
           -0.13461888616197776,
           -0.10127808535368477,
           -0.061301442485772274,
           -0.016505930263581485,
           0.031016232090896562,
           0.07900122348247962,
           0.12512633286074154,
           0.16712567793535366,
           0.20290271423033404,
           0.23063350923189954,
           0.24885528388828942,
           0.25653555744366946,
           0.25311832399967577,
           0.23854497801642713,
           0.21324911772700825,
           0.17812580971586786,
           0.134477311926808,
           0.08393854575868848,
           0.02838670735216783,
           -0.030159748399708135,
           -0.08964697741323371,
           -0.14809048863531396,
           -0.2036729142303004,
           -0.254829433326894,
           -0.30031625065864676,
           -0.3392585664190622,
           -0.37117570680030565,
           -0.39598244357893553,
           -0.41396693622794944,
           -0.42574709936268906,
           -0.43220845214435083,
           -0.43442757176285574,
           -0.4335860886421158,
           -0.4308806796227811,
           -0.4274347075936389,
           -0.42421701152445723,
           -0.42197287899622543,
           -0.421171462695804,
           -0.42197287899622543,
           -0.42421701152445723,
           -0.4274347075936389,
           -0.4308806796227811,
           -0.4335860886421158,
           -0.43442757176285574,
           -0.43220845214435083,
           -0.42574709936268906,
           -0.41396693622794944,
           -0.39598244357893553,
           -0.37117570680030565,
           -0.3392585664190622,
           -0.30031625065864676,
           -0.254829433326894,
           -0.2036729142303004,
           -0.14809048863531396,
           -0.08964697741323371,
           -0.030159748399708135,
           0.02838670735216783,
           0.08393854575868848,
           0.134477311926808,
           0.17812580971586786,
           0.21324911772700825,
           0.23854497801642713,
           0.25311832399967577,
           0.25653555744366946,
           0.24885528388828942,
           0.23063350923189954,
           0.20290271423033404,
           0.16712567793535366,
           0.12512633286074154,
           0.07900122348247962,
           0.031016232090896562,
           -0.016505930263581485,
           -0.061301442485772274,
           -0.10127808535368477,
           -0.13461888616197776,
           -0.15987112992755653,
           -0.1760159755489718
          ],
          [
           -0.18230376872794093,
           -0.18012123502583363,
           -0.16843605361995675,
           -0.14756752732225356,
           -0.11830504740258321,
           -0.08187218787401292,
           -0.039868134180728126,
           0.0058103924762656495,
           0.05306249567952219,
           0.09968670899986165,
           0.14348926836260514,
           0.18239124981424537,
           0.2145288714461612,
           0.2383416766936446,
           0.25264402764959015,
           0.2566762997375786,
           0.25013332713993036,
           0.23316893482082693,
           0.2063767337439853,
           0.17074867404778504,
           0.12761407121954643,
           0.07856287339249271,
           0.02535776443828009,
           -0.030159748399708135,
           -0.08616386191642225,
           -0.1409342819269669,
           -0.1929363397545002,
           -0.24088710992360066,
           -0.2838041182964338,
           -0.3210343185560354,
           -0.35226222727992795,
           -0.37749737145928347,
           -0.3970424421347404,
           -0.41144469052055266,
           -0.42143408131469146,
           -0.42785247459104203,
           -0.43157859884674826,
           -0.4334537754581445,
           -0.434213248547002,
           -0.43442757176285574,
           -0.43445783007337646,
           -0.43442757176285574,
           -0.434213248547002,
           -0.4334537754581445,
           -0.43157859884674826,
           -0.42785247459104203,
           -0.42143408131469146,
           -0.41144469052055266,
           -0.3970424421347404,
           -0.37749737145928347,
           -0.35226222727992795,
           -0.3210343185560354,
           -0.2838041182964338,
           -0.24088710992360066,
           -0.1929363397545002,
           -0.1409342819269669,
           -0.08616386191642225,
           -0.030159748399708135,
           0.02535776443828009,
           0.07856287339249271,
           0.12761407121954643,
           0.17074867404778504,
           0.2063767337439853,
           0.23316893482082693,
           0.25013332713993036,
           0.2566762997375786,
           0.25264402764959015,
           0.2383416766936446,
           0.2145288714461612,
           0.18239124981424537,
           0.14348926836260514,
           0.09968670899986165,
           0.05306249567952219,
           0.0058103924762656495,
           -0.039868134180728126,
           -0.08187218787401292,
           -0.11830504740258321,
           -0.14756752732225356,
           -0.16843605361995675,
           -0.18012123502583363
          ],
          [
           -0.1801446545297837,
           -0.18233559039097344,
           -0.1752665961050691,
           -0.15904136091487175,
           -0.13421936300715656,
           -0.10179031338845618,
           -0.0631265026963309,
           -0.019915691575644292,
           0.025921773001301992,
           0.07232710218505171,
           0.11720338291232232,
           0.15851669454452746,
           0.1943926655354523,
           0.2232034254780841,
           0.24364050109720906,
           0.25477004091850136,
           0.2560677827399544,
           0.24743234013685533,
           0.22917661128094333,
           0.20199833430642128,
           0.16693195814109418,
           0.12528500092613942,
           0.07856287339249271,
           0.02838670735216783,
           -0.02359098016854476,
           -0.0757679524450742,
           -0.12666669235949252,
           -0.17499760171649797,
           -0.21970771693043267,
           -0.26001264723920775,
           -0.29541051237375787,
           -0.32567778292945404,
           -0.35084804028714445,
           -0.37117570680030565,
           -0.38708768931988075,
           -0.3991265770886398,
           -0.407889497747319,
           -0.41396693622794944,
           -0.417885750201407,
           -0.4200602785751461,
           -0.4207548585159486,
           -0.4200602785751461,
           -0.417885750201407,
           -0.41396693622794944,
           -0.407889497747319,
           -0.3991265770886398,
           -0.38708768931988075,
           -0.37117570680030565,
           -0.35084804028714445,
           -0.32567778292945404,
           -0.29541051237375787,
           -0.26001264723920775,
           -0.21970771693043267,
           -0.17499760171649797,
           -0.12666669235949252,
           -0.0757679524450742,
           -0.02359098016854476,
           0.02838670735216783,
           0.07856287339249271,
           0.12528500092613942,
           0.16693195814109418,
           0.20199833430642128,
           0.22917661128094333,
           0.24743234013685533,
           0.2560677827399544,
           0.25477004091850136,
           0.24364050109720906,
           0.2232034254780841,
           0.1943926655354523,
           0.15851669454452746,
           0.11720338291232232,
           0.07232710218505171,
           0.025921773001301992,
           -0.019915691575644292,
           -0.0631265026963309,
           -0.10179031338845618,
           -0.13421936300715656,
           -0.15904136091487175,
           -0.1752665961050691,
           -0.18233559039097344
          ],
          [
           -0.17584069010379264,
           -0.18239300622958532,
           -0.1800313728705813,
           -0.16865061331126227,
           -0.14858307017251748,
           -0.12058300781296416,
           -0.0857896329957062,
           -0.045670869380806056,
           -0.001951040868825416,
           0.043473546354522816,
           0.08862652853638416,
           0.13154597877649798,
           0.17037647050011587,
           0.20345392533496165,
           0.22937894091767205,
           0.24707500803079696,
           0.25582893038458626,
           0.2553118000893658,
           0.2455799958764798,
           0.2270567942100705,
           0.20049625055173417,
           0.16693195814109418,
           0.12761407121954643,
           0.08393854575868848,
           0.037372873633869375,
           -0.010617349295218181,
           -0.05863687417657578,
           -0.10542055787501849,
           -0.14988136590815446,
           -0.19114437378651342,
           -0.22856545626592412,
           -0.2617343483375656,
           -0.29046275344788247,
           -0.31475910259630246,
           -0.33479237619194996,
           -0.35084804028714445,
           -0.3632795822101567,
           -0.37245933283868765,
           -0.3787322233669178,
           -0.382375848005458,
           -0.3835697098652554,
           -0.382375848005458,
           -0.3787322233669178,
           -0.37245933283868765,
           -0.3632795822101567,
           -0.35084804028714445,
           -0.33479237619194996,
           -0.31475910259630246,
           -0.29046275344788247,
           -0.2617343483375656,
           -0.22856545626592412,
           -0.19114437378651342,
           -0.14988136590815446,
           -0.10542055787501849,
           -0.05863687417657578,
           -0.010617349295218181,
           0.037372873633869375,
           0.08393854575868848,
           0.12761407121954643,
           0.16693195814109418,
           0.20049625055173417,
           0.2270567942100705,
           0.2455799958764798,
           0.2553118000893658,
           0.25582893038458626,
           0.24707500803079696,
           0.22937894091767205,
           0.20345392533496165,
           0.17037647050011587,
           0.13154597877649798,
           0.08862652853638416,
           0.043473546354522816,
           -0.001951040868825416,
           -0.045670869380806056,
           -0.0857896329957062,
           -0.12058300781296416,
           -0.14858307017251748,
           -0.16865061331126227,
           -0.1800313728705813,
           -0.18239300622958532
          ],
          [
           -0.16923416092386775,
           -0.1800597155006458,
           -0.18242166855756492,
           -0.1760159755489718,
           -0.1609539875623888,
           -0.1377563081818195,
           -0.10732612754693129,
           -0.07090368426500879,
           -0.030004497243790427,
           0.013655158230898757,
           0.058241427706856384,
           0.1018902143955224,
           0.14279404657238684,
           0.1792839709402817,
           0.20990234059772522,
           0.23346296309158113,
           0.24909585663212155,
           0.2562747828163765,
           0.2548267267047997,
           0.24492352037505036,
           0.2270567942100705,
           0.20199833430642128,
           0.17074867404778504,
           0.134477311926808,
           0.09445829662141196,
           0.05200503792795912,
           0.00840808631479302,
           -0.03512071345143313,
           -0.07749482277960204,
           -0.1177881852505473,
           -0.15525760655490364,
           -0.18935183535374994,
           -0.21970771693043267,
           -0.246134617818378,
           -0.268589046149572,
           -0.28714197491104243,
           -0.30194177876754097,
           -0.31317589634427284,
           -0.3210343185560354,
           -0.32567778292945404,
           -0.32721314035298743,
           -0.32567778292945404,
           -0.3210343185560354,
           -0.31317589634427284,
           -0.30194177876754097,
           -0.28714197491104243,
           -0.268589046149572,
           -0.246134617818378,
           -0.21970771693043267,
           -0.18935183535374994,
           -0.15525760655490364,
           -0.1177881852505473,
           -0.07749482277960204,
           -0.03512071345143313,
           0.00840808631479302,
           0.05200503792795912,
           0.09445829662141196,
           0.134477311926808,
           0.17074867404778504,
           0.20199833430642128,
           0.2270567942100705,
           0.24492352037505036,
           0.2548267267047997,
           0.2562747828163765,
           0.24909585663212155,
           0.23346296309158113,
           0.20990234059772522,
           0.1792839709402817,
           0.14279404657238684,
           0.1018902143955224,
           0.058241427706856384,
           0.013655158230898757,
           -0.030004497243790427,
           -0.07090368426500879,
           -0.10732612754693129,
           -0.1377563081818195,
           -0.1609539875623888,
           -0.1760159755489718,
           -0.18242166855756492,
           -0.1800597155006458
          ],
          [
           -0.16021647158282734,
           -0.1751457556394694,
           -0.1821644169794075,
           -0.18078273088932142,
           -0.17090060569317098,
           -0.1528102839666787,
           -0.1271795169340972,
           -0.0950164022704569,
           -0.05761803324395176,
           -0.016505930263581485,
           0.026648129724923395,
           0.07010183827093616,
           0.11212338767979044,
           0.1510696036571175,
           0.18545724476618586,
           0.21402402107025095,
           0.23577655069724138,
           0.25002327766855664,
           0.25639126767027576,
           0.2548267267047997,
           0.2455799958764798,
           0.22917661128094333,
           0.2063767337439853,
           0.17812580971586786,
           0.1454996929947382,
           0.1096476200446325,
           0.07173638515428266,
           0.032898814044057145,
           -0.005810793613848673,
           -0.043452159632214875,
           -0.0792240541655952,
           -0.11247819731414006,
           -0.1427221428215067,
           -0.1696119802323752,
           -0.1929363397545002,
           -0.2125937105436689,
           -0.22856545626592412,
           -0.24088710992360066,
           -0.24962054293732017,
           -0.254829433326894,
           -0.2565601183892334,
           -0.254829433326894,
           -0.24962054293732017,
           -0.24088710992360066,
           -0.22856545626592412,
           -0.2125937105436689,
           -0.1929363397545002,
           -0.1696119802323752,
           -0.1427221428215067,
           -0.11247819731414006,
           -0.0792240541655952,
           -0.043452159632214875,
           -0.005810793613848673,
           0.032898814044057145,
           0.07173638515428266,
           0.1096476200446325,
           0.1454996929947382,
           0.17812580971586786,
           0.2063767337439853,
           0.22917661128094333,
           0.2455799958764798,
           0.2548267267047997,
           0.25639126767027576,
           0.25002327766855664,
           0.23577655069724138,
           0.21402402107025095,
           0.18545724476618586,
           0.1510696036571175,
           0.11212338767979044,
           0.07010183827093616,
           0.026648129724923395,
           -0.016505930263581485,
           -0.05761803324395176,
           -0.0950164022704569,
           -0.1271795169340972,
           -0.1528102839666787,
           -0.17090060569317098,
           -0.18078273088932142,
           -0.1821644169794075,
           -0.1751457556394694
          ],
          [
           -0.1487375524385824,
           -0.16751643729146143,
           -0.17903560277058095,
           -0.1826358700412797,
           -0.17801860199902664,
           -0.16525654180237792,
           -0.14478624788034108,
           -0.11738288358628372,
           -0.08411903827788304,
           -0.046310064114579955,
           -0.005449066140771361,
           0.03686485131708162,
           0.07900122348247962,
           0.11937185506223688,
           0.15649972810645998,
           0.1890798565922851,
           0.21602931256266372,
           0.2365243422174828,
           0.25002327766855664,
           0.2562747828163765,
           0.2553118000893658,
           0.24743234013685533,
           0.23316893482082693,
           0.21324911772700825,
           0.18854967763954522,
           0.16004763127913005,
           0.12877087581897034,
           0.0957513146109,
           0.06198291759831892,
           0.02838670735216783,
           -0.004215913110515241,
           -0.03512071345143313,
           -0.06374895250625122,
           -0.08964697741323371,
           -0.11247819731414006,
           -0.132008995765264,
           -0.14809048863531396,
           -0.16063822727306362,
           -0.1696119802323752,
           -0.17499760171649797,
           -0.1767927226084377,
           -0.17499760171649797,
           -0.1696119802323752,
           -0.16063822727306362,
           -0.14809048863531396,
           -0.132008995765264,
           -0.11247819731414006,
           -0.08964697741323371,
           -0.06374895250625122,
           -0.03512071345143313,
           -0.004215913110515241,
           0.02838670735216783,
           0.06198291759831892,
           0.0957513146109,
           0.12877087581897034,
           0.16004763127913005,
           0.18854967763954522,
           0.21324911772700825,
           0.23316893482082693,
           0.24743234013685533,
           0.2553118000893658,
           0.2562747828163765,
           0.25002327766855664,
           0.2365243422174828,
           0.21602931256266372,
           0.1890798565922851,
           0.15649972810645998,
           0.11937185506223688,
           0.07900122348247962,
           0.03686485131708162,
           -0.005449066140771361,
           -0.046310064114579955,
           -0.08411903827788304,
           -0.11738288358628372,
           -0.14478624788034108,
           -0.16525654180237792,
           -0.17801860199902664,
           -0.1826358700412797,
           -0.17903560277058095,
           -0.16751643729146143
          ],
          [
           -0.13481430178982187,
           -0.15710321083861073,
           -0.17287351607260815,
           -0.18131560690315682,
           -0.18194839266053625,
           -0.17463748569481502,
           -0.15959621882048483,
           -0.13736985507049018,
           -0.10880422217787396,
           -0.0750007897964791,
           -0.03726086233570953,
           0.0029779491154211806,
           0.044209509361482956,
           0.08492762656935865,
           0.12369173187889267,
           0.15918658398472915,
           0.1902732638436695,
           0.21602931256266372,
           0.23577655069724138,
           0.24909585663212155,
           0.25582893038458626,
           0.2560677827399544,
           0.25013332713993036,
           0.23854497801642713,
           0.22198354690007724,
           0.20124995852555586,
           0.17722237538812438,
           0.15081422331281308,
           0.12293536517635703,
           0.09445829662141196,
           0.0661907655654817,
           0.03885568116655977,
           0.013078615468659323,
           -0.010617349295218181,
           -0.03181017613329085,
           -0.050171999808914604,
           -0.06545830501430487,
           -0.07749482277960204,
           -0.08616386191642225,
           -0.09139170665445415,
           -0.09313849939964196,
           -0.09139170665445415,
           -0.08616386191642225,
           -0.07749482277960204,
           -0.06545830501430487,
           -0.050171999808914604,
           -0.03181017613329085,
           -0.010617349295218181,
           0.013078615468659323,
           0.03885568116655977,
           0.0661907655654817,
           0.09445829662141196,
           0.12293536517635703,
           0.15081422331281308,
           0.17722237538812438,
           0.20124995852555586,
           0.22198354690007724,
           0.23854497801642713,
           0.25013332713993036,
           0.2560677827399544,
           0.25582893038458626,
           0.24909585663212155,
           0.23577655069724138,
           0.21602931256266372,
           0.1902732638436695,
           0.15918658398472915,
           0.12369173187889267,
           0.08492762656935865,
           0.044209509361482956,
           0.0029779491154211806,
           -0.03726086233570953,
           -0.0750007897964791,
           -0.10880422217787396,
           -0.13736985507049018,
           -0.15959621882048483,
           -0.17463748569481502,
           -0.18194839266053625,
           -0.18131560690315682,
           -0.17287351607260815,
           -0.15710321083861073
          ],
          [
           -0.11853755153953285,
           -0.14391335124448024,
           -0.163591222139663,
           -0.17663261032673944,
           -0.18239300622958532,
           -0.18054660691367944,
           -0.17109514979541934,
           -0.1543609103022869,
           -0.13096468174943518,
           -0.10179031338845618,
           -0.06793803188546253,
           -0.03066927919323432,
           0.008653858363151095,
           0.04863139306208121,
           0.0878871354792479,
           0.12512633286074154,
           0.15918658398472915,
           0.1890798565922851,
           0.21402402107025095,
           0.23346296309158113,
           0.24707500803079696,
           0.25477004091850136,
           0.2566762997375786,
           0.25311832399967577,
           0.24458792842044305,
           0.2317103248693539,
           0.2152076253393881,
           0.19586192453391038,
           0.17447999195279823,
           0.15186131748507978,
           0.12877087581897034,
           0.10591753298818528,
           0.08393854575868848,
           0.06339013493636744,
           0.044743679368913644,
           0.02838670735216783,
           0.014627580006334946,
           0.0037025838949493145,
           -0.004215913110515241,
           -0.009011537058698997,
           -0.010617349295218181,
           -0.009011537058698997,
           -0.004215913110515241,
           0.0037025838949493145,
           0.014627580006334946,
           0.02838670735216783,
           0.044743679368913644,
           0.06339013493636744,
           0.08393854575868848,
           0.10591753298818528,
           0.12877087581897034,
           0.15186131748507978,
           0.17447999195279823,
           0.19586192453391038,
           0.2152076253393881,
           0.2317103248693539,
           0.24458792842044305,
           0.25311832399967577,
           0.2566762997375786,
           0.25477004091850136,
           0.24707500803079696,
           0.23346296309158113,
           0.21402402107025095,
           0.1890798565922851,
           0.15918658398472915,
           0.12512633286074154,
           0.0878871354792479,
           0.04863139306208121,
           0.008653858363151095,
           -0.03066927919323432,
           -0.06793803188546253,
           -0.10179031338845618,
           -0.13096468174943518,
           -0.1543609103022869,
           -0.17109514979541934,
           -0.18054660691367944,
           -0.18239300622958532,
           -0.17663261032673944,
           -0.163591222139663,
           -0.14391335124448024
          ],
          [
           -0.10007704610444179,
           -0.12803786284735597,
           -0.1511875643863488,
           -0.16848219583369567,
           -0.17913546063850083,
           -0.18264893898060253,
           -0.1788278960809016,
           -0.16778234479339135,
           -0.1499137997580331,
           -0.1258888846262905,
           -0.09660159075517502,
           -0.0631265026963309,
           -0.026665677985416577,
           0.011507919583092052,
           0.05010748884225075,
           0.0878871354792479,
           0.12369173187889267,
           0.15649972810645998,
           0.18545724476618586,
           0.20990234059772522,
           0.22937894091767205,
           0.24364050109720906,
           0.25264402764959015,
           0.25653555744366946,
           0.25562857790064414,
           0.25037713957121355,
           0.2413455569066888,
           0.22917661128094333,
           0.21456006847846779,
           0.1982031145119569,
           0.18080401871815463,
           0.1630299764243758,
           0.1454996929947382,
           0.12877087581897034,
           0.11333242903336224,
           0.09960082298540655,
           0.08791985781076668,
           0.07856287339249271,
           0.07173638515428266,
           0.06758414818694233,
           0.0661907655654817,
           0.06758414818694233,
           0.07173638515428266,
           0.07856287339249271,
           0.08791985781076668,
           0.09960082298540655,
           0.11333242903336224,
           0.12877087581897034,
           0.1454996929947382,
           0.1630299764243758,
           0.18080401871815463,
           0.1982031145119569,
           0.21456006847846779,
           0.22917661128094333,
           0.2413455569066888,
           0.25037713957121355,
           0.25562857790064414,
           0.25653555744366946,
           0.25264402764959015,
           0.24364050109720906,
           0.22937894091767205,
           0.20990234059772522,
           0.18545724476618586,
           0.15649972810645998,
           0.12369173187889267,
           0.0878871354792479,
           0.05010748884225075,
           0.011507919583092052,
           -0.026665677985416577,
           -0.0631265026963309,
           -0.09660159075517502,
           -0.1258888846262905,
           -0.1499137997580331,
           -0.16778234479339135,
           -0.1788278960809016,
           -0.18264893898060253,
           -0.17913546063850083,
           -0.16848219583369567,
           -0.1511875643863488,
           -0.12803786284735597
          ],
          [
           -0.07968395387291566,
           -0.10965701691843574,
           -0.13575600794040762,
           -0.15685668268767797,
           -0.17205475511311313,
           -0.1807007071005138,
           -0.18242166855756492,
           -0.17712974307464055,
           -0.16501687105976595,
           -0.14653700801271363,
           -0.12237701362727325,
           -0.09341816596346665,
           -0.060690608986011814,
           -0.02532329427921568,
           0.011507919583092052,
           0.04863139306208121,
           0.08492762656935865,
           0.11937185506223688,
           0.1510696036571175,
           0.1792839709402817,
           0.20345392533496165,
           0.2232034254780841,
           0.2383416766936446,
           0.24885528388828942,
           0.254893432701845,
           0.25674750760048576,
           0.2548267267047997,
           0.24963143467045815,
           0.24172565029557566,
           0.2317103248693539,
           0.22019854657881394,
           0.20779364608280457,
           0.19507084218595108,
           0.18256273925541686,
           0.17074867404778504,
           0.16004763127913005,
           0.15081422331281308,
           0.1433370736825879,
           0.13783886506830845,
           0.134477311926808,
           0.1333463922312941,
           0.134477311926808,
           0.13783886506830845,
           0.1433370736825879,
           0.15081422331281308,
           0.16004763127913005,
           0.17074867404778504,
           0.18256273925541686,
           0.19507084218595108,
           0.20779364608280457,
           0.22019854657881394,
           0.2317103248693539,
           0.24172565029557566,
           0.24963143467045815,
           0.2548267267047997,
           0.25674750760048576,
           0.254893432701845,
           0.24885528388828942,
           0.2383416766936446,
           0.2232034254780841,
           0.20345392533496165,
           0.1792839709402817,
           0.1510696036571175,
           0.11937185506223688,
           0.08492762656935865,
           0.04863139306208121,
           0.011507919583092052,
           -0.02532329427921568,
           -0.060690608986011814,
           -0.09341816596346665,
           -0.12237701362727325,
           -0.14653700801271363,
           -0.16501687105976595,
           -0.17712974307464055,
           -0.18242166855756492,
           -0.1807007071005138,
           -0.17205475511311313,
           -0.15685668268767797,
           -0.13575600794040762,
           -0.10965701691843574
          ],
          [
           -0.05769048962428924,
           -0.08904297911487404,
           -0.11749065565570795,
           -0.14185512230149663,
           -0.16113955966514656,
           -0.17456713788189782,
           -0.18160802037610754,
           -0.18199408570471504,
           -0.17572115154133375,
           -0.16303912773542587,
           -0.14443111863131364,
           -0.12058300781296416,
           -0.09234546620178369,
           -0.060690608986011814,
           -0.026665677985416577,
           0.008653858363151095,
           0.044209509361482956,
           0.07900122348247962,
           0.11212338767979044,
           0.14279404657238684,
           0.17037647050011587,
           0.1943926655354523,
           0.2145288714461612,
           0.23063350923189954,
           0.242708395806646,
           0.2508943222213973,
           0.2554522819126627,
           0.2567417315441088,
           0.25519727019112654,
           0.25130504004127213,
           0.2455799958764798,
           0.23854497801642713,
           0.23071227369415243,
           0.22256808600007377,
           0.21456006847846779,
           0.2070878465419809,
           0.20049625055173417,
           0.19507084218595108,
           0.19103523332295086,
           0.18854967763954522,
           0.18771045677679687,
           0.18854967763954522,
           0.19103523332295086,
           0.19507084218595108,
           0.20049625055173417,
           0.2070878465419809,
           0.21456006847846779,
           0.22256808600007377,
           0.23071227369415243,
           0.23854497801642713,
           0.2455799958764798,
           0.25130504004127213,
           0.25519727019112654,
           0.2567417315441088,
           0.2554522819126627,
           0.2508943222213973,
           0.242708395806646,
           0.23063350923189954,
           0.2145288714461612,
           0.1943926655354523,
           0.17037647050011587,
           0.14279404657238684,
           0.11212338767979044,
           0.07900122348247962,
           0.044209509361482956,
           0.008653858363151095,
           -0.026665677985416577,
           -0.060690608986011814,
           -0.09234546620178369,
           -0.12058300781296416,
           -0.14443111863131364,
           -0.16303912773542587,
           -0.17572115154133375,
           -0.18199408570471504,
           -0.18160802037610754,
           -0.17456713788189782,
           -0.16113955966514656,
           -0.14185512230149663,
           -0.11749065565570795,
           -0.08904297911487404
          ],
          [
           -0.0345063152690242,
           -0.06655906279410359,
           -0.09668883252747353,
           -0.12368964794720452,
           -0.1464987033293174,
           -0.1642373823959323,
           -0.17624240938958516,
           -0.18208605074549258,
           -0.18158488243001691,
           -0.1747972342928682,
           -0.16200998595397612,
           -0.1437158894806465,
           -0.12058300781296416,
           -0.09341816596346665,
           -0.0631265026963309,
           -0.03066927919323432,
           0.0029779491154211806,
           0.03686485131708162,
           0.07010183827093616,
           0.1018902143955224,
           0.13154597877649798,
           0.15851669454452746,
           0.18239124981424537,
           0.20290271423033404,
           0.21992483146863692,
           0.23346296309158113,
           0.24364050109720906,
           0.2506818889186662,
           0.254893432701845,
           0.2566430509401283,
           0.2563400102730029,
           0.25441554164532254,
           0.25130504004127213,
           0.24743234013685533,
           0.2431963471432226,
           0.23896010343988033,
           0.23504220166614895,
           0.2317103248693539,
           0.22917661128094333,
           0.22759450814784551,
           0.2270567942100705,
           0.22759450814784551,
           0.22917661128094333,
           0.2317103248693539,
           0.23504220166614895,
           0.23896010343988033,
           0.2431963471432226,
           0.24743234013685533,
           0.25130504004127213,
           0.25441554164532254,
           0.2563400102730029,
           0.2566430509401283,
           0.254893432701845,
           0.2506818889186662,
           0.24364050109720906,
           0.23346296309158113,
           0.21992483146863692,
           0.20290271423033404,
           0.18239124981424537,
           0.15851669454452746,
           0.13154597877649798,
           0.1018902143955224,
           0.07010183827093616,
           0.03686485131708162,
           0.0029779491154211806,
           -0.03066927919323432,
           -0.0631265026963309,
           -0.09341816596346665,
           -0.12058300781296416,
           -0.1437158894806465,
           -0.16200998595397612,
           -0.1747972342928682,
           -0.18158488243001691,
           -0.18208605074549258,
           -0.17624240938958516,
           -0.1642373823959323,
           -0.1464987033293174,
           -0.12368964794720452,
           -0.09668883252747353,
           -0.06655906279410359
          ],
          [
           -0.01061150357619211,
           -0.042655257000177006,
           -0.07374973820785838,
           -0.10268778525178764,
           -0.1283676319466868,
           -0.14983554931501694,
           -0.16632015713858264,
           -0.17725715646546372,
           -0.18230376872794093,
           -0.18134271385500067,
           -0.17447608825271163,
           -0.16200998595397612,
           -0.14443111863131364,
           -0.12237701362727325,
           -0.09660159075517502,
           -0.06793803188546253,
           -0.03726086233570953,
           -0.005449066140771361,
           0.026648129724923395,
           0.058241427706856384,
           0.08862652853638416,
           0.11720338291232232,
           0.14348926836260514,
           0.16712567793535366,
           0.18787932061729182,
           0.20563779959612533,
           0.22040074178662336,
           0.23226729318028777,
           0.24142096714711753,
           0.24811283911536614,
           0.25264402764959015,
           0.255348298963932,
           0.256575492104657,
           0.2566762997375786,
           0.2559887694405144,
           0.2548267267047997,
           0.25347017586536014,
           0.252157618714697,
           0.25108014921898075,
           0.25037713957121355,
           0.25013332713993036,
           0.25037713957121355,
           0.25108014921898075,
           0.252157618714697,
           0.25347017586536014,
           0.2548267267047997,
           0.2559887694405144,
           0.2566762997375786,
           0.256575492104657,
           0.255348298963932,
           0.25264402764959015,
           0.24811283911536614,
           0.24142096714711753,
           0.23226729318028777,
           0.22040074178662336,
           0.20563779959612533,
           0.18787932061729182,
           0.16712567793535366,
           0.14348926836260514,
           0.11720338291232232,
           0.08862652853638416,
           0.058241427706856384,
           0.026648129724923395,
           -0.005449066140771361,
           -0.03726086233570953,
           -0.06793803188546253,
           -0.09660159075517502,
           -0.12237701362727325,
           -0.14443111863131364,
           -0.16200998595397612,
           -0.17447608825271163,
           -0.18134271385500067,
           -0.18230376872794093,
           -0.17725715646546372,
           -0.16632015713858264,
           -0.14983554931501694,
           -0.1283676319466868,
           -0.10268778525178764,
           -0.07374973820785838,
           -0.042655257000177006
          ],
          [
           0.013454008098850966,
           -0.017859822184363938,
           -0.04916880920228074,
           -0.07929019757294747,
           -0.10711012813756442,
           -0.1316269478872783,
           -0.15198770280837584,
           -0.16751643729146143,
           -0.17773339606034183,
           -0.18236471957976835,
           -0.18134271385500067,
           -0.1747972342928682,
           -0.16303912773542587,
           -0.14653700801271363,
           -0.1258888846262905,
           -0.10179031338845618,
           -0.0750007897964791,
           -0.046310064114579955,
           -0.016505930263581485,
           0.013655158230898757,
           0.043473546354522816,
           0.07232710218505171,
           0.09968670899986165,
           0.12512633286074154,
           0.14832776112580212,
           0.16908036038891633,
           0.18727640924644018,
           0.20290271423033404,
           0.21602931256266372,
           0.22679610352037188,
           0.23539823538075702,
           0.2420710146043941,
           0.24707500803079696,
           0.2506818889186662,
           0.2531614457800734,
           0.25477004091850136,
           0.2557406839380664,
           0.2562747828163765,
           0.25653555744366946,
           0.2566430509401283,
           0.2566706526738519,
           0.2566430509401283,
           0.25653555744366946,
           0.2562747828163765,
           0.2557406839380664,
           0.25477004091850136,
           0.2531614457800734,
           0.2506818889186662,
           0.24707500803079696,
           0.2420710146043941,
           0.23539823538075702,
           0.22679610352037188,
           0.21602931256266372,
           0.20290271423033404,
           0.18727640924644018,
           0.16908036038891633,
           0.14832776112580212,
           0.12512633286074154,
           0.09968670899986165,
           0.07232710218505171,
           0.043473546354522816,
           0.013655158230898757,
           -0.016505930263581485,
           -0.046310064114579955,
           -0.0750007897964791,
           -0.10179031338845618,
           -0.1258888846262905,
           -0.14653700801271363,
           -0.16303912773542587,
           -0.1747972342928682,
           -0.18134271385500067,
           -0.18236471957976835,
           -0.17773339606034183,
           -0.16751643729146143,
           -0.15198770280837584,
           -0.1316269478872783,
           -0.10711012813756442,
           -0.07929019757294747,
           -0.04916880920228074,
           -0.017859822184363938
          ],
          [
           0.037104384846577534,
           0.007233082355737275,
           -0.023527608249201665,
           -0.054043516875550875,
           -0.08321475815193494,
           -0.11001880232017779,
           -0.13354819579908725,
           -0.15304146672549196,
           -0.167906160972842,
           -0.17773339606034183,
           -0.18230376872794093,
           -0.18158488243001691,
           -0.17572115154133375,
           -0.16501687105976595,
           -0.1499137997580331,
           -0.13096468174943518,
           -0.10880422217787396,
           -0.08411903827788304,
           -0.05761803324395176,
           -0.030004497243790427,
           -0.001951040868825416,
           0.025921773001301992,
           0.05306249567952219,
           0.07900122348247962,
           0.10335731863015635,
           0.1258425822940911,
           0.14626024334832619,
           0.16450028494360933,
           0.18053174205108255,
           0.1943926655354523,
           0.2061784643801796,
           0.21602931256266372,
           0.2241172482256385,
           0.23063350923189954,
           0.23577655069724138,
           0.23974108638511749,
           0.242708395806646,
           0.24483804991090943,
           0.24626113579560338,
           0.24707500803079696,
           0.24733956165584545,
           0.24707500803079696,
           0.24626113579560338,
           0.24483804991090943,
           0.242708395806646,
           0.23974108638511749,
           0.23577655069724138,
           0.23063350923189954,
           0.2241172482256385,
           0.21602931256266372,
           0.2061784643801796,
           0.1943926655354523,
           0.18053174205108255,
           0.16450028494360933,
           0.14626024334832619,
           0.1258425822940911,
           0.10335731863015635,
           0.07900122348247962,
           0.05306249567952219,
           0.025921773001301992,
           -0.001951040868825416,
           -0.030004497243790427,
           -0.05761803324395176,
           -0.08411903827788304,
           -0.10880422217787396,
           -0.13096468174943518,
           -0.1499137997580331,
           -0.16501687105976595,
           -0.17572115154133375,
           -0.18158488243001691,
           -0.18230376872794093,
           -0.17773339606034183,
           -0.167906160972842,
           -0.15304146672549196,
           -0.13354819579908725,
           -0.11001880232017779,
           -0.08321475815193494,
           -0.054043516875550875,
           -0.023527608249201665,
           0.007233082355737275
          ],
          [
           0.059725017515438364,
           0.03197958453286062,
           0.0025207381574719806,
           -0.027588123185645037,
           -0.0572857273340844,
           -0.08555491563889543,
           -0.1114606806231028,
           -0.13418273806183595,
           -0.15304146672549196,
           -0.16751643729146143,
           -0.17725715646546372,
           -0.18208605074549258,
           -0.18199408570471504,
           -0.17712974307464055,
           -0.16778234479339135,
           -0.1543609103022869,
           -0.13736985507049018,
           -0.11738288358628372,
           -0.0950164022704569,
           -0.07090368426500879,
           -0.045670869380806056,
           -0.019915691575644292,
           0.0058103924762656495,
           0.031016232090896562,
           0.05528095770522729,
           0.07825990831739421,
           0.09968670899986165,
           0.11937185506223688,
           0.13719827990417027,
           0.15311446345017118,
           0.16712567793535366,
           0.1792839709402817,
           0.18967745729212915,
           0.19841943861188654,
           0.20563779959612533,
           0.21146505144444128,
           0.21602931256266372,
           0.21944644111666822,
           0.22181346801290225,
           0.2232034254780841,
           0.22366162672468853,
           0.2232034254780841,
           0.22181346801290225,
           0.21944644111666822,
           0.21602931256266372,
           0.21146505144444128,
           0.20563779959612533,
           0.19841943861188654,
           0.18967745729212915,
           0.1792839709402817,
           0.16712567793535366,
           0.15311446345017118,
           0.13719827990417027,
           0.11937185506223688,
           0.09968670899986165,
           0.07825990831739421,
           0.05528095770522729,
           0.031016232090896562,
           0.0058103924762656495,
           -0.019915691575644292,
           -0.045670869380806056,
           -0.07090368426500879,
           -0.0950164022704569,
           -0.11738288358628372,
           -0.13736985507049018,
           -0.1543609103022869,
           -0.16778234479339135,
           -0.17712974307464055,
           -0.18199408570471504,
           -0.18208605074549258,
           -0.17725715646546372,
           -0.16751643729146143,
           -0.15304146672549196,
           -0.13418273806183595,
           -0.1114606806231028,
           -0.08555491563889543,
           -0.0572857273340844,
           -0.027588123185645037,
           0.0025207381574719806,
           0.03197958453286062
          ],
          [
           0.08069235790121831,
           0.05570574218106777,
           0.028270310898122826,
           -0.0006409754282528475,
           -0.03002807965783915,
           -0.05890402451081101,
           -0.08633239590937543,
           -0.1114606806231028,
           -0.13354819579908725,
           -0.15198770280837584,
           -0.16632015713858264,
           -0.17624240938958516,
           -0.18160802037610754,
           -0.18242166855756492,
           -0.1788278960809016,
           -0.17109514979541934,
           -0.15959621882048483,
           -0.14478624788034108,
           -0.1271795169340972,
           -0.10732612754693129,
           -0.0857896329957062,
           -0.0631265026963309,
           -0.039868134180728126,
           -0.016505930263581485,
           0.0065202421682302655,
           0.02883009042098063,
           0.05010748884225075,
           0.07010183827093616,
           0.08862652853638416,
           0.10555493165712146,
           0.12081441070397907,
           0.13437885433763305,
           0.14626024334832619,
           0.15649972810645998,
           0.16515865057394133,
           0.17230988766358785,
           0.17802983029511174,
           0.18239124981424537,
           0.18545724476618586,
           0.18727640924644018,
           0.18787932061729182,
           0.18727640924644018,
           0.18545724476618586,
           0.18239124981424537,
           0.17802983029511174,
           0.17230988766358785,
           0.16515865057394133,
           0.15649972810645998,
           0.14626024334832619,
           0.13437885433763305,
           0.12081441070397907,
           0.10555493165712146,
           0.08862652853638416,
           0.07010183827093616,
           0.05010748884225075,
           0.02883009042098063,
           0.0065202421682302655,
           -0.016505930263581485,
           -0.039868134180728126,
           -0.0631265026963309,
           -0.0857896329957062,
           -0.10732612754693129,
           -0.1271795169340972,
           -0.14478624788034108,
           -0.15959621882048483,
           -0.17109514979541934,
           -0.1788278960809016,
           -0.18242166855756492,
           -0.18160802037610754,
           -0.17624240938958516,
           -0.16632015713858264,
           -0.15198770280837584,
           -0.13354819579908725,
           -0.1114606806231028,
           -0.08633239590937543,
           -0.05890402451081101,
           -0.03002807965783915,
           -0.0006409754282528475,
           0.028270310898122826,
           0.05570574218106777
          ],
          [
           0.0993958462307399,
           0.07773008237271903,
           0.05298490441364873,
           0.026026147564044762,
           -0.0022274559793407315,
           -0.030841885736018544,
           -0.05890402451081101,
           -0.08555491563889543,
           -0.11001880232017779,
           -0.1316269478872783,
           -0.14983554931501694,
           -0.1642373823959323,
           -0.17456713788189782,
           -0.1807007071005138,
           -0.18264893898060253,
           -0.18054660691367944,
           -0.17463748569481502,
           -0.16525654180237792,
           -0.1528102839666787,
           -0.1377563081818195,
           -0.12058300781296416,
           -0.10179031338845618,
           -0.08187218787401292,
           -0.061301442485772274,
           -0.040517266401149735,
           -0.019915691575644292,
           0.0001569493213448689,
           0.019407660252202565,
           0.03759772656874239,
           0.054541276561040686,
           0.07010183827093616,
           0.08418731130237875,
           0.09674378883254962,
           0.10774865812501504,
           0.11720338291232232,
           0.12512633286074154,
           0.13154597877649798,
           0.13649472168344115,
           0.14000357308347133,
           0.14209785531573388,
           0.14279404657238684,
           0.14209785531573388,
           0.14000357308347133,
           0.13649472168344115,
           0.13154597877649798,
           0.12512633286074154,
           0.11720338291232232,
           0.10774865812501504,
           0.09674378883254962,
           0.08418731130237875,
           0.07010183827093616,
           0.054541276561040686,
           0.03759772656874239,
           0.019407660252202565,
           0.0001569493213448689,
           -0.019915691575644292,
           -0.040517266401149735,
           -0.061301442485772274,
           -0.08187218787401292,
           -0.10179031338845618,
           -0.12058300781296416,
           -0.1377563081818195,
           -0.1528102839666787,
           -0.16525654180237792,
           -0.17463748569481502,
           -0.18054660691367944,
           -0.18264893898060253,
           -0.1807007071005138,
           -0.17456713788189782,
           -0.1642373823959323,
           -0.14983554931501694,
           -0.1316269478872783,
           -0.11001880232017779,
           -0.08555491563889543,
           -0.05890402451081101,
           -0.030841885736018544,
           -0.0022274559793407315,
           0.026026147564044762,
           0.05298490441364873,
           0.07773008237271903
          ],
          [
           0.11526115097856116,
           0.09738828403656238,
           0.0759235678781371,
           0.05161237775613617,
           0.025275083284098894,
           -0.0022274559793407315,
           -0.03002807965783915,
           -0.0572857273340844,
           -0.08321475815193494,
           -0.10711012813756442,
           -0.1283676319466868,
           -0.1464987033293174,
           -0.16113955966514656,
           -0.17205475511311313,
           -0.17913546063850083,
           -0.18239300622958532,
           -0.18194839266053625,
           -0.17801860199902664,
           -0.17090060569317098,
           -0.1609539875623888,
           -0.14858307017251748,
           -0.13421936300715656,
           -0.11830504740258321,
           -0.10127808535368477,
           -0.08355939645450051,
           -0.06554239869174844,
           -0.04758506314163741,
           -0.030004497243790427,
           -0.013073952151520388,
           0.0029779491154211806,
           0.017966041941118966,
           0.031745840459068614,
           0.044209509361482956,
           0.05528095770522729,
           0.0649104168254659,
           0.07306884206017318,
           0.07974244535617742,
           0.08492762656935865,
           0.08862652853638416,
           0.09084339726921295,
           0.09158188560927924,
           0.09084339726921295,
           0.08862652853638416,
           0.08492762656935865,
           0.07974244535617742,
           0.07306884206017318,
           0.0649104168254659,
           0.05528095770522729,
           0.044209509361482956,
           0.031745840459068614,
           0.017966041941118966,
           0.0029779491154211806,
           -0.013073952151520388,
           -0.030004497243790427,
           -0.04758506314163741,
           -0.06554239869174844,
           -0.08355939645450051,
           -0.10127808535368477,
           -0.11830504740258321,
           -0.13421936300715656,
           -0.14858307017251748,
           -0.1609539875623888,
           -0.17090060569317098,
           -0.17801860199902664,
           -0.18194839266053625,
           -0.18239300622958532,
           -0.17913546063850083,
           -0.17205475511311313,
           -0.16113955966514656,
           -0.1464987033293174,
           -0.1283676319466868,
           -0.10711012813756442,
           -0.08321475815193494,
           -0.0572857273340844,
           -0.03002807965783915,
           -0.0022274559793407315,
           0.025275083284098894,
           0.05161237775613617,
           0.0759235678781371,
           0.09738828403656238
          ],
          [
           0.12777380562398274,
           0.11405907878471819,
           0.09636827159298987,
           0.07531659368730659,
           0.05161237775613617,
           0.026026147564044762,
           -0.0006409754282528475,
           -0.027588123185645037,
           -0.054043516875550875,
           -0.07929019757294747,
           -0.10268778525178764,
           -0.12368964794720452,
           -0.14185512230149663,
           -0.15685668268767797,
           -0.16848219583369567,
           -0.17663261032673944,
           -0.18131560690315682,
           -0.1826358700412797,
           -0.18078273088932142,
           -0.1760159755489718,
           -0.16865061331126227,
           -0.15904136091487175,
           -0.14756752732225356,
           -0.13461888616197776,
           -0.12058300781296416,
           -0.10583439818051152,
           -0.0907256642328181,
           -0.07558080422426758,
           -0.060690608986011814,
           -0.046310064114579955,
           -0.032657564269347995,
           -0.019915691575644292,
           -0.00823327044894154,
           0.0022716100207446164,
           0.011507919583092052,
           0.019407660252202565,
           0.025921773001301992,
           0.031016232090896562,
           0.03466854669458865,
           0.03686485131708162,
           0.03759772656874239,
           0.03686485131708162,
           0.03466854669458865,
           0.031016232090896562,
           0.025921773001301992,
           0.019407660252202565,
           0.011507919583092052,
           0.0022716100207446164,
           -0.00823327044894154,
           -0.019915691575644292,
           -0.032657564269347995,
           -0.046310064114579955,
           -0.060690608986011814,
           -0.07558080422426758,
           -0.0907256642328181,
           -0.10583439818051152,
           -0.12058300781296416,
           -0.13461888616197776,
           -0.14756752732225356,
           -0.15904136091487175,
           -0.16865061331126227,
           -0.1760159755489718,
           -0.18078273088932142,
           -0.1826358700412797,
           -0.18131560690315682,
           -0.17663261032673944,
           -0.16848219583369567,
           -0.15685668268767797,
           -0.14185512230149663,
           -0.12368964794720452,
           -0.10268778525178764,
           -0.07929019757294747,
           -0.054043516875550875,
           -0.027588123185645037,
           -0.0006409754282528475,
           0.026026147564044762,
           0.05161237775613617,
           0.07531659368730659,
           0.09636827159298987,
           0.11405907878471819
          ],
          [
           0.13650222610828716,
           0.12719030582037316,
           0.1136526088802527,
           0.09636827159298987,
           0.0759235678781371,
           0.05298490441364873,
           0.028270310898122826,
           0.0025207381574719806,
           -0.023527608249201665,
           -0.04916880920228074,
           -0.07374973820785838,
           -0.09668883252747353,
           -0.11749065565570795,
           -0.13575600794040762,
           -0.1511875643863488,
           -0.163591222139663,
           -0.17287351607260815,
           -0.17903560277058095,
           -0.1821644169794075,
           -0.18242166855756492,
           -0.1800313728705813,
           -0.1752665961050691,
           -0.16843605361995675,
           -0.15987112992755653,
           -0.1499137997580331,
           -0.13890582780165694,
           -0.1271795169340972,
           -0.11505016730310495,
           -0.10281030706494565,
           -0.0907256642328181,
           -0.07903277128303789,
           -0.06793803188546253,
           -0.05761803324395176,
           -0.04822085787410071,
           -0.039868134180728126,
           -0.032657564269347995,
           -0.026665677985416577,
           -0.021950582012676394,
           -0.01855449981019833,
           -0.016505930263581485,
           -0.015821288518275644,
           -0.016505930263581485,
           -0.01855449981019833,
           -0.021950582012676394,
           -0.026665677985416577,
           -0.032657564269347995,
           -0.039868134180728126,
           -0.04822085787410071,
           -0.05761803324395176,
           -0.06793803188546253,
           -0.07903277128303789,
           -0.0907256642328181,
           -0.10281030706494565,
           -0.11505016730310495,
           -0.1271795169340972,
           -0.13890582780165694,
           -0.1499137997580331,
           -0.15987112992755653,
           -0.16843605361995675,
           -0.1752665961050691,
           -0.1800313728705813,
           -0.18242166855756492,
           -0.1821644169794075,
           -0.17903560277058095,
           -0.17287351607260815,
           -0.163591222139663,
           -0.1511875643863488,
           -0.13575600794040762,
           -0.11749065565570795,
           -0.09668883252747353,
           -0.07374973820785838,
           -0.04916880920228074,
           -0.023527608249201665,
           0.0025207381574719806,
           0.028270310898122826,
           0.05298490441364873,
           0.0759235678781371,
           0.09636827159298987,
           0.1136526088802527,
           0.12719030582037316
          ],
          [
           0.14111903500315878,
           0.13632396086944565,
           0.12719030582037316,
           0.11405907878471819,
           0.09738828403656238,
           0.07773008237271903,
           0.05570574218106777,
           0.03197958453286062,
           0.007233082355737275,
           -0.017859822184363938,
           -0.042655257000177006,
           -0.06655906279410359,
           -0.08904297911487404,
           -0.10965701691843574,
           -0.12803786284735597,
           -0.14391335124448024,
           -0.15710321083861073,
           -0.16751643729146143,
           -0.1751457556394694,
           -0.1800597155006458,
           -0.18239300622958532,
           -0.18233559039097344,
           -0.18012123502583363,
           -0.1760159755489718,
           -0.17030698199702413,
           -0.16329221750830802,
           -0.15527119023634725,
           -0.14653700801271363,
           -0.13736985507049018,
           -0.12803192632998142,
           -0.11876378051842666,
           -0.10978201113265723,
           -0.10127808535368477,
           -0.09341816596346665,
           -0.08634370978474622,
           -0.08017262722723162,
           -0.0750007897964791,
           -0.07090368426500879,
           -0.06793803188546253,
           -0.06614321685638791,
           -0.06554239869174844,
           -0.06614321685638791,
           -0.06793803188546253,
           -0.07090368426500879,
           -0.0750007897964791,
           -0.08017262722723162,
           -0.08634370978474622,
           -0.09341816596346665,
           -0.10127808535368477,
           -0.10978201113265723,
           -0.11876378051842666,
           -0.12803192632998142,
           -0.13736985507049018,
           -0.14653700801271363,
           -0.15527119023634725,
           -0.16329221750830802,
           -0.17030698199702413,
           -0.1760159755489718,
           -0.18012123502583363,
           -0.18233559039097344,
           -0.18239300622958532,
           -0.1800597155006458,
           -0.1751457556394694,
           -0.16751643729146143,
           -0.15710321083861073,
           -0.14391335124448024,
           -0.12803786284735597,
           -0.10965701691843574,
           -0.08904297911487404,
           -0.06655906279410359,
           -0.042655257000177006,
           -0.017859822184363938,
           0.007233082355737275,
           0.03197958453286062,
           0.05570574218106777,
           0.07773008237271903,
           0.09738828403656238,
           0.11405907878471819,
           0.12719030582037316,
           0.13632396086944565
          ]
         ]
        }
       ],
       "layout": {
        "legend": {
         "bgcolor": "#151516",
         "font": {
          "color": "#D9D9D9"
         }
        },
        "paper_bgcolor": "#151516",
        "plot_bgcolor": "#151516",
        "template": {
         "data": {
          "bar": [
           {
            "error_x": {
             "color": "#2a3f5f"
            },
            "error_y": {
             "color": "#2a3f5f"
            },
            "marker": {
             "line": {
              "color": "#E5ECF6",
              "width": 0.5
             }
            },
            "type": "bar"
           }
          ],
          "barpolar": [
           {
            "marker": {
             "line": {
              "color": "#E5ECF6",
              "width": 0.5
             }
            },
            "type": "barpolar"
           }
          ],
          "carpet": [
           {
            "aaxis": {
             "endlinecolor": "#2a3f5f",
             "gridcolor": "white",
             "linecolor": "white",
             "minorgridcolor": "white",
             "startlinecolor": "#2a3f5f"
            },
            "baxis": {
             "endlinecolor": "#2a3f5f",
             "gridcolor": "white",
             "linecolor": "white",
             "minorgridcolor": "white",
             "startlinecolor": "#2a3f5f"
            },
            "type": "carpet"
           }
          ],
          "choropleth": [
           {
            "colorbar": {
             "outlinewidth": 0,
             "ticks": ""
            },
            "type": "choropleth"
           }
          ],
          "contour": [
           {
            "colorbar": {
             "outlinewidth": 0,
             "ticks": ""
            },
            "colorscale": [
             [
              0,
              "#0d0887"
             ],
             [
              0.1111111111111111,
              "#46039f"
             ],
             [
              0.2222222222222222,
              "#7201a8"
             ],
             [
              0.3333333333333333,
              "#9c179e"
             ],
             [
              0.4444444444444444,
              "#bd3786"
             ],
             [
              0.5555555555555556,
              "#d8576b"
             ],
             [
              0.6666666666666666,
              "#ed7953"
             ],
             [
              0.7777777777777778,
              "#fb9f3a"
             ],
             [
              0.8888888888888888,
              "#fdca26"
             ],
             [
              1,
              "#f0f921"
             ]
            ],
            "type": "contour"
           }
          ],
          "contourcarpet": [
           {
            "colorbar": {
             "outlinewidth": 0,
             "ticks": ""
            },
            "type": "contourcarpet"
           }
          ],
          "heatmap": [
           {
            "colorbar": {
             "outlinewidth": 0,
             "ticks": ""
            },
            "colorscale": [
             [
              0,
              "#0d0887"
             ],
             [
              0.1111111111111111,
              "#46039f"
             ],
             [
              0.2222222222222222,
              "#7201a8"
             ],
             [
              0.3333333333333333,
              "#9c179e"
             ],
             [
              0.4444444444444444,
              "#bd3786"
             ],
             [
              0.5555555555555556,
              "#d8576b"
             ],
             [
              0.6666666666666666,
              "#ed7953"
             ],
             [
              0.7777777777777778,
              "#fb9f3a"
             ],
             [
              0.8888888888888888,
              "#fdca26"
             ],
             [
              1,
              "#f0f921"
             ]
            ],
            "type": "heatmap"
           }
          ],
          "heatmapgl": [
           {
            "colorbar": {
             "outlinewidth": 0,
             "ticks": ""
            },
            "colorscale": [
             [
              0,
              "#0d0887"
             ],
             [
              0.1111111111111111,
              "#46039f"
             ],
             [
              0.2222222222222222,
              "#7201a8"
             ],
             [
              0.3333333333333333,
              "#9c179e"
             ],
             [
              0.4444444444444444,
              "#bd3786"
             ],
             [
              0.5555555555555556,
              "#d8576b"
             ],
             [
              0.6666666666666666,
              "#ed7953"
             ],
             [
              0.7777777777777778,
              "#fb9f3a"
             ],
             [
              0.8888888888888888,
              "#fdca26"
             ],
             [
              1,
              "#f0f921"
             ]
            ],
            "type": "heatmapgl"
           }
          ],
          "histogram": [
           {
            "marker": {
             "colorbar": {
              "outlinewidth": 0,
              "ticks": ""
             }
            },
            "type": "histogram"
           }
          ],
          "histogram2d": [
           {
            "colorbar": {
             "outlinewidth": 0,
             "ticks": ""
            },
            "colorscale": [
             [
              0,
              "#0d0887"
             ],
             [
              0.1111111111111111,
              "#46039f"
             ],
             [
              0.2222222222222222,
              "#7201a8"
             ],
             [
              0.3333333333333333,
              "#9c179e"
             ],
             [
              0.4444444444444444,
              "#bd3786"
             ],
             [
              0.5555555555555556,
              "#d8576b"
             ],
             [
              0.6666666666666666,
              "#ed7953"
             ],
             [
              0.7777777777777778,
              "#fb9f3a"
             ],
             [
              0.8888888888888888,
              "#fdca26"
             ],
             [
              1,
              "#f0f921"
             ]
            ],
            "type": "histogram2d"
           }
          ],
          "histogram2dcontour": [
           {
            "colorbar": {
             "outlinewidth": 0,
             "ticks": ""
            },
            "colorscale": [
             [
              0,
              "#0d0887"
             ],
             [
              0.1111111111111111,
              "#46039f"
             ],
             [
              0.2222222222222222,
              "#7201a8"
             ],
             [
              0.3333333333333333,
              "#9c179e"
             ],
             [
              0.4444444444444444,
              "#bd3786"
             ],
             [
              0.5555555555555556,
              "#d8576b"
             ],
             [
              0.6666666666666666,
              "#ed7953"
             ],
             [
              0.7777777777777778,
              "#fb9f3a"
             ],
             [
              0.8888888888888888,
              "#fdca26"
             ],
             [
              1,
              "#f0f921"
             ]
            ],
            "type": "histogram2dcontour"
           }
          ],
          "mesh3d": [
           {
            "colorbar": {
             "outlinewidth": 0,
             "ticks": ""
            },
            "type": "mesh3d"
           }
          ],
          "parcoords": [
           {
            "line": {
             "colorbar": {
              "outlinewidth": 0,
              "ticks": ""
             }
            },
            "type": "parcoords"
           }
          ],
          "pie": [
           {
            "automargin": true,
            "type": "pie"
           }
          ],
          "scatter": [
           {
            "marker": {
             "colorbar": {
              "outlinewidth": 0,
              "ticks": ""
             }
            },
            "type": "scatter"
           }
          ],
          "scatter3d": [
           {
            "line": {
             "colorbar": {
              "outlinewidth": 0,
              "ticks": ""
             }
            },
            "marker": {
             "colorbar": {
              "outlinewidth": 0,
              "ticks": ""
             }
            },
            "type": "scatter3d"
           }
          ],
          "scattercarpet": [
           {
            "marker": {
             "colorbar": {
              "outlinewidth": 0,
              "ticks": ""
             }
            },
            "type": "scattercarpet"
           }
          ],
          "scattergeo": [
           {
            "marker": {
             "colorbar": {
              "outlinewidth": 0,
              "ticks": ""
             }
            },
            "type": "scattergeo"
           }
          ],
          "scattergl": [
           {
            "marker": {
             "colorbar": {
              "outlinewidth": 0,
              "ticks": ""
             }
            },
            "type": "scattergl"
           }
          ],
          "scattermapbox": [
           {
            "marker": {
             "colorbar": {
              "outlinewidth": 0,
              "ticks": ""
             }
            },
            "type": "scattermapbox"
           }
          ],
          "scatterpolar": [
           {
            "marker": {
             "colorbar": {
              "outlinewidth": 0,
              "ticks": ""
             }
            },
            "type": "scatterpolar"
           }
          ],
          "scatterpolargl": [
           {
            "marker": {
             "colorbar": {
              "outlinewidth": 0,
              "ticks": ""
             }
            },
            "type": "scatterpolargl"
           }
          ],
          "scatterternary": [
           {
            "marker": {
             "colorbar": {
              "outlinewidth": 0,
              "ticks": ""
             }
            },
            "type": "scatterternary"
           }
          ],
          "surface": [
           {
            "colorbar": {
             "outlinewidth": 0,
             "ticks": ""
            },
            "colorscale": [
             [
              0,
              "#0d0887"
             ],
             [
              0.1111111111111111,
              "#46039f"
             ],
             [
              0.2222222222222222,
              "#7201a8"
             ],
             [
              0.3333333333333333,
              "#9c179e"
             ],
             [
              0.4444444444444444,
              "#bd3786"
             ],
             [
              0.5555555555555556,
              "#d8576b"
             ],
             [
              0.6666666666666666,
              "#ed7953"
             ],
             [
              0.7777777777777778,
              "#fb9f3a"
             ],
             [
              0.8888888888888888,
              "#fdca26"
             ],
             [
              1,
              "#f0f921"
             ]
            ],
            "type": "surface"
           }
          ],
          "table": [
           {
            "cells": {
             "fill": {
              "color": "#EBF0F8"
             },
             "line": {
              "color": "white"
             }
            },
            "header": {
             "fill": {
              "color": "#C8D4E3"
             },
             "line": {
              "color": "white"
             }
            },
            "type": "table"
           }
          ]
         },
         "layout": {
          "annotationdefaults": {
           "arrowcolor": "#2a3f5f",
           "arrowhead": 0,
           "arrowwidth": 1
          },
          "coloraxis": {
           "colorbar": {
            "outlinewidth": 0,
            "ticks": ""
           }
          },
          "colorscale": {
           "diverging": [
            [
             0,
             "#8e0152"
            ],
            [
             0.1,
             "#c51b7d"
            ],
            [
             0.2,
             "#de77ae"
            ],
            [
             0.3,
             "#f1b6da"
            ],
            [
             0.4,
             "#fde0ef"
            ],
            [
             0.5,
             "#f7f7f7"
            ],
            [
             0.6,
             "#e6f5d0"
            ],
            [
             0.7,
             "#b8e186"
            ],
            [
             0.8,
             "#7fbc41"
            ],
            [
             0.9,
             "#4d9221"
            ],
            [
             1,
             "#276419"
            ]
           ],
           "sequential": [
            [
             0,
             "#0d0887"
            ],
            [
             0.1111111111111111,
             "#46039f"
            ],
            [
             0.2222222222222222,
             "#7201a8"
            ],
            [
             0.3333333333333333,
             "#9c179e"
            ],
            [
             0.4444444444444444,
             "#bd3786"
            ],
            [
             0.5555555555555556,
             "#d8576b"
            ],
            [
             0.6666666666666666,
             "#ed7953"
            ],
            [
             0.7777777777777778,
             "#fb9f3a"
            ],
            [
             0.8888888888888888,
             "#fdca26"
            ],
            [
             1,
             "#f0f921"
            ]
           ],
           "sequentialminus": [
            [
             0,
             "#0d0887"
            ],
            [
             0.1111111111111111,
             "#46039f"
            ],
            [
             0.2222222222222222,
             "#7201a8"
            ],
            [
             0.3333333333333333,
             "#9c179e"
            ],
            [
             0.4444444444444444,
             "#bd3786"
            ],
            [
             0.5555555555555556,
             "#d8576b"
            ],
            [
             0.6666666666666666,
             "#ed7953"
            ],
            [
             0.7777777777777778,
             "#fb9f3a"
            ],
            [
             0.8888888888888888,
             "#fdca26"
            ],
            [
             1,
             "#f0f921"
            ]
           ]
          },
          "colorway": [
           "#636efa",
           "#EF553B",
           "#00cc96",
           "#ab63fa",
           "#FFA15A",
           "#19d3f3",
           "#FF6692",
           "#B6E880",
           "#FF97FF",
           "#FECB52"
          ],
          "font": {
           "color": "#2a3f5f"
          },
          "geo": {
           "bgcolor": "white",
           "lakecolor": "white",
           "landcolor": "#E5ECF6",
           "showlakes": true,
           "showland": true,
           "subunitcolor": "white"
          },
          "hoverlabel": {
           "align": "left"
          },
          "hovermode": "closest",
          "mapbox": {
           "style": "light"
          },
          "paper_bgcolor": "white",
          "plot_bgcolor": "#E5ECF6",
          "polar": {
           "angularaxis": {
            "gridcolor": "white",
            "linecolor": "white",
            "ticks": ""
           },
           "bgcolor": "#E5ECF6",
           "radialaxis": {
            "gridcolor": "white",
            "linecolor": "white",
            "ticks": ""
           }
          },
          "scene": {
           "xaxis": {
            "backgroundcolor": "#E5ECF6",
            "gridcolor": "white",
            "gridwidth": 2,
            "linecolor": "white",
            "showbackground": true,
            "ticks": "",
            "zerolinecolor": "white"
           },
           "yaxis": {
            "backgroundcolor": "#E5ECF6",
            "gridcolor": "white",
            "gridwidth": 2,
            "linecolor": "white",
            "showbackground": true,
            "ticks": "",
            "zerolinecolor": "white"
           },
           "zaxis": {
            "backgroundcolor": "#E5ECF6",
            "gridcolor": "white",
            "gridwidth": 2,
            "linecolor": "white",
            "showbackground": true,
            "ticks": "",
            "zerolinecolor": "white"
           }
          },
          "shapedefaults": {
           "line": {
            "color": "#2a3f5f"
           }
          },
          "ternary": {
           "aaxis": {
            "gridcolor": "white",
            "linecolor": "white",
            "ticks": ""
           },
           "baxis": {
            "gridcolor": "white",
            "linecolor": "white",
            "ticks": ""
           },
           "bgcolor": "#E5ECF6",
           "caxis": {
            "gridcolor": "white",
            "linecolor": "white",
            "ticks": ""
           }
          },
          "title": {
           "x": 0.05
          },
          "xaxis": {
           "automargin": true,
           "gridcolor": "white",
           "linecolor": "white",
           "ticks": "",
           "title": {
            "standoff": 15
           },
           "zerolinecolor": "white",
           "zerolinewidth": 2
          },
          "yaxis": {
           "automargin": true,
           "gridcolor": "white",
           "linecolor": "white",
           "ticks": "",
           "title": {
            "standoff": 15
           },
           "zerolinecolor": "white",
           "zerolinewidth": 2
          }
         }
        },
        "title": {
         "font": {
          "color": "#D9D9D9"
         }
        },
        "xaxis": {
         "gridcolor": "#434343",
         "showgrid": true,
         "tickfont": {
          "color": "#C2C2C2"
         },
         "title": {
          "font": {
           "color": "#D9D9D9"
          },
          "text": ""
         },
         "zerolinecolor": "#666570"
        },
        "yaxis": {
         "gridcolor": "#434343",
         "showgrid": true,
         "tickfont": {
          "color": "#C2C2C2"
         },
         "title": {
          "font": {
           "color": "#D9D9D9"
          },
          "text": ""
         },
         "zerolinecolor": "#666570"
        }
       }
      },
      "text/html": [
       "<div>\n",
       "        \n",
       "        \n",
       "            <div id=\"46800a9c-3123-4bf0-b6d1-edc3850b3578\" class=\"plotly-graph-div\" style=\"height:525px; width:100%;\"></div>\n",
       "            <script type=\"text/javascript\">\n",
       "                require([\"plotly\"], function(Plotly) {\n",
       "                    window.PLOTLYENV=window.PLOTLYENV || {};\n",
       "                    window.PLOTLYENV.BASE_URL='https://plot.ly';\n",
       "                    \n",
       "                if (document.getElementById(\"46800a9c-3123-4bf0-b6d1-edc3850b3578\")) {\n",
       "                    Plotly.newPlot(\n",
       "                        '46800a9c-3123-4bf0-b6d1-edc3850b3578',\n",
       "                        [{\"colorscale\": [[0.0, \"rgb(255, 153, 51)\"], [0.1111111111111111, \"rgb(55, 128, 191)\"], [0.2222222222222222, \"rgb(50, 171, 96)\"], [0.3333333333333333, \"rgb(128, 0, 128)\"], [0.4444444444444444, \"rgb(219, 64, 82)\"], [0.5555555555555556, \"rgb(0, 128, 128)\"], [0.6666666666666666, \"rgb(255, 255, 51)\"], [0.7777777777777778, \"rgb(128, 128, 0)\"], [0.8888888888888888, \"rgb(251, 128, 114)\"], [1.0, \"rgb(128, 177, 211)\"]], \"type\": \"surface\", \"x\": [-10.0, -9.75, -9.5, -9.25, -9.0, -8.75, -8.5, -8.25, -8.0, -7.75, -7.5, -7.25, -7.0, -6.75, -6.5, -6.25, -6.0, -5.75, -5.5, -5.25, -5.0, -4.75, -4.5, -4.25, -4.0, -3.75, -3.5, -3.25, -3.0, -2.75, -2.5, -2.25, -2.0, -1.75, -1.5, -1.25, -1.0, -0.75, -0.5, -0.25, 0.0, 0.25, 0.5, 0.75, 1.0, 1.25, 1.5, 1.75, 2.0, 2.25, 2.5, 2.75, 3.0, 3.25, 3.5, 3.75, 4.0, 4.25, 4.5, 4.75, 5.0, 5.25, 5.5, 5.75, 6.0, 6.25, 6.5, 6.75, 7.0, 7.25, 7.5, 7.75, 8.0, 8.25, 8.5, 8.75, 9.0, 9.25, 9.5, 9.75], \"y\": [-10.0, -9.75, -9.5, -9.25, -9.0, -8.75, -8.5, -8.25, -8.0, -7.75, -7.5, -7.25, -7.0, -6.75, -6.5, -6.25, -6.0, -5.75, -5.5, -5.25, -5.0, -4.75, -4.5, -4.25, -4.0, -3.75, -3.5, -3.25, -3.0, -2.75, -2.5, -2.25, -2.0, -1.75, -1.5, -1.25, -1.0, -0.75, -0.5, -0.25, 0.0, 0.25, 0.5, 0.75, 1.0, 1.25, 1.5, 1.75, 2.0, 2.25, 2.5, 2.75, 3.0, 3.25, 3.5, 3.75, 4.0, 4.25, 4.5, 4.75, 5.0, 5.25, 5.5, 5.75, 6.0, 6.25, 6.5, 6.75, 7.0, 7.25, 7.5, 7.75, 8.0, 8.25, 8.5, 8.75, 9.0, 9.25, 9.5, 9.75], \"z\": [[0.14141961054935853, 0.14111903500315878, 0.13650222610828716, 0.12777380562398274, 0.11526115097856116, 0.0993958462307399, 0.08069235790121831, 0.059725017515438364, 0.037104384846577534, 0.013454008098850966, -0.01061150357619211, -0.0345063152690242, -0.05769048962428924, -0.07968395387291566, -0.10007704610444179, -0.11853755153953285, -0.13481430178982187, -0.1487375524385824, -0.16021647158282734, -0.16923416092386775, -0.17584069010379264, -0.1801446545297837, -0.18230376872794093, -0.18251498442862385, -0.18100457917857166, -0.17801860199902664, -0.1738139924448547, -0.16865061331126227, -0.16278435980926842, -0.15646143337355978, -0.1499137997580331, -0.14335579129849668, -0.13698176393514344, -0.13096468174943518, -0.1254554756233313, -0.12058300781296416, -0.1164544699167505, -0.1131560467581887, -0.1107536917561867, -0.10929387900894774, -0.10880422217787396, -0.10929387900894774, -0.1107536917561867, -0.1131560467581887, -0.1164544699167505, -0.12058300781296416, -0.1254554756233313, -0.13096468174943518, -0.13698176393514344, -0.14335579129849668, -0.1499137997580331, -0.15646143337355978, -0.16278435980926842, -0.16865061331126227, -0.1738139924448547, -0.17801860199902664, -0.18100457917857166, -0.18251498442862385, -0.18230376872794093, -0.1801446545297837, -0.17584069010379264, -0.16923416092386775, -0.16021647158282734, -0.1487375524385824, -0.13481430178982187, -0.11853755153953285, -0.10007704610444179, -0.07968395387291566, -0.05769048962428924, -0.0345063152690242, -0.01061150357619211, 0.013454008098850966, 0.037104384846577534, 0.059725017515438364, 0.08069235790121831, 0.0993958462307399, 0.11526115097856116, 0.12777380562398274, 0.13650222610828716, 0.14111903500315878], [0.14111903500315878, 0.13632396086944565, 0.12719030582037316, 0.11405907878471819, 0.09738828403656238, 0.07773008237271903, 0.05570574218106777, 0.03197958453286062, 0.007233082355737275, -0.017859822184363938, -0.042655257000177006, -0.06655906279410359, -0.08904297911487404, -0.10965701691843574, -0.12803786284735597, -0.14391335124448024, -0.15710321083861073, -0.16751643729146143, -0.1751457556394694, -0.1800597155006458, -0.18239300622958532, -0.18233559039097344, -0.18012123502583363, -0.1760159755489718, -0.17030698199702413, -0.16329221750830802, -0.15527119023634725, -0.14653700801271363, -0.13736985507049018, -0.12803192632998142, -0.11876378051842666, -0.10978201113265723, -0.10127808535368477, -0.09341816596346665, -0.08634370978474622, -0.08017262722723162, -0.0750007897964791, -0.07090368426500879, -0.06793803188546253, -0.06614321685638791, -0.06554239869174844, -0.06614321685638791, -0.06793803188546253, -0.07090368426500879, -0.0750007897964791, -0.08017262722723162, -0.08634370978474622, -0.09341816596346665, -0.10127808535368477, -0.10978201113265723, -0.11876378051842666, -0.12803192632998142, -0.13736985507049018, -0.14653700801271363, -0.15527119023634725, -0.16329221750830802, -0.17030698199702413, -0.1760159755489718, -0.18012123502583363, -0.18233559039097344, -0.18239300622958532, -0.1800597155006458, -0.1751457556394694, -0.16751643729146143, -0.15710321083861073, -0.14391335124448024, -0.12803786284735597, -0.10965701691843574, -0.08904297911487404, -0.06655906279410359, -0.042655257000177006, -0.017859822184363938, 0.007233082355737275, 0.03197958453286062, 0.05570574218106777, 0.07773008237271903, 0.09738828403656238, 0.11405907878471819, 0.12719030582037316, 0.13632396086944565], [0.13650222610828716, 0.12719030582037316, 0.1136526088802527, 0.09636827159298987, 0.0759235678781371, 0.05298490441364873, 0.028270310898122826, 0.0025207381574719806, -0.023527608249201665, -0.04916880920228074, -0.07374973820785838, -0.09668883252747353, -0.11749065565570795, -0.13575600794040762, -0.1511875643863488, -0.163591222139663, -0.17287351607260815, -0.17903560277058095, -0.1821644169794075, -0.18242166855756492, -0.1800313728705813, -0.1752665961050691, -0.16843605361995675, -0.15987112992755653, -0.1499137997580331, -0.13890582780165694, -0.1271795169340972, -0.11505016730310495, -0.10281030706494565, -0.0907256642328181, -0.07903277128303789, -0.06793803188546253, -0.05761803324395176, -0.04822085787410071, -0.039868134180728126, -0.032657564269347995, -0.026665677985416577, -0.021950582012676394, -0.01855449981019833, -0.016505930263581485, -0.015821288518275644, -0.016505930263581485, -0.01855449981019833, -0.021950582012676394, -0.026665677985416577, -0.032657564269347995, -0.039868134180728126, -0.04822085787410071, -0.05761803324395176, -0.06793803188546253, -0.07903277128303789, -0.0907256642328181, -0.10281030706494565, -0.11505016730310495, -0.1271795169340972, -0.13890582780165694, -0.1499137997580331, -0.15987112992755653, -0.16843605361995675, -0.1752665961050691, -0.1800313728705813, -0.18242166855756492, -0.1821644169794075, -0.17903560277058095, -0.17287351607260815, -0.163591222139663, -0.1511875643863488, -0.13575600794040762, -0.11749065565570795, -0.09668883252747353, -0.07374973820785838, -0.04916880920228074, -0.023527608249201665, 0.0025207381574719806, 0.028270310898122826, 0.05298490441364873, 0.0759235678781371, 0.09636827159298987, 0.1136526088802527, 0.12719030582037316], [0.12777380562398274, 0.11405907878471819, 0.09636827159298987, 0.07531659368730659, 0.05161237775613617, 0.026026147564044762, -0.0006409754282528475, -0.027588123185645037, -0.054043516875550875, -0.07929019757294747, -0.10268778525178764, -0.12368964794720452, -0.14185512230149663, -0.15685668268767797, -0.16848219583369567, -0.17663261032673944, -0.18131560690315682, -0.1826358700412797, -0.18078273088932142, -0.1760159755489718, -0.16865061331126227, -0.15904136091487175, -0.14756752732225356, -0.13461888616197776, -0.12058300781296416, -0.10583439818051152, -0.0907256642328181, -0.07558080422426758, -0.060690608986011814, -0.046310064114579955, -0.032657564269347995, -0.019915691575644292, -0.00823327044894154, 0.0022716100207446164, 0.011507919583092052, 0.019407660252202565, 0.025921773001301992, 0.031016232090896562, 0.03466854669458865, 0.03686485131708162, 0.03759772656874239, 0.03686485131708162, 0.03466854669458865, 0.031016232090896562, 0.025921773001301992, 0.019407660252202565, 0.011507919583092052, 0.0022716100207446164, -0.00823327044894154, -0.019915691575644292, -0.032657564269347995, -0.046310064114579955, -0.060690608986011814, -0.07558080422426758, -0.0907256642328181, -0.10583439818051152, -0.12058300781296416, -0.13461888616197776, -0.14756752732225356, -0.15904136091487175, -0.16865061331126227, -0.1760159755489718, -0.18078273088932142, -0.1826358700412797, -0.18131560690315682, -0.17663261032673944, -0.16848219583369567, -0.15685668268767797, -0.14185512230149663, -0.12368964794720452, -0.10268778525178764, -0.07929019757294747, -0.054043516875550875, -0.027588123185645037, -0.0006409754282528475, 0.026026147564044762, 0.05161237775613617, 0.07531659368730659, 0.09636827159298987, 0.11405907878471819], [0.11526115097856116, 0.09738828403656238, 0.0759235678781371, 0.05161237775613617, 0.025275083284098894, -0.0022274559793407315, -0.03002807965783915, -0.0572857273340844, -0.08321475815193494, -0.10711012813756442, -0.1283676319466868, -0.1464987033293174, -0.16113955966514656, -0.17205475511311313, -0.17913546063850083, -0.18239300622958532, -0.18194839266053625, -0.17801860199902664, -0.17090060569317098, -0.1609539875623888, -0.14858307017251748, -0.13421936300715656, -0.11830504740258321, -0.10127808535368477, -0.08355939645450051, -0.06554239869174844, -0.04758506314163741, -0.030004497243790427, -0.013073952151520388, 0.0029779491154211806, 0.017966041941118966, 0.031745840459068614, 0.044209509361482956, 0.05528095770522729, 0.0649104168254659, 0.07306884206017318, 0.07974244535617742, 0.08492762656935865, 0.08862652853638416, 0.09084339726921295, 0.09158188560927924, 0.09084339726921295, 0.08862652853638416, 0.08492762656935865, 0.07974244535617742, 0.07306884206017318, 0.0649104168254659, 0.05528095770522729, 0.044209509361482956, 0.031745840459068614, 0.017966041941118966, 0.0029779491154211806, -0.013073952151520388, -0.030004497243790427, -0.04758506314163741, -0.06554239869174844, -0.08355939645450051, -0.10127808535368477, -0.11830504740258321, -0.13421936300715656, -0.14858307017251748, -0.1609539875623888, -0.17090060569317098, -0.17801860199902664, -0.18194839266053625, -0.18239300622958532, -0.17913546063850083, -0.17205475511311313, -0.16113955966514656, -0.1464987033293174, -0.1283676319466868, -0.10711012813756442, -0.08321475815193494, -0.0572857273340844, -0.03002807965783915, -0.0022274559793407315, 0.025275083284098894, 0.05161237775613617, 0.0759235678781371, 0.09738828403656238], [0.0993958462307399, 0.07773008237271903, 0.05298490441364873, 0.026026147564044762, -0.0022274559793407315, -0.030841885736018544, -0.05890402451081101, -0.08555491563889543, -0.11001880232017779, -0.1316269478872783, -0.14983554931501694, -0.1642373823959323, -0.17456713788189782, -0.1807007071005138, -0.18264893898060253, -0.18054660691367944, -0.17463748569481502, -0.16525654180237792, -0.1528102839666787, -0.1377563081818195, -0.12058300781296416, -0.10179031338845618, -0.08187218787401292, -0.061301442485772274, -0.040517266401149735, -0.019915691575644292, 0.0001569493213448689, 0.019407660252202565, 0.03759772656874239, 0.054541276561040686, 0.07010183827093616, 0.08418731130237875, 0.09674378883254962, 0.10774865812501504, 0.11720338291232232, 0.12512633286074154, 0.13154597877649798, 0.13649472168344115, 0.14000357308347133, 0.14209785531573388, 0.14279404657238684, 0.14209785531573388, 0.14000357308347133, 0.13649472168344115, 0.13154597877649798, 0.12512633286074154, 0.11720338291232232, 0.10774865812501504, 0.09674378883254962, 0.08418731130237875, 0.07010183827093616, 0.054541276561040686, 0.03759772656874239, 0.019407660252202565, 0.0001569493213448689, -0.019915691575644292, -0.040517266401149735, -0.061301442485772274, -0.08187218787401292, -0.10179031338845618, -0.12058300781296416, -0.1377563081818195, -0.1528102839666787, -0.16525654180237792, -0.17463748569481502, -0.18054660691367944, -0.18264893898060253, -0.1807007071005138, -0.17456713788189782, -0.1642373823959323, -0.14983554931501694, -0.1316269478872783, -0.11001880232017779, -0.08555491563889543, -0.05890402451081101, -0.030841885736018544, -0.0022274559793407315, 0.026026147564044762, 0.05298490441364873, 0.07773008237271903], [0.08069235790121831, 0.05570574218106777, 0.028270310898122826, -0.0006409754282528475, -0.03002807965783915, -0.05890402451081101, -0.08633239590937543, -0.1114606806231028, -0.13354819579908725, -0.15198770280837584, -0.16632015713858264, -0.17624240938958516, -0.18160802037610754, -0.18242166855756492, -0.1788278960809016, -0.17109514979541934, -0.15959621882048483, -0.14478624788034108, -0.1271795169340972, -0.10732612754693129, -0.0857896329957062, -0.0631265026963309, -0.039868134180728126, -0.016505930263581485, 0.0065202421682302655, 0.02883009042098063, 0.05010748884225075, 0.07010183827093616, 0.08862652853638416, 0.10555493165712146, 0.12081441070397907, 0.13437885433763305, 0.14626024334832619, 0.15649972810645998, 0.16515865057394133, 0.17230988766358785, 0.17802983029511174, 0.18239124981424537, 0.18545724476618586, 0.18727640924644018, 0.18787932061729182, 0.18727640924644018, 0.18545724476618586, 0.18239124981424537, 0.17802983029511174, 0.17230988766358785, 0.16515865057394133, 0.15649972810645998, 0.14626024334832619, 0.13437885433763305, 0.12081441070397907, 0.10555493165712146, 0.08862652853638416, 0.07010183827093616, 0.05010748884225075, 0.02883009042098063, 0.0065202421682302655, -0.016505930263581485, -0.039868134180728126, -0.0631265026963309, -0.0857896329957062, -0.10732612754693129, -0.1271795169340972, -0.14478624788034108, -0.15959621882048483, -0.17109514979541934, -0.1788278960809016, -0.18242166855756492, -0.18160802037610754, -0.17624240938958516, -0.16632015713858264, -0.15198770280837584, -0.13354819579908725, -0.1114606806231028, -0.08633239590937543, -0.05890402451081101, -0.03002807965783915, -0.0006409754282528475, 0.028270310898122826, 0.05570574218106777], [0.059725017515438364, 0.03197958453286062, 0.0025207381574719806, -0.027588123185645037, -0.0572857273340844, -0.08555491563889543, -0.1114606806231028, -0.13418273806183595, -0.15304146672549196, -0.16751643729146143, -0.17725715646546372, -0.18208605074549258, -0.18199408570471504, -0.17712974307464055, -0.16778234479339135, -0.1543609103022869, -0.13736985507049018, -0.11738288358628372, -0.0950164022704569, -0.07090368426500879, -0.045670869380806056, -0.019915691575644292, 0.0058103924762656495, 0.031016232090896562, 0.05528095770522729, 0.07825990831739421, 0.09968670899986165, 0.11937185506223688, 0.13719827990417027, 0.15311446345017118, 0.16712567793535366, 0.1792839709402817, 0.18967745729212915, 0.19841943861188654, 0.20563779959612533, 0.21146505144444128, 0.21602931256266372, 0.21944644111666822, 0.22181346801290225, 0.2232034254780841, 0.22366162672468853, 0.2232034254780841, 0.22181346801290225, 0.21944644111666822, 0.21602931256266372, 0.21146505144444128, 0.20563779959612533, 0.19841943861188654, 0.18967745729212915, 0.1792839709402817, 0.16712567793535366, 0.15311446345017118, 0.13719827990417027, 0.11937185506223688, 0.09968670899986165, 0.07825990831739421, 0.05528095770522729, 0.031016232090896562, 0.0058103924762656495, -0.019915691575644292, -0.045670869380806056, -0.07090368426500879, -0.0950164022704569, -0.11738288358628372, -0.13736985507049018, -0.1543609103022869, -0.16778234479339135, -0.17712974307464055, -0.18199408570471504, -0.18208605074549258, -0.17725715646546372, -0.16751643729146143, -0.15304146672549196, -0.13418273806183595, -0.1114606806231028, -0.08555491563889543, -0.0572857273340844, -0.027588123185645037, 0.0025207381574719806, 0.03197958453286062], [0.037104384846577534, 0.007233082355737275, -0.023527608249201665, -0.054043516875550875, -0.08321475815193494, -0.11001880232017779, -0.13354819579908725, -0.15304146672549196, -0.167906160972842, -0.17773339606034183, -0.18230376872794093, -0.18158488243001691, -0.17572115154133375, -0.16501687105976595, -0.1499137997580331, -0.13096468174943518, -0.10880422217787396, -0.08411903827788304, -0.05761803324395176, -0.030004497243790427, -0.001951040868825416, 0.025921773001301992, 0.05306249567952219, 0.07900122348247962, 0.10335731863015635, 0.1258425822940911, 0.14626024334832619, 0.16450028494360933, 0.18053174205108255, 0.1943926655354523, 0.2061784643801796, 0.21602931256266372, 0.2241172482256385, 0.23063350923189954, 0.23577655069724138, 0.23974108638511749, 0.242708395806646, 0.24483804991090943, 0.24626113579560338, 0.24707500803079696, 0.24733956165584545, 0.24707500803079696, 0.24626113579560338, 0.24483804991090943, 0.242708395806646, 0.23974108638511749, 0.23577655069724138, 0.23063350923189954, 0.2241172482256385, 0.21602931256266372, 0.2061784643801796, 0.1943926655354523, 0.18053174205108255, 0.16450028494360933, 0.14626024334832619, 0.1258425822940911, 0.10335731863015635, 0.07900122348247962, 0.05306249567952219, 0.025921773001301992, -0.001951040868825416, -0.030004497243790427, -0.05761803324395176, -0.08411903827788304, -0.10880422217787396, -0.13096468174943518, -0.1499137997580331, -0.16501687105976595, -0.17572115154133375, -0.18158488243001691, -0.18230376872794093, -0.17773339606034183, -0.167906160972842, -0.15304146672549196, -0.13354819579908725, -0.11001880232017779, -0.08321475815193494, -0.054043516875550875, -0.023527608249201665, 0.007233082355737275], [0.013454008098850966, -0.017859822184363938, -0.04916880920228074, -0.07929019757294747, -0.10711012813756442, -0.1316269478872783, -0.15198770280837584, -0.16751643729146143, -0.17773339606034183, -0.18236471957976835, -0.18134271385500067, -0.1747972342928682, -0.16303912773542587, -0.14653700801271363, -0.1258888846262905, -0.10179031338845618, -0.0750007897964791, -0.046310064114579955, -0.016505930263581485, 0.013655158230898757, 0.043473546354522816, 0.07232710218505171, 0.09968670899986165, 0.12512633286074154, 0.14832776112580212, 0.16908036038891633, 0.18727640924644018, 0.20290271423033404, 0.21602931256266372, 0.22679610352037188, 0.23539823538075702, 0.2420710146043941, 0.24707500803079696, 0.2506818889186662, 0.2531614457800734, 0.25477004091850136, 0.2557406839380664, 0.2562747828163765, 0.25653555744366946, 0.2566430509401283, 0.2566706526738519, 0.2566430509401283, 0.25653555744366946, 0.2562747828163765, 0.2557406839380664, 0.25477004091850136, 0.2531614457800734, 0.2506818889186662, 0.24707500803079696, 0.2420710146043941, 0.23539823538075702, 0.22679610352037188, 0.21602931256266372, 0.20290271423033404, 0.18727640924644018, 0.16908036038891633, 0.14832776112580212, 0.12512633286074154, 0.09968670899986165, 0.07232710218505171, 0.043473546354522816, 0.013655158230898757, -0.016505930263581485, -0.046310064114579955, -0.0750007897964791, -0.10179031338845618, -0.1258888846262905, -0.14653700801271363, -0.16303912773542587, -0.1747972342928682, -0.18134271385500067, -0.18236471957976835, -0.17773339606034183, -0.16751643729146143, -0.15198770280837584, -0.1316269478872783, -0.10711012813756442, -0.07929019757294747, -0.04916880920228074, -0.017859822184363938], [-0.01061150357619211, -0.042655257000177006, -0.07374973820785838, -0.10268778525178764, -0.1283676319466868, -0.14983554931501694, -0.16632015713858264, -0.17725715646546372, -0.18230376872794093, -0.18134271385500067, -0.17447608825271163, -0.16200998595397612, -0.14443111863131364, -0.12237701362727325, -0.09660159075517502, -0.06793803188546253, -0.03726086233570953, -0.005449066140771361, 0.026648129724923395, 0.058241427706856384, 0.08862652853638416, 0.11720338291232232, 0.14348926836260514, 0.16712567793535366, 0.18787932061729182, 0.20563779959612533, 0.22040074178662336, 0.23226729318028777, 0.24142096714711753, 0.24811283911536614, 0.25264402764959015, 0.255348298963932, 0.256575492104657, 0.2566762997375786, 0.2559887694405144, 0.2548267267047997, 0.25347017586536014, 0.252157618714697, 0.25108014921898075, 0.25037713957121355, 0.25013332713993036, 0.25037713957121355, 0.25108014921898075, 0.252157618714697, 0.25347017586536014, 0.2548267267047997, 0.2559887694405144, 0.2566762997375786, 0.256575492104657, 0.255348298963932, 0.25264402764959015, 0.24811283911536614, 0.24142096714711753, 0.23226729318028777, 0.22040074178662336, 0.20563779959612533, 0.18787932061729182, 0.16712567793535366, 0.14348926836260514, 0.11720338291232232, 0.08862652853638416, 0.058241427706856384, 0.026648129724923395, -0.005449066140771361, -0.03726086233570953, -0.06793803188546253, -0.09660159075517502, -0.12237701362727325, -0.14443111863131364, -0.16200998595397612, -0.17447608825271163, -0.18134271385500067, -0.18230376872794093, -0.17725715646546372, -0.16632015713858264, -0.14983554931501694, -0.1283676319466868, -0.10268778525178764, -0.07374973820785838, -0.042655257000177006], [-0.0345063152690242, -0.06655906279410359, -0.09668883252747353, -0.12368964794720452, -0.1464987033293174, -0.1642373823959323, -0.17624240938958516, -0.18208605074549258, -0.18158488243001691, -0.1747972342928682, -0.16200998595397612, -0.1437158894806465, -0.12058300781296416, -0.09341816596346665, -0.0631265026963309, -0.03066927919323432, 0.0029779491154211806, 0.03686485131708162, 0.07010183827093616, 0.1018902143955224, 0.13154597877649798, 0.15851669454452746, 0.18239124981424537, 0.20290271423033404, 0.21992483146863692, 0.23346296309158113, 0.24364050109720906, 0.2506818889186662, 0.254893432701845, 0.2566430509401283, 0.2563400102730029, 0.25441554164532254, 0.25130504004127213, 0.24743234013685533, 0.2431963471432226, 0.23896010343988033, 0.23504220166614895, 0.2317103248693539, 0.22917661128094333, 0.22759450814784551, 0.2270567942100705, 0.22759450814784551, 0.22917661128094333, 0.2317103248693539, 0.23504220166614895, 0.23896010343988033, 0.2431963471432226, 0.24743234013685533, 0.25130504004127213, 0.25441554164532254, 0.2563400102730029, 0.2566430509401283, 0.254893432701845, 0.2506818889186662, 0.24364050109720906, 0.23346296309158113, 0.21992483146863692, 0.20290271423033404, 0.18239124981424537, 0.15851669454452746, 0.13154597877649798, 0.1018902143955224, 0.07010183827093616, 0.03686485131708162, 0.0029779491154211806, -0.03066927919323432, -0.0631265026963309, -0.09341816596346665, -0.12058300781296416, -0.1437158894806465, -0.16200998595397612, -0.1747972342928682, -0.18158488243001691, -0.18208605074549258, -0.17624240938958516, -0.1642373823959323, -0.1464987033293174, -0.12368964794720452, -0.09668883252747353, -0.06655906279410359], [-0.05769048962428924, -0.08904297911487404, -0.11749065565570795, -0.14185512230149663, -0.16113955966514656, -0.17456713788189782, -0.18160802037610754, -0.18199408570471504, -0.17572115154133375, -0.16303912773542587, -0.14443111863131364, -0.12058300781296416, -0.09234546620178369, -0.060690608986011814, -0.026665677985416577, 0.008653858363151095, 0.044209509361482956, 0.07900122348247962, 0.11212338767979044, 0.14279404657238684, 0.17037647050011587, 0.1943926655354523, 0.2145288714461612, 0.23063350923189954, 0.242708395806646, 0.2508943222213973, 0.2554522819126627, 0.2567417315441088, 0.25519727019112654, 0.25130504004127213, 0.2455799958764798, 0.23854497801642713, 0.23071227369415243, 0.22256808600007377, 0.21456006847846779, 0.2070878465419809, 0.20049625055173417, 0.19507084218595108, 0.19103523332295086, 0.18854967763954522, 0.18771045677679687, 0.18854967763954522, 0.19103523332295086, 0.19507084218595108, 0.20049625055173417, 0.2070878465419809, 0.21456006847846779, 0.22256808600007377, 0.23071227369415243, 0.23854497801642713, 0.2455799958764798, 0.25130504004127213, 0.25519727019112654, 0.2567417315441088, 0.2554522819126627, 0.2508943222213973, 0.242708395806646, 0.23063350923189954, 0.2145288714461612, 0.1943926655354523, 0.17037647050011587, 0.14279404657238684, 0.11212338767979044, 0.07900122348247962, 0.044209509361482956, 0.008653858363151095, -0.026665677985416577, -0.060690608986011814, -0.09234546620178369, -0.12058300781296416, -0.14443111863131364, -0.16303912773542587, -0.17572115154133375, -0.18199408570471504, -0.18160802037610754, -0.17456713788189782, -0.16113955966514656, -0.14185512230149663, -0.11749065565570795, -0.08904297911487404], [-0.07968395387291566, -0.10965701691843574, -0.13575600794040762, -0.15685668268767797, -0.17205475511311313, -0.1807007071005138, -0.18242166855756492, -0.17712974307464055, -0.16501687105976595, -0.14653700801271363, -0.12237701362727325, -0.09341816596346665, -0.060690608986011814, -0.02532329427921568, 0.011507919583092052, 0.04863139306208121, 0.08492762656935865, 0.11937185506223688, 0.1510696036571175, 0.1792839709402817, 0.20345392533496165, 0.2232034254780841, 0.2383416766936446, 0.24885528388828942, 0.254893432701845, 0.25674750760048576, 0.2548267267047997, 0.24963143467045815, 0.24172565029557566, 0.2317103248693539, 0.22019854657881394, 0.20779364608280457, 0.19507084218595108, 0.18256273925541686, 0.17074867404778504, 0.16004763127913005, 0.15081422331281308, 0.1433370736825879, 0.13783886506830845, 0.134477311926808, 0.1333463922312941, 0.134477311926808, 0.13783886506830845, 0.1433370736825879, 0.15081422331281308, 0.16004763127913005, 0.17074867404778504, 0.18256273925541686, 0.19507084218595108, 0.20779364608280457, 0.22019854657881394, 0.2317103248693539, 0.24172565029557566, 0.24963143467045815, 0.2548267267047997, 0.25674750760048576, 0.254893432701845, 0.24885528388828942, 0.2383416766936446, 0.2232034254780841, 0.20345392533496165, 0.1792839709402817, 0.1510696036571175, 0.11937185506223688, 0.08492762656935865, 0.04863139306208121, 0.011507919583092052, -0.02532329427921568, -0.060690608986011814, -0.09341816596346665, -0.12237701362727325, -0.14653700801271363, -0.16501687105976595, -0.17712974307464055, -0.18242166855756492, -0.1807007071005138, -0.17205475511311313, -0.15685668268767797, -0.13575600794040762, -0.10965701691843574], [-0.10007704610444179, -0.12803786284735597, -0.1511875643863488, -0.16848219583369567, -0.17913546063850083, -0.18264893898060253, -0.1788278960809016, -0.16778234479339135, -0.1499137997580331, -0.1258888846262905, -0.09660159075517502, -0.0631265026963309, -0.026665677985416577, 0.011507919583092052, 0.05010748884225075, 0.0878871354792479, 0.12369173187889267, 0.15649972810645998, 0.18545724476618586, 0.20990234059772522, 0.22937894091767205, 0.24364050109720906, 0.25264402764959015, 0.25653555744366946, 0.25562857790064414, 0.25037713957121355, 0.2413455569066888, 0.22917661128094333, 0.21456006847846779, 0.1982031145119569, 0.18080401871815463, 0.1630299764243758, 0.1454996929947382, 0.12877087581897034, 0.11333242903336224, 0.09960082298540655, 0.08791985781076668, 0.07856287339249271, 0.07173638515428266, 0.06758414818694233, 0.0661907655654817, 0.06758414818694233, 0.07173638515428266, 0.07856287339249271, 0.08791985781076668, 0.09960082298540655, 0.11333242903336224, 0.12877087581897034, 0.1454996929947382, 0.1630299764243758, 0.18080401871815463, 0.1982031145119569, 0.21456006847846779, 0.22917661128094333, 0.2413455569066888, 0.25037713957121355, 0.25562857790064414, 0.25653555744366946, 0.25264402764959015, 0.24364050109720906, 0.22937894091767205, 0.20990234059772522, 0.18545724476618586, 0.15649972810645998, 0.12369173187889267, 0.0878871354792479, 0.05010748884225075, 0.011507919583092052, -0.026665677985416577, -0.0631265026963309, -0.09660159075517502, -0.1258888846262905, -0.1499137997580331, -0.16778234479339135, -0.1788278960809016, -0.18264893898060253, -0.17913546063850083, -0.16848219583369567, -0.1511875643863488, -0.12803786284735597], [-0.11853755153953285, -0.14391335124448024, -0.163591222139663, -0.17663261032673944, -0.18239300622958532, -0.18054660691367944, -0.17109514979541934, -0.1543609103022869, -0.13096468174943518, -0.10179031338845618, -0.06793803188546253, -0.03066927919323432, 0.008653858363151095, 0.04863139306208121, 0.0878871354792479, 0.12512633286074154, 0.15918658398472915, 0.1890798565922851, 0.21402402107025095, 0.23346296309158113, 0.24707500803079696, 0.25477004091850136, 0.2566762997375786, 0.25311832399967577, 0.24458792842044305, 0.2317103248693539, 0.2152076253393881, 0.19586192453391038, 0.17447999195279823, 0.15186131748507978, 0.12877087581897034, 0.10591753298818528, 0.08393854575868848, 0.06339013493636744, 0.044743679368913644, 0.02838670735216783, 0.014627580006334946, 0.0037025838949493145, -0.004215913110515241, -0.009011537058698997, -0.010617349295218181, -0.009011537058698997, -0.004215913110515241, 0.0037025838949493145, 0.014627580006334946, 0.02838670735216783, 0.044743679368913644, 0.06339013493636744, 0.08393854575868848, 0.10591753298818528, 0.12877087581897034, 0.15186131748507978, 0.17447999195279823, 0.19586192453391038, 0.2152076253393881, 0.2317103248693539, 0.24458792842044305, 0.25311832399967577, 0.2566762997375786, 0.25477004091850136, 0.24707500803079696, 0.23346296309158113, 0.21402402107025095, 0.1890798565922851, 0.15918658398472915, 0.12512633286074154, 0.0878871354792479, 0.04863139306208121, 0.008653858363151095, -0.03066927919323432, -0.06793803188546253, -0.10179031338845618, -0.13096468174943518, -0.1543609103022869, -0.17109514979541934, -0.18054660691367944, -0.18239300622958532, -0.17663261032673944, -0.163591222139663, -0.14391335124448024], [-0.13481430178982187, -0.15710321083861073, -0.17287351607260815, -0.18131560690315682, -0.18194839266053625, -0.17463748569481502, -0.15959621882048483, -0.13736985507049018, -0.10880422217787396, -0.0750007897964791, -0.03726086233570953, 0.0029779491154211806, 0.044209509361482956, 0.08492762656935865, 0.12369173187889267, 0.15918658398472915, 0.1902732638436695, 0.21602931256266372, 0.23577655069724138, 0.24909585663212155, 0.25582893038458626, 0.2560677827399544, 0.25013332713993036, 0.23854497801642713, 0.22198354690007724, 0.20124995852555586, 0.17722237538812438, 0.15081422331281308, 0.12293536517635703, 0.09445829662141196, 0.0661907655654817, 0.03885568116655977, 0.013078615468659323, -0.010617349295218181, -0.03181017613329085, -0.050171999808914604, -0.06545830501430487, -0.07749482277960204, -0.08616386191642225, -0.09139170665445415, -0.09313849939964196, -0.09139170665445415, -0.08616386191642225, -0.07749482277960204, -0.06545830501430487, -0.050171999808914604, -0.03181017613329085, -0.010617349295218181, 0.013078615468659323, 0.03885568116655977, 0.0661907655654817, 0.09445829662141196, 0.12293536517635703, 0.15081422331281308, 0.17722237538812438, 0.20124995852555586, 0.22198354690007724, 0.23854497801642713, 0.25013332713993036, 0.2560677827399544, 0.25582893038458626, 0.24909585663212155, 0.23577655069724138, 0.21602931256266372, 0.1902732638436695, 0.15918658398472915, 0.12369173187889267, 0.08492762656935865, 0.044209509361482956, 0.0029779491154211806, -0.03726086233570953, -0.0750007897964791, -0.10880422217787396, -0.13736985507049018, -0.15959621882048483, -0.17463748569481502, -0.18194839266053625, -0.18131560690315682, -0.17287351607260815, -0.15710321083861073], [-0.1487375524385824, -0.16751643729146143, -0.17903560277058095, -0.1826358700412797, -0.17801860199902664, -0.16525654180237792, -0.14478624788034108, -0.11738288358628372, -0.08411903827788304, -0.046310064114579955, -0.005449066140771361, 0.03686485131708162, 0.07900122348247962, 0.11937185506223688, 0.15649972810645998, 0.1890798565922851, 0.21602931256266372, 0.2365243422174828, 0.25002327766855664, 0.2562747828163765, 0.2553118000893658, 0.24743234013685533, 0.23316893482082693, 0.21324911772700825, 0.18854967763954522, 0.16004763127913005, 0.12877087581897034, 0.0957513146109, 0.06198291759831892, 0.02838670735216783, -0.004215913110515241, -0.03512071345143313, -0.06374895250625122, -0.08964697741323371, -0.11247819731414006, -0.132008995765264, -0.14809048863531396, -0.16063822727306362, -0.1696119802323752, -0.17499760171649797, -0.1767927226084377, -0.17499760171649797, -0.1696119802323752, -0.16063822727306362, -0.14809048863531396, -0.132008995765264, -0.11247819731414006, -0.08964697741323371, -0.06374895250625122, -0.03512071345143313, -0.004215913110515241, 0.02838670735216783, 0.06198291759831892, 0.0957513146109, 0.12877087581897034, 0.16004763127913005, 0.18854967763954522, 0.21324911772700825, 0.23316893482082693, 0.24743234013685533, 0.2553118000893658, 0.2562747828163765, 0.25002327766855664, 0.2365243422174828, 0.21602931256266372, 0.1890798565922851, 0.15649972810645998, 0.11937185506223688, 0.07900122348247962, 0.03686485131708162, -0.005449066140771361, -0.046310064114579955, -0.08411903827788304, -0.11738288358628372, -0.14478624788034108, -0.16525654180237792, -0.17801860199902664, -0.1826358700412797, -0.17903560277058095, -0.16751643729146143], [-0.16021647158282734, -0.1751457556394694, -0.1821644169794075, -0.18078273088932142, -0.17090060569317098, -0.1528102839666787, -0.1271795169340972, -0.0950164022704569, -0.05761803324395176, -0.016505930263581485, 0.026648129724923395, 0.07010183827093616, 0.11212338767979044, 0.1510696036571175, 0.18545724476618586, 0.21402402107025095, 0.23577655069724138, 0.25002327766855664, 0.25639126767027576, 0.2548267267047997, 0.2455799958764798, 0.22917661128094333, 0.2063767337439853, 0.17812580971586786, 0.1454996929947382, 0.1096476200446325, 0.07173638515428266, 0.032898814044057145, -0.005810793613848673, -0.043452159632214875, -0.0792240541655952, -0.11247819731414006, -0.1427221428215067, -0.1696119802323752, -0.1929363397545002, -0.2125937105436689, -0.22856545626592412, -0.24088710992360066, -0.24962054293732017, -0.254829433326894, -0.2565601183892334, -0.254829433326894, -0.24962054293732017, -0.24088710992360066, -0.22856545626592412, -0.2125937105436689, -0.1929363397545002, -0.1696119802323752, -0.1427221428215067, -0.11247819731414006, -0.0792240541655952, -0.043452159632214875, -0.005810793613848673, 0.032898814044057145, 0.07173638515428266, 0.1096476200446325, 0.1454996929947382, 0.17812580971586786, 0.2063767337439853, 0.22917661128094333, 0.2455799958764798, 0.2548267267047997, 0.25639126767027576, 0.25002327766855664, 0.23577655069724138, 0.21402402107025095, 0.18545724476618586, 0.1510696036571175, 0.11212338767979044, 0.07010183827093616, 0.026648129724923395, -0.016505930263581485, -0.05761803324395176, -0.0950164022704569, -0.1271795169340972, -0.1528102839666787, -0.17090060569317098, -0.18078273088932142, -0.1821644169794075, -0.1751457556394694], [-0.16923416092386775, -0.1800597155006458, -0.18242166855756492, -0.1760159755489718, -0.1609539875623888, -0.1377563081818195, -0.10732612754693129, -0.07090368426500879, -0.030004497243790427, 0.013655158230898757, 0.058241427706856384, 0.1018902143955224, 0.14279404657238684, 0.1792839709402817, 0.20990234059772522, 0.23346296309158113, 0.24909585663212155, 0.2562747828163765, 0.2548267267047997, 0.24492352037505036, 0.2270567942100705, 0.20199833430642128, 0.17074867404778504, 0.134477311926808, 0.09445829662141196, 0.05200503792795912, 0.00840808631479302, -0.03512071345143313, -0.07749482277960204, -0.1177881852505473, -0.15525760655490364, -0.18935183535374994, -0.21970771693043267, -0.246134617818378, -0.268589046149572, -0.28714197491104243, -0.30194177876754097, -0.31317589634427284, -0.3210343185560354, -0.32567778292945404, -0.32721314035298743, -0.32567778292945404, -0.3210343185560354, -0.31317589634427284, -0.30194177876754097, -0.28714197491104243, -0.268589046149572, -0.246134617818378, -0.21970771693043267, -0.18935183535374994, -0.15525760655490364, -0.1177881852505473, -0.07749482277960204, -0.03512071345143313, 0.00840808631479302, 0.05200503792795912, 0.09445829662141196, 0.134477311926808, 0.17074867404778504, 0.20199833430642128, 0.2270567942100705, 0.24492352037505036, 0.2548267267047997, 0.2562747828163765, 0.24909585663212155, 0.23346296309158113, 0.20990234059772522, 0.1792839709402817, 0.14279404657238684, 0.1018902143955224, 0.058241427706856384, 0.013655158230898757, -0.030004497243790427, -0.07090368426500879, -0.10732612754693129, -0.1377563081818195, -0.1609539875623888, -0.1760159755489718, -0.18242166855756492, -0.1800597155006458], [-0.17584069010379264, -0.18239300622958532, -0.1800313728705813, -0.16865061331126227, -0.14858307017251748, -0.12058300781296416, -0.0857896329957062, -0.045670869380806056, -0.001951040868825416, 0.043473546354522816, 0.08862652853638416, 0.13154597877649798, 0.17037647050011587, 0.20345392533496165, 0.22937894091767205, 0.24707500803079696, 0.25582893038458626, 0.2553118000893658, 0.2455799958764798, 0.2270567942100705, 0.20049625055173417, 0.16693195814109418, 0.12761407121954643, 0.08393854575868848, 0.037372873633869375, -0.010617349295218181, -0.05863687417657578, -0.10542055787501849, -0.14988136590815446, -0.19114437378651342, -0.22856545626592412, -0.2617343483375656, -0.29046275344788247, -0.31475910259630246, -0.33479237619194996, -0.35084804028714445, -0.3632795822101567, -0.37245933283868765, -0.3787322233669178, -0.382375848005458, -0.3835697098652554, -0.382375848005458, -0.3787322233669178, -0.37245933283868765, -0.3632795822101567, -0.35084804028714445, -0.33479237619194996, -0.31475910259630246, -0.29046275344788247, -0.2617343483375656, -0.22856545626592412, -0.19114437378651342, -0.14988136590815446, -0.10542055787501849, -0.05863687417657578, -0.010617349295218181, 0.037372873633869375, 0.08393854575868848, 0.12761407121954643, 0.16693195814109418, 0.20049625055173417, 0.2270567942100705, 0.2455799958764798, 0.2553118000893658, 0.25582893038458626, 0.24707500803079696, 0.22937894091767205, 0.20345392533496165, 0.17037647050011587, 0.13154597877649798, 0.08862652853638416, 0.043473546354522816, -0.001951040868825416, -0.045670869380806056, -0.0857896329957062, -0.12058300781296416, -0.14858307017251748, -0.16865061331126227, -0.1800313728705813, -0.18239300622958532], [-0.1801446545297837, -0.18233559039097344, -0.1752665961050691, -0.15904136091487175, -0.13421936300715656, -0.10179031338845618, -0.0631265026963309, -0.019915691575644292, 0.025921773001301992, 0.07232710218505171, 0.11720338291232232, 0.15851669454452746, 0.1943926655354523, 0.2232034254780841, 0.24364050109720906, 0.25477004091850136, 0.2560677827399544, 0.24743234013685533, 0.22917661128094333, 0.20199833430642128, 0.16693195814109418, 0.12528500092613942, 0.07856287339249271, 0.02838670735216783, -0.02359098016854476, -0.0757679524450742, -0.12666669235949252, -0.17499760171649797, -0.21970771693043267, -0.26001264723920775, -0.29541051237375787, -0.32567778292945404, -0.35084804028714445, -0.37117570680030565, -0.38708768931988075, -0.3991265770886398, -0.407889497747319, -0.41396693622794944, -0.417885750201407, -0.4200602785751461, -0.4207548585159486, -0.4200602785751461, -0.417885750201407, -0.41396693622794944, -0.407889497747319, -0.3991265770886398, -0.38708768931988075, -0.37117570680030565, -0.35084804028714445, -0.32567778292945404, -0.29541051237375787, -0.26001264723920775, -0.21970771693043267, -0.17499760171649797, -0.12666669235949252, -0.0757679524450742, -0.02359098016854476, 0.02838670735216783, 0.07856287339249271, 0.12528500092613942, 0.16693195814109418, 0.20199833430642128, 0.22917661128094333, 0.24743234013685533, 0.2560677827399544, 0.25477004091850136, 0.24364050109720906, 0.2232034254780841, 0.1943926655354523, 0.15851669454452746, 0.11720338291232232, 0.07232710218505171, 0.025921773001301992, -0.019915691575644292, -0.0631265026963309, -0.10179031338845618, -0.13421936300715656, -0.15904136091487175, -0.1752665961050691, -0.18233559039097344], [-0.18230376872794093, -0.18012123502583363, -0.16843605361995675, -0.14756752732225356, -0.11830504740258321, -0.08187218787401292, -0.039868134180728126, 0.0058103924762656495, 0.05306249567952219, 0.09968670899986165, 0.14348926836260514, 0.18239124981424537, 0.2145288714461612, 0.2383416766936446, 0.25264402764959015, 0.2566762997375786, 0.25013332713993036, 0.23316893482082693, 0.2063767337439853, 0.17074867404778504, 0.12761407121954643, 0.07856287339249271, 0.02535776443828009, -0.030159748399708135, -0.08616386191642225, -0.1409342819269669, -0.1929363397545002, -0.24088710992360066, -0.2838041182964338, -0.3210343185560354, -0.35226222727992795, -0.37749737145928347, -0.3970424421347404, -0.41144469052055266, -0.42143408131469146, -0.42785247459104203, -0.43157859884674826, -0.4334537754581445, -0.434213248547002, -0.43442757176285574, -0.43445783007337646, -0.43442757176285574, -0.434213248547002, -0.4334537754581445, -0.43157859884674826, -0.42785247459104203, -0.42143408131469146, -0.41144469052055266, -0.3970424421347404, -0.37749737145928347, -0.35226222727992795, -0.3210343185560354, -0.2838041182964338, -0.24088710992360066, -0.1929363397545002, -0.1409342819269669, -0.08616386191642225, -0.030159748399708135, 0.02535776443828009, 0.07856287339249271, 0.12761407121954643, 0.17074867404778504, 0.2063767337439853, 0.23316893482082693, 0.25013332713993036, 0.2566762997375786, 0.25264402764959015, 0.2383416766936446, 0.2145288714461612, 0.18239124981424537, 0.14348926836260514, 0.09968670899986165, 0.05306249567952219, 0.0058103924762656495, -0.039868134180728126, -0.08187218787401292, -0.11830504740258321, -0.14756752732225356, -0.16843605361995675, -0.18012123502583363], [-0.18251498442862385, -0.1760159755489718, -0.15987112992755653, -0.13461888616197776, -0.10127808535368477, -0.061301442485772274, -0.016505930263581485, 0.031016232090896562, 0.07900122348247962, 0.12512633286074154, 0.16712567793535366, 0.20290271423033404, 0.23063350923189954, 0.24885528388828942, 0.25653555744366946, 0.25311832399967577, 0.23854497801642713, 0.21324911772700825, 0.17812580971586786, 0.134477311926808, 0.08393854575868848, 0.02838670735216783, -0.030159748399708135, -0.08964697741323371, -0.14809048863531396, -0.2036729142303004, -0.254829433326894, -0.30031625065864676, -0.3392585664190622, -0.37117570680030565, -0.39598244357893553, -0.41396693622794944, -0.42574709936268906, -0.43220845214435083, -0.43442757176285574, -0.4335860886421158, -0.4308806796227811, -0.4274347075936389, -0.42421701152445723, -0.42197287899622543, -0.421171462695804, -0.42197287899622543, -0.42421701152445723, -0.4274347075936389, -0.4308806796227811, -0.4335860886421158, -0.43442757176285574, -0.43220845214435083, -0.42574709936268906, -0.41396693622794944, -0.39598244357893553, -0.37117570680030565, -0.3392585664190622, -0.30031625065864676, -0.254829433326894, -0.2036729142303004, -0.14809048863531396, -0.08964697741323371, -0.030159748399708135, 0.02838670735216783, 0.08393854575868848, 0.134477311926808, 0.17812580971586786, 0.21324911772700825, 0.23854497801642713, 0.25311832399967577, 0.25653555744366946, 0.24885528388828942, 0.23063350923189954, 0.20290271423033404, 0.16712567793535366, 0.12512633286074154, 0.07900122348247962, 0.031016232090896562, -0.016505930263581485, -0.061301442485772274, -0.10127808535368477, -0.13461888616197776, -0.15987112992755653, -0.1760159755489718], [-0.18100457917857166, -0.17030698199702413, -0.1499137997580331, -0.12058300781296416, -0.08355939645450051, -0.040517266401149735, 0.0065202421682302655, 0.05528095770522729, 0.10335731863015635, 0.14832776112580212, 0.18787932061729182, 0.21992483146863692, 0.242708395806646, 0.254893432701845, 0.25562857790064414, 0.24458792842044305, 0.22198354690007724, 0.18854967763954522, 0.1454996929947382, 0.09445829662141196, 0.037372873633869375, -0.02359098016854476, -0.08616386191642225, -0.14809048863531396, -0.20724458052139974, -0.2617343483375656, -0.309992807249447, -0.35084804028714445, -0.3835697098652554, -0.407889497747319, -0.42399466300627076, -0.43249545715781157, -0.43436863670247905, -0.4308806796227811, -0.42349546556438716, -0.4137720534188708, -0.40325873487122593, -0.39338972722403176, -0.3853906832849483, -0.3801986514917913, -0.3784012476539641, -0.3801986514917913, -0.3853906832849483, -0.39338972722403176, -0.40325873487122593, -0.4137720534188708, -0.42349546556438716, -0.4308806796227811, -0.43436863670247905, -0.43249545715781157, -0.42399466300627076, -0.407889497747319, -0.3835697098652554, -0.35084804028714445, -0.309992807249447, -0.2617343483375656, -0.20724458052139974, -0.14809048863531396, -0.08616386191642225, -0.02359098016854476, 0.037372873633869375, 0.09445829662141196, 0.1454996929947382, 0.18854967763954522, 0.22198354690007724, 0.24458792842044305, 0.25562857790064414, 0.254893432701845, 0.242708395806646, 0.21992483146863692, 0.18787932061729182, 0.14832776112580212, 0.10335731863015635, 0.05528095770522729, 0.0065202421682302655, -0.040517266401149735, -0.08355939645450051, -0.12058300781296416, -0.1499137997580331, -0.17030698199702413], [-0.17801860199902664, -0.16329221750830802, -0.13890582780165694, -0.10583439818051152, -0.06554239869174844, -0.019915691575644292, 0.02883009042098063, 0.07825990831739421, 0.1258425822940911, 0.16908036038891633, 0.20563779959612533, 0.23346296309158113, 0.2508943222213973, 0.25674750760048576, 0.25037713957121355, 0.2317103248693539, 0.20124995852555586, 0.16004763127913005, 0.1096476200446325, 0.05200503792795912, -0.010617349295218181, -0.0757679524450742, -0.1409342819269669, -0.2036729142303004, -0.2617343483375656, -0.31317589634427284, -0.3564564355250057, -0.3905078789395116, -0.4147795406040892, -0.42925310491460716, -0.43442757176285574, -0.4312752446188071, -0.421171462695804, -0.40580225753498556, -0.38705535500366767, -0.36690087535799776, -0.3472686537517362, -0.32992927901128904, -0.3163857196862348, -0.3077817863653888, -0.30483270332925, -0.3077817863653888, -0.3163857196862348, -0.32992927901128904, -0.3472686537517362, -0.36690087535799776, -0.38705535500366767, -0.40580225753498556, -0.421171462695804, -0.4312752446188071, -0.43442757176285574, -0.42925310491460716, -0.4147795406040892, -0.3905078789395116, -0.3564564355250057, -0.31317589634427284, -0.2617343483375656, -0.2036729142303004, -0.1409342819269669, -0.0757679524450742, -0.010617349295218181, 0.05200503792795912, 0.1096476200446325, 0.16004763127913005, 0.20124995852555586, 0.2317103248693539, 0.25037713957121355, 0.25674750760048576, 0.2508943222213973, 0.23346296309158113, 0.20563779959612533, 0.16908036038891633, 0.1258425822940911, 0.07825990831739421, 0.02883009042098063, -0.019915691575644292, -0.06554239869174844, -0.10583439818051152, -0.13890582780165694, -0.16329221750830802], [-0.1738139924448547, -0.15527119023634725, -0.1271795169340972, -0.0907256642328181, -0.04758506314163741, 0.0001569493213448689, 0.05010748884225075, 0.09968670899986165, 0.14626024334832619, 0.18727640924644018, 0.22040074178662336, 0.24364050109720906, 0.2554522819126627, 0.2548267267047997, 0.2413455569066888, 0.2152076253393881, 0.17722237538812438, 0.12877087581897034, 0.07173638515428266, 0.00840808631479302, -0.05863687417657578, -0.12666669235949252, -0.1929363397545002, -0.254829433326894, -0.309992807249447, -0.3564564355250057, -0.39273214882544505, -0.417885750201407, -0.43157859884674826, -0.434076417833265, -0.42622489689420734, -0.4093935036702951, -0.3853906832849483, -0.35635521764627226, -0.324629843053556, -0.29262421276448536, -0.2626748843273063, -0.23691017597600564, -0.21712746254366178, -0.20468978410715197, -0.20044755867978276, -0.20468978410715197, -0.21712746254366178, -0.23691017597600564, -0.2626748843273063, -0.29262421276448536, -0.324629843053556, -0.35635521764627226, -0.3853906832849483, -0.4093935036702951, -0.42622489689420734, -0.434076417833265, -0.43157859884674826, -0.417885750201407, -0.39273214882544505, -0.3564564355250057, -0.309992807249447, -0.254829433326894, -0.1929363397545002, -0.12666669235949252, -0.05863687417657578, 0.00840808631479302, 0.07173638515428266, 0.12877087581897034, 0.17722237538812438, 0.2152076253393881, 0.2413455569066888, 0.2548267267047997, 0.2554522819126627, 0.24364050109720906, 0.22040074178662336, 0.18727640924644018, 0.14626024334832619, 0.09968670899986165, 0.05010748884225075, 0.0001569493213448689, -0.04758506314163741, -0.0907256642328181, -0.1271795169340972, -0.15527119023634725], [-0.16865061331126227, -0.14653700801271363, -0.11505016730310495, -0.07558080422426758, -0.030004497243790427, 0.019407660252202565, 0.07010183827093616, 0.11937185506223688, 0.16450028494360933, 0.20290271423033404, 0.23226729318028777, 0.2506818889186662, 0.2567417315441088, 0.24963143467045815, 0.22917661128094333, 0.19586192453391038, 0.15081422331281308, 0.0957513146109, 0.032898814044057145, -0.03512071345143313, -0.10542055787501849, -0.17499760171649797, -0.24088710992360066, -0.30031625065864676, -0.35084804028714445, -0.3905078789395116, -0.417885750201407, -0.43220845214435083, -0.4333778373354074, -0.42197287899622543, -0.39921534828629784, -0.36690087535799776, -0.32729906443176787, -0.28302803533990717, -0.23691017597600564, -0.19181693290541052, -0.15051108239111077, -0.11549507625799743, -0.08887373699192957, -0.0722388011028484, -0.06658162124929747, -0.0722388011028484, -0.08887373699192957, -0.11549507625799743, -0.15051108239111077, -0.19181693290541052, -0.23691017597600564, -0.28302803533990717, -0.32729906443176787, -0.36690087535799776, -0.39921534828629784, -0.42197287899622543, -0.4333778373354074, -0.43220845214435083, -0.417885750201407, -0.3905078789395116, -0.35084804028714445, -0.30031625065864676, -0.24088710992360066, -0.17499760171649797, -0.10542055787501849, -0.03512071345143313, 0.032898814044057145, 0.0957513146109, 0.15081422331281308, 0.19586192453391038, 0.22917661128094333, 0.24963143467045815, 0.2567417315441088, 0.2506818889186662, 0.23226729318028777, 0.20290271423033404, 0.16450028494360933, 0.11937185506223688, 0.07010183827093616, 0.019407660252202565, -0.030004497243790427, -0.07558080422426758, -0.11505016730310495, -0.14653700801271363], [-0.16278435980926842, -0.13736985507049018, -0.10281030706494565, -0.060690608986011814, -0.013073952151520388, 0.03759772656874239, 0.08862652853638416, 0.13719827990417027, 0.18053174205108255, 0.21602931256266372, 0.24142096714711753, 0.254893432701845, 0.25519727019112654, 0.24172565029557566, 0.21456006847846779, 0.17447999195279823, 0.12293536517635703, 0.06198291759831892, -0.005810793613848673, -0.07749482277960204, -0.14988136590815446, -0.21970771693043267, -0.2838041182964338, -0.3392585664190622, -0.3835697098652554, -0.4147795406040892, -0.43157859884674826, -0.4333778373354074, -0.4203430458705095, -0.39338972722403176, -0.3541384336243295, -0.30483270332925, -0.24822376277499153, -0.187427969950852, -0.1257644689695074, -0.06658162124929747, -0.0130814139378774, 0.03184881503912622, 0.0657883626364726, 0.08691073780520595, 0.0940800053732448, 0.08691073780520595, 0.0657883626364726, 0.03184881503912622, -0.0130814139378774, -0.06658162124929747, -0.1257644689695074, -0.187427969950852, -0.24822376277499153, -0.30483270332925, -0.3541384336243295, -0.39338972722403176, -0.4203430458705095, -0.4333778373354074, -0.43157859884674826, -0.4147795406040892, -0.3835697098652554, -0.3392585664190622, -0.2838041182964338, -0.21970771693043267, -0.14988136590815446, -0.07749482277960204, -0.005810793613848673, 0.06198291759831892, 0.12293536517635703, 0.17447999195279823, 0.21456006847846779, 0.24172565029557566, 0.25519727019112654, 0.254893432701845, 0.24142096714711753, 0.21602931256266372, 0.18053174205108255, 0.13719827990417027, 0.08862652853638416, 0.03759772656874239, -0.013073952151520388, -0.060690608986011814, -0.10281030706494565, -0.13736985507049018], [-0.15646143337355978, -0.12803192632998142, -0.0907256642328181, -0.046310064114579955, 0.0029779491154211806, 0.054541276561040686, 0.10555493165712146, 0.15311446345017118, 0.1943926655354523, 0.22679610352037188, 0.24811283911536614, 0.2566430509401283, 0.25130504004127213, 0.2317103248693539, 0.1982031145119569, 0.15186131748507978, 0.09445829662141196, 0.02838670735216783, -0.043452159632214875, -0.1177881852505473, -0.19114437378651342, -0.26001264723920775, -0.3210343185560354, -0.37117570680030565, -0.407889497747319, -0.42925310491460716, -0.434076417833265, -0.42197287899622543, -0.39338972722403176, -0.3495953826561967, -0.29262421276448536, -0.22518118755916025, -0.15051108239111077, -0.0722388011028484, 0.005811034304373925, 0.07980593576993696, 0.14609889758077332, 0.20141317105264114, 0.24300880867803662, 0.2688222513075441, 0.2775716305835139, 0.2688222513075441, 0.24300880867803662, 0.20141317105264114, 0.14609889758077332, 0.07980593576993696, 0.005811034304373925, -0.0722388011028484, -0.15051108239111077, -0.22518118755916025, -0.29262421276448536, -0.3495953826561967, -0.39338972722403176, -0.42197287899622543, -0.434076417833265, -0.42925310491460716, -0.407889497747319, -0.37117570680030565, -0.3210343185560354, -0.26001264723920775, -0.19114437378651342, -0.1177881852505473, -0.043452159632214875, 0.02838670735216783, 0.09445829662141196, 0.15186131748507978, 0.1982031145119569, 0.2317103248693539, 0.25130504004127213, 0.2566430509401283, 0.24811283911536614, 0.22679610352037188, 0.1943926655354523, 0.15311446345017118, 0.10555493165712146, 0.054541276561040686, 0.0029779491154211806, -0.046310064114579955, -0.0907256642328181, -0.12803192632998142], [-0.1499137997580331, -0.11876378051842666, -0.07903277128303789, -0.032657564269347995, 0.017966041941118966, 0.07010183827093616, 0.12081441070397907, 0.16712567793535366, 0.2061784643801796, 0.23539823538075702, 0.25264402764959015, 0.2563400102730029, 0.2455799958764798, 0.22019854657881394, 0.18080401871815463, 0.12877087581897034, 0.0661907655654817, -0.004215913110515241, -0.0792240541655952, -0.15525760655490364, -0.22856545626592412, -0.29541051237375787, -0.35226222727992795, -0.39598244357893553, -0.42399466300627076, -0.43442757176285574, -0.42622489689420734, -0.39921534828629784, -0.3541384336243295, -0.29262421276448536, -0.21712746254366178, -0.13081912452072303, -0.03744017720227128, 0.05887491198907235, 0.1537963512162099, 0.24300880867803662, 0.32242214992953067, 0.38837235101706136, 0.4378022692207818, 0.4684129583840573, 0.47877771528316515, 0.4684129583840573, 0.4378022692207818, 0.38837235101706136, 0.32242214992953067, 0.24300880867803662, 0.1537963512162099, 0.05887491198907235, -0.03744017720227128, -0.13081912452072303, -0.21712746254366178, -0.29262421276448536, -0.3541384336243295, -0.39921534828629784, -0.42622489689420734, -0.43442757176285574, -0.42399466300627076, -0.39598244357893553, -0.35226222727992795, -0.29541051237375787, -0.22856545626592412, -0.15525760655490364, -0.0792240541655952, -0.004215913110515241, 0.0661907655654817, 0.12877087581897034, 0.18080401871815463, 0.22019854657881394, 0.2455799958764798, 0.2563400102730029, 0.25264402764959015, 0.23539823538075702, 0.2061784643801796, 0.16712567793535366, 0.12081441070397907, 0.07010183827093616, 0.017966041941118966, -0.032657564269347995, -0.07903277128303789, -0.11876378051842666], [-0.14335579129849668, -0.10978201113265723, -0.06793803188546253, -0.019915691575644292, 0.031745840459068614, 0.08418731130237875, 0.13437885433763305, 0.1792839709402817, 0.21602931256266372, 0.2420710146043941, 0.255348298963932, 0.25441554164532254, 0.23854497801642713, 0.20779364608280457, 0.1630299764243758, 0.10591753298818528, 0.03885568116655977, -0.03512071345143313, -0.11247819731414006, -0.18935183535374994, -0.2617343483375656, -0.32567778292945404, -0.37749737145928347, -0.41396693622794944, -0.43249545715781157, -0.4312752446188071, -0.4093935036702951, -0.36690087535799776, -0.30483270332925, -0.22518118755916025, -0.13081912452072303, -0.025378460035175753, 0.08691073780520595, 0.20141317105264114, 0.3133036361206578, 0.4177941096414198, 0.5103612401471838, 0.5869627944413911, 0.6442321103834694, 0.6796406846183429, 0.69162061945593, 0.6796406846183429, 0.6442321103834694, 0.5869627944413911, 0.5103612401471838, 0.4177941096414198, 0.3133036361206578, 0.20141317105264114, 0.08691073780520595, -0.025378460035175753, -0.13081912452072303, -0.22518118755916025, -0.30483270332925, -0.36690087535799776, -0.4093935036702951, -0.4312752446188071, -0.43249545715781157, -0.41396693622794944, -0.37749737145928347, -0.32567778292945404, -0.2617343483375656, -0.18935183535374994, -0.11247819731414006, -0.03512071345143313, 0.03885568116655977, 0.10591753298818528, 0.1630299764243758, 0.20779364608280457, 0.23854497801642713, 0.25441554164532254, 0.255348298963932, 0.2420710146043941, 0.21602931256266372, 0.1792839709402817, 0.13437885433763305, 0.08418731130237875, 0.031745840459068614, -0.019915691575644292, -0.06793803188546253, -0.10978201113265723], [-0.13698176393514344, -0.10127808535368477, -0.05761803324395176, -0.00823327044894154, 0.044209509361482956, 0.09674378883254962, 0.14626024334832619, 0.18967745729212915, 0.2241172482256385, 0.24707500803079696, 0.256575492104657, 0.25130504004127213, 0.23071227369415243, 0.19507084218595108, 0.1454996929947382, 0.08393854575868848, 0.013078615468659323, -0.06374895250625122, -0.1427221428215067, -0.21970771693043267, -0.29046275344788247, -0.35084804028714445, -0.3970424421347404, -0.42574709936268906, -0.43436863670247905, -0.421171462695804, -0.3853906832849483, -0.32729906443176787, -0.24822376277499153, -0.15051108239111077, -0.03744017720227128, 0.08691073780520595, 0.21783961811686398, 0.35022902170777614, 0.47877771528316515, 0.5982441516081277, 0.7036898157513979, 0.790710357098502, 0.8556429685382863, 0.8957396184216221, 0.9092974268256817, 0.8957396184216221, 0.8556429685382863, 0.790710357098502, 0.7036898157513979, 0.5982441516081277, 0.47877771528316515, 0.35022902170777614, 0.21783961811686398, 0.08691073780520595, -0.03744017720227128, -0.15051108239111077, -0.24822376277499153, -0.32729906443176787, -0.3853906832849483, -0.421171462695804, -0.43436863670247905, -0.42574709936268906, -0.3970424421347404, -0.35084804028714445, -0.29046275344788247, -0.21970771693043267, -0.1427221428215067, -0.06374895250625122, 0.013078615468659323, 0.08393854575868848, 0.1454996929947382, 0.19507084218595108, 0.23071227369415243, 0.25130504004127213, 0.256575492104657, 0.24707500803079696, 0.2241172482256385, 0.18967745729212915, 0.14626024334832619, 0.09674378883254962, 0.044209509361482956, -0.00823327044894154, -0.05761803324395176, -0.10127808535368477], [-0.13096468174943518, -0.09341816596346665, -0.04822085787410071, 0.0022716100207446164, 0.05528095770522729, 0.10774865812501504, 0.15649972810645998, 0.19841943861188654, 0.23063350923189954, 0.2506818889186662, 0.2566762997375786, 0.24743234013685533, 0.22256808600007377, 0.18256273925541686, 0.12877087581897034, 0.06339013493636744, -0.010617349295218181, -0.08964697741323371, -0.1696119802323752, -0.246134617818378, -0.31475910259630246, -0.37117570680030565, -0.41144469052055266, -0.43220845214435083, -0.4308806796227811, -0.40580225753498556, -0.35635521764627226, -0.28302803533990717, -0.187427969950852, -0.0722388011028484, 0.05887491198907235, 0.20141317105264114, 0.35022902170777614, 0.49975144871271493, 0.6442321103834694, 0.7780040258931075, 0.8957396184216221, 0.992695449836068, 1.0649315658049785, 1.1094945766040856, 1.124555367855928, 1.1094945766040856, 1.0649315658049785, 0.992695449836068, 0.8957396184216221, 0.7780040258931075, 0.6442321103834694, 0.49975144871271493, 0.35022902170777614, 0.20141317105264114, 0.05887491198907235, -0.0722388011028484, -0.187427969950852, -0.28302803533990717, -0.35635521764627226, -0.40580225753498556, -0.4308806796227811, -0.43220845214435083, -0.41144469052055266, -0.37117570680030565, -0.31475910259630246, -0.246134617818378, -0.1696119802323752, -0.08964697741323371, -0.010617349295218181, 0.06339013493636744, 0.12877087581897034, 0.18256273925541686, 0.22256808600007377, 0.24743234013685533, 0.2566762997375786, 0.2506818889186662, 0.23063350923189954, 0.19841943861188654, 0.15649972810645998, 0.10774865812501504, 0.05528095770522729, 0.0022716100207446164, -0.04822085787410071, -0.09341816596346665], [-0.1254554756233313, -0.08634370978474622, -0.039868134180728126, 0.011507919583092052, 0.0649104168254659, 0.11720338291232232, 0.16515865057394133, 0.20563779959612533, 0.23577655069724138, 0.2531614457800734, 0.2559887694405144, 0.2431963471432226, 0.21456006847846779, 0.17074867404778504, 0.11333242903336224, 0.044743679368913644, -0.03181017613329085, -0.11247819731414006, -0.1929363397545002, -0.268589046149572, -0.33479237619194996, -0.38708768931988075, -0.42143408131469146, -0.43442757176285574, -0.42349546556438716, -0.38705535500366767, -0.324629843053556, -0.23691017597600564, -0.1257644689695074, 0.005811034304373925, 0.1537963512162099, 0.3133036361206578, 0.47877771528316515, 0.6442321103834694, 0.803509484779075, 0.9505541014891831, 1.0796831610910465, 1.1858438330909473, 1.2648434125627805, 1.3135412961886945, 1.3299933154720727, 1.3135412961886945, 1.2648434125627805, 1.1858438330909473, 1.0796831610910465, 0.9505541014891831, 0.803509484779075, 0.6442321103834694, 0.47877771528316515, 0.3133036361206578, 0.1537963512162099, 0.005811034304373925, -0.1257644689695074, -0.23691017597600564, -0.324629843053556, -0.38705535500366767, -0.42349546556438716, -0.43442757176285574, -0.42143408131469146, -0.38708768931988075, -0.33479237619194996, -0.268589046149572, -0.1929363397545002, -0.11247819731414006, -0.03181017613329085, 0.044743679368913644, 0.11333242903336224, 0.17074867404778504, 0.21456006847846779, 0.2431963471432226, 0.2559887694405144, 0.2531614457800734, 0.23577655069724138, 0.20563779959612533, 0.16515865057394133, 0.11720338291232232, 0.0649104168254659, 0.011507919583092052, -0.039868134180728126, -0.08634370978474622], [-0.12058300781296416, -0.08017262722723162, -0.032657564269347995, 0.019407660252202565, 0.07306884206017318, 0.12512633286074154, 0.17230988766358785, 0.21146505144444128, 0.23974108638511749, 0.25477004091850136, 0.2548267267047997, 0.23896010343988033, 0.2070878465419809, 0.16004763127913005, 0.09960082298540655, 0.02838670735216783, -0.050171999808914604, -0.132008995765264, -0.2125937105436689, -0.28714197491104243, -0.35084804028714445, -0.3991265770886398, -0.42785247459104203, -0.4335860886421158, -0.4137720534188708, -0.36690087535799776, -0.29262421276448536, -0.19181693290541052, -0.06658162124929747, 0.07980593576993696, 0.24300880867803662, 0.4177941096414198, 0.5982441516081277, 0.7780040258931075, 0.9505541014891831, 1.1094945766040856, 1.2488284837498442, 1.3632295064019535, 1.4482816142111579, 1.500678835049543, 1.518375390968938, 1.500678835049543, 1.4482816142111579, 1.3632295064019535, 1.2488284837498442, 1.1094945766040856, 0.9505541014891831, 0.7780040258931075, 0.5982441516081277, 0.4177941096414198, 0.24300880867803662, 0.07980593576993696, -0.06658162124929747, -0.19181693290541052, -0.29262421276448536, -0.36690087535799776, -0.4137720534188708, -0.4335860886421158, -0.42785247459104203, -0.3991265770886398, -0.35084804028714445, -0.28714197491104243, -0.2125937105436689, -0.132008995765264, -0.050171999808914604, 0.02838670735216783, 0.09960082298540655, 0.16004763127913005, 0.2070878465419809, 0.23896010343988033, 0.2548267267047997, 0.25477004091850136, 0.23974108638511749, 0.21146505144444128, 0.17230988766358785, 0.12512633286074154, 0.07306884206017318, 0.019407660252202565, -0.032657564269347995, -0.08017262722723162], [-0.1164544699167505, -0.0750007897964791, -0.026665677985416577, 0.025921773001301992, 0.07974244535617742, 0.13154597877649798, 0.17802983029511174, 0.21602931256266372, 0.242708395806646, 0.2557406839380664, 0.25347017586536014, 0.23504220166614895, 0.20049625055173417, 0.15081422331281308, 0.08791985781076668, 0.014627580006334946, -0.06545830501430487, -0.14809048863531396, -0.22856545626592412, -0.30194177876754097, -0.3632795822101567, -0.407889497747319, -0.43157859884674826, -0.4308806796227811, -0.40325873487122593, -0.3472686537517362, -0.2626748843273063, -0.15051108239111077, -0.0130814139378774, 0.14609889758077332, 0.32242214992953067, 0.5103612401471838, 0.7036898157513979, 0.8957396184216221, 1.0796831610910465, 1.2488284837498442, 1.3969119972732167, 1.518375390968938, 1.608613254431116, 1.6641794167481594, 1.682941969615793, 1.6641794167481594, 1.608613254431116, 1.518375390968938, 1.3969119972732167, 1.2488284837498442, 1.0796831610910465, 0.8957396184216221, 0.7036898157513979, 0.5103612401471838, 0.32242214992953067, 0.14609889758077332, -0.0130814139378774, -0.15051108239111077, -0.2626748843273063, -0.3472686537517362, -0.40325873487122593, -0.4308806796227811, -0.43157859884674826, -0.407889497747319, -0.3632795822101567, -0.30194177876754097, -0.22856545626592412, -0.14809048863531396, -0.06545830501430487, 0.014627580006334946, 0.08791985781076668, 0.15081422331281308, 0.20049625055173417, 0.23504220166614895, 0.25347017586536014, 0.2557406839380664, 0.242708395806646, 0.21602931256266372, 0.17802983029511174, 0.13154597877649798, 0.07974244535617742, 0.025921773001301992, -0.026665677985416577, -0.0750007897964791], [-0.1131560467581887, -0.07090368426500879, -0.021950582012676394, 0.031016232090896562, 0.08492762656935865, 0.13649472168344115, 0.18239124981424537, 0.21944644111666822, 0.24483804991090943, 0.2562747828163765, 0.252157618714697, 0.2317103248693539, 0.19507084218595108, 0.1433370736825879, 0.07856287339249271, 0.0037025838949493145, -0.07749482277960204, -0.16063822727306362, -0.24088710992360066, -0.31317589634427284, -0.37245933283868765, -0.41396693622794944, -0.4334537754581445, -0.4274347075936389, -0.39338972722403176, -0.32992927901128904, -0.23691017597600564, -0.11549507625799743, 0.03184881503912622, 0.20141317105264114, 0.38837235101706136, 0.5869627944413911, 0.790710357098502, 0.992695449836068, 1.1858438330909473, 1.3632295064019535, 1.518375390968938, 1.6455374774968983, 1.7399588071171015, 1.7980810383563555, 1.8177033600622243, 1.7980810383563555, 1.7399588071171015, 1.6455374774968983, 1.518375390968938, 1.3632295064019535, 1.1858438330909473, 0.992695449836068, 0.790710357098502, 0.5869627944413911, 0.38837235101706136, 0.20141317105264114, 0.03184881503912622, -0.11549507625799743, -0.23691017597600564, -0.32992927901128904, -0.39338972722403176, -0.4274347075936389, -0.4334537754581445, -0.41396693622794944, -0.37245933283868765, -0.31317589634427284, -0.24088710992360066, -0.16063822727306362, -0.07749482277960204, 0.0037025838949493145, 0.07856287339249271, 0.1433370736825879, 0.19507084218595108, 0.2317103248693539, 0.252157618714697, 0.2562747828163765, 0.24483804991090943, 0.21944644111666822, 0.18239124981424537, 0.13649472168344115, 0.08492762656935865, 0.031016232090896562, -0.021950582012676394, -0.07090368426500879], [-0.1107536917561867, -0.06793803188546253, -0.01855449981019833, 0.03466854669458865, 0.08862652853638416, 0.14000357308347133, 0.18545724476618586, 0.22181346801290225, 0.24626113579560338, 0.25653555744366946, 0.25108014921898075, 0.22917661128094333, 0.19103523332295086, 0.13783886506830845, 0.07173638515428266, -0.004215913110515241, -0.08616386191642225, -0.1696119802323752, -0.24962054293732017, -0.3210343185560354, -0.3787322233669178, -0.417885750201407, -0.434213248547002, -0.42421701152445723, -0.3853906832849483, -0.3163857196862348, -0.21712746254366178, -0.08887373699192957, 0.0657883626364726, 0.24300880867803662, 0.4378022692207818, 0.6442321103834694, 0.8556429685382863, 1.0649315658049785, 1.2648434125627805, 1.4482816142111579, 1.608613254431116, 1.7399588071171015, 1.8374507397311368, 1.8974488797623419, 1.917702154416812, 1.8974488797623419, 1.8374507397311368, 1.7399588071171015, 1.608613254431116, 1.4482816142111579, 1.2648434125627805, 1.0649315658049785, 0.8556429685382863, 0.6442321103834694, 0.4378022692207818, 0.24300880867803662, 0.0657883626364726, -0.08887373699192957, -0.21712746254366178, -0.3163857196862348, -0.3853906832849483, -0.42421701152445723, -0.434213248547002, -0.417885750201407, -0.3787322233669178, -0.3210343185560354, -0.24962054293732017, -0.1696119802323752, -0.08616386191642225, -0.004215913110515241, 0.07173638515428266, 0.13783886506830845, 0.19103523332295086, 0.22917661128094333, 0.25108014921898075, 0.25653555744366946, 0.24626113579560338, 0.22181346801290225, 0.18545724476618586, 0.14000357308347133, 0.08862652853638416, 0.03466854669458865, -0.01855449981019833, -0.06793803188546253], [-0.10929387900894774, -0.06614321685638791, -0.016505930263581485, 0.03686485131708162, 0.09084339726921295, 0.14209785531573388, 0.18727640924644018, 0.2232034254780841, 0.24707500803079696, 0.2566430509401283, 0.25037713957121355, 0.22759450814784551, 0.18854967763954522, 0.134477311926808, 0.06758414818694233, -0.009011537058698997, -0.09139170665445415, -0.17499760171649797, -0.254829433326894, -0.32567778292945404, -0.382375848005458, -0.4200602785751461, -0.43442757176285574, -0.42197287899622543, -0.3801986514917913, -0.3077817863653888, -0.20468978410715197, -0.0722388011028484, 0.08691073780520595, 0.2688222513075441, 0.4684129583840573, 0.6796406846183429, 0.8957396184216221, 1.1094945766040856, 1.3135412961886945, 1.500678835049543, 1.6641794167481594, 1.7980810383563555, 1.8974488797623419, 1.9585929762944412, 1.9792316740361835, 1.9585929762944412, 1.8974488797623419, 1.7980810383563555, 1.6641794167481594, 1.500678835049543, 1.3135412961886945, 1.1094945766040856, 0.8957396184216221, 0.6796406846183429, 0.4684129583840573, 0.2688222513075441, 0.08691073780520595, -0.0722388011028484, -0.20468978410715197, -0.3077817863653888, -0.3801986514917913, -0.42197287899622543, -0.43442757176285574, -0.4200602785751461, -0.382375848005458, -0.32567778292945404, -0.254829433326894, -0.17499760171649797, -0.09139170665445415, -0.009011537058698997, 0.06758414818694233, 0.134477311926808, 0.18854967763954522, 0.22759450814784551, 0.25037713957121355, 0.2566430509401283, 0.24707500803079696, 0.2232034254780841, 0.18727640924644018, 0.14209785531573388, 0.09084339726921295, 0.03686485131708162, -0.016505930263581485, -0.06614321685638791], [-0.10880422217787396, -0.06554239869174844, -0.015821288518275644, 0.03759772656874239, 0.09158188560927924, 0.14279404657238684, 0.18787932061729182, 0.22366162672468853, 0.24733956165584545, 0.2566706526738519, 0.25013332713993036, 0.2270567942100705, 0.18771045677679687, 0.1333463922312941, 0.0661907655654817, -0.010617349295218181, -0.09313849939964196, -0.1767927226084377, -0.2565601183892334, -0.32721314035298743, -0.3835697098652554, -0.4207548585159486, -0.43445783007337646, -0.421171462695804, -0.3784012476539641, -0.30483270332925, -0.20044755867978276, -0.06658162124929747, 0.0940800053732448, 0.2775716305835139, 0.47877771528316515, 0.69162061945593, 0.9092974268256817, 1.124555367855928, 1.3299933154720727, 1.518375390968938, 1.682941969615793, 1.8177033600622243, 1.917702154416812, 1.9792316740361835, null, 1.9792316740361835, 1.917702154416812, 1.8177033600622243, 1.682941969615793, 1.518375390968938, 1.3299933154720727, 1.124555367855928, 0.9092974268256817, 0.69162061945593, 0.47877771528316515, 0.2775716305835139, 0.0940800053732448, -0.06658162124929747, -0.20044755867978276, -0.30483270332925, -0.3784012476539641, -0.421171462695804, -0.43445783007337646, -0.4207548585159486, -0.3835697098652554, -0.32721314035298743, -0.2565601183892334, -0.1767927226084377, -0.09313849939964196, -0.010617349295218181, 0.0661907655654817, 0.1333463922312941, 0.18771045677679687, 0.2270567942100705, 0.25013332713993036, 0.2566706526738519, 0.24733956165584545, 0.22366162672468853, 0.18787932061729182, 0.14279404657238684, 0.09158188560927924, 0.03759772656874239, -0.015821288518275644, -0.06554239869174844], [-0.10929387900894774, -0.06614321685638791, -0.016505930263581485, 0.03686485131708162, 0.09084339726921295, 0.14209785531573388, 0.18727640924644018, 0.2232034254780841, 0.24707500803079696, 0.2566430509401283, 0.25037713957121355, 0.22759450814784551, 0.18854967763954522, 0.134477311926808, 0.06758414818694233, -0.009011537058698997, -0.09139170665445415, -0.17499760171649797, -0.254829433326894, -0.32567778292945404, -0.382375848005458, -0.4200602785751461, -0.43442757176285574, -0.42197287899622543, -0.3801986514917913, -0.3077817863653888, -0.20468978410715197, -0.0722388011028484, 0.08691073780520595, 0.2688222513075441, 0.4684129583840573, 0.6796406846183429, 0.8957396184216221, 1.1094945766040856, 1.3135412961886945, 1.500678835049543, 1.6641794167481594, 1.7980810383563555, 1.8974488797623419, 1.9585929762944412, 1.9792316740361835, 1.9585929762944412, 1.8974488797623419, 1.7980810383563555, 1.6641794167481594, 1.500678835049543, 1.3135412961886945, 1.1094945766040856, 0.8957396184216221, 0.6796406846183429, 0.4684129583840573, 0.2688222513075441, 0.08691073780520595, -0.0722388011028484, -0.20468978410715197, -0.3077817863653888, -0.3801986514917913, -0.42197287899622543, -0.43442757176285574, -0.4200602785751461, -0.382375848005458, -0.32567778292945404, -0.254829433326894, -0.17499760171649797, -0.09139170665445415, -0.009011537058698997, 0.06758414818694233, 0.134477311926808, 0.18854967763954522, 0.22759450814784551, 0.25037713957121355, 0.2566430509401283, 0.24707500803079696, 0.2232034254780841, 0.18727640924644018, 0.14209785531573388, 0.09084339726921295, 0.03686485131708162, -0.016505930263581485, -0.06614321685638791], [-0.1107536917561867, -0.06793803188546253, -0.01855449981019833, 0.03466854669458865, 0.08862652853638416, 0.14000357308347133, 0.18545724476618586, 0.22181346801290225, 0.24626113579560338, 0.25653555744366946, 0.25108014921898075, 0.22917661128094333, 0.19103523332295086, 0.13783886506830845, 0.07173638515428266, -0.004215913110515241, -0.08616386191642225, -0.1696119802323752, -0.24962054293732017, -0.3210343185560354, -0.3787322233669178, -0.417885750201407, -0.434213248547002, -0.42421701152445723, -0.3853906832849483, -0.3163857196862348, -0.21712746254366178, -0.08887373699192957, 0.0657883626364726, 0.24300880867803662, 0.4378022692207818, 0.6442321103834694, 0.8556429685382863, 1.0649315658049785, 1.2648434125627805, 1.4482816142111579, 1.608613254431116, 1.7399588071171015, 1.8374507397311368, 1.8974488797623419, 1.917702154416812, 1.8974488797623419, 1.8374507397311368, 1.7399588071171015, 1.608613254431116, 1.4482816142111579, 1.2648434125627805, 1.0649315658049785, 0.8556429685382863, 0.6442321103834694, 0.4378022692207818, 0.24300880867803662, 0.0657883626364726, -0.08887373699192957, -0.21712746254366178, -0.3163857196862348, -0.3853906832849483, -0.42421701152445723, -0.434213248547002, -0.417885750201407, -0.3787322233669178, -0.3210343185560354, -0.24962054293732017, -0.1696119802323752, -0.08616386191642225, -0.004215913110515241, 0.07173638515428266, 0.13783886506830845, 0.19103523332295086, 0.22917661128094333, 0.25108014921898075, 0.25653555744366946, 0.24626113579560338, 0.22181346801290225, 0.18545724476618586, 0.14000357308347133, 0.08862652853638416, 0.03466854669458865, -0.01855449981019833, -0.06793803188546253], [-0.1131560467581887, -0.07090368426500879, -0.021950582012676394, 0.031016232090896562, 0.08492762656935865, 0.13649472168344115, 0.18239124981424537, 0.21944644111666822, 0.24483804991090943, 0.2562747828163765, 0.252157618714697, 0.2317103248693539, 0.19507084218595108, 0.1433370736825879, 0.07856287339249271, 0.0037025838949493145, -0.07749482277960204, -0.16063822727306362, -0.24088710992360066, -0.31317589634427284, -0.37245933283868765, -0.41396693622794944, -0.4334537754581445, -0.4274347075936389, -0.39338972722403176, -0.32992927901128904, -0.23691017597600564, -0.11549507625799743, 0.03184881503912622, 0.20141317105264114, 0.38837235101706136, 0.5869627944413911, 0.790710357098502, 0.992695449836068, 1.1858438330909473, 1.3632295064019535, 1.518375390968938, 1.6455374774968983, 1.7399588071171015, 1.7980810383563555, 1.8177033600622243, 1.7980810383563555, 1.7399588071171015, 1.6455374774968983, 1.518375390968938, 1.3632295064019535, 1.1858438330909473, 0.992695449836068, 0.790710357098502, 0.5869627944413911, 0.38837235101706136, 0.20141317105264114, 0.03184881503912622, -0.11549507625799743, -0.23691017597600564, -0.32992927901128904, -0.39338972722403176, -0.4274347075936389, -0.4334537754581445, -0.41396693622794944, -0.37245933283868765, -0.31317589634427284, -0.24088710992360066, -0.16063822727306362, -0.07749482277960204, 0.0037025838949493145, 0.07856287339249271, 0.1433370736825879, 0.19507084218595108, 0.2317103248693539, 0.252157618714697, 0.2562747828163765, 0.24483804991090943, 0.21944644111666822, 0.18239124981424537, 0.13649472168344115, 0.08492762656935865, 0.031016232090896562, -0.021950582012676394, -0.07090368426500879], [-0.1164544699167505, -0.0750007897964791, -0.026665677985416577, 0.025921773001301992, 0.07974244535617742, 0.13154597877649798, 0.17802983029511174, 0.21602931256266372, 0.242708395806646, 0.2557406839380664, 0.25347017586536014, 0.23504220166614895, 0.20049625055173417, 0.15081422331281308, 0.08791985781076668, 0.014627580006334946, -0.06545830501430487, -0.14809048863531396, -0.22856545626592412, -0.30194177876754097, -0.3632795822101567, -0.407889497747319, -0.43157859884674826, -0.4308806796227811, -0.40325873487122593, -0.3472686537517362, -0.2626748843273063, -0.15051108239111077, -0.0130814139378774, 0.14609889758077332, 0.32242214992953067, 0.5103612401471838, 0.7036898157513979, 0.8957396184216221, 1.0796831610910465, 1.2488284837498442, 1.3969119972732167, 1.518375390968938, 1.608613254431116, 1.6641794167481594, 1.682941969615793, 1.6641794167481594, 1.608613254431116, 1.518375390968938, 1.3969119972732167, 1.2488284837498442, 1.0796831610910465, 0.8957396184216221, 0.7036898157513979, 0.5103612401471838, 0.32242214992953067, 0.14609889758077332, -0.0130814139378774, -0.15051108239111077, -0.2626748843273063, -0.3472686537517362, -0.40325873487122593, -0.4308806796227811, -0.43157859884674826, -0.407889497747319, -0.3632795822101567, -0.30194177876754097, -0.22856545626592412, -0.14809048863531396, -0.06545830501430487, 0.014627580006334946, 0.08791985781076668, 0.15081422331281308, 0.20049625055173417, 0.23504220166614895, 0.25347017586536014, 0.2557406839380664, 0.242708395806646, 0.21602931256266372, 0.17802983029511174, 0.13154597877649798, 0.07974244535617742, 0.025921773001301992, -0.026665677985416577, -0.0750007897964791], [-0.12058300781296416, -0.08017262722723162, -0.032657564269347995, 0.019407660252202565, 0.07306884206017318, 0.12512633286074154, 0.17230988766358785, 0.21146505144444128, 0.23974108638511749, 0.25477004091850136, 0.2548267267047997, 0.23896010343988033, 0.2070878465419809, 0.16004763127913005, 0.09960082298540655, 0.02838670735216783, -0.050171999808914604, -0.132008995765264, -0.2125937105436689, -0.28714197491104243, -0.35084804028714445, -0.3991265770886398, -0.42785247459104203, -0.4335860886421158, -0.4137720534188708, -0.36690087535799776, -0.29262421276448536, -0.19181693290541052, -0.06658162124929747, 0.07980593576993696, 0.24300880867803662, 0.4177941096414198, 0.5982441516081277, 0.7780040258931075, 0.9505541014891831, 1.1094945766040856, 1.2488284837498442, 1.3632295064019535, 1.4482816142111579, 1.500678835049543, 1.518375390968938, 1.500678835049543, 1.4482816142111579, 1.3632295064019535, 1.2488284837498442, 1.1094945766040856, 0.9505541014891831, 0.7780040258931075, 0.5982441516081277, 0.4177941096414198, 0.24300880867803662, 0.07980593576993696, -0.06658162124929747, -0.19181693290541052, -0.29262421276448536, -0.36690087535799776, -0.4137720534188708, -0.4335860886421158, -0.42785247459104203, -0.3991265770886398, -0.35084804028714445, -0.28714197491104243, -0.2125937105436689, -0.132008995765264, -0.050171999808914604, 0.02838670735216783, 0.09960082298540655, 0.16004763127913005, 0.2070878465419809, 0.23896010343988033, 0.2548267267047997, 0.25477004091850136, 0.23974108638511749, 0.21146505144444128, 0.17230988766358785, 0.12512633286074154, 0.07306884206017318, 0.019407660252202565, -0.032657564269347995, -0.08017262722723162], [-0.1254554756233313, -0.08634370978474622, -0.039868134180728126, 0.011507919583092052, 0.0649104168254659, 0.11720338291232232, 0.16515865057394133, 0.20563779959612533, 0.23577655069724138, 0.2531614457800734, 0.2559887694405144, 0.2431963471432226, 0.21456006847846779, 0.17074867404778504, 0.11333242903336224, 0.044743679368913644, -0.03181017613329085, -0.11247819731414006, -0.1929363397545002, -0.268589046149572, -0.33479237619194996, -0.38708768931988075, -0.42143408131469146, -0.43442757176285574, -0.42349546556438716, -0.38705535500366767, -0.324629843053556, -0.23691017597600564, -0.1257644689695074, 0.005811034304373925, 0.1537963512162099, 0.3133036361206578, 0.47877771528316515, 0.6442321103834694, 0.803509484779075, 0.9505541014891831, 1.0796831610910465, 1.1858438330909473, 1.2648434125627805, 1.3135412961886945, 1.3299933154720727, 1.3135412961886945, 1.2648434125627805, 1.1858438330909473, 1.0796831610910465, 0.9505541014891831, 0.803509484779075, 0.6442321103834694, 0.47877771528316515, 0.3133036361206578, 0.1537963512162099, 0.005811034304373925, -0.1257644689695074, -0.23691017597600564, -0.324629843053556, -0.38705535500366767, -0.42349546556438716, -0.43442757176285574, -0.42143408131469146, -0.38708768931988075, -0.33479237619194996, -0.268589046149572, -0.1929363397545002, -0.11247819731414006, -0.03181017613329085, 0.044743679368913644, 0.11333242903336224, 0.17074867404778504, 0.21456006847846779, 0.2431963471432226, 0.2559887694405144, 0.2531614457800734, 0.23577655069724138, 0.20563779959612533, 0.16515865057394133, 0.11720338291232232, 0.0649104168254659, 0.011507919583092052, -0.039868134180728126, -0.08634370978474622], [-0.13096468174943518, -0.09341816596346665, -0.04822085787410071, 0.0022716100207446164, 0.05528095770522729, 0.10774865812501504, 0.15649972810645998, 0.19841943861188654, 0.23063350923189954, 0.2506818889186662, 0.2566762997375786, 0.24743234013685533, 0.22256808600007377, 0.18256273925541686, 0.12877087581897034, 0.06339013493636744, -0.010617349295218181, -0.08964697741323371, -0.1696119802323752, -0.246134617818378, -0.31475910259630246, -0.37117570680030565, -0.41144469052055266, -0.43220845214435083, -0.4308806796227811, -0.40580225753498556, -0.35635521764627226, -0.28302803533990717, -0.187427969950852, -0.0722388011028484, 0.05887491198907235, 0.20141317105264114, 0.35022902170777614, 0.49975144871271493, 0.6442321103834694, 0.7780040258931075, 0.8957396184216221, 0.992695449836068, 1.0649315658049785, 1.1094945766040856, 1.124555367855928, 1.1094945766040856, 1.0649315658049785, 0.992695449836068, 0.8957396184216221, 0.7780040258931075, 0.6442321103834694, 0.49975144871271493, 0.35022902170777614, 0.20141317105264114, 0.05887491198907235, -0.0722388011028484, -0.187427969950852, -0.28302803533990717, -0.35635521764627226, -0.40580225753498556, -0.4308806796227811, -0.43220845214435083, -0.41144469052055266, -0.37117570680030565, -0.31475910259630246, -0.246134617818378, -0.1696119802323752, -0.08964697741323371, -0.010617349295218181, 0.06339013493636744, 0.12877087581897034, 0.18256273925541686, 0.22256808600007377, 0.24743234013685533, 0.2566762997375786, 0.2506818889186662, 0.23063350923189954, 0.19841943861188654, 0.15649972810645998, 0.10774865812501504, 0.05528095770522729, 0.0022716100207446164, -0.04822085787410071, -0.09341816596346665], [-0.13698176393514344, -0.10127808535368477, -0.05761803324395176, -0.00823327044894154, 0.044209509361482956, 0.09674378883254962, 0.14626024334832619, 0.18967745729212915, 0.2241172482256385, 0.24707500803079696, 0.256575492104657, 0.25130504004127213, 0.23071227369415243, 0.19507084218595108, 0.1454996929947382, 0.08393854575868848, 0.013078615468659323, -0.06374895250625122, -0.1427221428215067, -0.21970771693043267, -0.29046275344788247, -0.35084804028714445, -0.3970424421347404, -0.42574709936268906, -0.43436863670247905, -0.421171462695804, -0.3853906832849483, -0.32729906443176787, -0.24822376277499153, -0.15051108239111077, -0.03744017720227128, 0.08691073780520595, 0.21783961811686398, 0.35022902170777614, 0.47877771528316515, 0.5982441516081277, 0.7036898157513979, 0.790710357098502, 0.8556429685382863, 0.8957396184216221, 0.9092974268256817, 0.8957396184216221, 0.8556429685382863, 0.790710357098502, 0.7036898157513979, 0.5982441516081277, 0.47877771528316515, 0.35022902170777614, 0.21783961811686398, 0.08691073780520595, -0.03744017720227128, -0.15051108239111077, -0.24822376277499153, -0.32729906443176787, -0.3853906832849483, -0.421171462695804, -0.43436863670247905, -0.42574709936268906, -0.3970424421347404, -0.35084804028714445, -0.29046275344788247, -0.21970771693043267, -0.1427221428215067, -0.06374895250625122, 0.013078615468659323, 0.08393854575868848, 0.1454996929947382, 0.19507084218595108, 0.23071227369415243, 0.25130504004127213, 0.256575492104657, 0.24707500803079696, 0.2241172482256385, 0.18967745729212915, 0.14626024334832619, 0.09674378883254962, 0.044209509361482956, -0.00823327044894154, -0.05761803324395176, -0.10127808535368477], [-0.14335579129849668, -0.10978201113265723, -0.06793803188546253, -0.019915691575644292, 0.031745840459068614, 0.08418731130237875, 0.13437885433763305, 0.1792839709402817, 0.21602931256266372, 0.2420710146043941, 0.255348298963932, 0.25441554164532254, 0.23854497801642713, 0.20779364608280457, 0.1630299764243758, 0.10591753298818528, 0.03885568116655977, -0.03512071345143313, -0.11247819731414006, -0.18935183535374994, -0.2617343483375656, -0.32567778292945404, -0.37749737145928347, -0.41396693622794944, -0.43249545715781157, -0.4312752446188071, -0.4093935036702951, -0.36690087535799776, -0.30483270332925, -0.22518118755916025, -0.13081912452072303, -0.025378460035175753, 0.08691073780520595, 0.20141317105264114, 0.3133036361206578, 0.4177941096414198, 0.5103612401471838, 0.5869627944413911, 0.6442321103834694, 0.6796406846183429, 0.69162061945593, 0.6796406846183429, 0.6442321103834694, 0.5869627944413911, 0.5103612401471838, 0.4177941096414198, 0.3133036361206578, 0.20141317105264114, 0.08691073780520595, -0.025378460035175753, -0.13081912452072303, -0.22518118755916025, -0.30483270332925, -0.36690087535799776, -0.4093935036702951, -0.4312752446188071, -0.43249545715781157, -0.41396693622794944, -0.37749737145928347, -0.32567778292945404, -0.2617343483375656, -0.18935183535374994, -0.11247819731414006, -0.03512071345143313, 0.03885568116655977, 0.10591753298818528, 0.1630299764243758, 0.20779364608280457, 0.23854497801642713, 0.25441554164532254, 0.255348298963932, 0.2420710146043941, 0.21602931256266372, 0.1792839709402817, 0.13437885433763305, 0.08418731130237875, 0.031745840459068614, -0.019915691575644292, -0.06793803188546253, -0.10978201113265723], [-0.1499137997580331, -0.11876378051842666, -0.07903277128303789, -0.032657564269347995, 0.017966041941118966, 0.07010183827093616, 0.12081441070397907, 0.16712567793535366, 0.2061784643801796, 0.23539823538075702, 0.25264402764959015, 0.2563400102730029, 0.2455799958764798, 0.22019854657881394, 0.18080401871815463, 0.12877087581897034, 0.0661907655654817, -0.004215913110515241, -0.0792240541655952, -0.15525760655490364, -0.22856545626592412, -0.29541051237375787, -0.35226222727992795, -0.39598244357893553, -0.42399466300627076, -0.43442757176285574, -0.42622489689420734, -0.39921534828629784, -0.3541384336243295, -0.29262421276448536, -0.21712746254366178, -0.13081912452072303, -0.03744017720227128, 0.05887491198907235, 0.1537963512162099, 0.24300880867803662, 0.32242214992953067, 0.38837235101706136, 0.4378022692207818, 0.4684129583840573, 0.47877771528316515, 0.4684129583840573, 0.4378022692207818, 0.38837235101706136, 0.32242214992953067, 0.24300880867803662, 0.1537963512162099, 0.05887491198907235, -0.03744017720227128, -0.13081912452072303, -0.21712746254366178, -0.29262421276448536, -0.3541384336243295, -0.39921534828629784, -0.42622489689420734, -0.43442757176285574, -0.42399466300627076, -0.39598244357893553, -0.35226222727992795, -0.29541051237375787, -0.22856545626592412, -0.15525760655490364, -0.0792240541655952, -0.004215913110515241, 0.0661907655654817, 0.12877087581897034, 0.18080401871815463, 0.22019854657881394, 0.2455799958764798, 0.2563400102730029, 0.25264402764959015, 0.23539823538075702, 0.2061784643801796, 0.16712567793535366, 0.12081441070397907, 0.07010183827093616, 0.017966041941118966, -0.032657564269347995, -0.07903277128303789, -0.11876378051842666], [-0.15646143337355978, -0.12803192632998142, -0.0907256642328181, -0.046310064114579955, 0.0029779491154211806, 0.054541276561040686, 0.10555493165712146, 0.15311446345017118, 0.1943926655354523, 0.22679610352037188, 0.24811283911536614, 0.2566430509401283, 0.25130504004127213, 0.2317103248693539, 0.1982031145119569, 0.15186131748507978, 0.09445829662141196, 0.02838670735216783, -0.043452159632214875, -0.1177881852505473, -0.19114437378651342, -0.26001264723920775, -0.3210343185560354, -0.37117570680030565, -0.407889497747319, -0.42925310491460716, -0.434076417833265, -0.42197287899622543, -0.39338972722403176, -0.3495953826561967, -0.29262421276448536, -0.22518118755916025, -0.15051108239111077, -0.0722388011028484, 0.005811034304373925, 0.07980593576993696, 0.14609889758077332, 0.20141317105264114, 0.24300880867803662, 0.2688222513075441, 0.2775716305835139, 0.2688222513075441, 0.24300880867803662, 0.20141317105264114, 0.14609889758077332, 0.07980593576993696, 0.005811034304373925, -0.0722388011028484, -0.15051108239111077, -0.22518118755916025, -0.29262421276448536, -0.3495953826561967, -0.39338972722403176, -0.42197287899622543, -0.434076417833265, -0.42925310491460716, -0.407889497747319, -0.37117570680030565, -0.3210343185560354, -0.26001264723920775, -0.19114437378651342, -0.1177881852505473, -0.043452159632214875, 0.02838670735216783, 0.09445829662141196, 0.15186131748507978, 0.1982031145119569, 0.2317103248693539, 0.25130504004127213, 0.2566430509401283, 0.24811283911536614, 0.22679610352037188, 0.1943926655354523, 0.15311446345017118, 0.10555493165712146, 0.054541276561040686, 0.0029779491154211806, -0.046310064114579955, -0.0907256642328181, -0.12803192632998142], [-0.16278435980926842, -0.13736985507049018, -0.10281030706494565, -0.060690608986011814, -0.013073952151520388, 0.03759772656874239, 0.08862652853638416, 0.13719827990417027, 0.18053174205108255, 0.21602931256266372, 0.24142096714711753, 0.254893432701845, 0.25519727019112654, 0.24172565029557566, 0.21456006847846779, 0.17447999195279823, 0.12293536517635703, 0.06198291759831892, -0.005810793613848673, -0.07749482277960204, -0.14988136590815446, -0.21970771693043267, -0.2838041182964338, -0.3392585664190622, -0.3835697098652554, -0.4147795406040892, -0.43157859884674826, -0.4333778373354074, -0.4203430458705095, -0.39338972722403176, -0.3541384336243295, -0.30483270332925, -0.24822376277499153, -0.187427969950852, -0.1257644689695074, -0.06658162124929747, -0.0130814139378774, 0.03184881503912622, 0.0657883626364726, 0.08691073780520595, 0.0940800053732448, 0.08691073780520595, 0.0657883626364726, 0.03184881503912622, -0.0130814139378774, -0.06658162124929747, -0.1257644689695074, -0.187427969950852, -0.24822376277499153, -0.30483270332925, -0.3541384336243295, -0.39338972722403176, -0.4203430458705095, -0.4333778373354074, -0.43157859884674826, -0.4147795406040892, -0.3835697098652554, -0.3392585664190622, -0.2838041182964338, -0.21970771693043267, -0.14988136590815446, -0.07749482277960204, -0.005810793613848673, 0.06198291759831892, 0.12293536517635703, 0.17447999195279823, 0.21456006847846779, 0.24172565029557566, 0.25519727019112654, 0.254893432701845, 0.24142096714711753, 0.21602931256266372, 0.18053174205108255, 0.13719827990417027, 0.08862652853638416, 0.03759772656874239, -0.013073952151520388, -0.060690608986011814, -0.10281030706494565, -0.13736985507049018], [-0.16865061331126227, -0.14653700801271363, -0.11505016730310495, -0.07558080422426758, -0.030004497243790427, 0.019407660252202565, 0.07010183827093616, 0.11937185506223688, 0.16450028494360933, 0.20290271423033404, 0.23226729318028777, 0.2506818889186662, 0.2567417315441088, 0.24963143467045815, 0.22917661128094333, 0.19586192453391038, 0.15081422331281308, 0.0957513146109, 0.032898814044057145, -0.03512071345143313, -0.10542055787501849, -0.17499760171649797, -0.24088710992360066, -0.30031625065864676, -0.35084804028714445, -0.3905078789395116, -0.417885750201407, -0.43220845214435083, -0.4333778373354074, -0.42197287899622543, -0.39921534828629784, -0.36690087535799776, -0.32729906443176787, -0.28302803533990717, -0.23691017597600564, -0.19181693290541052, -0.15051108239111077, -0.11549507625799743, -0.08887373699192957, -0.0722388011028484, -0.06658162124929747, -0.0722388011028484, -0.08887373699192957, -0.11549507625799743, -0.15051108239111077, -0.19181693290541052, -0.23691017597600564, -0.28302803533990717, -0.32729906443176787, -0.36690087535799776, -0.39921534828629784, -0.42197287899622543, -0.4333778373354074, -0.43220845214435083, -0.417885750201407, -0.3905078789395116, -0.35084804028714445, -0.30031625065864676, -0.24088710992360066, -0.17499760171649797, -0.10542055787501849, -0.03512071345143313, 0.032898814044057145, 0.0957513146109, 0.15081422331281308, 0.19586192453391038, 0.22917661128094333, 0.24963143467045815, 0.2567417315441088, 0.2506818889186662, 0.23226729318028777, 0.20290271423033404, 0.16450028494360933, 0.11937185506223688, 0.07010183827093616, 0.019407660252202565, -0.030004497243790427, -0.07558080422426758, -0.11505016730310495, -0.14653700801271363], [-0.1738139924448547, -0.15527119023634725, -0.1271795169340972, -0.0907256642328181, -0.04758506314163741, 0.0001569493213448689, 0.05010748884225075, 0.09968670899986165, 0.14626024334832619, 0.18727640924644018, 0.22040074178662336, 0.24364050109720906, 0.2554522819126627, 0.2548267267047997, 0.2413455569066888, 0.2152076253393881, 0.17722237538812438, 0.12877087581897034, 0.07173638515428266, 0.00840808631479302, -0.05863687417657578, -0.12666669235949252, -0.1929363397545002, -0.254829433326894, -0.309992807249447, -0.3564564355250057, -0.39273214882544505, -0.417885750201407, -0.43157859884674826, -0.434076417833265, -0.42622489689420734, -0.4093935036702951, -0.3853906832849483, -0.35635521764627226, -0.324629843053556, -0.29262421276448536, -0.2626748843273063, -0.23691017597600564, -0.21712746254366178, -0.20468978410715197, -0.20044755867978276, -0.20468978410715197, -0.21712746254366178, -0.23691017597600564, -0.2626748843273063, -0.29262421276448536, -0.324629843053556, -0.35635521764627226, -0.3853906832849483, -0.4093935036702951, -0.42622489689420734, -0.434076417833265, -0.43157859884674826, -0.417885750201407, -0.39273214882544505, -0.3564564355250057, -0.309992807249447, -0.254829433326894, -0.1929363397545002, -0.12666669235949252, -0.05863687417657578, 0.00840808631479302, 0.07173638515428266, 0.12877087581897034, 0.17722237538812438, 0.2152076253393881, 0.2413455569066888, 0.2548267267047997, 0.2554522819126627, 0.24364050109720906, 0.22040074178662336, 0.18727640924644018, 0.14626024334832619, 0.09968670899986165, 0.05010748884225075, 0.0001569493213448689, -0.04758506314163741, -0.0907256642328181, -0.1271795169340972, -0.15527119023634725], [-0.17801860199902664, -0.16329221750830802, -0.13890582780165694, -0.10583439818051152, -0.06554239869174844, -0.019915691575644292, 0.02883009042098063, 0.07825990831739421, 0.1258425822940911, 0.16908036038891633, 0.20563779959612533, 0.23346296309158113, 0.2508943222213973, 0.25674750760048576, 0.25037713957121355, 0.2317103248693539, 0.20124995852555586, 0.16004763127913005, 0.1096476200446325, 0.05200503792795912, -0.010617349295218181, -0.0757679524450742, -0.1409342819269669, -0.2036729142303004, -0.2617343483375656, -0.31317589634427284, -0.3564564355250057, -0.3905078789395116, -0.4147795406040892, -0.42925310491460716, -0.43442757176285574, -0.4312752446188071, -0.421171462695804, -0.40580225753498556, -0.38705535500366767, -0.36690087535799776, -0.3472686537517362, -0.32992927901128904, -0.3163857196862348, -0.3077817863653888, -0.30483270332925, -0.3077817863653888, -0.3163857196862348, -0.32992927901128904, -0.3472686537517362, -0.36690087535799776, -0.38705535500366767, -0.40580225753498556, -0.421171462695804, -0.4312752446188071, -0.43442757176285574, -0.42925310491460716, -0.4147795406040892, -0.3905078789395116, -0.3564564355250057, -0.31317589634427284, -0.2617343483375656, -0.2036729142303004, -0.1409342819269669, -0.0757679524450742, -0.010617349295218181, 0.05200503792795912, 0.1096476200446325, 0.16004763127913005, 0.20124995852555586, 0.2317103248693539, 0.25037713957121355, 0.25674750760048576, 0.2508943222213973, 0.23346296309158113, 0.20563779959612533, 0.16908036038891633, 0.1258425822940911, 0.07825990831739421, 0.02883009042098063, -0.019915691575644292, -0.06554239869174844, -0.10583439818051152, -0.13890582780165694, -0.16329221750830802], [-0.18100457917857166, -0.17030698199702413, -0.1499137997580331, -0.12058300781296416, -0.08355939645450051, -0.040517266401149735, 0.0065202421682302655, 0.05528095770522729, 0.10335731863015635, 0.14832776112580212, 0.18787932061729182, 0.21992483146863692, 0.242708395806646, 0.254893432701845, 0.25562857790064414, 0.24458792842044305, 0.22198354690007724, 0.18854967763954522, 0.1454996929947382, 0.09445829662141196, 0.037372873633869375, -0.02359098016854476, -0.08616386191642225, -0.14809048863531396, -0.20724458052139974, -0.2617343483375656, -0.309992807249447, -0.35084804028714445, -0.3835697098652554, -0.407889497747319, -0.42399466300627076, -0.43249545715781157, -0.43436863670247905, -0.4308806796227811, -0.42349546556438716, -0.4137720534188708, -0.40325873487122593, -0.39338972722403176, -0.3853906832849483, -0.3801986514917913, -0.3784012476539641, -0.3801986514917913, -0.3853906832849483, -0.39338972722403176, -0.40325873487122593, -0.4137720534188708, -0.42349546556438716, -0.4308806796227811, -0.43436863670247905, -0.43249545715781157, -0.42399466300627076, -0.407889497747319, -0.3835697098652554, -0.35084804028714445, -0.309992807249447, -0.2617343483375656, -0.20724458052139974, -0.14809048863531396, -0.08616386191642225, -0.02359098016854476, 0.037372873633869375, 0.09445829662141196, 0.1454996929947382, 0.18854967763954522, 0.22198354690007724, 0.24458792842044305, 0.25562857790064414, 0.254893432701845, 0.242708395806646, 0.21992483146863692, 0.18787932061729182, 0.14832776112580212, 0.10335731863015635, 0.05528095770522729, 0.0065202421682302655, -0.040517266401149735, -0.08355939645450051, -0.12058300781296416, -0.1499137997580331, -0.17030698199702413], [-0.18251498442862385, -0.1760159755489718, -0.15987112992755653, -0.13461888616197776, -0.10127808535368477, -0.061301442485772274, -0.016505930263581485, 0.031016232090896562, 0.07900122348247962, 0.12512633286074154, 0.16712567793535366, 0.20290271423033404, 0.23063350923189954, 0.24885528388828942, 0.25653555744366946, 0.25311832399967577, 0.23854497801642713, 0.21324911772700825, 0.17812580971586786, 0.134477311926808, 0.08393854575868848, 0.02838670735216783, -0.030159748399708135, -0.08964697741323371, -0.14809048863531396, -0.2036729142303004, -0.254829433326894, -0.30031625065864676, -0.3392585664190622, -0.37117570680030565, -0.39598244357893553, -0.41396693622794944, -0.42574709936268906, -0.43220845214435083, -0.43442757176285574, -0.4335860886421158, -0.4308806796227811, -0.4274347075936389, -0.42421701152445723, -0.42197287899622543, -0.421171462695804, -0.42197287899622543, -0.42421701152445723, -0.4274347075936389, -0.4308806796227811, -0.4335860886421158, -0.43442757176285574, -0.43220845214435083, -0.42574709936268906, -0.41396693622794944, -0.39598244357893553, -0.37117570680030565, -0.3392585664190622, -0.30031625065864676, -0.254829433326894, -0.2036729142303004, -0.14809048863531396, -0.08964697741323371, -0.030159748399708135, 0.02838670735216783, 0.08393854575868848, 0.134477311926808, 0.17812580971586786, 0.21324911772700825, 0.23854497801642713, 0.25311832399967577, 0.25653555744366946, 0.24885528388828942, 0.23063350923189954, 0.20290271423033404, 0.16712567793535366, 0.12512633286074154, 0.07900122348247962, 0.031016232090896562, -0.016505930263581485, -0.061301442485772274, -0.10127808535368477, -0.13461888616197776, -0.15987112992755653, -0.1760159755489718], [-0.18230376872794093, -0.18012123502583363, -0.16843605361995675, -0.14756752732225356, -0.11830504740258321, -0.08187218787401292, -0.039868134180728126, 0.0058103924762656495, 0.05306249567952219, 0.09968670899986165, 0.14348926836260514, 0.18239124981424537, 0.2145288714461612, 0.2383416766936446, 0.25264402764959015, 0.2566762997375786, 0.25013332713993036, 0.23316893482082693, 0.2063767337439853, 0.17074867404778504, 0.12761407121954643, 0.07856287339249271, 0.02535776443828009, -0.030159748399708135, -0.08616386191642225, -0.1409342819269669, -0.1929363397545002, -0.24088710992360066, -0.2838041182964338, -0.3210343185560354, -0.35226222727992795, -0.37749737145928347, -0.3970424421347404, -0.41144469052055266, -0.42143408131469146, -0.42785247459104203, -0.43157859884674826, -0.4334537754581445, -0.434213248547002, -0.43442757176285574, -0.43445783007337646, -0.43442757176285574, -0.434213248547002, -0.4334537754581445, -0.43157859884674826, -0.42785247459104203, -0.42143408131469146, -0.41144469052055266, -0.3970424421347404, -0.37749737145928347, -0.35226222727992795, -0.3210343185560354, -0.2838041182964338, -0.24088710992360066, -0.1929363397545002, -0.1409342819269669, -0.08616386191642225, -0.030159748399708135, 0.02535776443828009, 0.07856287339249271, 0.12761407121954643, 0.17074867404778504, 0.2063767337439853, 0.23316893482082693, 0.25013332713993036, 0.2566762997375786, 0.25264402764959015, 0.2383416766936446, 0.2145288714461612, 0.18239124981424537, 0.14348926836260514, 0.09968670899986165, 0.05306249567952219, 0.0058103924762656495, -0.039868134180728126, -0.08187218787401292, -0.11830504740258321, -0.14756752732225356, -0.16843605361995675, -0.18012123502583363], [-0.1801446545297837, -0.18233559039097344, -0.1752665961050691, -0.15904136091487175, -0.13421936300715656, -0.10179031338845618, -0.0631265026963309, -0.019915691575644292, 0.025921773001301992, 0.07232710218505171, 0.11720338291232232, 0.15851669454452746, 0.1943926655354523, 0.2232034254780841, 0.24364050109720906, 0.25477004091850136, 0.2560677827399544, 0.24743234013685533, 0.22917661128094333, 0.20199833430642128, 0.16693195814109418, 0.12528500092613942, 0.07856287339249271, 0.02838670735216783, -0.02359098016854476, -0.0757679524450742, -0.12666669235949252, -0.17499760171649797, -0.21970771693043267, -0.26001264723920775, -0.29541051237375787, -0.32567778292945404, -0.35084804028714445, -0.37117570680030565, -0.38708768931988075, -0.3991265770886398, -0.407889497747319, -0.41396693622794944, -0.417885750201407, -0.4200602785751461, -0.4207548585159486, -0.4200602785751461, -0.417885750201407, -0.41396693622794944, -0.407889497747319, -0.3991265770886398, -0.38708768931988075, -0.37117570680030565, -0.35084804028714445, -0.32567778292945404, -0.29541051237375787, -0.26001264723920775, -0.21970771693043267, -0.17499760171649797, -0.12666669235949252, -0.0757679524450742, -0.02359098016854476, 0.02838670735216783, 0.07856287339249271, 0.12528500092613942, 0.16693195814109418, 0.20199833430642128, 0.22917661128094333, 0.24743234013685533, 0.2560677827399544, 0.25477004091850136, 0.24364050109720906, 0.2232034254780841, 0.1943926655354523, 0.15851669454452746, 0.11720338291232232, 0.07232710218505171, 0.025921773001301992, -0.019915691575644292, -0.0631265026963309, -0.10179031338845618, -0.13421936300715656, -0.15904136091487175, -0.1752665961050691, -0.18233559039097344], [-0.17584069010379264, -0.18239300622958532, -0.1800313728705813, -0.16865061331126227, -0.14858307017251748, -0.12058300781296416, -0.0857896329957062, -0.045670869380806056, -0.001951040868825416, 0.043473546354522816, 0.08862652853638416, 0.13154597877649798, 0.17037647050011587, 0.20345392533496165, 0.22937894091767205, 0.24707500803079696, 0.25582893038458626, 0.2553118000893658, 0.2455799958764798, 0.2270567942100705, 0.20049625055173417, 0.16693195814109418, 0.12761407121954643, 0.08393854575868848, 0.037372873633869375, -0.010617349295218181, -0.05863687417657578, -0.10542055787501849, -0.14988136590815446, -0.19114437378651342, -0.22856545626592412, -0.2617343483375656, -0.29046275344788247, -0.31475910259630246, -0.33479237619194996, -0.35084804028714445, -0.3632795822101567, -0.37245933283868765, -0.3787322233669178, -0.382375848005458, -0.3835697098652554, -0.382375848005458, -0.3787322233669178, -0.37245933283868765, -0.3632795822101567, -0.35084804028714445, -0.33479237619194996, -0.31475910259630246, -0.29046275344788247, -0.2617343483375656, -0.22856545626592412, -0.19114437378651342, -0.14988136590815446, -0.10542055787501849, -0.05863687417657578, -0.010617349295218181, 0.037372873633869375, 0.08393854575868848, 0.12761407121954643, 0.16693195814109418, 0.20049625055173417, 0.2270567942100705, 0.2455799958764798, 0.2553118000893658, 0.25582893038458626, 0.24707500803079696, 0.22937894091767205, 0.20345392533496165, 0.17037647050011587, 0.13154597877649798, 0.08862652853638416, 0.043473546354522816, -0.001951040868825416, -0.045670869380806056, -0.0857896329957062, -0.12058300781296416, -0.14858307017251748, -0.16865061331126227, -0.1800313728705813, -0.18239300622958532], [-0.16923416092386775, -0.1800597155006458, -0.18242166855756492, -0.1760159755489718, -0.1609539875623888, -0.1377563081818195, -0.10732612754693129, -0.07090368426500879, -0.030004497243790427, 0.013655158230898757, 0.058241427706856384, 0.1018902143955224, 0.14279404657238684, 0.1792839709402817, 0.20990234059772522, 0.23346296309158113, 0.24909585663212155, 0.2562747828163765, 0.2548267267047997, 0.24492352037505036, 0.2270567942100705, 0.20199833430642128, 0.17074867404778504, 0.134477311926808, 0.09445829662141196, 0.05200503792795912, 0.00840808631479302, -0.03512071345143313, -0.07749482277960204, -0.1177881852505473, -0.15525760655490364, -0.18935183535374994, -0.21970771693043267, -0.246134617818378, -0.268589046149572, -0.28714197491104243, -0.30194177876754097, -0.31317589634427284, -0.3210343185560354, -0.32567778292945404, -0.32721314035298743, -0.32567778292945404, -0.3210343185560354, -0.31317589634427284, -0.30194177876754097, -0.28714197491104243, -0.268589046149572, -0.246134617818378, -0.21970771693043267, -0.18935183535374994, -0.15525760655490364, -0.1177881852505473, -0.07749482277960204, -0.03512071345143313, 0.00840808631479302, 0.05200503792795912, 0.09445829662141196, 0.134477311926808, 0.17074867404778504, 0.20199833430642128, 0.2270567942100705, 0.24492352037505036, 0.2548267267047997, 0.2562747828163765, 0.24909585663212155, 0.23346296309158113, 0.20990234059772522, 0.1792839709402817, 0.14279404657238684, 0.1018902143955224, 0.058241427706856384, 0.013655158230898757, -0.030004497243790427, -0.07090368426500879, -0.10732612754693129, -0.1377563081818195, -0.1609539875623888, -0.1760159755489718, -0.18242166855756492, -0.1800597155006458], [-0.16021647158282734, -0.1751457556394694, -0.1821644169794075, -0.18078273088932142, -0.17090060569317098, -0.1528102839666787, -0.1271795169340972, -0.0950164022704569, -0.05761803324395176, -0.016505930263581485, 0.026648129724923395, 0.07010183827093616, 0.11212338767979044, 0.1510696036571175, 0.18545724476618586, 0.21402402107025095, 0.23577655069724138, 0.25002327766855664, 0.25639126767027576, 0.2548267267047997, 0.2455799958764798, 0.22917661128094333, 0.2063767337439853, 0.17812580971586786, 0.1454996929947382, 0.1096476200446325, 0.07173638515428266, 0.032898814044057145, -0.005810793613848673, -0.043452159632214875, -0.0792240541655952, -0.11247819731414006, -0.1427221428215067, -0.1696119802323752, -0.1929363397545002, -0.2125937105436689, -0.22856545626592412, -0.24088710992360066, -0.24962054293732017, -0.254829433326894, -0.2565601183892334, -0.254829433326894, -0.24962054293732017, -0.24088710992360066, -0.22856545626592412, -0.2125937105436689, -0.1929363397545002, -0.1696119802323752, -0.1427221428215067, -0.11247819731414006, -0.0792240541655952, -0.043452159632214875, -0.005810793613848673, 0.032898814044057145, 0.07173638515428266, 0.1096476200446325, 0.1454996929947382, 0.17812580971586786, 0.2063767337439853, 0.22917661128094333, 0.2455799958764798, 0.2548267267047997, 0.25639126767027576, 0.25002327766855664, 0.23577655069724138, 0.21402402107025095, 0.18545724476618586, 0.1510696036571175, 0.11212338767979044, 0.07010183827093616, 0.026648129724923395, -0.016505930263581485, -0.05761803324395176, -0.0950164022704569, -0.1271795169340972, -0.1528102839666787, -0.17090060569317098, -0.18078273088932142, -0.1821644169794075, -0.1751457556394694], [-0.1487375524385824, -0.16751643729146143, -0.17903560277058095, -0.1826358700412797, -0.17801860199902664, -0.16525654180237792, -0.14478624788034108, -0.11738288358628372, -0.08411903827788304, -0.046310064114579955, -0.005449066140771361, 0.03686485131708162, 0.07900122348247962, 0.11937185506223688, 0.15649972810645998, 0.1890798565922851, 0.21602931256266372, 0.2365243422174828, 0.25002327766855664, 0.2562747828163765, 0.2553118000893658, 0.24743234013685533, 0.23316893482082693, 0.21324911772700825, 0.18854967763954522, 0.16004763127913005, 0.12877087581897034, 0.0957513146109, 0.06198291759831892, 0.02838670735216783, -0.004215913110515241, -0.03512071345143313, -0.06374895250625122, -0.08964697741323371, -0.11247819731414006, -0.132008995765264, -0.14809048863531396, -0.16063822727306362, -0.1696119802323752, -0.17499760171649797, -0.1767927226084377, -0.17499760171649797, -0.1696119802323752, -0.16063822727306362, -0.14809048863531396, -0.132008995765264, -0.11247819731414006, -0.08964697741323371, -0.06374895250625122, -0.03512071345143313, -0.004215913110515241, 0.02838670735216783, 0.06198291759831892, 0.0957513146109, 0.12877087581897034, 0.16004763127913005, 0.18854967763954522, 0.21324911772700825, 0.23316893482082693, 0.24743234013685533, 0.2553118000893658, 0.2562747828163765, 0.25002327766855664, 0.2365243422174828, 0.21602931256266372, 0.1890798565922851, 0.15649972810645998, 0.11937185506223688, 0.07900122348247962, 0.03686485131708162, -0.005449066140771361, -0.046310064114579955, -0.08411903827788304, -0.11738288358628372, -0.14478624788034108, -0.16525654180237792, -0.17801860199902664, -0.1826358700412797, -0.17903560277058095, -0.16751643729146143], [-0.13481430178982187, -0.15710321083861073, -0.17287351607260815, -0.18131560690315682, -0.18194839266053625, -0.17463748569481502, -0.15959621882048483, -0.13736985507049018, -0.10880422217787396, -0.0750007897964791, -0.03726086233570953, 0.0029779491154211806, 0.044209509361482956, 0.08492762656935865, 0.12369173187889267, 0.15918658398472915, 0.1902732638436695, 0.21602931256266372, 0.23577655069724138, 0.24909585663212155, 0.25582893038458626, 0.2560677827399544, 0.25013332713993036, 0.23854497801642713, 0.22198354690007724, 0.20124995852555586, 0.17722237538812438, 0.15081422331281308, 0.12293536517635703, 0.09445829662141196, 0.0661907655654817, 0.03885568116655977, 0.013078615468659323, -0.010617349295218181, -0.03181017613329085, -0.050171999808914604, -0.06545830501430487, -0.07749482277960204, -0.08616386191642225, -0.09139170665445415, -0.09313849939964196, -0.09139170665445415, -0.08616386191642225, -0.07749482277960204, -0.06545830501430487, -0.050171999808914604, -0.03181017613329085, -0.010617349295218181, 0.013078615468659323, 0.03885568116655977, 0.0661907655654817, 0.09445829662141196, 0.12293536517635703, 0.15081422331281308, 0.17722237538812438, 0.20124995852555586, 0.22198354690007724, 0.23854497801642713, 0.25013332713993036, 0.2560677827399544, 0.25582893038458626, 0.24909585663212155, 0.23577655069724138, 0.21602931256266372, 0.1902732638436695, 0.15918658398472915, 0.12369173187889267, 0.08492762656935865, 0.044209509361482956, 0.0029779491154211806, -0.03726086233570953, -0.0750007897964791, -0.10880422217787396, -0.13736985507049018, -0.15959621882048483, -0.17463748569481502, -0.18194839266053625, -0.18131560690315682, -0.17287351607260815, -0.15710321083861073], [-0.11853755153953285, -0.14391335124448024, -0.163591222139663, -0.17663261032673944, -0.18239300622958532, -0.18054660691367944, -0.17109514979541934, -0.1543609103022869, -0.13096468174943518, -0.10179031338845618, -0.06793803188546253, -0.03066927919323432, 0.008653858363151095, 0.04863139306208121, 0.0878871354792479, 0.12512633286074154, 0.15918658398472915, 0.1890798565922851, 0.21402402107025095, 0.23346296309158113, 0.24707500803079696, 0.25477004091850136, 0.2566762997375786, 0.25311832399967577, 0.24458792842044305, 0.2317103248693539, 0.2152076253393881, 0.19586192453391038, 0.17447999195279823, 0.15186131748507978, 0.12877087581897034, 0.10591753298818528, 0.08393854575868848, 0.06339013493636744, 0.044743679368913644, 0.02838670735216783, 0.014627580006334946, 0.0037025838949493145, -0.004215913110515241, -0.009011537058698997, -0.010617349295218181, -0.009011537058698997, -0.004215913110515241, 0.0037025838949493145, 0.014627580006334946, 0.02838670735216783, 0.044743679368913644, 0.06339013493636744, 0.08393854575868848, 0.10591753298818528, 0.12877087581897034, 0.15186131748507978, 0.17447999195279823, 0.19586192453391038, 0.2152076253393881, 0.2317103248693539, 0.24458792842044305, 0.25311832399967577, 0.2566762997375786, 0.25477004091850136, 0.24707500803079696, 0.23346296309158113, 0.21402402107025095, 0.1890798565922851, 0.15918658398472915, 0.12512633286074154, 0.0878871354792479, 0.04863139306208121, 0.008653858363151095, -0.03066927919323432, -0.06793803188546253, -0.10179031338845618, -0.13096468174943518, -0.1543609103022869, -0.17109514979541934, -0.18054660691367944, -0.18239300622958532, -0.17663261032673944, -0.163591222139663, -0.14391335124448024], [-0.10007704610444179, -0.12803786284735597, -0.1511875643863488, -0.16848219583369567, -0.17913546063850083, -0.18264893898060253, -0.1788278960809016, -0.16778234479339135, -0.1499137997580331, -0.1258888846262905, -0.09660159075517502, -0.0631265026963309, -0.026665677985416577, 0.011507919583092052, 0.05010748884225075, 0.0878871354792479, 0.12369173187889267, 0.15649972810645998, 0.18545724476618586, 0.20990234059772522, 0.22937894091767205, 0.24364050109720906, 0.25264402764959015, 0.25653555744366946, 0.25562857790064414, 0.25037713957121355, 0.2413455569066888, 0.22917661128094333, 0.21456006847846779, 0.1982031145119569, 0.18080401871815463, 0.1630299764243758, 0.1454996929947382, 0.12877087581897034, 0.11333242903336224, 0.09960082298540655, 0.08791985781076668, 0.07856287339249271, 0.07173638515428266, 0.06758414818694233, 0.0661907655654817, 0.06758414818694233, 0.07173638515428266, 0.07856287339249271, 0.08791985781076668, 0.09960082298540655, 0.11333242903336224, 0.12877087581897034, 0.1454996929947382, 0.1630299764243758, 0.18080401871815463, 0.1982031145119569, 0.21456006847846779, 0.22917661128094333, 0.2413455569066888, 0.25037713957121355, 0.25562857790064414, 0.25653555744366946, 0.25264402764959015, 0.24364050109720906, 0.22937894091767205, 0.20990234059772522, 0.18545724476618586, 0.15649972810645998, 0.12369173187889267, 0.0878871354792479, 0.05010748884225075, 0.011507919583092052, -0.026665677985416577, -0.0631265026963309, -0.09660159075517502, -0.1258888846262905, -0.1499137997580331, -0.16778234479339135, -0.1788278960809016, -0.18264893898060253, -0.17913546063850083, -0.16848219583369567, -0.1511875643863488, -0.12803786284735597], [-0.07968395387291566, -0.10965701691843574, -0.13575600794040762, -0.15685668268767797, -0.17205475511311313, -0.1807007071005138, -0.18242166855756492, -0.17712974307464055, -0.16501687105976595, -0.14653700801271363, -0.12237701362727325, -0.09341816596346665, -0.060690608986011814, -0.02532329427921568, 0.011507919583092052, 0.04863139306208121, 0.08492762656935865, 0.11937185506223688, 0.1510696036571175, 0.1792839709402817, 0.20345392533496165, 0.2232034254780841, 0.2383416766936446, 0.24885528388828942, 0.254893432701845, 0.25674750760048576, 0.2548267267047997, 0.24963143467045815, 0.24172565029557566, 0.2317103248693539, 0.22019854657881394, 0.20779364608280457, 0.19507084218595108, 0.18256273925541686, 0.17074867404778504, 0.16004763127913005, 0.15081422331281308, 0.1433370736825879, 0.13783886506830845, 0.134477311926808, 0.1333463922312941, 0.134477311926808, 0.13783886506830845, 0.1433370736825879, 0.15081422331281308, 0.16004763127913005, 0.17074867404778504, 0.18256273925541686, 0.19507084218595108, 0.20779364608280457, 0.22019854657881394, 0.2317103248693539, 0.24172565029557566, 0.24963143467045815, 0.2548267267047997, 0.25674750760048576, 0.254893432701845, 0.24885528388828942, 0.2383416766936446, 0.2232034254780841, 0.20345392533496165, 0.1792839709402817, 0.1510696036571175, 0.11937185506223688, 0.08492762656935865, 0.04863139306208121, 0.011507919583092052, -0.02532329427921568, -0.060690608986011814, -0.09341816596346665, -0.12237701362727325, -0.14653700801271363, -0.16501687105976595, -0.17712974307464055, -0.18242166855756492, -0.1807007071005138, -0.17205475511311313, -0.15685668268767797, -0.13575600794040762, -0.10965701691843574], [-0.05769048962428924, -0.08904297911487404, -0.11749065565570795, -0.14185512230149663, -0.16113955966514656, -0.17456713788189782, -0.18160802037610754, -0.18199408570471504, -0.17572115154133375, -0.16303912773542587, -0.14443111863131364, -0.12058300781296416, -0.09234546620178369, -0.060690608986011814, -0.026665677985416577, 0.008653858363151095, 0.044209509361482956, 0.07900122348247962, 0.11212338767979044, 0.14279404657238684, 0.17037647050011587, 0.1943926655354523, 0.2145288714461612, 0.23063350923189954, 0.242708395806646, 0.2508943222213973, 0.2554522819126627, 0.2567417315441088, 0.25519727019112654, 0.25130504004127213, 0.2455799958764798, 0.23854497801642713, 0.23071227369415243, 0.22256808600007377, 0.21456006847846779, 0.2070878465419809, 0.20049625055173417, 0.19507084218595108, 0.19103523332295086, 0.18854967763954522, 0.18771045677679687, 0.18854967763954522, 0.19103523332295086, 0.19507084218595108, 0.20049625055173417, 0.2070878465419809, 0.21456006847846779, 0.22256808600007377, 0.23071227369415243, 0.23854497801642713, 0.2455799958764798, 0.25130504004127213, 0.25519727019112654, 0.2567417315441088, 0.2554522819126627, 0.2508943222213973, 0.242708395806646, 0.23063350923189954, 0.2145288714461612, 0.1943926655354523, 0.17037647050011587, 0.14279404657238684, 0.11212338767979044, 0.07900122348247962, 0.044209509361482956, 0.008653858363151095, -0.026665677985416577, -0.060690608986011814, -0.09234546620178369, -0.12058300781296416, -0.14443111863131364, -0.16303912773542587, -0.17572115154133375, -0.18199408570471504, -0.18160802037610754, -0.17456713788189782, -0.16113955966514656, -0.14185512230149663, -0.11749065565570795, -0.08904297911487404], [-0.0345063152690242, -0.06655906279410359, -0.09668883252747353, -0.12368964794720452, -0.1464987033293174, -0.1642373823959323, -0.17624240938958516, -0.18208605074549258, -0.18158488243001691, -0.1747972342928682, -0.16200998595397612, -0.1437158894806465, -0.12058300781296416, -0.09341816596346665, -0.0631265026963309, -0.03066927919323432, 0.0029779491154211806, 0.03686485131708162, 0.07010183827093616, 0.1018902143955224, 0.13154597877649798, 0.15851669454452746, 0.18239124981424537, 0.20290271423033404, 0.21992483146863692, 0.23346296309158113, 0.24364050109720906, 0.2506818889186662, 0.254893432701845, 0.2566430509401283, 0.2563400102730029, 0.25441554164532254, 0.25130504004127213, 0.24743234013685533, 0.2431963471432226, 0.23896010343988033, 0.23504220166614895, 0.2317103248693539, 0.22917661128094333, 0.22759450814784551, 0.2270567942100705, 0.22759450814784551, 0.22917661128094333, 0.2317103248693539, 0.23504220166614895, 0.23896010343988033, 0.2431963471432226, 0.24743234013685533, 0.25130504004127213, 0.25441554164532254, 0.2563400102730029, 0.2566430509401283, 0.254893432701845, 0.2506818889186662, 0.24364050109720906, 0.23346296309158113, 0.21992483146863692, 0.20290271423033404, 0.18239124981424537, 0.15851669454452746, 0.13154597877649798, 0.1018902143955224, 0.07010183827093616, 0.03686485131708162, 0.0029779491154211806, -0.03066927919323432, -0.0631265026963309, -0.09341816596346665, -0.12058300781296416, -0.1437158894806465, -0.16200998595397612, -0.1747972342928682, -0.18158488243001691, -0.18208605074549258, -0.17624240938958516, -0.1642373823959323, -0.1464987033293174, -0.12368964794720452, -0.09668883252747353, -0.06655906279410359], [-0.01061150357619211, -0.042655257000177006, -0.07374973820785838, -0.10268778525178764, -0.1283676319466868, -0.14983554931501694, -0.16632015713858264, -0.17725715646546372, -0.18230376872794093, -0.18134271385500067, -0.17447608825271163, -0.16200998595397612, -0.14443111863131364, -0.12237701362727325, -0.09660159075517502, -0.06793803188546253, -0.03726086233570953, -0.005449066140771361, 0.026648129724923395, 0.058241427706856384, 0.08862652853638416, 0.11720338291232232, 0.14348926836260514, 0.16712567793535366, 0.18787932061729182, 0.20563779959612533, 0.22040074178662336, 0.23226729318028777, 0.24142096714711753, 0.24811283911536614, 0.25264402764959015, 0.255348298963932, 0.256575492104657, 0.2566762997375786, 0.2559887694405144, 0.2548267267047997, 0.25347017586536014, 0.252157618714697, 0.25108014921898075, 0.25037713957121355, 0.25013332713993036, 0.25037713957121355, 0.25108014921898075, 0.252157618714697, 0.25347017586536014, 0.2548267267047997, 0.2559887694405144, 0.2566762997375786, 0.256575492104657, 0.255348298963932, 0.25264402764959015, 0.24811283911536614, 0.24142096714711753, 0.23226729318028777, 0.22040074178662336, 0.20563779959612533, 0.18787932061729182, 0.16712567793535366, 0.14348926836260514, 0.11720338291232232, 0.08862652853638416, 0.058241427706856384, 0.026648129724923395, -0.005449066140771361, -0.03726086233570953, -0.06793803188546253, -0.09660159075517502, -0.12237701362727325, -0.14443111863131364, -0.16200998595397612, -0.17447608825271163, -0.18134271385500067, -0.18230376872794093, -0.17725715646546372, -0.16632015713858264, -0.14983554931501694, -0.1283676319466868, -0.10268778525178764, -0.07374973820785838, -0.042655257000177006], [0.013454008098850966, -0.017859822184363938, -0.04916880920228074, -0.07929019757294747, -0.10711012813756442, -0.1316269478872783, -0.15198770280837584, -0.16751643729146143, -0.17773339606034183, -0.18236471957976835, -0.18134271385500067, -0.1747972342928682, -0.16303912773542587, -0.14653700801271363, -0.1258888846262905, -0.10179031338845618, -0.0750007897964791, -0.046310064114579955, -0.016505930263581485, 0.013655158230898757, 0.043473546354522816, 0.07232710218505171, 0.09968670899986165, 0.12512633286074154, 0.14832776112580212, 0.16908036038891633, 0.18727640924644018, 0.20290271423033404, 0.21602931256266372, 0.22679610352037188, 0.23539823538075702, 0.2420710146043941, 0.24707500803079696, 0.2506818889186662, 0.2531614457800734, 0.25477004091850136, 0.2557406839380664, 0.2562747828163765, 0.25653555744366946, 0.2566430509401283, 0.2566706526738519, 0.2566430509401283, 0.25653555744366946, 0.2562747828163765, 0.2557406839380664, 0.25477004091850136, 0.2531614457800734, 0.2506818889186662, 0.24707500803079696, 0.2420710146043941, 0.23539823538075702, 0.22679610352037188, 0.21602931256266372, 0.20290271423033404, 0.18727640924644018, 0.16908036038891633, 0.14832776112580212, 0.12512633286074154, 0.09968670899986165, 0.07232710218505171, 0.043473546354522816, 0.013655158230898757, -0.016505930263581485, -0.046310064114579955, -0.0750007897964791, -0.10179031338845618, -0.1258888846262905, -0.14653700801271363, -0.16303912773542587, -0.1747972342928682, -0.18134271385500067, -0.18236471957976835, -0.17773339606034183, -0.16751643729146143, -0.15198770280837584, -0.1316269478872783, -0.10711012813756442, -0.07929019757294747, -0.04916880920228074, -0.017859822184363938], [0.037104384846577534, 0.007233082355737275, -0.023527608249201665, -0.054043516875550875, -0.08321475815193494, -0.11001880232017779, -0.13354819579908725, -0.15304146672549196, -0.167906160972842, -0.17773339606034183, -0.18230376872794093, -0.18158488243001691, -0.17572115154133375, -0.16501687105976595, -0.1499137997580331, -0.13096468174943518, -0.10880422217787396, -0.08411903827788304, -0.05761803324395176, -0.030004497243790427, -0.001951040868825416, 0.025921773001301992, 0.05306249567952219, 0.07900122348247962, 0.10335731863015635, 0.1258425822940911, 0.14626024334832619, 0.16450028494360933, 0.18053174205108255, 0.1943926655354523, 0.2061784643801796, 0.21602931256266372, 0.2241172482256385, 0.23063350923189954, 0.23577655069724138, 0.23974108638511749, 0.242708395806646, 0.24483804991090943, 0.24626113579560338, 0.24707500803079696, 0.24733956165584545, 0.24707500803079696, 0.24626113579560338, 0.24483804991090943, 0.242708395806646, 0.23974108638511749, 0.23577655069724138, 0.23063350923189954, 0.2241172482256385, 0.21602931256266372, 0.2061784643801796, 0.1943926655354523, 0.18053174205108255, 0.16450028494360933, 0.14626024334832619, 0.1258425822940911, 0.10335731863015635, 0.07900122348247962, 0.05306249567952219, 0.025921773001301992, -0.001951040868825416, -0.030004497243790427, -0.05761803324395176, -0.08411903827788304, -0.10880422217787396, -0.13096468174943518, -0.1499137997580331, -0.16501687105976595, -0.17572115154133375, -0.18158488243001691, -0.18230376872794093, -0.17773339606034183, -0.167906160972842, -0.15304146672549196, -0.13354819579908725, -0.11001880232017779, -0.08321475815193494, -0.054043516875550875, -0.023527608249201665, 0.007233082355737275], [0.059725017515438364, 0.03197958453286062, 0.0025207381574719806, -0.027588123185645037, -0.0572857273340844, -0.08555491563889543, -0.1114606806231028, -0.13418273806183595, -0.15304146672549196, -0.16751643729146143, -0.17725715646546372, -0.18208605074549258, -0.18199408570471504, -0.17712974307464055, -0.16778234479339135, -0.1543609103022869, -0.13736985507049018, -0.11738288358628372, -0.0950164022704569, -0.07090368426500879, -0.045670869380806056, -0.019915691575644292, 0.0058103924762656495, 0.031016232090896562, 0.05528095770522729, 0.07825990831739421, 0.09968670899986165, 0.11937185506223688, 0.13719827990417027, 0.15311446345017118, 0.16712567793535366, 0.1792839709402817, 0.18967745729212915, 0.19841943861188654, 0.20563779959612533, 0.21146505144444128, 0.21602931256266372, 0.21944644111666822, 0.22181346801290225, 0.2232034254780841, 0.22366162672468853, 0.2232034254780841, 0.22181346801290225, 0.21944644111666822, 0.21602931256266372, 0.21146505144444128, 0.20563779959612533, 0.19841943861188654, 0.18967745729212915, 0.1792839709402817, 0.16712567793535366, 0.15311446345017118, 0.13719827990417027, 0.11937185506223688, 0.09968670899986165, 0.07825990831739421, 0.05528095770522729, 0.031016232090896562, 0.0058103924762656495, -0.019915691575644292, -0.045670869380806056, -0.07090368426500879, -0.0950164022704569, -0.11738288358628372, -0.13736985507049018, -0.1543609103022869, -0.16778234479339135, -0.17712974307464055, -0.18199408570471504, -0.18208605074549258, -0.17725715646546372, -0.16751643729146143, -0.15304146672549196, -0.13418273806183595, -0.1114606806231028, -0.08555491563889543, -0.0572857273340844, -0.027588123185645037, 0.0025207381574719806, 0.03197958453286062], [0.08069235790121831, 0.05570574218106777, 0.028270310898122826, -0.0006409754282528475, -0.03002807965783915, -0.05890402451081101, -0.08633239590937543, -0.1114606806231028, -0.13354819579908725, -0.15198770280837584, -0.16632015713858264, -0.17624240938958516, -0.18160802037610754, -0.18242166855756492, -0.1788278960809016, -0.17109514979541934, -0.15959621882048483, -0.14478624788034108, -0.1271795169340972, -0.10732612754693129, -0.0857896329957062, -0.0631265026963309, -0.039868134180728126, -0.016505930263581485, 0.0065202421682302655, 0.02883009042098063, 0.05010748884225075, 0.07010183827093616, 0.08862652853638416, 0.10555493165712146, 0.12081441070397907, 0.13437885433763305, 0.14626024334832619, 0.15649972810645998, 0.16515865057394133, 0.17230988766358785, 0.17802983029511174, 0.18239124981424537, 0.18545724476618586, 0.18727640924644018, 0.18787932061729182, 0.18727640924644018, 0.18545724476618586, 0.18239124981424537, 0.17802983029511174, 0.17230988766358785, 0.16515865057394133, 0.15649972810645998, 0.14626024334832619, 0.13437885433763305, 0.12081441070397907, 0.10555493165712146, 0.08862652853638416, 0.07010183827093616, 0.05010748884225075, 0.02883009042098063, 0.0065202421682302655, -0.016505930263581485, -0.039868134180728126, -0.0631265026963309, -0.0857896329957062, -0.10732612754693129, -0.1271795169340972, -0.14478624788034108, -0.15959621882048483, -0.17109514979541934, -0.1788278960809016, -0.18242166855756492, -0.18160802037610754, -0.17624240938958516, -0.16632015713858264, -0.15198770280837584, -0.13354819579908725, -0.1114606806231028, -0.08633239590937543, -0.05890402451081101, -0.03002807965783915, -0.0006409754282528475, 0.028270310898122826, 0.05570574218106777], [0.0993958462307399, 0.07773008237271903, 0.05298490441364873, 0.026026147564044762, -0.0022274559793407315, -0.030841885736018544, -0.05890402451081101, -0.08555491563889543, -0.11001880232017779, -0.1316269478872783, -0.14983554931501694, -0.1642373823959323, -0.17456713788189782, -0.1807007071005138, -0.18264893898060253, -0.18054660691367944, -0.17463748569481502, -0.16525654180237792, -0.1528102839666787, -0.1377563081818195, -0.12058300781296416, -0.10179031338845618, -0.08187218787401292, -0.061301442485772274, -0.040517266401149735, -0.019915691575644292, 0.0001569493213448689, 0.019407660252202565, 0.03759772656874239, 0.054541276561040686, 0.07010183827093616, 0.08418731130237875, 0.09674378883254962, 0.10774865812501504, 0.11720338291232232, 0.12512633286074154, 0.13154597877649798, 0.13649472168344115, 0.14000357308347133, 0.14209785531573388, 0.14279404657238684, 0.14209785531573388, 0.14000357308347133, 0.13649472168344115, 0.13154597877649798, 0.12512633286074154, 0.11720338291232232, 0.10774865812501504, 0.09674378883254962, 0.08418731130237875, 0.07010183827093616, 0.054541276561040686, 0.03759772656874239, 0.019407660252202565, 0.0001569493213448689, -0.019915691575644292, -0.040517266401149735, -0.061301442485772274, -0.08187218787401292, -0.10179031338845618, -0.12058300781296416, -0.1377563081818195, -0.1528102839666787, -0.16525654180237792, -0.17463748569481502, -0.18054660691367944, -0.18264893898060253, -0.1807007071005138, -0.17456713788189782, -0.1642373823959323, -0.14983554931501694, -0.1316269478872783, -0.11001880232017779, -0.08555491563889543, -0.05890402451081101, -0.030841885736018544, -0.0022274559793407315, 0.026026147564044762, 0.05298490441364873, 0.07773008237271903], [0.11526115097856116, 0.09738828403656238, 0.0759235678781371, 0.05161237775613617, 0.025275083284098894, -0.0022274559793407315, -0.03002807965783915, -0.0572857273340844, -0.08321475815193494, -0.10711012813756442, -0.1283676319466868, -0.1464987033293174, -0.16113955966514656, -0.17205475511311313, -0.17913546063850083, -0.18239300622958532, -0.18194839266053625, -0.17801860199902664, -0.17090060569317098, -0.1609539875623888, -0.14858307017251748, -0.13421936300715656, -0.11830504740258321, -0.10127808535368477, -0.08355939645450051, -0.06554239869174844, -0.04758506314163741, -0.030004497243790427, -0.013073952151520388, 0.0029779491154211806, 0.017966041941118966, 0.031745840459068614, 0.044209509361482956, 0.05528095770522729, 0.0649104168254659, 0.07306884206017318, 0.07974244535617742, 0.08492762656935865, 0.08862652853638416, 0.09084339726921295, 0.09158188560927924, 0.09084339726921295, 0.08862652853638416, 0.08492762656935865, 0.07974244535617742, 0.07306884206017318, 0.0649104168254659, 0.05528095770522729, 0.044209509361482956, 0.031745840459068614, 0.017966041941118966, 0.0029779491154211806, -0.013073952151520388, -0.030004497243790427, -0.04758506314163741, -0.06554239869174844, -0.08355939645450051, -0.10127808535368477, -0.11830504740258321, -0.13421936300715656, -0.14858307017251748, -0.1609539875623888, -0.17090060569317098, -0.17801860199902664, -0.18194839266053625, -0.18239300622958532, -0.17913546063850083, -0.17205475511311313, -0.16113955966514656, -0.1464987033293174, -0.1283676319466868, -0.10711012813756442, -0.08321475815193494, -0.0572857273340844, -0.03002807965783915, -0.0022274559793407315, 0.025275083284098894, 0.05161237775613617, 0.0759235678781371, 0.09738828403656238], [0.12777380562398274, 0.11405907878471819, 0.09636827159298987, 0.07531659368730659, 0.05161237775613617, 0.026026147564044762, -0.0006409754282528475, -0.027588123185645037, -0.054043516875550875, -0.07929019757294747, -0.10268778525178764, -0.12368964794720452, -0.14185512230149663, -0.15685668268767797, -0.16848219583369567, -0.17663261032673944, -0.18131560690315682, -0.1826358700412797, -0.18078273088932142, -0.1760159755489718, -0.16865061331126227, -0.15904136091487175, -0.14756752732225356, -0.13461888616197776, -0.12058300781296416, -0.10583439818051152, -0.0907256642328181, -0.07558080422426758, -0.060690608986011814, -0.046310064114579955, -0.032657564269347995, -0.019915691575644292, -0.00823327044894154, 0.0022716100207446164, 0.011507919583092052, 0.019407660252202565, 0.025921773001301992, 0.031016232090896562, 0.03466854669458865, 0.03686485131708162, 0.03759772656874239, 0.03686485131708162, 0.03466854669458865, 0.031016232090896562, 0.025921773001301992, 0.019407660252202565, 0.011507919583092052, 0.0022716100207446164, -0.00823327044894154, -0.019915691575644292, -0.032657564269347995, -0.046310064114579955, -0.060690608986011814, -0.07558080422426758, -0.0907256642328181, -0.10583439818051152, -0.12058300781296416, -0.13461888616197776, -0.14756752732225356, -0.15904136091487175, -0.16865061331126227, -0.1760159755489718, -0.18078273088932142, -0.1826358700412797, -0.18131560690315682, -0.17663261032673944, -0.16848219583369567, -0.15685668268767797, -0.14185512230149663, -0.12368964794720452, -0.10268778525178764, -0.07929019757294747, -0.054043516875550875, -0.027588123185645037, -0.0006409754282528475, 0.026026147564044762, 0.05161237775613617, 0.07531659368730659, 0.09636827159298987, 0.11405907878471819], [0.13650222610828716, 0.12719030582037316, 0.1136526088802527, 0.09636827159298987, 0.0759235678781371, 0.05298490441364873, 0.028270310898122826, 0.0025207381574719806, -0.023527608249201665, -0.04916880920228074, -0.07374973820785838, -0.09668883252747353, -0.11749065565570795, -0.13575600794040762, -0.1511875643863488, -0.163591222139663, -0.17287351607260815, -0.17903560277058095, -0.1821644169794075, -0.18242166855756492, -0.1800313728705813, -0.1752665961050691, -0.16843605361995675, -0.15987112992755653, -0.1499137997580331, -0.13890582780165694, -0.1271795169340972, -0.11505016730310495, -0.10281030706494565, -0.0907256642328181, -0.07903277128303789, -0.06793803188546253, -0.05761803324395176, -0.04822085787410071, -0.039868134180728126, -0.032657564269347995, -0.026665677985416577, -0.021950582012676394, -0.01855449981019833, -0.016505930263581485, -0.015821288518275644, -0.016505930263581485, -0.01855449981019833, -0.021950582012676394, -0.026665677985416577, -0.032657564269347995, -0.039868134180728126, -0.04822085787410071, -0.05761803324395176, -0.06793803188546253, -0.07903277128303789, -0.0907256642328181, -0.10281030706494565, -0.11505016730310495, -0.1271795169340972, -0.13890582780165694, -0.1499137997580331, -0.15987112992755653, -0.16843605361995675, -0.1752665961050691, -0.1800313728705813, -0.18242166855756492, -0.1821644169794075, -0.17903560277058095, -0.17287351607260815, -0.163591222139663, -0.1511875643863488, -0.13575600794040762, -0.11749065565570795, -0.09668883252747353, -0.07374973820785838, -0.04916880920228074, -0.023527608249201665, 0.0025207381574719806, 0.028270310898122826, 0.05298490441364873, 0.0759235678781371, 0.09636827159298987, 0.1136526088802527, 0.12719030582037316], [0.14111903500315878, 0.13632396086944565, 0.12719030582037316, 0.11405907878471819, 0.09738828403656238, 0.07773008237271903, 0.05570574218106777, 0.03197958453286062, 0.007233082355737275, -0.017859822184363938, -0.042655257000177006, -0.06655906279410359, -0.08904297911487404, -0.10965701691843574, -0.12803786284735597, -0.14391335124448024, -0.15710321083861073, -0.16751643729146143, -0.1751457556394694, -0.1800597155006458, -0.18239300622958532, -0.18233559039097344, -0.18012123502583363, -0.1760159755489718, -0.17030698199702413, -0.16329221750830802, -0.15527119023634725, -0.14653700801271363, -0.13736985507049018, -0.12803192632998142, -0.11876378051842666, -0.10978201113265723, -0.10127808535368477, -0.09341816596346665, -0.08634370978474622, -0.08017262722723162, -0.0750007897964791, -0.07090368426500879, -0.06793803188546253, -0.06614321685638791, -0.06554239869174844, -0.06614321685638791, -0.06793803188546253, -0.07090368426500879, -0.0750007897964791, -0.08017262722723162, -0.08634370978474622, -0.09341816596346665, -0.10127808535368477, -0.10978201113265723, -0.11876378051842666, -0.12803192632998142, -0.13736985507049018, -0.14653700801271363, -0.15527119023634725, -0.16329221750830802, -0.17030698199702413, -0.1760159755489718, -0.18012123502583363, -0.18233559039097344, -0.18239300622958532, -0.1800597155006458, -0.1751457556394694, -0.16751643729146143, -0.15710321083861073, -0.14391335124448024, -0.12803786284735597, -0.10965701691843574, -0.08904297911487404, -0.06655906279410359, -0.042655257000177006, -0.017859822184363938, 0.007233082355737275, 0.03197958453286062, 0.05570574218106777, 0.07773008237271903, 0.09738828403656238, 0.11405907878471819, 0.12719030582037316, 0.13632396086944565]]}],\n",
       "                        {\"legend\": {\"bgcolor\": \"#151516\", \"font\": {\"color\": \"#D9D9D9\"}}, \"paper_bgcolor\": \"#151516\", \"plot_bgcolor\": \"#151516\", \"template\": {\"data\": {\"bar\": [{\"error_x\": {\"color\": \"#2a3f5f\"}, \"error_y\": {\"color\": \"#2a3f5f\"}, \"marker\": {\"line\": {\"color\": \"#E5ECF6\", \"width\": 0.5}}, \"type\": \"bar\"}], \"barpolar\": [{\"marker\": {\"line\": {\"color\": \"#E5ECF6\", \"width\": 0.5}}, \"type\": \"barpolar\"}], \"carpet\": [{\"aaxis\": {\"endlinecolor\": \"#2a3f5f\", \"gridcolor\": \"white\", \"linecolor\": \"white\", \"minorgridcolor\": \"white\", \"startlinecolor\": \"#2a3f5f\"}, \"baxis\": {\"endlinecolor\": \"#2a3f5f\", \"gridcolor\": \"white\", \"linecolor\": \"white\", \"minorgridcolor\": \"white\", \"startlinecolor\": \"#2a3f5f\"}, \"type\": \"carpet\"}], \"choropleth\": [{\"colorbar\": {\"outlinewidth\": 0, \"ticks\": \"\"}, \"type\": \"choropleth\"}], \"contour\": [{\"colorbar\": {\"outlinewidth\": 0, \"ticks\": \"\"}, \"colorscale\": [[0.0, \"#0d0887\"], [0.1111111111111111, \"#46039f\"], [0.2222222222222222, \"#7201a8\"], [0.3333333333333333, \"#9c179e\"], [0.4444444444444444, \"#bd3786\"], [0.5555555555555556, \"#d8576b\"], [0.6666666666666666, \"#ed7953\"], [0.7777777777777778, \"#fb9f3a\"], [0.8888888888888888, \"#fdca26\"], [1.0, \"#f0f921\"]], \"type\": \"contour\"}], \"contourcarpet\": [{\"colorbar\": {\"outlinewidth\": 0, \"ticks\": \"\"}, \"type\": \"contourcarpet\"}], \"heatmap\": [{\"colorbar\": {\"outlinewidth\": 0, \"ticks\": \"\"}, \"colorscale\": [[0.0, \"#0d0887\"], [0.1111111111111111, \"#46039f\"], [0.2222222222222222, \"#7201a8\"], [0.3333333333333333, \"#9c179e\"], [0.4444444444444444, \"#bd3786\"], [0.5555555555555556, \"#d8576b\"], [0.6666666666666666, \"#ed7953\"], [0.7777777777777778, \"#fb9f3a\"], [0.8888888888888888, \"#fdca26\"], [1.0, \"#f0f921\"]], \"type\": \"heatmap\"}], \"heatmapgl\": [{\"colorbar\": {\"outlinewidth\": 0, \"ticks\": \"\"}, \"colorscale\": [[0.0, \"#0d0887\"], [0.1111111111111111, \"#46039f\"], [0.2222222222222222, \"#7201a8\"], [0.3333333333333333, \"#9c179e\"], [0.4444444444444444, \"#bd3786\"], [0.5555555555555556, \"#d8576b\"], [0.6666666666666666, \"#ed7953\"], [0.7777777777777778, \"#fb9f3a\"], [0.8888888888888888, \"#fdca26\"], [1.0, \"#f0f921\"]], \"type\": \"heatmapgl\"}], \"histogram\": [{\"marker\": {\"colorbar\": {\"outlinewidth\": 0, \"ticks\": \"\"}}, \"type\": \"histogram\"}], \"histogram2d\": [{\"colorbar\": {\"outlinewidth\": 0, \"ticks\": \"\"}, \"colorscale\": [[0.0, \"#0d0887\"], [0.1111111111111111, \"#46039f\"], [0.2222222222222222, \"#7201a8\"], [0.3333333333333333, \"#9c179e\"], [0.4444444444444444, \"#bd3786\"], [0.5555555555555556, \"#d8576b\"], [0.6666666666666666, \"#ed7953\"], [0.7777777777777778, \"#fb9f3a\"], [0.8888888888888888, \"#fdca26\"], [1.0, \"#f0f921\"]], \"type\": \"histogram2d\"}], \"histogram2dcontour\": [{\"colorbar\": {\"outlinewidth\": 0, \"ticks\": \"\"}, \"colorscale\": [[0.0, \"#0d0887\"], [0.1111111111111111, \"#46039f\"], [0.2222222222222222, \"#7201a8\"], [0.3333333333333333, \"#9c179e\"], [0.4444444444444444, \"#bd3786\"], [0.5555555555555556, \"#d8576b\"], [0.6666666666666666, \"#ed7953\"], [0.7777777777777778, \"#fb9f3a\"], [0.8888888888888888, \"#fdca26\"], [1.0, \"#f0f921\"]], \"type\": \"histogram2dcontour\"}], \"mesh3d\": [{\"colorbar\": {\"outlinewidth\": 0, \"ticks\": \"\"}, \"type\": \"mesh3d\"}], \"parcoords\": [{\"line\": {\"colorbar\": {\"outlinewidth\": 0, \"ticks\": \"\"}}, \"type\": \"parcoords\"}], \"pie\": [{\"automargin\": true, \"type\": \"pie\"}], \"scatter\": [{\"marker\": {\"colorbar\": {\"outlinewidth\": 0, \"ticks\": \"\"}}, \"type\": \"scatter\"}], \"scatter3d\": [{\"line\": {\"colorbar\": {\"outlinewidth\": 0, \"ticks\": \"\"}}, \"marker\": {\"colorbar\": {\"outlinewidth\": 0, \"ticks\": \"\"}}, \"type\": \"scatter3d\"}], \"scattercarpet\": [{\"marker\": {\"colorbar\": {\"outlinewidth\": 0, \"ticks\": \"\"}}, \"type\": \"scattercarpet\"}], \"scattergeo\": [{\"marker\": {\"colorbar\": {\"outlinewidth\": 0, \"ticks\": \"\"}}, \"type\": \"scattergeo\"}], \"scattergl\": [{\"marker\": {\"colorbar\": {\"outlinewidth\": 0, \"ticks\": \"\"}}, \"type\": \"scattergl\"}], \"scattermapbox\": [{\"marker\": {\"colorbar\": {\"outlinewidth\": 0, \"ticks\": \"\"}}, \"type\": \"scattermapbox\"}], \"scatterpolar\": [{\"marker\": {\"colorbar\": {\"outlinewidth\": 0, \"ticks\": \"\"}}, \"type\": \"scatterpolar\"}], \"scatterpolargl\": [{\"marker\": {\"colorbar\": {\"outlinewidth\": 0, \"ticks\": \"\"}}, \"type\": \"scatterpolargl\"}], \"scatterternary\": [{\"marker\": {\"colorbar\": {\"outlinewidth\": 0, \"ticks\": \"\"}}, \"type\": \"scatterternary\"}], \"surface\": [{\"colorbar\": {\"outlinewidth\": 0, \"ticks\": \"\"}, \"colorscale\": [[0.0, \"#0d0887\"], [0.1111111111111111, \"#46039f\"], [0.2222222222222222, \"#7201a8\"], [0.3333333333333333, \"#9c179e\"], [0.4444444444444444, \"#bd3786\"], [0.5555555555555556, \"#d8576b\"], [0.6666666666666666, \"#ed7953\"], [0.7777777777777778, \"#fb9f3a\"], [0.8888888888888888, \"#fdca26\"], [1.0, \"#f0f921\"]], \"type\": \"surface\"}], \"table\": [{\"cells\": {\"fill\": {\"color\": \"#EBF0F8\"}, \"line\": {\"color\": \"white\"}}, \"header\": {\"fill\": {\"color\": \"#C8D4E3\"}, \"line\": {\"color\": \"white\"}}, \"type\": \"table\"}]}, \"layout\": {\"annotationdefaults\": {\"arrowcolor\": \"#2a3f5f\", \"arrowhead\": 0, \"arrowwidth\": 1}, \"coloraxis\": {\"colorbar\": {\"outlinewidth\": 0, \"ticks\": \"\"}}, \"colorscale\": {\"diverging\": [[0, \"#8e0152\"], [0.1, \"#c51b7d\"], [0.2, \"#de77ae\"], [0.3, \"#f1b6da\"], [0.4, \"#fde0ef\"], [0.5, \"#f7f7f7\"], [0.6, \"#e6f5d0\"], [0.7, \"#b8e186\"], [0.8, \"#7fbc41\"], [0.9, \"#4d9221\"], [1, \"#276419\"]], \"sequential\": [[0.0, \"#0d0887\"], [0.1111111111111111, \"#46039f\"], [0.2222222222222222, \"#7201a8\"], [0.3333333333333333, \"#9c179e\"], [0.4444444444444444, \"#bd3786\"], [0.5555555555555556, \"#d8576b\"], [0.6666666666666666, \"#ed7953\"], [0.7777777777777778, \"#fb9f3a\"], [0.8888888888888888, \"#fdca26\"], [1.0, \"#f0f921\"]], \"sequentialminus\": [[0.0, \"#0d0887\"], [0.1111111111111111, \"#46039f\"], [0.2222222222222222, \"#7201a8\"], [0.3333333333333333, \"#9c179e\"], [0.4444444444444444, \"#bd3786\"], [0.5555555555555556, \"#d8576b\"], [0.6666666666666666, \"#ed7953\"], [0.7777777777777778, \"#fb9f3a\"], [0.8888888888888888, \"#fdca26\"], [1.0, \"#f0f921\"]]}, \"colorway\": [\"#636efa\", \"#EF553B\", \"#00cc96\", \"#ab63fa\", \"#FFA15A\", \"#19d3f3\", \"#FF6692\", \"#B6E880\", \"#FF97FF\", \"#FECB52\"], \"font\": {\"color\": \"#2a3f5f\"}, \"geo\": {\"bgcolor\": \"white\", \"lakecolor\": \"white\", \"landcolor\": \"#E5ECF6\", \"showlakes\": true, \"showland\": true, \"subunitcolor\": \"white\"}, \"hoverlabel\": {\"align\": \"left\"}, \"hovermode\": \"closest\", \"mapbox\": {\"style\": \"light\"}, \"paper_bgcolor\": \"white\", \"plot_bgcolor\": \"#E5ECF6\", \"polar\": {\"angularaxis\": {\"gridcolor\": \"white\", \"linecolor\": \"white\", \"ticks\": \"\"}, \"bgcolor\": \"#E5ECF6\", \"radialaxis\": {\"gridcolor\": \"white\", \"linecolor\": \"white\", \"ticks\": \"\"}}, \"scene\": {\"xaxis\": {\"backgroundcolor\": \"#E5ECF6\", \"gridcolor\": \"white\", \"gridwidth\": 2, \"linecolor\": \"white\", \"showbackground\": true, \"ticks\": \"\", \"zerolinecolor\": \"white\"}, \"yaxis\": {\"backgroundcolor\": \"#E5ECF6\", \"gridcolor\": \"white\", \"gridwidth\": 2, \"linecolor\": \"white\", \"showbackground\": true, \"ticks\": \"\", \"zerolinecolor\": \"white\"}, \"zaxis\": {\"backgroundcolor\": \"#E5ECF6\", \"gridcolor\": \"white\", \"gridwidth\": 2, \"linecolor\": \"white\", \"showbackground\": true, \"ticks\": \"\", \"zerolinecolor\": \"white\"}}, \"shapedefaults\": {\"line\": {\"color\": \"#2a3f5f\"}}, \"ternary\": {\"aaxis\": {\"gridcolor\": \"white\", \"linecolor\": \"white\", \"ticks\": \"\"}, \"baxis\": {\"gridcolor\": \"white\", \"linecolor\": \"white\", \"ticks\": \"\"}, \"bgcolor\": \"#E5ECF6\", \"caxis\": {\"gridcolor\": \"white\", \"linecolor\": \"white\", \"ticks\": \"\"}}, \"title\": {\"x\": 0.05}, \"xaxis\": {\"automargin\": true, \"gridcolor\": \"white\", \"linecolor\": \"white\", \"ticks\": \"\", \"title\": {\"standoff\": 15}, \"zerolinecolor\": \"white\", \"zerolinewidth\": 2}, \"yaxis\": {\"automargin\": true, \"gridcolor\": \"white\", \"linecolor\": \"white\", \"ticks\": \"\", \"title\": {\"standoff\": 15}, \"zerolinecolor\": \"white\", \"zerolinewidth\": 2}}}, \"title\": {\"font\": {\"color\": \"#D9D9D9\"}}, \"xaxis\": {\"gridcolor\": \"#434343\", \"showgrid\": true, \"tickfont\": {\"color\": \"#C2C2C2\"}, \"title\": {\"font\": {\"color\": \"#D9D9D9\"}, \"text\": \"\"}, \"zerolinecolor\": \"#666570\"}, \"yaxis\": {\"gridcolor\": \"#434343\", \"showgrid\": true, \"tickfont\": {\"color\": \"#C2C2C2\"}, \"title\": {\"font\": {\"color\": \"#D9D9D9\"}, \"text\": \"\"}, \"zerolinecolor\": \"#666570\"}},\n",
       "                        {\"showLink\": true, \"linkText\": \"Export to plot.ly\", \"plotlyServerURL\": \"https://plot.ly\", \"responsive\": true}\n",
       "                    ).then(function(){\n",
       "                            \n",
       "var gd = document.getElementById('46800a9c-3123-4bf0-b6d1-edc3850b3578');\n",
       "var x = new MutationObserver(function (mutations, observer) {{\n",
       "        var display = window.getComputedStyle(gd).display;\n",
       "        if (!display || display === 'none') {{\n",
       "            console.log([gd, 'removed!']);\n",
       "            Plotly.purge(gd);\n",
       "            observer.disconnect();\n",
       "        }}\n",
       "}});\n",
       "\n",
       "// Listen for the removal of the full notebook cells\n",
       "var notebookContainer = gd.closest('#notebook-container');\n",
       "if (notebookContainer) {{\n",
       "    x.observe(notebookContainer, {childList: true});\n",
       "}}\n",
       "\n",
       "// Listen for the clearing of the current output cell\n",
       "var outputEl = gd.closest('.output');\n",
       "if (outputEl) {{\n",
       "    x.observe(outputEl, {childList: true});\n",
       "}}\n",
       "\n",
       "                        })\n",
       "                };\n",
       "                });\n",
       "            </script>\n",
       "        </div>"
      ]
     },
     "metadata": {},
     "output_type": "display_data"
    }
   ],
   "source": [
    "cf.datagen.sinwave(10,0.25).iplot(kind='surface')"
   ]
  },
  {
   "cell_type": "code",
   "execution_count": null,
   "metadata": {},
   "outputs": [],
   "source": []
  }
 ],
 "metadata": {
  "kernelspec": {
   "display_name": "Python 3",
   "language": "python",
   "name": "python3"
  },
  "language_info": {
   "codemirror_mode": {
    "name": "ipython",
    "version": 3
   },
   "file_extension": ".py",
   "mimetype": "text/x-python",
   "name": "python",
   "nbconvert_exporter": "python",
   "pygments_lexer": "ipython3",
   "version": "3.7.4"
  }
 },
 "nbformat": 4,
 "nbformat_minor": 2
}
